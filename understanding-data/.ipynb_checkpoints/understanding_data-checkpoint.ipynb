{
 "cells": [
  {
   "cell_type": "markdown",
   "id": "46fdb0e0-0514-407e-b711-aa9e294f0e28",
   "metadata": {},
   "source": [
    "##### After you have obtain the data,it is imp to understand the data ."
   ]
  },
  {
   "cell_type": "code",
   "execution_count": 1,
   "id": "479b02d1-bb1a-4b65-8472-6e938ef4614a",
   "metadata": {
    "tags": []
   },
   "outputs": [],
   "source": [
    "import pandas as pd"
   ]
  },
  {
   "cell_type": "code",
   "execution_count": 2,
   "id": "c609f233-c0a5-41ac-ae0c-11726c80c060",
   "metadata": {
    "tags": []
   },
   "outputs": [],
   "source": [
    "df=pd.read_csv('test.csv')"
   ]
  },
  {
   "cell_type": "code",
   "execution_count": 3,
   "id": "8602383d-e78e-4226-a7e8-625e518d5e7d",
   "metadata": {
    "tags": []
   },
   "outputs": [
    {
     "data": {
      "text/html": [
       "<div>\n",
       "<style scoped>\n",
       "    .dataframe tbody tr th:only-of-type {\n",
       "        vertical-align: middle;\n",
       "    }\n",
       "\n",
       "    .dataframe tbody tr th {\n",
       "        vertical-align: top;\n",
       "    }\n",
       "\n",
       "    .dataframe thead th {\n",
       "        text-align: right;\n",
       "    }\n",
       "</style>\n",
       "<table border=\"1\" class=\"dataframe\">\n",
       "  <thead>\n",
       "    <tr style=\"text-align: right;\">\n",
       "      <th></th>\n",
       "      <th>Unnamed: 0</th>\n",
       "      <th>Unnamed: 1</th>\n",
       "      <th>Unnamed: 2</th>\n",
       "      <th>Unnamed: 3</th>\n",
       "      <th>Unnamed: 4</th>\n",
       "      <th>Unnamed: 5</th>\n",
       "      <th>Unnamed: 6</th>\n",
       "      <th>Unnamed: 7</th>\n",
       "      <th>Unnamed: 8</th>\n",
       "      <th>Unnamed: 9</th>\n",
       "      <th>Unnamed: 10</th>\n",
       "      <th>Unnamed: 11</th>\n",
       "      <th>Unnamed: 12</th>\n",
       "      <th>Unnamed: 13</th>\n",
       "      <th>Unnamed: 14</th>\n",
       "    </tr>\n",
       "  </thead>\n",
       "  <tbody>\n",
       "    <tr>\n",
       "      <th>0</th>\n",
       "      <td>0</td>\n",
       "      <td>enrollee_id</td>\n",
       "      <td>city</td>\n",
       "      <td>city_development_index</td>\n",
       "      <td>gender</td>\n",
       "      <td>relevent_experience</td>\n",
       "      <td>enrolled_university</td>\n",
       "      <td>education_level</td>\n",
       "      <td>major_discipline</td>\n",
       "      <td>experience</td>\n",
       "      <td>company_size</td>\n",
       "      <td>company_type</td>\n",
       "      <td>last_new_job</td>\n",
       "      <td>training_hours</td>\n",
       "      <td>target</td>\n",
       "    </tr>\n",
       "    <tr>\n",
       "      <th>1</th>\n",
       "      <td>1</td>\n",
       "      <td>29725</td>\n",
       "      <td>city_40</td>\n",
       "      <td>0.776</td>\n",
       "      <td>Male</td>\n",
       "      <td>No relevent experience</td>\n",
       "      <td>no_enrollment</td>\n",
       "      <td>Graduate</td>\n",
       "      <td>STEM</td>\n",
       "      <td>15</td>\n",
       "      <td>50-99</td>\n",
       "      <td>Pvt Ltd</td>\n",
       "      <td>&gt;4</td>\n",
       "      <td>47</td>\n",
       "      <td>0</td>\n",
       "    </tr>\n",
       "    <tr>\n",
       "      <th>2</th>\n",
       "      <td>2</td>\n",
       "      <td>11561</td>\n",
       "      <td>city_21</td>\n",
       "      <td>0.624</td>\n",
       "      <td>NaN</td>\n",
       "      <td>No relevent experience</td>\n",
       "      <td>Full time course</td>\n",
       "      <td>Graduate</td>\n",
       "      <td>STEM</td>\n",
       "      <td>5</td>\n",
       "      <td>NaN</td>\n",
       "      <td>NaN</td>\n",
       "      <td>never</td>\n",
       "      <td>83</td>\n",
       "      <td>0</td>\n",
       "    </tr>\n",
       "    <tr>\n",
       "      <th>3</th>\n",
       "      <td>3</td>\n",
       "      <td>33241</td>\n",
       "      <td>city_115</td>\n",
       "      <td>0.789</td>\n",
       "      <td>NaN</td>\n",
       "      <td>No relevent experience</td>\n",
       "      <td>NaN</td>\n",
       "      <td>Graduate</td>\n",
       "      <td>Business Degree</td>\n",
       "      <td>&lt;1</td>\n",
       "      <td>NaN</td>\n",
       "      <td>Pvt Ltd</td>\n",
       "      <td>never</td>\n",
       "      <td>52</td>\n",
       "      <td>1</td>\n",
       "    </tr>\n",
       "    <tr>\n",
       "      <th>4</th>\n",
       "      <td>4</td>\n",
       "      <td>666</td>\n",
       "      <td>city_162</td>\n",
       "      <td>0.767</td>\n",
       "      <td>Male</td>\n",
       "      <td>Has relevent experience</td>\n",
       "      <td>no_enrollment</td>\n",
       "      <td>Masters</td>\n",
       "      <td>STEM</td>\n",
       "      <td>&gt;20</td>\n",
       "      <td>50-99</td>\n",
       "      <td>Funded Startup</td>\n",
       "      <td>4</td>\n",
       "      <td>8</td>\n",
       "      <td>0</td>\n",
       "    </tr>\n",
       "  </tbody>\n",
       "</table>\n",
       "</div>"
      ],
      "text/plain": [
       "   Unnamed: 0   Unnamed: 1 Unnamed: 2              Unnamed: 3 Unnamed: 4  \\\n",
       "0           0  enrollee_id       city  city_development_index     gender   \n",
       "1           1        29725    city_40                   0.776       Male   \n",
       "2           2        11561    city_21                   0.624        NaN   \n",
       "3           3        33241   city_115                   0.789        NaN   \n",
       "4           4          666   city_162                   0.767       Male   \n",
       "\n",
       "                Unnamed: 5           Unnamed: 6       Unnamed: 7  \\\n",
       "0      relevent_experience  enrolled_university  education_level   \n",
       "1   No relevent experience        no_enrollment         Graduate   \n",
       "2   No relevent experience     Full time course         Graduate   \n",
       "3   No relevent experience                  NaN         Graduate   \n",
       "4  Has relevent experience        no_enrollment          Masters   \n",
       "\n",
       "         Unnamed: 8  Unnamed: 9   Unnamed: 10     Unnamed: 11   Unnamed: 12  \\\n",
       "0  major_discipline  experience  company_size    company_type  last_new_job   \n",
       "1              STEM          15         50-99         Pvt Ltd            >4   \n",
       "2              STEM           5           NaN             NaN         never   \n",
       "3   Business Degree          <1           NaN         Pvt Ltd         never   \n",
       "4              STEM         >20         50-99  Funded Startup             4   \n",
       "\n",
       "      Unnamed: 13 Unnamed: 14  \n",
       "0  training_hours      target  \n",
       "1              47           0  \n",
       "2              83           0  \n",
       "3              52           1  \n",
       "4               8           0  "
      ]
     },
     "execution_count": 3,
     "metadata": {},
     "output_type": "execute_result"
    }
   ],
   "source": [
    "df"
   ]
  },
  {
   "cell_type": "markdown",
   "id": "8589a0a0-acd1-4eaf-860e-db58e48d3009",
   "metadata": {},
   "source": [
    "#### Following are the questions that we need to ask, to understand the data"
   ]
  },
  {
   "cell_type": "markdown",
   "id": "6a0b723e-9890-4392-89f0-dbd3c24fe264",
   "metadata": {},
   "source": [
    "### How big is the data ?"
   ]
  },
  {
   "cell_type": "code",
   "execution_count": 13,
   "id": "0298132d-e6af-40a7-bc80-5d779a7f4890",
   "metadata": {
    "tags": []
   },
   "outputs": [
    {
     "data": {
      "text/plain": [
       "(5, 15)"
      ]
     },
     "execution_count": 13,
     "metadata": {},
     "output_type": "execute_result"
    }
   ],
   "source": [
    "df.shape"
   ]
  },
  {
   "cell_type": "markdown",
   "id": "380a7cbe-c3ab-4cc7-89b7-52af1582c427",
   "metadata": {},
   "source": [
    "### How does the data looks like ?"
   ]
  },
  {
   "cell_type": "code",
   "execution_count": 14,
   "id": "f2762679-21e3-48d8-9e66-20f959ee6163",
   "metadata": {
    "tags": []
   },
   "outputs": [
    {
     "data": {
      "text/html": [
       "<div>\n",
       "<style scoped>\n",
       "    .dataframe tbody tr th:only-of-type {\n",
       "        vertical-align: middle;\n",
       "    }\n",
       "\n",
       "    .dataframe tbody tr th {\n",
       "        vertical-align: top;\n",
       "    }\n",
       "\n",
       "    .dataframe thead th {\n",
       "        text-align: right;\n",
       "    }\n",
       "</style>\n",
       "<table border=\"1\" class=\"dataframe\">\n",
       "  <thead>\n",
       "    <tr style=\"text-align: right;\">\n",
       "      <th></th>\n",
       "      <th>Unnamed: 0</th>\n",
       "      <th>Unnamed: 1</th>\n",
       "      <th>Unnamed: 2</th>\n",
       "      <th>Unnamed: 3</th>\n",
       "      <th>Unnamed: 4</th>\n",
       "      <th>Unnamed: 5</th>\n",
       "      <th>Unnamed: 6</th>\n",
       "      <th>Unnamed: 7</th>\n",
       "      <th>Unnamed: 8</th>\n",
       "      <th>Unnamed: 9</th>\n",
       "      <th>Unnamed: 10</th>\n",
       "      <th>Unnamed: 11</th>\n",
       "      <th>Unnamed: 12</th>\n",
       "      <th>Unnamed: 13</th>\n",
       "      <th>Unnamed: 14</th>\n",
       "    </tr>\n",
       "  </thead>\n",
       "  <tbody>\n",
       "    <tr>\n",
       "      <th>0</th>\n",
       "      <td>0</td>\n",
       "      <td>enrollee_id</td>\n",
       "      <td>city</td>\n",
       "      <td>city_development_index</td>\n",
       "      <td>gender</td>\n",
       "      <td>relevent_experience</td>\n",
       "      <td>enrolled_university</td>\n",
       "      <td>education_level</td>\n",
       "      <td>major_discipline</td>\n",
       "      <td>experience</td>\n",
       "      <td>company_size</td>\n",
       "      <td>company_type</td>\n",
       "      <td>last_new_job</td>\n",
       "      <td>training_hours</td>\n",
       "      <td>target</td>\n",
       "    </tr>\n",
       "    <tr>\n",
       "      <th>1</th>\n",
       "      <td>1</td>\n",
       "      <td>29725</td>\n",
       "      <td>city_40</td>\n",
       "      <td>0.776</td>\n",
       "      <td>Male</td>\n",
       "      <td>No relevent experience</td>\n",
       "      <td>no_enrollment</td>\n",
       "      <td>Graduate</td>\n",
       "      <td>STEM</td>\n",
       "      <td>15</td>\n",
       "      <td>50-99</td>\n",
       "      <td>Pvt Ltd</td>\n",
       "      <td>&gt;4</td>\n",
       "      <td>47</td>\n",
       "      <td>0</td>\n",
       "    </tr>\n",
       "    <tr>\n",
       "      <th>2</th>\n",
       "      <td>2</td>\n",
       "      <td>11561</td>\n",
       "      <td>city_21</td>\n",
       "      <td>0.624</td>\n",
       "      <td>NaN</td>\n",
       "      <td>No relevent experience</td>\n",
       "      <td>Full time course</td>\n",
       "      <td>Graduate</td>\n",
       "      <td>STEM</td>\n",
       "      <td>5</td>\n",
       "      <td>NaN</td>\n",
       "      <td>NaN</td>\n",
       "      <td>never</td>\n",
       "      <td>83</td>\n",
       "      <td>0</td>\n",
       "    </tr>\n",
       "    <tr>\n",
       "      <th>3</th>\n",
       "      <td>3</td>\n",
       "      <td>33241</td>\n",
       "      <td>city_115</td>\n",
       "      <td>0.789</td>\n",
       "      <td>NaN</td>\n",
       "      <td>No relevent experience</td>\n",
       "      <td>NaN</td>\n",
       "      <td>Graduate</td>\n",
       "      <td>Business Degree</td>\n",
       "      <td>&lt;1</td>\n",
       "      <td>NaN</td>\n",
       "      <td>Pvt Ltd</td>\n",
       "      <td>never</td>\n",
       "      <td>52</td>\n",
       "      <td>1</td>\n",
       "    </tr>\n",
       "    <tr>\n",
       "      <th>4</th>\n",
       "      <td>4</td>\n",
       "      <td>666</td>\n",
       "      <td>city_162</td>\n",
       "      <td>0.767</td>\n",
       "      <td>Male</td>\n",
       "      <td>Has relevent experience</td>\n",
       "      <td>no_enrollment</td>\n",
       "      <td>Masters</td>\n",
       "      <td>STEM</td>\n",
       "      <td>&gt;20</td>\n",
       "      <td>50-99</td>\n",
       "      <td>Funded Startup</td>\n",
       "      <td>4</td>\n",
       "      <td>8</td>\n",
       "      <td>0</td>\n",
       "    </tr>\n",
       "  </tbody>\n",
       "</table>\n",
       "</div>"
      ],
      "text/plain": [
       "   Unnamed: 0   Unnamed: 1 Unnamed: 2              Unnamed: 3 Unnamed: 4  \\\n",
       "0           0  enrollee_id       city  city_development_index     gender   \n",
       "1           1        29725    city_40                   0.776       Male   \n",
       "2           2        11561    city_21                   0.624        NaN   \n",
       "3           3        33241   city_115                   0.789        NaN   \n",
       "4           4          666   city_162                   0.767       Male   \n",
       "\n",
       "                Unnamed: 5           Unnamed: 6       Unnamed: 7  \\\n",
       "0      relevent_experience  enrolled_university  education_level   \n",
       "1   No relevent experience        no_enrollment         Graduate   \n",
       "2   No relevent experience     Full time course         Graduate   \n",
       "3   No relevent experience                  NaN         Graduate   \n",
       "4  Has relevent experience        no_enrollment          Masters   \n",
       "\n",
       "         Unnamed: 8  Unnamed: 9   Unnamed: 10     Unnamed: 11   Unnamed: 12  \\\n",
       "0  major_discipline  experience  company_size    company_type  last_new_job   \n",
       "1              STEM          15         50-99         Pvt Ltd            >4   \n",
       "2              STEM           5           NaN             NaN         never   \n",
       "3   Business Degree          <1           NaN         Pvt Ltd         never   \n",
       "4              STEM         >20         50-99  Funded Startup             4   \n",
       "\n",
       "      Unnamed: 13 Unnamed: 14  \n",
       "0  training_hours      target  \n",
       "1              47           0  \n",
       "2              83           0  \n",
       "3              52           1  \n",
       "4               8           0  "
      ]
     },
     "execution_count": 14,
     "metadata": {},
     "output_type": "execute_result"
    }
   ],
   "source": [
    "df.head()"
   ]
  },
  {
   "cell_type": "markdown",
   "id": "21b8b1df-3166-4113-9c44-6f5dd2f93a62",
   "metadata": {},
   "source": [
    "##### If we dont want first 5 rows and want to fetch any 5 random rows we can use sample() and pass on the no of rows that we want .It gives us that no of random rows.Above dataset is pretty small and only contains 5 rows in total ,hence here we can't get to see the effect of this func,but this function is super useful."
   ]
  },
  {
   "cell_type": "code",
   "execution_count": 15,
   "id": "bcc20267-63e1-49b7-8ccc-78dc5bbee03e",
   "metadata": {
    "tags": []
   },
   "outputs": [
    {
     "data": {
      "text/html": [
       "<div>\n",
       "<style scoped>\n",
       "    .dataframe tbody tr th:only-of-type {\n",
       "        vertical-align: middle;\n",
       "    }\n",
       "\n",
       "    .dataframe tbody tr th {\n",
       "        vertical-align: top;\n",
       "    }\n",
       "\n",
       "    .dataframe thead th {\n",
       "        text-align: right;\n",
       "    }\n",
       "</style>\n",
       "<table border=\"1\" class=\"dataframe\">\n",
       "  <thead>\n",
       "    <tr style=\"text-align: right;\">\n",
       "      <th></th>\n",
       "      <th>Unnamed: 0</th>\n",
       "      <th>Unnamed: 1</th>\n",
       "      <th>Unnamed: 2</th>\n",
       "      <th>Unnamed: 3</th>\n",
       "      <th>Unnamed: 4</th>\n",
       "      <th>Unnamed: 5</th>\n",
       "      <th>Unnamed: 6</th>\n",
       "      <th>Unnamed: 7</th>\n",
       "      <th>Unnamed: 8</th>\n",
       "      <th>Unnamed: 9</th>\n",
       "      <th>Unnamed: 10</th>\n",
       "      <th>Unnamed: 11</th>\n",
       "      <th>Unnamed: 12</th>\n",
       "      <th>Unnamed: 13</th>\n",
       "      <th>Unnamed: 14</th>\n",
       "    </tr>\n",
       "  </thead>\n",
       "  <tbody>\n",
       "    <tr>\n",
       "      <th>3</th>\n",
       "      <td>3</td>\n",
       "      <td>33241</td>\n",
       "      <td>city_115</td>\n",
       "      <td>0.789</td>\n",
       "      <td>NaN</td>\n",
       "      <td>No relevent experience</td>\n",
       "      <td>NaN</td>\n",
       "      <td>Graduate</td>\n",
       "      <td>Business Degree</td>\n",
       "      <td>&lt;1</td>\n",
       "      <td>NaN</td>\n",
       "      <td>Pvt Ltd</td>\n",
       "      <td>never</td>\n",
       "      <td>52</td>\n",
       "      <td>1</td>\n",
       "    </tr>\n",
       "    <tr>\n",
       "      <th>4</th>\n",
       "      <td>4</td>\n",
       "      <td>666</td>\n",
       "      <td>city_162</td>\n",
       "      <td>0.767</td>\n",
       "      <td>Male</td>\n",
       "      <td>Has relevent experience</td>\n",
       "      <td>no_enrollment</td>\n",
       "      <td>Masters</td>\n",
       "      <td>STEM</td>\n",
       "      <td>&gt;20</td>\n",
       "      <td>50-99</td>\n",
       "      <td>Funded Startup</td>\n",
       "      <td>4</td>\n",
       "      <td>8</td>\n",
       "      <td>0</td>\n",
       "    </tr>\n",
       "    <tr>\n",
       "      <th>1</th>\n",
       "      <td>1</td>\n",
       "      <td>29725</td>\n",
       "      <td>city_40</td>\n",
       "      <td>0.776</td>\n",
       "      <td>Male</td>\n",
       "      <td>No relevent experience</td>\n",
       "      <td>no_enrollment</td>\n",
       "      <td>Graduate</td>\n",
       "      <td>STEM</td>\n",
       "      <td>15</td>\n",
       "      <td>50-99</td>\n",
       "      <td>Pvt Ltd</td>\n",
       "      <td>&gt;4</td>\n",
       "      <td>47</td>\n",
       "      <td>0</td>\n",
       "    </tr>\n",
       "    <tr>\n",
       "      <th>0</th>\n",
       "      <td>0</td>\n",
       "      <td>enrollee_id</td>\n",
       "      <td>city</td>\n",
       "      <td>city_development_index</td>\n",
       "      <td>gender</td>\n",
       "      <td>relevent_experience</td>\n",
       "      <td>enrolled_university</td>\n",
       "      <td>education_level</td>\n",
       "      <td>major_discipline</td>\n",
       "      <td>experience</td>\n",
       "      <td>company_size</td>\n",
       "      <td>company_type</td>\n",
       "      <td>last_new_job</td>\n",
       "      <td>training_hours</td>\n",
       "      <td>target</td>\n",
       "    </tr>\n",
       "    <tr>\n",
       "      <th>2</th>\n",
       "      <td>2</td>\n",
       "      <td>11561</td>\n",
       "      <td>city_21</td>\n",
       "      <td>0.624</td>\n",
       "      <td>NaN</td>\n",
       "      <td>No relevent experience</td>\n",
       "      <td>Full time course</td>\n",
       "      <td>Graduate</td>\n",
       "      <td>STEM</td>\n",
       "      <td>5</td>\n",
       "      <td>NaN</td>\n",
       "      <td>NaN</td>\n",
       "      <td>never</td>\n",
       "      <td>83</td>\n",
       "      <td>0</td>\n",
       "    </tr>\n",
       "  </tbody>\n",
       "</table>\n",
       "</div>"
      ],
      "text/plain": [
       "   Unnamed: 0   Unnamed: 1 Unnamed: 2              Unnamed: 3 Unnamed: 4  \\\n",
       "3           3        33241   city_115                   0.789        NaN   \n",
       "4           4          666   city_162                   0.767       Male   \n",
       "1           1        29725    city_40                   0.776       Male   \n",
       "0           0  enrollee_id       city  city_development_index     gender   \n",
       "2           2        11561    city_21                   0.624        NaN   \n",
       "\n",
       "                Unnamed: 5           Unnamed: 6       Unnamed: 7  \\\n",
       "3   No relevent experience                  NaN         Graduate   \n",
       "4  Has relevent experience        no_enrollment          Masters   \n",
       "1   No relevent experience        no_enrollment         Graduate   \n",
       "0      relevent_experience  enrolled_university  education_level   \n",
       "2   No relevent experience     Full time course         Graduate   \n",
       "\n",
       "         Unnamed: 8  Unnamed: 9   Unnamed: 10     Unnamed: 11   Unnamed: 12  \\\n",
       "3   Business Degree          <1           NaN         Pvt Ltd         never   \n",
       "4              STEM         >20         50-99  Funded Startup             4   \n",
       "1              STEM          15         50-99         Pvt Ltd            >4   \n",
       "0  major_discipline  experience  company_size    company_type  last_new_job   \n",
       "2              STEM           5           NaN             NaN         never   \n",
       "\n",
       "      Unnamed: 13 Unnamed: 14  \n",
       "3              52           1  \n",
       "4               8           0  \n",
       "1              47           0  \n",
       "0  training_hours      target  \n",
       "2              83           0  "
      ]
     },
     "execution_count": 15,
     "metadata": {},
     "output_type": "execute_result"
    }
   ],
   "source": [
    "df.sample(5)"
   ]
  },
  {
   "cell_type": "markdown",
   "id": "d13426f2-2183-4a58-8f4f-e9dc30656683",
   "metadata": {},
   "source": [
    "### What is the datatype of cols ?"
   ]
  },
  {
   "cell_type": "code",
   "execution_count": 16,
   "id": "10abec86-62fd-48e8-85d2-5572fc7d266d",
   "metadata": {
    "tags": []
   },
   "outputs": [
    {
     "name": "stdout",
     "output_type": "stream",
     "text": [
      "<class 'pandas.core.frame.DataFrame'>\n",
      "RangeIndex: 5 entries, 0 to 4\n",
      "Data columns (total 15 columns):\n",
      " #   Column       Non-Null Count  Dtype \n",
      "---  ------       --------------  ----- \n",
      " 0   Unnamed: 0   5 non-null      int64 \n",
      " 1   Unnamed: 1   5 non-null      object\n",
      " 2   Unnamed: 2   5 non-null      object\n",
      " 3   Unnamed: 3   5 non-null      object\n",
      " 4   Unnamed: 4   3 non-null      object\n",
      " 5   Unnamed: 5   5 non-null      object\n",
      " 6   Unnamed: 6   4 non-null      object\n",
      " 7   Unnamed: 7   5 non-null      object\n",
      " 8   Unnamed: 8   5 non-null      object\n",
      " 9   Unnamed: 9   5 non-null      object\n",
      " 10  Unnamed: 10  3 non-null      object\n",
      " 11  Unnamed: 11  4 non-null      object\n",
      " 12  Unnamed: 12  5 non-null      object\n",
      " 13  Unnamed: 13  5 non-null      object\n",
      " 14  Unnamed: 14  5 non-null      object\n",
      "dtypes: int64(1), object(14)\n",
      "memory usage: 732.0+ bytes\n"
     ]
    }
   ],
   "source": [
    "df.info()"
   ]
  },
  {
   "cell_type": "markdown",
   "id": "3d137f3d-fbf5-4f32-a1df-f3b807b96842",
   "metadata": {},
   "source": [
    "### Are there any missing values?"
   ]
  },
  {
   "cell_type": "markdown",
   "id": "8578317a-3022-47e3-a415-e5c30fa062e2",
   "metadata": {},
   "source": [
    "##### To know the no of null values in each colum we can use the following code snippet,which gives us series."
   ]
  },
  {
   "cell_type": "code",
   "execution_count": 17,
   "id": "80afed27-52ea-4e99-9a2b-a53583407d15",
   "metadata": {
    "tags": []
   },
   "outputs": [
    {
     "data": {
      "text/plain": [
       "Unnamed: 0     0\n",
       "Unnamed: 1     0\n",
       "Unnamed: 2     0\n",
       "Unnamed: 3     0\n",
       "Unnamed: 4     2\n",
       "Unnamed: 5     0\n",
       "Unnamed: 6     1\n",
       "Unnamed: 7     0\n",
       "Unnamed: 8     0\n",
       "Unnamed: 9     0\n",
       "Unnamed: 10    2\n",
       "Unnamed: 11    1\n",
       "Unnamed: 12    0\n",
       "Unnamed: 13    0\n",
       "Unnamed: 14    0\n",
       "dtype: int64"
      ]
     },
     "execution_count": 17,
     "metadata": {},
     "output_type": "execute_result"
    }
   ],
   "source": [
    "df.isnull().sum()"
   ]
  },
  {
   "cell_type": "markdown",
   "id": "9f46526f-9868-4266-9b85-46fe8aaf1773",
   "metadata": {},
   "source": [
    "### How does the data look mathematically?"
   ]
  },
  {
   "cell_type": "code",
   "execution_count": 18,
   "id": "446017ee-f6db-4bb3-9aed-f40a92503fe8",
   "metadata": {
    "tags": []
   },
   "outputs": [
    {
     "data": {
      "text/html": [
       "<div>\n",
       "<style scoped>\n",
       "    .dataframe tbody tr th:only-of-type {\n",
       "        vertical-align: middle;\n",
       "    }\n",
       "\n",
       "    .dataframe tbody tr th {\n",
       "        vertical-align: top;\n",
       "    }\n",
       "\n",
       "    .dataframe thead th {\n",
       "        text-align: right;\n",
       "    }\n",
       "</style>\n",
       "<table border=\"1\" class=\"dataframe\">\n",
       "  <thead>\n",
       "    <tr style=\"text-align: right;\">\n",
       "      <th></th>\n",
       "      <th>Unnamed: 0</th>\n",
       "    </tr>\n",
       "  </thead>\n",
       "  <tbody>\n",
       "    <tr>\n",
       "      <th>count</th>\n",
       "      <td>5.000000</td>\n",
       "    </tr>\n",
       "    <tr>\n",
       "      <th>mean</th>\n",
       "      <td>2.000000</td>\n",
       "    </tr>\n",
       "    <tr>\n",
       "      <th>std</th>\n",
       "      <td>1.581139</td>\n",
       "    </tr>\n",
       "    <tr>\n",
       "      <th>min</th>\n",
       "      <td>0.000000</td>\n",
       "    </tr>\n",
       "    <tr>\n",
       "      <th>25%</th>\n",
       "      <td>1.000000</td>\n",
       "    </tr>\n",
       "    <tr>\n",
       "      <th>50%</th>\n",
       "      <td>2.000000</td>\n",
       "    </tr>\n",
       "    <tr>\n",
       "      <th>75%</th>\n",
       "      <td>3.000000</td>\n",
       "    </tr>\n",
       "    <tr>\n",
       "      <th>max</th>\n",
       "      <td>4.000000</td>\n",
       "    </tr>\n",
       "  </tbody>\n",
       "</table>\n",
       "</div>"
      ],
      "text/plain": [
       "       Unnamed: 0\n",
       "count    5.000000\n",
       "mean     2.000000\n",
       "std      1.581139\n",
       "min      0.000000\n",
       "25%      1.000000\n",
       "50%      2.000000\n",
       "75%      3.000000\n",
       "max      4.000000"
      ]
     },
     "execution_count": 18,
     "metadata": {},
     "output_type": "execute_result"
    }
   ],
   "source": [
    "df.describe()"
   ]
  },
  {
   "cell_type": "markdown",
   "id": "d8d71515-cc02-4504-bdef-147e250a1b74",
   "metadata": {},
   "source": [
    "##### The describe func only works on the numeric cols."
   ]
  },
  {
   "cell_type": "markdown",
   "id": "8e83bb8f-dd35-4071-8ef9-1be9fa6948a0",
   "metadata": {},
   "source": [
    "### Are there any duplicate values?"
   ]
  },
  {
   "cell_type": "markdown",
   "id": "8913d7b3-2703-4890-8329-ff5c91d950cc",
   "metadata": {},
   "source": [
    "##### To identify duplicate rows ,we can use duplicated() and then use sum() to count total duplicate rows."
   ]
  },
  {
   "cell_type": "code",
   "execution_count": 19,
   "id": "3b3e86a2-bc00-4e5d-96d2-901abf6d94f7",
   "metadata": {
    "tags": []
   },
   "outputs": [
    {
     "data": {
      "text/plain": [
       "0"
      ]
     },
     "execution_count": 19,
     "metadata": {},
     "output_type": "execute_result"
    }
   ],
   "source": [
    "df.duplicated().sum()"
   ]
  },
  {
   "cell_type": "markdown",
   "id": "c3875aaa-72c9-4187-a310-313131c1b432",
   "metadata": {},
   "source": [
    "##### There are no duplicate rows."
   ]
  },
  {
   "cell_type": "markdown",
   "id": "03dd22df-db6f-4cbb-ab90-fbdf41978661",
   "metadata": {},
   "source": [
    "### How is the correlation between cols ?"
   ]
  },
  {
   "cell_type": "markdown",
   "id": "5e8016f1-9476-45bf-a65f-2c1dad42de3e",
   "metadata": {},
   "source": [
    "#### To describe the relation among cols ,we use corr() which runs only on numeric cols.It is used to identify which cols are related to output cols.This is process helps us in identifying the cols which are'nt affecting output col and hence we can drop them."
   ]
  },
  {
   "cell_type": "code",
   "execution_count": 21,
   "id": "a6d20215-9696-4da5-a0ad-68278e9a531a",
   "metadata": {
    "tags": []
   },
   "outputs": [],
   "source": [
    "####df.corr()"
   ]
  },
  {
   "cell_type": "code",
   "execution_count": null,
   "id": "fe911205-96c9-48f6-b1f4-aba86c7c36f3",
   "metadata": {},
   "outputs": [],
   "source": []
  }
 ],
 "metadata": {
  "kernelspec": {
   "display_name": "Python 3 (ipykernel)",
   "language": "python",
   "name": "python3"
  },
  "language_info": {
   "codemirror_mode": {
    "name": "ipython",
    "version": 3
   },
   "file_extension": ".py",
   "mimetype": "text/x-python",
   "name": "python",
   "nbconvert_exporter": "python",
   "pygments_lexer": "ipython3",
   "version": "3.11.5"
  }
 },
 "nbformat": 4,
 "nbformat_minor": 5
}
