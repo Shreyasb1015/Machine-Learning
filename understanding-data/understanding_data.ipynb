{
 "cells": [
  {
   "cell_type": "markdown",
   "id": "46fdb0e0-0514-407e-b711-aa9e294f0e28",
   "metadata": {},
   "source": [
    "##### After you have obtain the data,it is imp to understand the data ."
   ]
  },
  {
   "cell_type": "code",
   "execution_count": null,
   "id": "479b02d1-bb1a-4b65-8472-6e938ef4614a",
   "metadata": {},
   "outputs": [],
   "source": []
  }
 ],
 "metadata": {
  "kernelspec": {
   "display_name": "Python 3 (ipykernel)",
   "language": "python",
   "name": "python3"
  },
  "language_info": {
   "codemirror_mode": {
    "name": "ipython",
    "version": 3
   },
   "file_extension": ".py",
   "mimetype": "text/x-python",
   "name": "python",
   "nbconvert_exporter": "python",
   "pygments_lexer": "ipython3",
   "version": "3.11.5"
  }
 },
 "nbformat": 4,
 "nbformat_minor": 5
}
