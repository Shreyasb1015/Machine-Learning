{
 "cells": [
  {
   "cell_type": "code",
   "execution_count": 1,
   "id": "45700a7c-6ffb-495d-9c4b-48cfdfb0c61a",
   "metadata": {
    "tags": []
   },
   "outputs": [],
   "source": [
    "import numpy as np\n",
    "import pandas as pd"
   ]
  },
  {
   "cell_type": "code",
   "execution_count": 2,
   "id": "f07a03ca-e249-48f1-b67b-b564e02feb1a",
   "metadata": {
    "tags": []
   },
   "outputs": [],
   "source": [
    "data=pd.read_csv('play_tennis.csv')\n",
    "data.head()\n",
    "data.drop(columns=['day'],inplace=True)\n"
   ]
  },
  {
   "cell_type": "code",
   "execution_count": 3,
   "id": "36518f2a-5e70-4b46-a02a-a1a3a1119602",
   "metadata": {
    "tags": []
   },
   "outputs": [
    {
     "data": {
      "text/html": [
       "<div>\n",
       "<style scoped>\n",
       "    .dataframe tbody tr th:only-of-type {\n",
       "        vertical-align: middle;\n",
       "    }\n",
       "\n",
       "    .dataframe tbody tr th {\n",
       "        vertical-align: top;\n",
       "    }\n",
       "\n",
       "    .dataframe thead th {\n",
       "        text-align: right;\n",
       "    }\n",
       "</style>\n",
       "<table border=\"1\" class=\"dataframe\">\n",
       "  <thead>\n",
       "    <tr style=\"text-align: right;\">\n",
       "      <th></th>\n",
       "      <th>outlook</th>\n",
       "      <th>temp</th>\n",
       "      <th>humidity</th>\n",
       "      <th>wind</th>\n",
       "      <th>play</th>\n",
       "    </tr>\n",
       "  </thead>\n",
       "  <tbody>\n",
       "    <tr>\n",
       "      <th>0</th>\n",
       "      <td>Sunny</td>\n",
       "      <td>Hot</td>\n",
       "      <td>High</td>\n",
       "      <td>Weak</td>\n",
       "      <td>No</td>\n",
       "    </tr>\n",
       "    <tr>\n",
       "      <th>1</th>\n",
       "      <td>Sunny</td>\n",
       "      <td>Hot</td>\n",
       "      <td>High</td>\n",
       "      <td>Strong</td>\n",
       "      <td>No</td>\n",
       "    </tr>\n",
       "    <tr>\n",
       "      <th>2</th>\n",
       "      <td>Overcast</td>\n",
       "      <td>Hot</td>\n",
       "      <td>High</td>\n",
       "      <td>Weak</td>\n",
       "      <td>Yes</td>\n",
       "    </tr>\n",
       "    <tr>\n",
       "      <th>3</th>\n",
       "      <td>Rain</td>\n",
       "      <td>Mild</td>\n",
       "      <td>High</td>\n",
       "      <td>Weak</td>\n",
       "      <td>Yes</td>\n",
       "    </tr>\n",
       "    <tr>\n",
       "      <th>4</th>\n",
       "      <td>Rain</td>\n",
       "      <td>Cool</td>\n",
       "      <td>Normal</td>\n",
       "      <td>Weak</td>\n",
       "      <td>Yes</td>\n",
       "    </tr>\n",
       "    <tr>\n",
       "      <th>5</th>\n",
       "      <td>Rain</td>\n",
       "      <td>Cool</td>\n",
       "      <td>Normal</td>\n",
       "      <td>Strong</td>\n",
       "      <td>No</td>\n",
       "    </tr>\n",
       "    <tr>\n",
       "      <th>6</th>\n",
       "      <td>Overcast</td>\n",
       "      <td>Cool</td>\n",
       "      <td>Normal</td>\n",
       "      <td>Strong</td>\n",
       "      <td>Yes</td>\n",
       "    </tr>\n",
       "    <tr>\n",
       "      <th>7</th>\n",
       "      <td>Sunny</td>\n",
       "      <td>Mild</td>\n",
       "      <td>High</td>\n",
       "      <td>Weak</td>\n",
       "      <td>No</td>\n",
       "    </tr>\n",
       "    <tr>\n",
       "      <th>8</th>\n",
       "      <td>Sunny</td>\n",
       "      <td>Cool</td>\n",
       "      <td>Normal</td>\n",
       "      <td>Weak</td>\n",
       "      <td>Yes</td>\n",
       "    </tr>\n",
       "    <tr>\n",
       "      <th>9</th>\n",
       "      <td>Rain</td>\n",
       "      <td>Mild</td>\n",
       "      <td>Normal</td>\n",
       "      <td>Weak</td>\n",
       "      <td>Yes</td>\n",
       "    </tr>\n",
       "    <tr>\n",
       "      <th>10</th>\n",
       "      <td>Sunny</td>\n",
       "      <td>Mild</td>\n",
       "      <td>Normal</td>\n",
       "      <td>Strong</td>\n",
       "      <td>Yes</td>\n",
       "    </tr>\n",
       "    <tr>\n",
       "      <th>11</th>\n",
       "      <td>Overcast</td>\n",
       "      <td>Mild</td>\n",
       "      <td>High</td>\n",
       "      <td>Strong</td>\n",
       "      <td>Yes</td>\n",
       "    </tr>\n",
       "    <tr>\n",
       "      <th>12</th>\n",
       "      <td>Overcast</td>\n",
       "      <td>Hot</td>\n",
       "      <td>Normal</td>\n",
       "      <td>Weak</td>\n",
       "      <td>Yes</td>\n",
       "    </tr>\n",
       "    <tr>\n",
       "      <th>13</th>\n",
       "      <td>Rain</td>\n",
       "      <td>Mild</td>\n",
       "      <td>High</td>\n",
       "      <td>Strong</td>\n",
       "      <td>No</td>\n",
       "    </tr>\n",
       "  </tbody>\n",
       "</table>\n",
       "</div>"
      ],
      "text/plain": [
       "     outlook  temp humidity    wind play\n",
       "0      Sunny   Hot     High    Weak   No\n",
       "1      Sunny   Hot     High  Strong   No\n",
       "2   Overcast   Hot     High    Weak  Yes\n",
       "3       Rain  Mild     High    Weak  Yes\n",
       "4       Rain  Cool   Normal    Weak  Yes\n",
       "5       Rain  Cool   Normal  Strong   No\n",
       "6   Overcast  Cool   Normal  Strong  Yes\n",
       "7      Sunny  Mild     High    Weak   No\n",
       "8      Sunny  Cool   Normal    Weak  Yes\n",
       "9       Rain  Mild   Normal    Weak  Yes\n",
       "10     Sunny  Mild   Normal  Strong  Yes\n",
       "11  Overcast  Mild     High  Strong  Yes\n",
       "12  Overcast   Hot   Normal    Weak  Yes\n",
       "13      Rain  Mild     High  Strong   No"
      ]
     },
     "execution_count": 3,
     "metadata": {},
     "output_type": "execute_result"
    }
   ],
   "source": [
    "data"
   ]
  },
  {
   "cell_type": "markdown",
   "id": "c4352114-d5f4-465a-8783-79ab019455ed",
   "metadata": {},
   "source": [
    "##### Problem 1:\n",
    "##### Outlook -sunny,temp-hot,humidity:high , wind:weak\n",
    "##### play or no play"
   ]
  },
  {
   "cell_type": "code",
   "execution_count": 5,
   "id": "44254faa-94ed-4636-a1c5-32f5078f4e8c",
   "metadata": {
    "tags": []
   },
   "outputs": [],
   "source": [
    "### Solution:\n",
    "\n",
    "### P(Yes/Sunny,hot,humidity,weak)=P(sunny/Yes)*P(hot/Yes)*P(humidity/Yes)*P(weak/Yes)*P(Yes)\n",
    "### P(No/Sunny,hot,humidity,weak)=P(sunny/No)*P(hot/No)*P(humidity/No)*P(weak/No)*P(No)\n",
    "\n",
    "### Comparing and deciding using maximum a posteriori rule."
   ]
  },
  {
   "cell_type": "markdown",
   "id": "cddc893c-fdc6-4628-9b28-fcea51bb6ed3",
   "metadata": {},
   "source": [
    "##### Naive bayes works in two stages ie training and testing.While training it calculates the probablity of each unique value of each column wr,t to the output classes given(here classes are yes and no).It then stores all this info into a lookup table so that when test point arrives,it can refer the lookup table and predict the outcome."
   ]
  },
  {
   "cell_type": "markdown",
   "id": "2f4d801d-d3be-4c1f-860a-a8cb9c5c3ff2",
   "metadata": {},
   "source": [
    "#### First we will find the probabilites of yes and no."
   ]
  },
  {
   "cell_type": "code",
   "execution_count": 6,
   "id": "b151568e-3e18-47bf-8ff6-90c6dce756f0",
   "metadata": {
    "tags": []
   },
   "outputs": [
    {
     "data": {
      "text/plain": [
       "play\n",
       "Yes    9\n",
       "No     5\n",
       "Name: count, dtype: int64"
      ]
     },
     "execution_count": 6,
     "metadata": {},
     "output_type": "execute_result"
    }
   ],
   "source": [
    "data['play'].value_counts()"
   ]
  },
  {
   "cell_type": "code",
   "execution_count": 7,
   "id": "a62e4cc0-1329-47bb-ae2d-e4f0c4a1dfca",
   "metadata": {
    "tags": []
   },
   "outputs": [],
   "source": [
    "py=9/14\n",
    "pn=5/14"
   ]
  },
  {
   "cell_type": "code",
   "execution_count": 8,
   "id": "8bbce707-4d57-4fcc-92d6-f77ecbc179b2",
   "metadata": {
    "tags": []
   },
   "outputs": [
    {
     "data": {
      "text/plain": [
       "(0.6428571428571429, 0.35714285714285715)"
      ]
     },
     "execution_count": 8,
     "metadata": {},
     "output_type": "execute_result"
    }
   ],
   "source": [
    "py,pn"
   ]
  },
  {
   "cell_type": "markdown",
   "id": "6ee7e9fe-6798-46fe-9851-79090ae3820f",
   "metadata": {},
   "source": [
    "##### Now , for each column we will be calculating their respective probabilites for yes and no."
   ]
  },
  {
   "cell_type": "code",
   "execution_count": 10,
   "id": "f3d9ee42-78d3-41a8-9a11-409d30e34bdc",
   "metadata": {
    "tags": []
   },
   "outputs": [
    {
     "data": {
      "text/html": [
       "<div>\n",
       "<style scoped>\n",
       "    .dataframe tbody tr th:only-of-type {\n",
       "        vertical-align: middle;\n",
       "    }\n",
       "\n",
       "    .dataframe tbody tr th {\n",
       "        vertical-align: top;\n",
       "    }\n",
       "\n",
       "    .dataframe thead th {\n",
       "        text-align: right;\n",
       "    }\n",
       "</style>\n",
       "<table border=\"1\" class=\"dataframe\">\n",
       "  <thead>\n",
       "    <tr style=\"text-align: right;\">\n",
       "      <th>play</th>\n",
       "      <th>No</th>\n",
       "      <th>Yes</th>\n",
       "    </tr>\n",
       "    <tr>\n",
       "      <th>outlook</th>\n",
       "      <th></th>\n",
       "      <th></th>\n",
       "    </tr>\n",
       "  </thead>\n",
       "  <tbody>\n",
       "    <tr>\n",
       "      <th>Overcast</th>\n",
       "      <td>0</td>\n",
       "      <td>4</td>\n",
       "    </tr>\n",
       "    <tr>\n",
       "      <th>Rain</th>\n",
       "      <td>2</td>\n",
       "      <td>3</td>\n",
       "    </tr>\n",
       "    <tr>\n",
       "      <th>Sunny</th>\n",
       "      <td>3</td>\n",
       "      <td>2</td>\n",
       "    </tr>\n",
       "  </tbody>\n",
       "</table>\n",
       "</div>"
      ],
      "text/plain": [
       "play      No  Yes\n",
       "outlook          \n",
       "Overcast   0    4\n",
       "Rain       2    3\n",
       "Sunny      3    2"
      ]
     },
     "execution_count": 10,
     "metadata": {},
     "output_type": "execute_result"
    }
   ],
   "source": [
    "## for outlook column\n",
    "\n",
    "pd.crosstab(data['outlook'],data['play'])\n"
   ]
  },
  {
   "cell_type": "markdown",
   "id": "800ace5b-0de3-4310-bb3b-1531c23eb6ca",
   "metadata": {},
   "source": [
    "##### Now , we will be calculating probailites for each category."
   ]
  },
  {
   "cell_type": "code",
   "execution_count": 13,
   "id": "59734fd1-b7ba-422b-abf7-6dd254fb8078",
   "metadata": {
    "tags": []
   },
   "outputs": [],
   "source": [
    "Pon=0\n",
    "Prn=2/5\n",
    "Psn=3/5\n",
    "Poy=4/9\n",
    "Pry=3/9\n",
    "Psy=2/9"
   ]
  },
  {
   "cell_type": "code",
   "execution_count": 14,
   "id": "5d948390-6cc9-4736-a4bd-e02ca3d12f4a",
   "metadata": {
    "tags": []
   },
   "outputs": [
    {
     "data": {
      "text/plain": [
       "(0, 0.4, 0.6, 0.4444444444444444, 0.3333333333333333, 0.2222222222222222)"
      ]
     },
     "execution_count": 14,
     "metadata": {},
     "output_type": "execute_result"
    }
   ],
   "source": [
    "Pon,Prn,Psn,Poy,Pry,Psy"
   ]
  },
  {
   "cell_type": "markdown",
   "id": "630cd898-bf20-4b92-9a64-3b256d85548e",
   "metadata": {},
   "source": [
    "##### Now ,we will do same thing for other columns."
   ]
  },
  {
   "cell_type": "code",
   "execution_count": 15,
   "id": "ae3188c6-dcd8-47d2-b91b-be3741d7e431",
   "metadata": {
    "tags": []
   },
   "outputs": [
    {
     "data": {
      "text/html": [
       "<div>\n",
       "<style scoped>\n",
       "    .dataframe tbody tr th:only-of-type {\n",
       "        vertical-align: middle;\n",
       "    }\n",
       "\n",
       "    .dataframe tbody tr th {\n",
       "        vertical-align: top;\n",
       "    }\n",
       "\n",
       "    .dataframe thead th {\n",
       "        text-align: right;\n",
       "    }\n",
       "</style>\n",
       "<table border=\"1\" class=\"dataframe\">\n",
       "  <thead>\n",
       "    <tr style=\"text-align: right;\">\n",
       "      <th>play</th>\n",
       "      <th>No</th>\n",
       "      <th>Yes</th>\n",
       "    </tr>\n",
       "    <tr>\n",
       "      <th>temp</th>\n",
       "      <th></th>\n",
       "      <th></th>\n",
       "    </tr>\n",
       "  </thead>\n",
       "  <tbody>\n",
       "    <tr>\n",
       "      <th>Cool</th>\n",
       "      <td>1</td>\n",
       "      <td>3</td>\n",
       "    </tr>\n",
       "    <tr>\n",
       "      <th>Hot</th>\n",
       "      <td>2</td>\n",
       "      <td>2</td>\n",
       "    </tr>\n",
       "    <tr>\n",
       "      <th>Mild</th>\n",
       "      <td>2</td>\n",
       "      <td>4</td>\n",
       "    </tr>\n",
       "  </tbody>\n",
       "</table>\n",
       "</div>"
      ],
      "text/plain": [
       "play  No  Yes\n",
       "temp         \n",
       "Cool   1    3\n",
       "Hot    2    2\n",
       "Mild   2    4"
      ]
     },
     "execution_count": 15,
     "metadata": {},
     "output_type": "execute_result"
    }
   ],
   "source": [
    "## for outlook column\n",
    "\n",
    "pd.crosstab(data['temp'],data['play'])\n"
   ]
  },
  {
   "cell_type": "code",
   "execution_count": 20,
   "id": "db0118e3-65a4-4fc1-90d4-37832e18429a",
   "metadata": {
    "tags": []
   },
   "outputs": [],
   "source": [
    "##temp column\n",
    "Pcoolno=1/5\n",
    "Photno=2/5\n",
    "Pmildno=2/5\n",
    "\n",
    "Pcoolyes=3/9\n",
    "Photyes=2/9\n",
    "Pmildyes=4/9"
   ]
  },
  {
   "cell_type": "code",
   "execution_count": 21,
   "id": "a4aa5f00-cf6e-4f70-9ace-c5fcf5bcebe0",
   "metadata": {
    "tags": []
   },
   "outputs": [
    {
     "data": {
      "text/plain": [
       "(0.2, 0.4, 0.4, 0.3333333333333333, 0.2222222222222222, 0.4444444444444444)"
      ]
     },
     "execution_count": 21,
     "metadata": {},
     "output_type": "execute_result"
    }
   ],
   "source": [
    "Pcoolno,Photno,Pmildno,Pcoolyes,Photyes,Pmildyes"
   ]
  },
  {
   "cell_type": "code",
   "execution_count": 22,
   "id": "4376d11c-352c-4316-830a-26ea20ddbbbd",
   "metadata": {
    "tags": []
   },
   "outputs": [
    {
     "data": {
      "text/html": [
       "<div>\n",
       "<style scoped>\n",
       "    .dataframe tbody tr th:only-of-type {\n",
       "        vertical-align: middle;\n",
       "    }\n",
       "\n",
       "    .dataframe tbody tr th {\n",
       "        vertical-align: top;\n",
       "    }\n",
       "\n",
       "    .dataframe thead th {\n",
       "        text-align: right;\n",
       "    }\n",
       "</style>\n",
       "<table border=\"1\" class=\"dataframe\">\n",
       "  <thead>\n",
       "    <tr style=\"text-align: right;\">\n",
       "      <th>play</th>\n",
       "      <th>No</th>\n",
       "      <th>Yes</th>\n",
       "    </tr>\n",
       "    <tr>\n",
       "      <th>humidity</th>\n",
       "      <th></th>\n",
       "      <th></th>\n",
       "    </tr>\n",
       "  </thead>\n",
       "  <tbody>\n",
       "    <tr>\n",
       "      <th>High</th>\n",
       "      <td>4</td>\n",
       "      <td>3</td>\n",
       "    </tr>\n",
       "    <tr>\n",
       "      <th>Normal</th>\n",
       "      <td>1</td>\n",
       "      <td>6</td>\n",
       "    </tr>\n",
       "  </tbody>\n",
       "</table>\n",
       "</div>"
      ],
      "text/plain": [
       "play      No  Yes\n",
       "humidity         \n",
       "High       4    3\n",
       "Normal     1    6"
      ]
     },
     "execution_count": 22,
     "metadata": {},
     "output_type": "execute_result"
    }
   ],
   "source": [
    "## Humidity\n",
    "\n",
    "pd.crosstab(data['humidity'],data['play'])\n",
    "\n"
   ]
  },
  {
   "cell_type": "code",
   "execution_count": 23,
   "id": "0a62ee5f-c1d0-4b81-8c6c-f267972231b7",
   "metadata": {
    "tags": []
   },
   "outputs": [],
   "source": [
    "Phighno=4/5\n",
    "Pnormalno=1/5\n",
    "\n",
    "Phighyes=3/9\n",
    "Pnormalyes=6/9"
   ]
  },
  {
   "cell_type": "code",
   "execution_count": 24,
   "id": "44985622-d9b7-4cdd-a510-2a321d8945f6",
   "metadata": {
    "tags": []
   },
   "outputs": [
    {
     "data": {
      "text/plain": [
       "(0.8, 0.2, 0.3333333333333333, 0.6666666666666666)"
      ]
     },
     "execution_count": 24,
     "metadata": {},
     "output_type": "execute_result"
    }
   ],
   "source": [
    "Phighno,Pnormalno,Phighyes,Pnormalyes"
   ]
  },
  {
   "cell_type": "code",
   "execution_count": 26,
   "id": "008378ba-a150-4a60-97b1-341b69924f06",
   "metadata": {
    "tags": []
   },
   "outputs": [
    {
     "data": {
      "text/html": [
       "<div>\n",
       "<style scoped>\n",
       "    .dataframe tbody tr th:only-of-type {\n",
       "        vertical-align: middle;\n",
       "    }\n",
       "\n",
       "    .dataframe tbody tr th {\n",
       "        vertical-align: top;\n",
       "    }\n",
       "\n",
       "    .dataframe thead th {\n",
       "        text-align: right;\n",
       "    }\n",
       "</style>\n",
       "<table border=\"1\" class=\"dataframe\">\n",
       "  <thead>\n",
       "    <tr style=\"text-align: right;\">\n",
       "      <th>play</th>\n",
       "      <th>No</th>\n",
       "      <th>Yes</th>\n",
       "    </tr>\n",
       "    <tr>\n",
       "      <th>wind</th>\n",
       "      <th></th>\n",
       "      <th></th>\n",
       "    </tr>\n",
       "  </thead>\n",
       "  <tbody>\n",
       "    <tr>\n",
       "      <th>Strong</th>\n",
       "      <td>3</td>\n",
       "      <td>3</td>\n",
       "    </tr>\n",
       "    <tr>\n",
       "      <th>Weak</th>\n",
       "      <td>2</td>\n",
       "      <td>6</td>\n",
       "    </tr>\n",
       "  </tbody>\n",
       "</table>\n",
       "</div>"
      ],
      "text/plain": [
       "play    No  Yes\n",
       "wind           \n",
       "Strong   3    3\n",
       "Weak     2    6"
      ]
     },
     "execution_count": 26,
     "metadata": {},
     "output_type": "execute_result"
    }
   ],
   "source": [
    "###wind column\n",
    "pd.crosstab(data['wind'],data['play'])\n"
   ]
  },
  {
   "cell_type": "code",
   "execution_count": 27,
   "id": "ee07dfd8-f644-47fc-a623-91ded33268df",
   "metadata": {
    "tags": []
   },
   "outputs": [],
   "source": [
    "Pstrongno=3/5\n",
    "Pweakno=2/5\n",
    "\n",
    "Pstrongyes=3/9\n",
    "Pweakyes=6/9"
   ]
  },
  {
   "cell_type": "code",
   "execution_count": 29,
   "id": "9060196f-330d-4c9e-85b3-4a2104fd721a",
   "metadata": {
    "tags": []
   },
   "outputs": [
    {
     "data": {
      "text/plain": [
       "(0.6, 0.4, 0.3333333333333333, 0.6666666666666666)"
      ]
     },
     "execution_count": 29,
     "metadata": {},
     "output_type": "execute_result"
    }
   ],
   "source": [
    "Pstrongno,Pweakno,Pstrongyes,Pweakyes"
   ]
  },
  {
   "cell_type": "markdown",
   "id": "279f445a-9322-4dc4-a168-39fb8066f37a",
   "metadata": {},
   "source": [
    "##### Now ,we will predict the result."
   ]
  },
  {
   "cell_type": "code",
   "execution_count": 33,
   "id": "85edc0c2-f67b-4dda-af5c-b0a63f29ffd0",
   "metadata": {
    "tags": []
   },
   "outputs": [],
   "source": [
    "#Outlook -sunny,temp-hot,humidity:high , wind:weak\n",
    "\n",
    "### P(Yes/Sunny,hot,humidity,weak)=P(sunny/Yes)*P(hot/Yes)*P(humidity/Yes)*P(weak/Yes)*P(Yes)\n",
    "### P(No/Sunny,hot,humidity,weak)=P(sunny/No)*P(hot/No)*P(humidity/No)*P(weak/No)*P(No)\n",
    "\n",
    "Pyes=Psy*Photyes*Phighyes*Pweakyes*py\n",
    "Pno=Psn*Photno*Phighno*Pweakno*pn\n",
    "\n"
   ]
  },
  {
   "cell_type": "code",
   "execution_count": 34,
   "id": "8cd23050-70e9-4b00-af14-8bdb56afb833",
   "metadata": {
    "tags": []
   },
   "outputs": [
    {
     "data": {
      "text/plain": [
       "(0.007054673721340387, 0.02742857142857143)"
      ]
     },
     "execution_count": 34,
     "metadata": {},
     "output_type": "execute_result"
    }
   ],
   "source": [
    "Pyes,Pno"
   ]
  },
  {
   "cell_type": "markdown",
   "id": "c5e9fc74-d9ef-4dbc-a419-0ec016b48950",
   "metadata": {},
   "source": [
    "##### As Pno >Pyes , we will predict the outcome as no."
   ]
  },
  {
   "cell_type": "code",
   "execution_count": null,
   "id": "9a6a59ff-e56c-4459-8e99-43c4f37570a5",
   "metadata": {},
   "outputs": [],
   "source": []
  }
 ],
 "metadata": {
  "kernelspec": {
   "display_name": "Python 3 (ipykernel)",
   "language": "python",
   "name": "python3"
  },
  "language_info": {
   "codemirror_mode": {
    "name": "ipython",
    "version": 3
   },
   "file_extension": ".py",
   "mimetype": "text/x-python",
   "name": "python",
   "nbconvert_exporter": "python",
   "pygments_lexer": "ipython3",
   "version": "3.11.5"
  }
 },
 "nbformat": 4,
 "nbformat_minor": 5
}
