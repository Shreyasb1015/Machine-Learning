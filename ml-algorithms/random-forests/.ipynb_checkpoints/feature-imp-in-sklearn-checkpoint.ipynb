{
 "cells": [
  {
   "cell_type": "code",
   "execution_count": 1,
   "id": "415f6875-4114-42ae-a2a2-4b9697a4c70e",
   "metadata": {
    "tags": []
   },
   "outputs": [],
   "source": [
    "import pandas as pd\n",
    "import seaborn as sns"
   ]
  },
  {
   "cell_type": "code",
   "execution_count": 2,
   "id": "e8e8c9a9-8552-4bd1-aff9-c8c5dd8b0d63",
   "metadata": {
    "tags": []
   },
   "outputs": [],
   "source": [
    "df = pd.read_csv('train.csv')"
   ]
  },
  {
   "cell_type": "code",
   "execution_count": 3,
   "id": "597ea719-06e7-4ce9-b4d0-1bdf9899be6a",
   "metadata": {
    "tags": []
   },
   "outputs": [
    {
     "data": {
      "text/html": [
       "<div>\n",
       "<style scoped>\n",
       "    .dataframe tbody tr th:only-of-type {\n",
       "        vertical-align: middle;\n",
       "    }\n",
       "\n",
       "    .dataframe tbody tr th {\n",
       "        vertical-align: top;\n",
       "    }\n",
       "\n",
       "    .dataframe thead th {\n",
       "        text-align: right;\n",
       "    }\n",
       "</style>\n",
       "<table border=\"1\" class=\"dataframe\">\n",
       "  <thead>\n",
       "    <tr style=\"text-align: right;\">\n",
       "      <th></th>\n",
       "      <th>label</th>\n",
       "      <th>pixel0</th>\n",
       "      <th>pixel1</th>\n",
       "      <th>pixel2</th>\n",
       "      <th>pixel3</th>\n",
       "      <th>pixel4</th>\n",
       "      <th>pixel5</th>\n",
       "      <th>pixel6</th>\n",
       "      <th>pixel7</th>\n",
       "      <th>pixel8</th>\n",
       "      <th>...</th>\n",
       "      <th>pixel774</th>\n",
       "      <th>pixel775</th>\n",
       "      <th>pixel776</th>\n",
       "      <th>pixel777</th>\n",
       "      <th>pixel778</th>\n",
       "      <th>pixel779</th>\n",
       "      <th>pixel780</th>\n",
       "      <th>pixel781</th>\n",
       "      <th>pixel782</th>\n",
       "      <th>pixel783</th>\n",
       "    </tr>\n",
       "  </thead>\n",
       "  <tbody>\n",
       "    <tr>\n",
       "      <th>0</th>\n",
       "      <td>1</td>\n",
       "      <td>0</td>\n",
       "      <td>0</td>\n",
       "      <td>0</td>\n",
       "      <td>0</td>\n",
       "      <td>0</td>\n",
       "      <td>0</td>\n",
       "      <td>0</td>\n",
       "      <td>0</td>\n",
       "      <td>0</td>\n",
       "      <td>...</td>\n",
       "      <td>0</td>\n",
       "      <td>0</td>\n",
       "      <td>0</td>\n",
       "      <td>0</td>\n",
       "      <td>0</td>\n",
       "      <td>0</td>\n",
       "      <td>0</td>\n",
       "      <td>0</td>\n",
       "      <td>0</td>\n",
       "      <td>0</td>\n",
       "    </tr>\n",
       "    <tr>\n",
       "      <th>1</th>\n",
       "      <td>0</td>\n",
       "      <td>0</td>\n",
       "      <td>0</td>\n",
       "      <td>0</td>\n",
       "      <td>0</td>\n",
       "      <td>0</td>\n",
       "      <td>0</td>\n",
       "      <td>0</td>\n",
       "      <td>0</td>\n",
       "      <td>0</td>\n",
       "      <td>...</td>\n",
       "      <td>0</td>\n",
       "      <td>0</td>\n",
       "      <td>0</td>\n",
       "      <td>0</td>\n",
       "      <td>0</td>\n",
       "      <td>0</td>\n",
       "      <td>0</td>\n",
       "      <td>0</td>\n",
       "      <td>0</td>\n",
       "      <td>0</td>\n",
       "    </tr>\n",
       "    <tr>\n",
       "      <th>2</th>\n",
       "      <td>1</td>\n",
       "      <td>0</td>\n",
       "      <td>0</td>\n",
       "      <td>0</td>\n",
       "      <td>0</td>\n",
       "      <td>0</td>\n",
       "      <td>0</td>\n",
       "      <td>0</td>\n",
       "      <td>0</td>\n",
       "      <td>0</td>\n",
       "      <td>...</td>\n",
       "      <td>0</td>\n",
       "      <td>0</td>\n",
       "      <td>0</td>\n",
       "      <td>0</td>\n",
       "      <td>0</td>\n",
       "      <td>0</td>\n",
       "      <td>0</td>\n",
       "      <td>0</td>\n",
       "      <td>0</td>\n",
       "      <td>0</td>\n",
       "    </tr>\n",
       "    <tr>\n",
       "      <th>3</th>\n",
       "      <td>4</td>\n",
       "      <td>0</td>\n",
       "      <td>0</td>\n",
       "      <td>0</td>\n",
       "      <td>0</td>\n",
       "      <td>0</td>\n",
       "      <td>0</td>\n",
       "      <td>0</td>\n",
       "      <td>0</td>\n",
       "      <td>0</td>\n",
       "      <td>...</td>\n",
       "      <td>0</td>\n",
       "      <td>0</td>\n",
       "      <td>0</td>\n",
       "      <td>0</td>\n",
       "      <td>0</td>\n",
       "      <td>0</td>\n",
       "      <td>0</td>\n",
       "      <td>0</td>\n",
       "      <td>0</td>\n",
       "      <td>0</td>\n",
       "    </tr>\n",
       "    <tr>\n",
       "      <th>4</th>\n",
       "      <td>0</td>\n",
       "      <td>0</td>\n",
       "      <td>0</td>\n",
       "      <td>0</td>\n",
       "      <td>0</td>\n",
       "      <td>0</td>\n",
       "      <td>0</td>\n",
       "      <td>0</td>\n",
       "      <td>0</td>\n",
       "      <td>0</td>\n",
       "      <td>...</td>\n",
       "      <td>0</td>\n",
       "      <td>0</td>\n",
       "      <td>0</td>\n",
       "      <td>0</td>\n",
       "      <td>0</td>\n",
       "      <td>0</td>\n",
       "      <td>0</td>\n",
       "      <td>0</td>\n",
       "      <td>0</td>\n",
       "      <td>0</td>\n",
       "    </tr>\n",
       "  </tbody>\n",
       "</table>\n",
       "<p>5 rows × 785 columns</p>\n",
       "</div>"
      ],
      "text/plain": [
       "   label  pixel0  pixel1  pixel2  pixel3  pixel4  pixel5  pixel6  pixel7  \\\n",
       "0      1       0       0       0       0       0       0       0       0   \n",
       "1      0       0       0       0       0       0       0       0       0   \n",
       "2      1       0       0       0       0       0       0       0       0   \n",
       "3      4       0       0       0       0       0       0       0       0   \n",
       "4      0       0       0       0       0       0       0       0       0   \n",
       "\n",
       "   pixel8  ...  pixel774  pixel775  pixel776  pixel777  pixel778  pixel779  \\\n",
       "0       0  ...         0         0         0         0         0         0   \n",
       "1       0  ...         0         0         0         0         0         0   \n",
       "2       0  ...         0         0         0         0         0         0   \n",
       "3       0  ...         0         0         0         0         0         0   \n",
       "4       0  ...         0         0         0         0         0         0   \n",
       "\n",
       "   pixel780  pixel781  pixel782  pixel783  \n",
       "0         0         0         0         0  \n",
       "1         0         0         0         0  \n",
       "2         0         0         0         0  \n",
       "3         0         0         0         0  \n",
       "4         0         0         0         0  \n",
       "\n",
       "[5 rows x 785 columns]"
      ]
     },
     "execution_count": 3,
     "metadata": {},
     "output_type": "execute_result"
    }
   ],
   "source": [
    "df.head()"
   ]
  },
  {
   "cell_type": "code",
   "execution_count": 4,
   "id": "3c54ea49-5721-4cda-8c31-6aaeaa66df9a",
   "metadata": {
    "tags": []
   },
   "outputs": [],
   "source": [
    "X = df.iloc[:,1:]\n",
    "y = df.iloc[:,0]"
   ]
  },
  {
   "cell_type": "code",
   "execution_count": 5,
   "id": "e84bee81-3aa8-4acb-a039-129ed1f20a14",
   "metadata": {
    "tags": []
   },
   "outputs": [
    {
     "data": {
      "text/plain": [
       "<Axes: >"
      ]
     },
     "execution_count": 5,
     "metadata": {},
     "output_type": "execute_result"
    },
    {
     "data": {
      "image/png": "[encoded data removed]",
      "text/plain": [
       "<Figure size 640x480 with 2 Axes>"
      ]
     },
     "metadata": {},
     "output_type": "display_data"
    }
   ],
   "source": [
    "sns.heatmap(X.iloc[5].values.reshape(28,28))"
   ]
  },
  {
   "cell_type": "code",
   "execution_count": 6,
   "id": "413b0cd3-cb25-4ecb-880c-5867b726240c",
   "metadata": {
    "tags": []
   },
   "outputs": [
    {
     "data": {
      "text/html": [
       "<style>#sk-container-id-1 {color: black;}#sk-container-id-1 pre{padding: 0;}#sk-container-id-1 div.sk-toggleable {background-color: white;}#sk-container-id-1 label.sk-toggleable__label {cursor: pointer;display: block;width: 100%;margin-bottom: 0;padding: 0.3em;box-sizing: border-box;text-align: center;}#sk-container-id-1 label.sk-toggleable__label-arrow:before {content: \"▸\";float: left;margin-right: 0.25em;color: #696969;}#sk-container-id-1 label.sk-toggleable__label-arrow:hover:before {color: black;}#sk-container-id-1 div.sk-estimator:hover label.sk-toggleable__label-arrow:before {color: black;}#sk-container-id-1 div.sk-toggleable__content {max-height: 0;max-width: 0;overflow: hidden;text-align: left;background-color: #f0f8ff;}#sk-container-id-1 div.sk-toggleable__content pre {margin: 0.2em;color: black;border-radius: 0.25em;background-color: #f0f8ff;}#sk-container-id-1 input.sk-toggleable__control:checked~div.sk-toggleable__content {max-height: 200px;max-width: 100%;overflow: auto;}#sk-container-id-1 input.sk-toggleable__control:checked~label.sk-toggleable__label-arrow:before {content: \"▾\";}#sk-container-id-1 div.sk-estimator input.sk-toggleable__control:checked~label.sk-toggleable__label {background-color: #d4ebff;}#sk-container-id-1 div.sk-label input.sk-toggleable__control:checked~label.sk-toggleable__label {background-color: #d4ebff;}#sk-container-id-1 input.sk-hidden--visually {border: 0;clip: rect(1px 1px 1px 1px);clip: rect(1px, 1px, 1px, 1px);height: 1px;margin: -1px;overflow: hidden;padding: 0;position: absolute;width: 1px;}#sk-container-id-1 div.sk-estimator {font-family: monospace;background-color: #f0f8ff;border: 1px dotted black;border-radius: 0.25em;box-sizing: border-box;margin-bottom: 0.5em;}#sk-container-id-1 div.sk-estimator:hover {background-color: #d4ebff;}#sk-container-id-1 div.sk-parallel-item::after {content: \"\";width: 100%;border-bottom: 1px solid gray;flex-grow: 1;}#sk-container-id-1 div.sk-label:hover label.sk-toggleable__label {background-color: #d4ebff;}#sk-container-id-1 div.sk-serial::before {content: \"\";position: absolute;border-left: 1px solid gray;box-sizing: border-box;top: 0;bottom: 0;left: 50%;z-index: 0;}#sk-container-id-1 div.sk-serial {display: flex;flex-direction: column;align-items: center;background-color: white;padding-right: 0.2em;padding-left: 0.2em;position: relative;}#sk-container-id-1 div.sk-item {position: relative;z-index: 1;}#sk-container-id-1 div.sk-parallel {display: flex;align-items: stretch;justify-content: center;background-color: white;position: relative;}#sk-container-id-1 div.sk-item::before, #sk-container-id-1 div.sk-parallel-item::before {content: \"\";position: absolute;border-left: 1px solid gray;box-sizing: border-box;top: 0;bottom: 0;left: 50%;z-index: -1;}#sk-container-id-1 div.sk-parallel-item {display: flex;flex-direction: column;z-index: 1;position: relative;background-color: white;}#sk-container-id-1 div.sk-parallel-item:first-child::after {align-self: flex-end;width: 50%;}#sk-container-id-1 div.sk-parallel-item:last-child::after {align-self: flex-start;width: 50%;}#sk-container-id-1 div.sk-parallel-item:only-child::after {width: 0;}#sk-container-id-1 div.sk-dashed-wrapped {border: 1px dashed gray;margin: 0 0.4em 0.5em 0.4em;box-sizing: border-box;padding-bottom: 0.4em;background-color: white;}#sk-container-id-1 div.sk-label label {font-family: monospace;font-weight: bold;display: inline-block;line-height: 1.2em;}#sk-container-id-1 div.sk-label-container {text-align: center;}#sk-container-id-1 div.sk-container {/* jupyter's `normalize.less` sets `[hidden] { display: none; }` but bootstrap.min.css set `[hidden] { display: none !important; }` so we also need the `!important` here to be able to override the default hidden behavior on the sphinx rendered scikit-learn.org. See: https://github.com/scikit-learn/scikit-learn/issues/21755 */display: inline-block !important;position: relative;}#sk-container-id-1 div.sk-text-repr-fallback {display: none;}</style><div id=\"sk-container-id-1\" class=\"sk-top-container\"><div class=\"sk-text-repr-fallback\"><pre>RandomForestClassifier()</pre><b>In a Jupyter environment, please rerun this cell to show the HTML representation or trust the notebook. <br />On GitHub, the HTML representation is unable to render, please try loading this page with nbviewer.org.</b></div><div class=\"sk-container\" hidden><div class=\"sk-item\"><div class=\"sk-estimator sk-toggleable\"><input class=\"sk-toggleable__control sk-hidden--visually\" id=\"sk-estimator-id-1\" type=\"checkbox\" checked><label for=\"sk-estimator-id-1\" class=\"sk-toggleable__label sk-toggleable__label-arrow\">RandomForestClassifier</label><div class=\"sk-toggleable__content\"><pre>RandomForestClassifier()</pre></div></div></div></div></div>"
      ],
      "text/plain": [
       "RandomForestClassifier()"
      ]
     },
     "execution_count": 6,
     "metadata": {},
     "output_type": "execute_result"
    }
   ],
   "source": [
    "from sklearn.ensemble import RandomForestClassifier\n",
    "\n",
    "rf = RandomForestClassifier()\n",
    "\n",
    "rf.fit(X,y)"
   ]
  },
  {
   "cell_type": "markdown",
   "id": "34fe3ae4-1c6f-4f53-91f2-fb31e5d7e652",
   "metadata": {},
   "source": [
    "##### We have feature_importance_attribute for randomforest , decision trees and also for bagging techniques ,boosting techniques."
   ]
  },
  {
   "cell_type": "code",
   "execution_count": 7,
   "id": "e3b554b4-5009-4020-b0c6-d00901a089a9",
   "metadata": {
    "tags": []
   },
   "outputs": [
    {
     "data": {
      "text/plain": [
       "array([0.00000000e+00, 0.00000000e+00, 0.00000000e+00, 0.00000000e+00,\n",
       "       0.00000000e+00, 0.00000000e+00, 0.00000000e+00, 0.00000000e+00,\n",
       "       0.00000000e+00, 0.00000000e+00, 0.00000000e+00, 0.00000000e+00,\n",
       "       0.00000000e+00, 7.56121560e-07, 0.00000000e+00, 0.00000000e+00,\n",
       "       0.00000000e+00, 0.00000000e+00, 0.00000000e+00, 0.00000000e+00,\n",
       "       0.00000000e+00, 0.00000000e+00, 0.00000000e+00, 0.00000000e+00,\n",
       "       0.00000000e+00, 0.00000000e+00, 0.00000000e+00, 0.00000000e+00,\n",
       "       0.00000000e+00, 0.00000000e+00, 0.00000000e+00, 0.00000000e+00,\n",
       "       0.00000000e+00, 0.00000000e+00, 1.26972306e-06, 1.01992521e-06,\n",
       "       6.49147668e-06, 0.00000000e+00, 2.53847817e-06, 3.82427608e-06,\n",
       "       4.89384400e-07, 1.52172636e-06, 1.93842988e-06, 2.64616699e-07,\n",
       "       3.46608799e-06, 2.49629921e-06, 1.64144447e-06, 9.27999594e-07,\n",
       "       0.00000000e+00, 5.10125825e-07, 1.56544588e-06, 1.05508318e-06,\n",
       "       0.00000000e+00, 0.00000000e+00, 0.00000000e+00, 0.00000000e+00,\n",
       "       0.00000000e+00, 0.00000000e+00, 0.00000000e+00, 0.00000000e+00,\n",
       "       0.00000000e+00, 0.00000000e+00, 1.36881880e-05, 6.34125273e-06,\n",
       "       9.49203687e-06, 4.57394931e-05, 3.72595946e-05, 9.43930608e-05,\n",
       "       6.50696223e-05, 1.44407739e-04, 2.68557327e-04, 2.09416125e-04,\n",
       "       4.98451075e-04, 1.34210005e-04, 4.88898732e-05, 4.95090491e-05,\n",
       "       3.10844495e-05, 1.74100204e-05, 1.17738321e-05, 3.70221234e-06,\n",
       "       2.64650117e-07, 0.00000000e+00, 0.00000000e+00, 0.00000000e+00,\n",
       "       0.00000000e+00, 0.00000000e+00, 0.00000000e+00, 0.00000000e+00,\n",
       "       0.00000000e+00, 2.55325271e-06, 1.81644158e-05, 4.38329813e-05,\n",
       "       5.65400062e-05, 1.24634628e-04, 2.11503719e-04, 4.31358381e-04,\n",
       "       6.17426446e-04, 1.25315259e-03, 1.04527651e-03, 2.75298506e-03,\n",
       "       2.01023046e-03, 1.86121069e-03, 1.39820391e-03, 8.52178980e-04,\n",
       "       3.94835319e-04, 9.14381567e-05, 4.26296528e-05, 3.48845213e-05,\n",
       "       7.17370451e-06, 7.18183234e-06, 0.00000000e+00, 0.00000000e+00,\n",
       "       0.00000000e+00, 0.00000000e+00, 0.00000000e+00, 1.56901439e-06,\n",
       "       5.98989294e-06, 1.09448865e-05, 3.26498565e-05, 7.89678186e-05,\n",
       "       1.55427428e-04, 3.09527335e-04, 7.64425289e-04, 9.55994262e-04,\n",
       "       1.35175147e-03, 2.01567646e-03, 1.49801310e-03, 2.17016468e-03,\n",
       "       1.30033073e-03, 1.25893703e-03, 9.29947978e-04, 4.50632247e-04,\n",
       "       3.79975886e-04, 2.62147407e-04, 1.67784347e-04, 7.55857969e-05,\n",
       "       2.80444897e-05, 1.11836393e-05, 2.75426630e-06, 0.00000000e+00,\n",
       "       0.00000000e+00, 0.00000000e+00, 0.00000000e+00, 4.72730668e-07,\n",
       "       1.89933634e-05, 4.63255137e-05, 1.26299598e-04, 2.45048748e-04,\n",
       "       4.64033925e-04, 1.11723002e-03, 2.32905037e-03, 3.09189772e-03,\n",
       "       3.50147009e-03, 5.28526643e-03, 5.42780136e-03, 7.83554323e-03,\n",
       "       4.09344899e-03, 3.33412851e-03, 2.45597893e-03, 1.45867727e-03,\n",
       "       1.25491566e-03, 6.15822787e-04, 5.08302648e-04, 3.65089912e-04,\n",
       "       1.12835970e-04, 2.47242270e-05, 1.91062634e-06, 0.00000000e+00,\n",
       "       0.00000000e+00, 0.00000000e+00, 2.36964371e-06, 7.60023508e-06,\n",
       "       3.52636050e-05, 1.21187119e-04, 2.33107275e-04, 5.06415580e-04,\n",
       "       7.55934242e-04, 2.05408196e-03, 2.40828568e-03, 2.91096512e-03,\n",
       "       2.95375873e-03, 3.27443397e-03, 4.02621777e-03, 3.68148799e-03,\n",
       "       3.32458258e-03, 2.97264711e-03, 2.34150065e-03, 1.66271853e-03,\n",
       "       1.22972484e-03, 1.36727757e-03, 1.27825110e-03, 8.77749218e-04,\n",
       "       3.63514597e-04, 5.81995478e-05, 1.07344576e-05, 5.70791611e-07,\n",
       "       0.00000000e+00, 9.99042874e-07, 3.64131692e-06, 1.91652146e-05,\n",
       "       5.98101096e-05, 1.56778171e-04, 4.43069191e-04, 8.13910725e-04,\n",
       "       1.20510133e-03, 2.16389471e-03, 1.65522134e-03, 2.16150454e-03,\n",
       "       2.41953173e-03, 3.45018537e-03, 6.40329997e-03, 5.84807824e-03,\n",
       "       4.80320636e-03, 2.43216364e-03, 2.06016946e-03, 2.80143178e-03,\n",
       "       2.14540230e-03, 1.17563923e-03, 1.63950803e-03, 1.43774902e-03,\n",
       "       7.39391662e-04, 1.71686319e-04, 1.65017624e-05, 1.47659698e-06,\n",
       "       0.00000000e+00, 1.70238247e-06, 3.93944264e-06, 2.91256459e-05,\n",
       "       9.21620156e-05, 2.29114270e-04, 4.23353836e-04, 6.57420879e-04,\n",
       "       1.22025788e-03, 1.74428593e-03, 2.18893034e-03, 2.82094910e-03,\n",
       "       3.30790353e-03, 4.67659804e-03, 5.60355476e-03, 5.03422531e-03,\n",
       "       4.84612649e-03, 3.00677775e-03, 3.75029288e-03, 3.24341398e-03,\n",
       "       1.99612791e-03, 1.82354988e-03, 1.02194288e-03, 8.57036479e-04,\n",
       "       6.76507583e-04, 1.95293227e-04, 1.68886446e-05, 1.14673694e-06,\n",
       "       0.00000000e+00, 9.93191677e-07, 6.14769427e-06, 5.11547854e-05,\n",
       "       8.66626688e-05, 3.31280886e-04, 3.50560674e-04, 1.02073122e-03,\n",
       "       1.31846475e-03, 1.93813711e-03, 4.87052610e-03, 4.05346496e-03,\n",
       "       3.34318667e-03, 3.05850022e-03, 3.31839916e-03, 3.71843716e-03,\n",
       "       3.11263277e-03, 3.81673670e-03, 4.12154695e-03, 2.65253738e-03,\n",
       "       2.80447324e-03, 2.03636840e-03, 9.61234924e-04, 6.72142066e-04,\n",
       "       3.21890617e-04, 9.99128166e-05, 1.58070081e-05, 1.50515520e-06,\n",
       "       0.00000000e+00, 9.98190458e-07, 6.75685234e-06, 3.01815396e-05,\n",
       "       1.22552523e-04, 2.06723898e-04, 4.67831274e-04, 7.44786364e-04,\n",
       "       1.93721617e-03, 2.99436827e-03, 7.72657779e-03, 4.72529964e-03,\n",
       "       3.20787954e-03, 2.91503320e-03, 2.94295862e-03, 3.89311297e-03,\n",
       "       3.26966982e-03, 3.52887391e-03, 3.75752771e-03, 3.28761080e-03,\n",
       "       2.90239205e-03, 1.63972080e-03, 8.79534860e-04, 3.99292217e-04,\n",
       "       2.34360373e-04, 7.59973679e-05, 2.08627363e-05, 2.33229139e-06,\n",
       "       0.00000000e+00, 1.00096529e-06, 7.77522798e-06, 4.32885186e-05,\n",
       "       1.66417770e-04, 3.19083622e-04, 6.66073952e-04, 1.35229991e-03,\n",
       "       2.26691189e-03, 3.27024240e-03, 5.79181830e-03, 5.16294074e-03,\n",
       "       3.27985853e-03, 3.17973863e-03, 4.08963130e-03, 5.38311165e-03,\n",
       "       3.52819642e-03, 2.82654815e-03, 4.66532401e-03, 2.85321550e-03,\n",
       "       2.27841245e-03, 2.33711460e-03, 1.12301030e-03, 4.91556997e-04,\n",
       "       1.44016387e-04, 2.98436908e-05, 8.86215115e-06, 1.56633786e-06,\n",
       "       0.00000000e+00, 1.15264014e-06, 3.21150689e-06, 2.46447579e-05,\n",
       "       9.04165543e-05, 3.27112002e-04, 6.91603541e-04, 1.85998605e-03,\n",
       "       3.08785169e-03, 3.01619265e-03, 7.23355978e-03, 4.79951546e-03,\n",
       "       4.17863469e-03, 4.63107052e-03, 8.39502414e-03, 4.68262656e-03,\n",
       "       3.06652806e-03, 3.66074240e-03, 2.96343460e-03, 2.21966139e-03,\n",
       "       1.72500771e-03, 1.56199831e-03, 1.86853199e-03, 6.15216983e-04,\n",
       "       1.42312474e-04, 2.98532039e-05, 7.20066869e-06, 4.88550482e-07,\n",
       "       0.00000000e+00, 0.00000000e+00, 6.14547153e-06, 1.82164057e-05,\n",
       "       6.31385875e-05, 4.48201959e-04, 8.96560209e-04, 1.76457699e-03,\n",
       "       2.62510841e-03, 5.11446674e-03, 4.06384438e-03, 7.03842017e-03,\n",
       "       5.06505121e-03, 7.90023317e-03, 1.17622290e-02, 3.52188368e-03,\n",
       "       4.24199088e-03, 5.24887259e-03, 4.87534797e-03, 1.17573125e-03,\n",
       "       1.14612144e-03, 2.16386852e-03, 4.10208980e-03, 6.81880605e-04,\n",
       "       2.12216976e-04, 3.31327984e-05, 1.47074987e-05, 0.00000000e+00,\n",
       "       0.00000000e+00, 0.00000000e+00, 2.04188137e-06, 1.06717951e-05,\n",
       "       1.05754277e-04, 5.20054224e-04, 9.42749441e-04, 2.94279335e-03,\n",
       "       3.79348876e-03, 4.68680900e-03, 4.93611547e-03, 3.77479452e-03,\n",
       "       5.31682905e-03, 5.46625910e-03, 6.01592367e-03, 3.42714128e-03,\n",
       "       6.44088229e-03, 8.33630871e-03, 2.83874075e-03, 1.50866845e-03,\n",
       "       1.26796664e-03, 2.10938190e-03, 1.20149242e-03, 1.03670391e-03,\n",
       "       1.58523850e-04, 3.53703484e-05, 8.63521432e-06, 1.76288360e-06,\n",
       "       0.00000000e+00, 0.00000000e+00, 2.53866355e-06, 1.86448759e-05,\n",
       "       7.25036435e-05, 4.17109225e-04, 9.04766121e-04, 3.19852126e-03,\n",
       "       3.76864775e-03, 5.81006561e-03, 5.07432296e-03, 3.94676584e-03,\n",
       "       5.88460576e-03, 8.74677173e-03, 5.62021548e-03, 4.97822497e-03,\n",
       "       3.74565914e-03, 4.75803500e-03, 3.30452436e-03, 1.98643711e-03,\n",
       "       2.29132670e-03, 1.46156344e-03, 1.20380124e-03, 5.00473626e-04,\n",
       "       1.27528474e-04, 3.39075199e-05, 6.56768249e-06, 2.97629650e-06,\n",
       "       0.00000000e+00, 0.00000000e+00, 1.06606752e-05, 2.59740056e-05,\n",
       "       7.70847249e-05, 5.85793957e-04, 1.25652301e-03, 2.75385219e-03,\n",
       "       3.26894035e-03, 4.46775116e-03, 4.95928419e-03, 5.05666879e-03,\n",
       "       6.27936448e-03, 6.80522596e-03, 4.07617725e-03, 3.12101151e-03,\n",
       "       2.52354787e-03, 3.56984334e-03, 3.63594980e-03, 1.85105818e-03,\n",
       "       1.42952610e-03, 1.29637987e-03, 7.87544456e-04, 4.82919832e-04,\n",
       "       1.60199912e-04, 6.05539503e-05, 1.16306611e-05, 1.56905429e-06,\n",
       "       0.00000000e+00, 0.00000000e+00, 4.51268070e-06, 3.83467172e-05,\n",
       "       1.11222134e-04, 4.91627495e-04, 1.34524743e-03, 3.59682033e-03,\n",
       "       3.24604702e-03, 3.61479129e-03, 5.47749293e-03, 6.76808648e-03,\n",
       "       5.85902497e-03, 6.31153087e-03, 3.70701544e-03, 2.63684944e-03,\n",
       "       2.12991841e-03, 1.82659025e-03, 3.30987637e-03, 2.02646033e-03,\n",
       "       1.68530103e-03, 1.15303796e-03, 5.09822878e-04, 3.76794541e-04,\n",
       "       2.18093442e-04, 3.07725341e-05, 1.34750357e-05, 3.36470443e-06,\n",
       "       0.00000000e+00, 1.00229098e-06, 4.21294982e-06, 5.02620742e-05,\n",
       "       1.40918452e-04, 6.86035958e-04, 1.04381364e-03, 2.07666558e-03,\n",
       "       2.93065534e-03, 2.93119824e-03, 5.97174941e-03, 5.43854544e-03,\n",
       "       3.96206189e-03, 5.25179936e-03, 2.80060731e-03, 1.80020967e-03,\n",
       "       1.45626994e-03, 2.39382680e-03, 2.59106261e-03, 2.25285512e-03,\n",
       "       1.69370910e-03, 7.36615700e-04, 6.56731241e-04, 3.23550908e-04,\n",
       "       1.90909557e-04, 4.75881960e-05, 6.63502630e-06, 8.23466257e-07,\n",
       "       0.00000000e+00, 0.00000000e+00, 1.22880538e-05, 8.42868008e-05,\n",
       "       2.10757498e-04, 5.80283312e-04, 1.33791802e-03, 2.90602839e-03,\n",
       "       3.05878836e-03, 5.91572388e-03, 6.83305177e-03, 4.93890695e-03,\n",
       "       3.78601355e-03, 2.36640413e-03, 2.24953353e-03, 1.36664186e-03,\n",
       "       1.32166537e-03, 2.25217573e-03, 3.00101114e-03, 3.15832266e-03,\n",
       "       1.62569432e-03, 1.21085617e-03, 7.09119600e-04, 3.42305643e-04,\n",
       "       1.61364720e-04, 3.89587991e-05, 4.74483281e-06, 0.00000000e+00,\n",
       "       0.00000000e+00, 0.00000000e+00, 1.21583783e-05, 1.12061797e-04,\n",
       "       1.62877129e-04, 4.58458682e-04, 1.73532751e-03, 3.38692491e-03,\n",
       "       4.56909255e-03, 4.59629601e-03, 4.92073956e-03, 3.91167027e-03,\n",
       "       2.35767479e-03, 2.29909738e-03, 1.89291268e-03, 1.99070084e-03,\n",
       "       1.53531684e-03, 1.84079150e-03, 3.69402277e-03, 1.56984480e-03,\n",
       "       1.17207525e-03, 1.04405664e-03, 5.90111733e-04, 2.56611229e-04,\n",
       "       1.20706779e-04, 1.66509718e-05, 3.99273827e-06, 0.00000000e+00,\n",
       "       0.00000000e+00, 0.00000000e+00, 1.43039458e-06, 6.35952286e-05,\n",
       "       2.18811478e-04, 3.07990936e-04, 1.11526476e-03, 3.75027875e-03,\n",
       "       4.38416921e-03, 5.47971031e-03, 1.67736488e-03, 2.05977279e-03,\n",
       "       1.81727806e-03, 1.51050391e-03, 1.13996200e-03, 1.25887040e-03,\n",
       "       1.30789285e-03, 1.46765002e-03, 9.39923249e-04, 1.56488492e-03,\n",
       "       6.89428954e-04, 5.18800953e-04, 3.02859846e-04, 1.33659467e-04,\n",
       "       6.30849971e-05, 9.43341468e-06, 4.50338427e-06, 0.00000000e+00,\n",
       "       0.00000000e+00, 0.00000000e+00, 2.26380091e-06, 2.72689425e-05,\n",
       "       1.34099361e-04, 3.13804235e-04, 7.30170092e-04, 1.51561425e-03,\n",
       "       2.51420635e-03, 3.12531977e-03, 2.80851992e-03, 1.87445131e-03,\n",
       "       1.79480166e-03, 1.64808955e-03, 1.68994685e-03, 1.59191913e-03,\n",
       "       1.17199948e-03, 9.43734013e-04, 9.90351311e-04, 8.01032660e-04,\n",
       "       3.98867479e-04, 2.68869903e-04, 1.72803397e-04, 4.78842046e-05,\n",
       "       2.80618449e-05, 5.88283609e-06, 5.13782773e-07, 0.00000000e+00,\n",
       "       0.00000000e+00, 0.00000000e+00, 0.00000000e+00, 1.75302470e-05,\n",
       "       6.38658931e-05, 1.57895120e-04, 2.96062924e-04, 1.01614661e-03,\n",
       "       1.84412440e-03, 2.72300708e-03, 3.68612803e-03, 3.94997700e-03,\n",
       "       4.68060219e-03, 4.21403029e-03, 4.13589050e-03, 2.34437217e-03,\n",
       "       1.97103642e-03, 1.44202859e-03, 6.16409109e-04, 3.58054750e-04,\n",
       "       2.53406051e-04, 1.27021821e-04, 7.18928441e-05, 2.68030644e-05,\n",
       "       1.53722480e-05, 3.09290456e-06, 0.00000000e+00, 0.00000000e+00,\n",
       "       0.00000000e+00, 0.00000000e+00, 1.01568997e-06, 8.49828714e-06,\n",
       "       4.64815571e-05, 8.25611171e-05, 2.16060294e-04, 3.98942644e-04,\n",
       "       5.44044909e-04, 6.65931167e-04, 1.16856435e-03, 1.31977964e-03,\n",
       "       1.20385448e-03, 1.22201436e-03, 1.28309034e-03, 7.54918326e-04,\n",
       "       5.01441840e-04, 5.01958401e-04, 3.20510898e-04, 2.32549844e-04,\n",
       "       1.75569553e-04, 8.20333654e-05, 3.34180837e-05, 1.69371513e-05,\n",
       "       8.68615271e-06, 2.06032743e-06, 1.01036227e-06, 0.00000000e+00,\n",
       "       0.00000000e+00, 0.00000000e+00, 0.00000000e+00, 2.39750194e-06,\n",
       "       2.37943995e-05, 5.98882340e-05, 1.02126500e-04, 3.31725954e-04,\n",
       "       5.17305336e-04, 6.05890471e-04, 9.04600394e-04, 1.04250661e-03,\n",
       "       1.24756931e-03, 6.92515921e-04, 5.60714573e-04, 3.58408519e-04,\n",
       "       3.82165844e-04, 6.81864345e-04, 3.57719608e-04, 1.59950966e-04,\n",
       "       8.88295645e-05, 5.87154295e-05, 4.37357500e-05, 7.02201411e-06,\n",
       "       2.89884299e-06, 1.83472621e-06, 9.11943550e-07, 0.00000000e+00,\n",
       "       0.00000000e+00, 0.00000000e+00, 0.00000000e+00, 0.00000000e+00,\n",
       "       6.15888456e-06, 1.45236033e-05, 2.32064644e-05, 2.89435652e-05,\n",
       "       2.96273558e-05, 1.43273485e-04, 8.98628285e-05, 2.38850071e-04,\n",
       "       3.53852813e-04, 2.27548687e-04, 2.33512246e-04, 3.41156194e-04,\n",
       "       1.78894746e-04, 1.00253251e-04, 5.20962012e-05, 5.74288377e-05,\n",
       "       2.77613882e-05, 9.66494565e-06, 7.46355976e-06, 1.33082352e-06,\n",
       "       0.00000000e+00, 0.00000000e+00, 0.00000000e+00, 0.00000000e+00,\n",
       "       0.00000000e+00, 0.00000000e+00, 0.00000000e+00, 0.00000000e+00,\n",
       "       0.00000000e+00, 0.00000000e+00, 4.70503284e-07, 0.00000000e+00,\n",
       "       1.18484830e-06, 2.41839124e-06, 1.01153140e-06, 3.27439675e-06,\n",
       "       2.97422269e-06, 1.77784348e-06, 4.97210791e-06, 4.27233022e-06,\n",
       "       3.48349898e-06, 2.04755211e-06, 2.49433909e-06, 1.55759752e-06,\n",
       "       1.56532595e-06, 3.52861123e-07, 8.82139823e-07, 0.00000000e+00,\n",
       "       0.00000000e+00, 0.00000000e+00, 0.00000000e+00, 0.00000000e+00])"
      ]
     },
     "execution_count": 7,
     "metadata": {},
     "output_type": "execute_result"
    }
   ],
   "source": [
    "rf.feature_importances_"
   ]
  },
  {
   "cell_type": "code",
   "execution_count": 8,
   "id": "fabae56b-3c00-4acb-b1ac-7cc92d699c15",
   "metadata": {
    "tags": []
   },
   "outputs": [
    {
     "data": {
      "text/plain": [
       "(784,)"
      ]
     },
     "execution_count": 8,
     "metadata": {},
     "output_type": "execute_result"
    }
   ],
   "source": [
    "rf.feature_importances_.shape"
   ]
  },
  {
   "cell_type": "markdown",
   "id": "2b3a3964-fa7e-465d-8638-e160ff5c04b7",
   "metadata": {},
   "source": [
    "##### To check which pixels are contributing towards prediction most."
   ]
  },
  {
   "cell_type": "code",
   "execution_count": 9,
   "id": "e3f43a76-a007-4a5b-8ec0-7c91b985778c",
   "metadata": {
    "tags": []
   },
   "outputs": [
    {
     "data": {
      "text/plain": [
       "<Axes: >"
      ]
     },
     "execution_count": 9,
     "metadata": {},
     "output_type": "execute_result"
    },
    {
     "data": {
      "image/png": "[encoded data removed]",
      "text/plain": [
       "<Figure size 640x480 with 2 Axes>"
      ]
     },
     "metadata": {},
     "output_type": "display_data"
    }
   ],
   "source": [
    "sns.heatmap(rf.feature_importances_.reshape(28,28))"
   ]
  },
  {
   "cell_type": "code",
   "execution_count": null,
   "id": "2918d1d3-e612-4796-961d-5bd1b22d5bed",
   "metadata": {},
   "outputs": [],
   "source": []
  }
 ],
 "metadata": {
  "kernelspec": {
   "display_name": "Python 3 (ipykernel)",
   "language": "python",
   "name": "python3"
  },
  "language_info": {
   "codemirror_mode": {
    "name": "ipython",
    "version": 3
   },
   "file_extension": ".py",
   "mimetype": "text/x-python",
   "name": "python",
   "nbconvert_exporter": "python",
   "pygments_lexer": "ipython3",
   "version": "3.11.5"
  }
 },
 "nbformat": 4,
 "nbformat_minor": 5
}
