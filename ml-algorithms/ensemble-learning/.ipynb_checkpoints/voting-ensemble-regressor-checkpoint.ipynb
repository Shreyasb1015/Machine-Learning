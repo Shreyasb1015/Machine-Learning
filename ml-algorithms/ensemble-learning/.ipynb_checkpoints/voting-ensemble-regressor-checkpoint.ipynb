{
 "cells": [
  {
   "cell_type": "code",
   "execution_count": 2,
   "id": "ceee2b46-f11e-4db2-a732-cf18c222c183",
   "metadata": {
    "tags": []
   },
   "outputs": [],
   "source": [
    "import pandas as pd\n",
    "import numpy as np"
   ]
  },
  {
   "cell_type": "code",
   "execution_count": 3,
   "id": "292a4fdf-d4bc-4b5a-9c7e-60773ad08ef6",
   "metadata": {
    "tags": []
   },
   "outputs": [],
   "source": [
    "\n",
    "\n",
    "    data_url = \"http://lib.stat.cmu.edu/datasets/boston\"\n",
    "    raw_df = pd.read_csv(data_url, sep=\"\\s+\", skiprows=22, header=None)\n",
    "    data = np.hstack([raw_df.values[::2, :], raw_df.values[1::2, :2]])\n",
    "    target = raw_df.values[1::2, 2]"
   ]
  },
  {
   "cell_type": "code",
   "execution_count": 5,
   "id": "415db89f-d098-4f03-b1a1-6b15773120fd",
   "metadata": {
    "tags": []
   },
   "outputs": [
    {
     "data": {
      "text/plain": [
       "(506, 13)"
      ]
     },
     "execution_count": 5,
     "metadata": {},
     "output_type": "execute_result"
    }
   ],
   "source": [
    "data.shape"
   ]
  },
  {
   "cell_type": "code",
   "execution_count": 6,
   "id": "a67e232b-e88e-4d24-8b4b-e8229f5e7c38",
   "metadata": {
    "tags": []
   },
   "outputs": [
    {
     "data": {
      "text/plain": [
       "(506,)"
      ]
     },
     "execution_count": 6,
     "metadata": {},
     "output_type": "execute_result"
    }
   ],
   "source": [
    "target.shape"
   ]
  },
  {
   "cell_type": "code",
   "execution_count": 7,
   "id": "420ae696-3d38-4388-883d-0acb37aa4a8d",
   "metadata": {
    "tags": []
   },
   "outputs": [],
   "source": [
    "from sklearn.linear_model import LinearRegression\n",
    "from sklearn.tree import DecisionTreeRegressor\n",
    "from sklearn.svm import SVR\n",
    "from sklearn.model_selection import cross_val_score\n",
    "     "
   ]
  },
  {
   "cell_type": "code",
   "execution_count": 8,
   "id": "6363638c-a24c-454a-bc77-9206ebe87207",
   "metadata": {
    "tags": []
   },
   "outputs": [],
   "source": [
    "lr=LinearRegression()\n",
    "dt = DecisionTreeRegressor()\n",
    "svr = SVR()"
   ]
  },
  {
   "cell_type": "code",
   "execution_count": 9,
   "id": "b24dbcfb-899c-483f-ac4f-92415ca15851",
   "metadata": {
    "tags": []
   },
   "outputs": [],
   "source": [
    "estimators = [('lr',lr),('dt',dt),('svr',svr)]"
   ]
  },
  {
   "cell_type": "code",
   "execution_count": 13,
   "id": "299cb7d4-d18d-4293-82a2-c09862510053",
   "metadata": {
    "tags": []
   },
   "outputs": [
    {
     "name": "stdout",
     "output_type": "stream",
     "text": [
      "lr 0.2\n",
      "dt -0.4\n",
      "svr -0.41\n"
     ]
    }
   ],
   "source": [
    "for estimator in estimators:\n",
    "    scores = cross_val_score(estimator[1],data,target,scoring='r2',cv=10)\n",
    "    print(estimator[0],np.round(np.mean(scores),2))"
   ]
  },
  {
   "cell_type": "code",
   "execution_count": 14,
   "id": "10ac2623-7929-4560-82a7-58f2ca1f72ac",
   "metadata": {
    "tags": []
   },
   "outputs": [],
   "source": [
    "from sklearn.ensemble import VotingRegressor"
   ]
  },
  {
   "cell_type": "code",
   "execution_count": 16,
   "id": "43792f0d-c863-4009-a7aa-2e7fb7d1a2ac",
   "metadata": {
    "tags": []
   },
   "outputs": [
    {
     "name": "stdout",
     "output_type": "stream",
     "text": [
      "Voting Regressor 0.45\n"
     ]
    }
   ],
   "source": [
    "vr = VotingRegressor(estimators)\n",
    "scores = cross_val_score(vr,data,target,scoring='r2',cv=10)\n",
    "print(\"Voting Regressor\",np.round(np.mean(scores),2))"
   ]
  },
  {
   "cell_type": "markdown",
   "id": "16f05719-bc18-497a-93c1-21b0d467f98a",
   "metadata": {},
   "source": [
    "##### As we can see that , our result has improved immensly."
   ]
  },
  {
   "cell_type": "markdown",
   "id": "bdbcbf4b-bf51-47b3-a320-1c2c24d9467e",
   "metadata": {},
   "source": [
    "### Weighted Regression"
   ]
  },
  {
   "cell_type": "code",
   "execution_count": 18,
   "id": "fc102b95-fa39-491b-9f3e-153ffb770ce2",
   "metadata": {
    "tags": []
   },
   "outputs": [
    {
     "name": "stdout",
     "output_type": "stream",
     "text": [
      "For i=1,j=1,k=1 0.4\n",
      "For i=1,j=1,k=2 0.36\n",
      "For i=1,j=1,k=3 0.25\n",
      "For i=1,j=2,k=1 0.42\n",
      "For i=1,j=2,k=2 0.38\n",
      "For i=1,j=2,k=3 0.36\n",
      "For i=1,j=3,k=1 0.34\n",
      "For i=1,j=3,k=2 0.38\n",
      "For i=1,j=3,k=3 0.37\n",
      "For i=2,j=1,k=1 0.45\n",
      "For i=2,j=1,k=2 0.41\n",
      "For i=2,j=1,k=3 0.35\n",
      "For i=2,j=2,k=1 0.39\n",
      "For i=2,j=2,k=2 0.44\n",
      "For i=2,j=2,k=3 0.41\n",
      "For i=2,j=3,k=1 0.41\n",
      "For i=2,j=3,k=2 0.42\n",
      "For i=2,j=3,k=3 0.4\n",
      "For i=3,j=1,k=1 0.44\n",
      "For i=3,j=1,k=2 0.43\n",
      "For i=3,j=1,k=3 0.4\n",
      "For i=3,j=2,k=1 0.46\n",
      "For i=3,j=2,k=2 0.45\n",
      "For i=3,j=2,k=3 0.39\n",
      "For i=3,j=3,k=1 0.41\n",
      "For i=3,j=3,k=2 0.46\n",
      "For i=3,j=3,k=3 0.45\n"
     ]
    }
   ],
   "source": [
    "for i in range(1,4):\n",
    "    for j in range(1,4):\n",
    "        for k in range(1,4):\n",
    "            vr = VotingRegressor(estimators,weights=[i,j,k])\n",
    "            scores = cross_val_score(vr,data,target,scoring='r2',cv=10)\n",
    "            print(\"For i={},j={},k={}\".format(i,j,k),np.round(np.mean(scores),2))\n"
   ]
  },
  {
   "cell_type": "markdown",
   "id": "c39df355-336e-4a82-985e-7dbeb9293f18",
   "metadata": {},
   "source": [
    "### Using Same algoritm but with different hyperparameters"
   ]
  },
  {
   "cell_type": "code",
   "execution_count": 19,
   "id": "bbe1e91e-5549-401a-8b98-3ada73fd21f2",
   "metadata": {
    "tags": []
   },
   "outputs": [],
   "source": [
    "dt1 = DecisionTreeRegressor(max_depth=1)\n",
    "dt2 = DecisionTreeRegressor(max_depth=3)\n",
    "dt3 = DecisionTreeRegressor(max_depth=5)\n",
    "dt4 = DecisionTreeRegressor(max_depth=7)\n",
    "dt5 = DecisionTreeRegressor(max_depth=None)"
   ]
  },
  {
   "cell_type": "code",
   "execution_count": 20,
   "id": "186b1a8b-5e61-43c8-bafa-4820fe7d0cda",
   "metadata": {
    "tags": []
   },
   "outputs": [],
   "source": [
    "estimators = [('dt1',dt1),('dt2',dt2),('dt3',dt3),('dt4',dt4),('dt5',dt5)]"
   ]
  },
  {
   "cell_type": "code",
   "execution_count": 21,
   "id": "584396d8-e8e0-4596-8a87-6a008d6bbcc7",
   "metadata": {
    "tags": []
   },
   "outputs": [
    {
     "name": "stdout",
     "output_type": "stream",
     "text": [
      "dt1 -0.85\n",
      "dt2 -0.11\n",
      "dt3 -0.14\n",
      "dt4 -0.2\n",
      "dt5 -0.14\n"
     ]
    }
   ],
   "source": [
    "\n",
    "for estimator in estimators:\n",
    "    scores = cross_val_score(estimator[1],data,target,scoring='r2',cv=10)\n",
    "    print(estimator[0],np.round(np.mean(scores),2))"
   ]
  },
  {
   "cell_type": "code",
   "execution_count": 22,
   "id": "942c7e08-0dcf-4f4a-9d38-27529dac85b6",
   "metadata": {
    "tags": []
   },
   "outputs": [
    {
     "name": "stdout",
     "output_type": "stream",
     "text": [
      "Voting Regressor 0.18\n"
     ]
    }
   ],
   "source": [
    "vr = VotingRegressor(estimators)\n",
    "scores = cross_val_score(vr,data,target,scoring='r2',cv=10)\n",
    "print(\"Voting Regressor\",np.round(np.mean(scores),2))"
   ]
  },
  {
   "cell_type": "code",
   "execution_count": null,
   "id": "7ab2e6c5-fda5-4e23-93bd-98c1380b5663",
   "metadata": {},
   "outputs": [],
   "source": []
  }
 ],
 "metadata": {
  "kernelspec": {
   "display_name": "Python 3 (ipykernel)",
   "language": "python",
   "name": "python3"
  },
  "language_info": {
   "codemirror_mode": {
    "name": "ipython",
    "version": 3
   },
   "file_extension": ".py",
   "mimetype": "text/x-python",
   "name": "python",
   "nbconvert_exporter": "python",
   "pygments_lexer": "ipython3",
   "version": "3.11.5"
  }
 },
 "nbformat": 4,
 "nbformat_minor": 5
}
