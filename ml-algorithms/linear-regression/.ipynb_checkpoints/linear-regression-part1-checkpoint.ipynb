{
 "cells": [
  {
   "cell_type": "markdown",
   "id": "e4d3a3c9-5092-42bc-8837-fb009074d84f",
   "metadata": {},
   "source": [
    "##### Linear Regression algorithm is of 4 types :- 1)Simple linear regression    2)Multiple Linear Regression     3)Polynomial Linear Regression   4)Regularization"
   ]
  },
  {
   "cell_type": "code",
   "execution_count": null,
   "id": "cced57d7-d9c1-4ce0-a01c-f877cbeeb741",
   "metadata": {},
   "outputs": [],
   "source": []
  }
 ],
 "metadata": {
  "kernelspec": {
   "display_name": "Python 3 (ipykernel)",
   "language": "python",
   "name": "python3"
  },
  "language_info": {
   "codemirror_mode": {
    "name": "ipython",
    "version": 3
   },
   "file_extension": ".py",
   "mimetype": "text/x-python",
   "name": "python",
   "nbconvert_exporter": "python",
   "pygments_lexer": "ipython3",
   "version": "3.11.5"
  }
 },
 "nbformat": 4,
 "nbformat_minor": 5
}
