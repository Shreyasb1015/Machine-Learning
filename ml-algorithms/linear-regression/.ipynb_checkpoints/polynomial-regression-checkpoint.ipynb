{
 "cells": [
  {
   "cell_type": "markdown",
   "id": "93e39122-6436-4e8d-b9ac-dd538cd49d15",
   "metadata": {},
   "source": [
    "##### Polynomial regression is used when data is not linear.Here we create cols upto specific order and forms polynomial eqn.It is called as polynomial regression coz the reln between y and betas is still linear."
   ]
  },
  {
   "cell_type": "code",
   "execution_count": null,
   "id": "d89bf645-4dbb-4a76-aeae-8ed18cc3ef9e",
   "metadata": {
    "tags": []
   },
   "outputs": [],
   "source": [
    "import numpy as np\n",
    "import matplotlib.pyplot as plt\n",
    "\n",
    "from sklearn.model_selection import train_test_split\n",
    "\n",
    "from sklearn.linear_model import LinearRegression,SGDRegressor\n",
    "\n",
    "from sklearn.preprocessing import PolynomialFeatures,StandardScaler\n",
    "\n",
    "from sklearn.metrics import r2_score\n",
    "\n",
    "from sklearn.pipeline import Pipeline"
   ]
  },
  {
   "cell_type": "code",
   "execution_count": null,
   "id": "75f0a2cc-a9c8-4b21-bbfc-49ce68cc8cac",
   "metadata": {},
   "outputs": [],
   "source": []
  }
 ],
 "metadata": {
  "kernelspec": {
   "display_name": "Python 3 (ipykernel)",
   "language": "python",
   "name": "python3"
  },
  "language_info": {
   "codemirror_mode": {
    "name": "ipython",
    "version": 3
   },
   "file_extension": ".py",
   "mimetype": "text/x-python",
   "name": "python",
   "nbconvert_exporter": "python",
   "pygments_lexer": "ipython3",
   "version": "3.11.5"
  }
 },
 "nbformat": 4,
 "nbformat_minor": 5
}
