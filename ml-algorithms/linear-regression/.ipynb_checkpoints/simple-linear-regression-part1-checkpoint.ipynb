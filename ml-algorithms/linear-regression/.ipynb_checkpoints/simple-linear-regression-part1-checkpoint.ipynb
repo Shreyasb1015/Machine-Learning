{
 "cells": [
  {
   "cell_type": "markdown",
   "id": "e4d3a3c9-5092-42bc-8837-fb009074d84f",
   "metadata": {},
   "source": [
    "##### Linear Regression algorithm is of 4 types :- 1)Simple linear regression    2)Multiple Linear Regression     3)Polynomial Linear Regression   4)Regularization"
   ]
  },
  {
   "cell_type": "markdown",
   "id": "83f06332-2531-4b64-bc87-f95db4ad3f51",
   "metadata": {},
   "source": [
    "##### In simple linear regression , we have single input column and single output column,whereas we have multiple input column in multiple linear regression.If our data is not linear,then mostly polynomial regression is used."
   ]
  },
  {
   "cell_type": "code",
   "execution_count": null,
   "id": "8d3897e1-773c-42f6-a58d-2217a4366ee4",
   "metadata": {},
   "outputs": [],
   "source": []
  }
 ],
 "metadata": {
  "kernelspec": {
   "display_name": "Python 3 (ipykernel)",
   "language": "python",
   "name": "python3"
  },
  "language_info": {
   "codemirror_mode": {
    "name": "ipython",
    "version": 3
   },
   "file_extension": ".py",
   "mimetype": "text/x-python",
   "name": "python",
   "nbconvert_exporter": "python",
   "pygments_lexer": "ipython3",
   "version": "3.11.5"
  }
 },
 "nbformat": 4,
 "nbformat_minor": 5
}
