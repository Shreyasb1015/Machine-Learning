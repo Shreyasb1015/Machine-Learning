{
 "cells": [
  {
   "cell_type": "markdown",
   "id": "b5281a5c-d484-4d50-8b86-173ce36c81c3",
   "metadata": {},
   "source": [
    "##### We apply this type of transformations to get normally distributed data.Usually linear algo like linear regression or logisitic regression needs normally distributed data."
   ]
  },
  {
   "cell_type": "code",
   "execution_count": null,
   "id": "99544a2f-6c88-48d7-81f7-2a2b266fc93b",
   "metadata": {},
   "outputs": [],
   "source": []
  }
 ],
 "metadata": {
  "kernelspec": {
   "display_name": "Python 3 (ipykernel)",
   "language": "python",
   "name": "python3"
  },
  "language_info": {
   "codemirror_mode": {
    "name": "ipython",
    "version": 3
   },
   "file_extension": ".py",
   "mimetype": "text/x-python",
   "name": "python",
   "nbconvert_exporter": "python",
   "pygments_lexer": "ipython3",
   "version": "3.11.5"
  }
 },
 "nbformat": 4,
 "nbformat_minor": 5
}
