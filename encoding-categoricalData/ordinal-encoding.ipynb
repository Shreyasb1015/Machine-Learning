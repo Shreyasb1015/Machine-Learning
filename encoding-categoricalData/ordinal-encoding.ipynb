{
 "cells": [
  {
   "cell_type": "markdown",
   "id": "4cbaa441-7235-4512-8df3-e15d7238b689",
   "metadata": {},
   "source": [
    "##### Categorical data can be divided into two types i.e ordinal data and nominal data.In nominal data,categories dont have any specific order or relation amongst themselves.For e.g names of States.In ordinal data,categories have specific order or relation amongst themselves.For e.g marks in highschool are categorized by distinction,first class ,second class ,etc."
   ]
  },
  {
   "cell_type": "code",
   "execution_count": null,
   "id": "e97a9179-ac26-49f0-8a4a-a885ae838199",
   "metadata": {},
   "outputs": [],
   "source": []
  }
 ],
 "metadata": {
  "kernelspec": {
   "display_name": "Python 3 (ipykernel)",
   "language": "python",
   "name": "python3"
  },
  "language_info": {
   "codemirror_mode": {
    "name": "ipython",
    "version": 3
   },
   "file_extension": ".py",
   "mimetype": "text/x-python",
   "name": "python",
   "nbconvert_exporter": "python",
   "pygments_lexer": "ipython3",
   "version": "3.11.5"
  }
 },
 "nbformat": 4,
 "nbformat_minor": 5
}
