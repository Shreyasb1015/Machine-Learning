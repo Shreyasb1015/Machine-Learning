{
 "cells": [
  {
   "cell_type": "markdown",
   "id": "4cbaa441-7235-4512-8df3-e15d7238b689",
   "metadata": {},
   "source": [
    "##### Categorical data can be divided into two types i.e ordinal data and nominal data.In nominal data,categories dont have any specific order or relation amongst themselves.For e.g names of States.In ordinal data,categories have specific order or relation amongst themselves.For e.g marks in highschool are categorized by distinction,first class ,second class ,etc."
   ]
  },
  {
   "cell_type": "markdown",
   "id": "0e70df15-fec5-4fa8-9988-ab967e70f4b7",
   "metadata": {},
   "source": [
    "##### Usually ,categorical data is in the form of strings and machine learning algo expects numbers .So ,we need to encode this categorical data into numbers.There are many techniques for it ,bt 2 of the most popular are ordinal encoding and one hot encoding."
   ]
  },
  {
   "cell_type": "markdown",
   "id": "80aef8c0-f38e-4ee2-a9f2-ec3ad777fa23",
   "metadata": {},
   "source": [
    "##### Ordinal encoding only works on ordinal data ,whereas one hot encoding works only on nominal encoding."
   ]
  },
  {
   "cell_type": "markdown",
   "id": "0b030c98-3f53-49f7-bbd6-35bb23b326b2",
   "metadata": {},
   "source": [
    "##### Label encoding is also similar to ordinal encoding,but it is used when our output data is in the form of categorical data."
   ]
  },
  {
   "cell_type": "markdown",
   "id": "1e085c35-16ac-43d8-a875-50442c0f805a",
   "metadata": {},
   "source": [
    "##### In ordinal encoding, the order of categorical data is given by us.The one which as has highest order is given biggest number and for lower order ,smaller no is given."
   ]
  },
  {
   "cell_type": "code",
   "execution_count": null,
   "id": "e3a2ec36-4e21-41e1-9e4f-ddb361ff74a0",
   "metadata": {},
   "outputs": [],
   "source": []
  }
 ],
 "metadata": {
  "kernelspec": {
   "display_name": "Python 3 (ipykernel)",
   "language": "python",
   "name": "python3"
  },
  "language_info": {
   "codemirror_mode": {
    "name": "ipython",
    "version": 3
   },
   "file_extension": ".py",
   "mimetype": "text/x-python",
   "name": "python",
   "nbconvert_exporter": "python",
   "pygments_lexer": "ipython3",
   "version": "3.11.5"
  }
 },
 "nbformat": 4,
 "nbformat_minor": 5
}
