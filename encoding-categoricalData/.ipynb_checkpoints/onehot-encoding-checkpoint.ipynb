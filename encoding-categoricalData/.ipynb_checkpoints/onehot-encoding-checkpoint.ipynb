{
 "cells": [
  {
   "cell_type": "markdown",
   "id": "e4bfc517-51c4-4897-9c97-417d736dcdd6",
   "metadata": {},
   "source": [
    "##### In one hot encoding ,we divide the  categorical column into table in which we have each category as column. "
   ]
  },
  {
   "cell_type": "code",
   "execution_count": null,
   "id": "e4c031fc-cffd-40a7-bdfa-aa925e861532",
   "metadata": {},
   "outputs": [],
   "source": []
  }
 ],
 "metadata": {
  "kernelspec": {
   "display_name": "Python 3 (ipykernel)",
   "language": "python",
   "name": "python3"
  },
  "language_info": {
   "codemirror_mode": {
    "name": "ipython",
    "version": 3
   },
   "file_extension": ".py",
   "mimetype": "text/x-python",
   "name": "python",
   "nbconvert_exporter": "python",
   "pygments_lexer": "ipython3",
   "version": "3.11.5"
  }
 },
 "nbformat": 4,
 "nbformat_minor": 5
}
