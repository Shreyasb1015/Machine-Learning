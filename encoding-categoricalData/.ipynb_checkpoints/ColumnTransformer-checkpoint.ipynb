{
 "cells": [
  {
   "cell_type": "markdown",
   "id": "6a739eb5-20a3-4f74-8d5a-b82050392bba",
   "metadata": {},
   "source": [
    "##### Column transformer is used when we deal with various problems of different columns like in a dataframe ,we may have numerical column having missing column ,another column may be nominal categorical column,other may be ordinal categorical data column.To deal with all such issues of various cols ,we use column transformer."
   ]
  },
  {
   "cell_type": "markdown",
   "id": "b570346f-0414-4bc2-bd36-013f577fdddb",
   "metadata": {},
   "source": [
    "##### First we will look how handling this task without using column transfomer is hectic and then we will use column transformer."
   ]
  },
  {
   "cell_type": "code",
   "execution_count": 1,
   "id": "92bdb87b-b25d-4b36-ac15-65e6c9a5d8d9",
   "metadata": {
    "tags": []
   },
   "outputs": [],
   "source": [
    "import numpy as np\n",
    "import pandas as pd"
   ]
  },
  {
   "cell_type": "code",
   "execution_count": 2,
   "id": "536fc2f8-247f-42ea-829d-28963fdbdb92",
   "metadata": {
    "tags": []
   },
   "outputs": [],
   "source": [
    "from sklearn.impute import SimpleImputer\n",
    "from sklearn.preprocessing import OneHotEncoder\n",
    "from sklearn.preprocessing import OrdinalEncoder"
   ]
  },
  {
   "cell_type": "markdown",
   "id": "1b8da161-58f3-4405-beb9-4919aa868e10",
   "metadata": {},
   "source": [
    "##### We have imported simpleimputer class to deal with missing values in the numerical column."
   ]
  },
  {
   "cell_type": "code",
   "execution_count": null,
   "id": "170daffd-37f1-48cd-aaf0-9765e78aefc0",
   "metadata": {},
   "outputs": [],
   "source": []
  }
 ],
 "metadata": {
  "kernelspec": {
   "display_name": "Python 3 (ipykernel)",
   "language": "python",
   "name": "python3"
  },
  "language_info": {
   "codemirror_mode": {
    "name": "ipython",
    "version": 3
   },
   "file_extension": ".py",
   "mimetype": "text/x-python",
   "name": "python",
   "nbconvert_exporter": "python",
   "pygments_lexer": "ipython3",
   "version": "3.11.5"
  }
 },
 "nbformat": 4,
 "nbformat_minor": 5
}
