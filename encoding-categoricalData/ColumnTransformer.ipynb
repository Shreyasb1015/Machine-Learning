{
 "cells": [
  {
   "cell_type": "markdown",
   "id": "6a739eb5-20a3-4f74-8d5a-b82050392bba",
   "metadata": {},
   "source": [
    "##### Column transformer is used when we deal with various problems of different columns like in a dataframe ,we may have numerical column having missing column ,another column may be nominal categorical column,other may be ordinal categorical data column.To deal with all such issues of various cols ,we use column transformer."
   ]
  },
  {
   "cell_type": "code",
   "execution_count": null,
   "id": "fbe2628f-54f5-4603-9e8f-627411e67005",
   "metadata": {},
   "outputs": [],
   "source": []
  }
 ],
 "metadata": {
  "kernelspec": {
   "display_name": "Python 3 (ipykernel)",
   "language": "python",
   "name": "python3"
  },
  "language_info": {
   "codemirror_mode": {
    "name": "ipython",
    "version": 3
   },
   "file_extension": ".py",
   "mimetype": "text/x-python",
   "name": "python",
   "nbconvert_exporter": "python",
   "pygments_lexer": "ipython3",
   "version": "3.11.5"
  }
 },
 "nbformat": 4,
 "nbformat_minor": 5
}
