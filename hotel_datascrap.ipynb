{
  "nbformat": 4,
  "nbformat_minor": 0,
  "metadata": {
    "colab": {
      "provenance": []
    },
    "kernelspec": {
      "name": "python3",
      "display_name": "Python 3"
    },
    "language_info": {
      "name": "python"
    }
  },
  "cells": [
    {
      "cell_type": "code",
      "execution_count": 1,
      "metadata": {
        "id": "03ofdUWLmsxS"
      },
      "outputs": [],
      "source": [
        "import pandas as pd\n",
        "import requests\n",
        "from bs4 import BeautifulSoup"
      ]
    },
    {
      "cell_type": "code",
      "source": [
        "prices=[]\n",
        "names=[]\n",
        "ratings=[]\n",
        "reviews=[]"
      ],
      "metadata": {
        "id": "3nfQwjU6m0I1"
      },
      "execution_count": 2,
      "outputs": []
    },
    {
      "cell_type": "code",
      "source": [
        "headers={'User-Agent':'Mozilla/5.0 (Windows NT 6.3; Win 64 ; x64) Apple WeKit /537.36(KHTML , like Gecko) Chrome/80.0.3987.162 Safari/537.36'}\n",
        "webpage=requests.get('https://www.booking.com/searchresults.en-gb.html?ss=Mumbai&ssne=Mumbai&ssne_untouched=Mumbai&label=gen173nr-1BCAEoggI46AdIM1gEaGyIAQGYAQm4ARfIAQzYAQHoAQGIAgGoAgO4AsymyK4GwAIB0gIkYmZhY2M2MmEtZmU0MC00OTFkLTlmODUtNDdiNTk4OTlkM2I42AIF4AIB&sid=190f0b8446e0e3c4a2161110b588d069&aid=304142&lang=en-gb&sb=1&src_elem=sb&src=index&dest_id=-2092174&dest_type=city&checkin=2024-02-18&checkout=2024-02-20&group_adults=1&no_rooms=1&group_children=0&sb_travel_purpose=leisure',headers=headers).text"
      ],
      "metadata": {
        "id": "2XKOIcwVnMVG"
      },
      "execution_count": 3,
      "outputs": []
    },
    {
      "cell_type": "code",
      "source": [
        "soup=BeautifulSoup(webpage, 'lxml')"
      ],
      "metadata": {
        "id": "wpGxqg0un2EE"
      },
      "execution_count": 4,
      "outputs": []
    },
    {
      "cell_type": "code",
      "source": [
        "nameslist=soup.find_all('div',class_='f6431b446c a15b38c233')\n",
        "len(nameslist)"
      ],
      "metadata": {
        "colab": {
          "base_uri": "https://localhost:8080/"
        },
        "id": "JaqWWjgJn4bZ",
        "outputId": "04028aff-84c3-4afe-828f-3aa8f4afa004"
      },
      "execution_count": 5,
      "outputs": [
        {
          "output_type": "execute_result",
          "data": {
            "text/plain": [
              "25"
            ]
          },
          "metadata": {},
          "execution_count": 5
        }
      ]
    },
    {
      "cell_type": "code",
      "source": [
        "pricelist=soup.find_all('span',class_='f6431b446c fbfd7c1165 e84eb96b1f')\n",
        "len(pricelist)"
      ],
      "metadata": {
        "colab": {
          "base_uri": "https://localhost:8080/"
        },
        "id": "AuoSQoy3oIj4",
        "outputId": "39b406e9-2eb9-42b7-8cf9-4cd9ae2ccad2"
      },
      "execution_count": 6,
      "outputs": [
        {
          "output_type": "execute_result",
          "data": {
            "text/plain": [
              "25"
            ]
          },
          "metadata": {},
          "execution_count": 6
        }
      ]
    },
    {
      "cell_type": "code",
      "source": [
        "ratingslist=soup.find_all('div',class_='a3b8729ab1 d86cee9b25')\n",
        "len(ratingslist)"
      ],
      "metadata": {
        "colab": {
          "base_uri": "https://localhost:8080/"
        },
        "id": "dgggY79qoM3H",
        "outputId": "8f6d1779-b377-4b32-e864-fbcb1b5ffdd1"
      },
      "execution_count": 7,
      "outputs": [
        {
          "output_type": "execute_result",
          "data": {
            "text/plain": [
              "25"
            ]
          },
          "metadata": {},
          "execution_count": 7
        }
      ]
    },
    {
      "cell_type": "code",
      "source": [
        "reviewslist=soup.find_all('div',class_='a3b8729ab1 e6208ee469 cb2cbb3ccb')\n",
        "len(reviewslist)"
      ],
      "metadata": {
        "colab": {
          "base_uri": "https://localhost:8080/"
        },
        "id": "l9siLCtCoTDn",
        "outputId": "8ddae84a-f3e9-4647-f2f9-228b93d68675"
      },
      "execution_count": 8,
      "outputs": [
        {
          "output_type": "execute_result",
          "data": {
            "text/plain": [
              "25"
            ]
          },
          "metadata": {},
          "execution_count": 8
        }
      ]
    },
    {
      "cell_type": "code",
      "source": [
        "for p in pricelist:\n",
        "  prices.append(p.text.strip().replace('US$',''))"
      ],
      "metadata": {
        "id": "jNumWCB8oVmh"
      },
      "execution_count": 9,
      "outputs": []
    },
    {
      "cell_type": "code",
      "source": [
        "for n in nameslist:\n",
        "  names.append(n.text.strip())"
      ],
      "metadata": {
        "id": "06FGVTP4odDg"
      },
      "execution_count": 10,
      "outputs": []
    },
    {
      "cell_type": "code",
      "source": [
        "names"
      ],
      "metadata": {
        "colab": {
          "base_uri": "https://localhost:8080/"
        },
        "id": "KigCPyjpofRF",
        "outputId": "c0262cd1-6d5c-4628-a9fc-9b64fae5b934"
      },
      "execution_count": 11,
      "outputs": [
        {
          "output_type": "execute_result",
          "data": {
            "text/plain": [
              "['Home2 Suites and Service Apartments, Mumbai Airport',\n",
              " 'The Leela Mumbai',\n",
              " 'Grand Hyatt Mumbai Hotel and Residences',\n",
              " 'Fairfield by Marriott Mumbai International Airport',\n",
              " 'Sofitel Mumbai BKC',\n",
              " 'Novotel Mumbai International Airport',\n",
              " 'Holiday Inn Mumbai International Airport, an IHG Hotel',\n",
              " 'Courtyard by Marriott Mumbai International Airport',\n",
              " 'Trident Nariman Point',\n",
              " 'The Westin Mumbai Powai Lake',\n",
              " 'ITC Grand Central, a Luxury Collection Hotel, Mumbai',\n",
              " 'Trident Bandra Kurla',\n",
              " 'Hotel Oriental Aster- Mumbai International Airport',\n",
              " 'The Fern Residency Mumbai',\n",
              " 'Hotel Bawa International',\n",
              " 'The Oberoi Mumbai',\n",
              " 'Hotel Beverly Palace Sanatacruz',\n",
              " 'Theory9 Premium Service Apartments Bandra',\n",
              " 'FabExpress Adore Inn',\n",
              " 'RELOhomes Serviced Apartment',\n",
              " 'Hotel Suba International',\n",
              " 'Hotel Sahara Star-Mumbai Airport',\n",
              " 'Arnna Hotel- Goregaon East',\n",
              " 'The Taj Mahal Tower, Mumbai',\n",
              " 'Aurika, Mumbai Skycity - Luxury by Lemon Tree Hotels']"
            ]
          },
          "metadata": {},
          "execution_count": 11
        }
      ]
    },
    {
      "cell_type": "code",
      "source": [
        "for r in ratingslist:\n",
        "  ratings.append(r.text.strip())"
      ],
      "metadata": {
        "id": "2_a0fVe3ogkd"
      },
      "execution_count": 12,
      "outputs": []
    },
    {
      "cell_type": "code",
      "source": [
        "for r in reviewslist:\n",
        "   reviews.append(r.text.strip().replace('<!-- -->',''))"
      ],
      "metadata": {
        "id": "Sd6bEzzxoj_a"
      },
      "execution_count": 13,
      "outputs": []
    },
    {
      "cell_type": "code",
      "source": [
        "reviews"
      ],
      "metadata": {
        "colab": {
          "base_uri": "https://localhost:8080/"
        },
        "id": "q3Cu0pIZomrP",
        "outputId": "48b96196-08dc-4ab7-f1b9-adbd1b5e4d81"
      },
      "execution_count": 14,
      "outputs": [
        {
          "output_type": "execute_result",
          "data": {
            "text/plain": [
              "['Good',\n",
              " 'Fabulous',\n",
              " 'Very good',\n",
              " 'Very good',\n",
              " 'Very good',\n",
              " 'Very good',\n",
              " 'Good',\n",
              " 'Very good',\n",
              " 'Fabulous',\n",
              " 'Very good',\n",
              " 'Fabulous',\n",
              " 'Fabulous',\n",
              " 'Good',\n",
              " 'Good',\n",
              " 'Good',\n",
              " 'Superb',\n",
              " 'Very good',\n",
              " 'Very good',\n",
              " 'Good',\n",
              " 'Superb',\n",
              " 'Very good',\n",
              " 'Good',\n",
              " 'Good',\n",
              " 'Superb',\n",
              " 'Very good']"
            ]
          },
          "metadata": {},
          "execution_count": 14
        }
      ]
    },
    {
      "cell_type": "code",
      "source": [
        "def gatherinfo(pricelist,nameslist,ratingslist,reviewslist):\n",
        "    for p in pricelist:\n",
        "         prices.append(p.text.strip().replace('US$',''))\n",
        "\n",
        "    for n in nameslist:\n",
        "        names.append(n.text.strip())\n",
        "\n",
        "    for r in ratingslist:\n",
        "         ratings.append(r.text.strip())\n",
        "\n",
        "    for r in reviewslist:\n",
        "         reviews.append(r.text.strip().replace('<!-- -->',''))\n",
        "\n",
        "    len(names),len(prices),len(reviews),len(ratings)"
      ],
      "metadata": {
        "id": "4dUzb1AMooen"
      },
      "execution_count": 15,
      "outputs": []
    },
    {
      "cell_type": "code",
      "source": [
        "def setup(url):\n",
        "  webpage=requests.get(url,headers=headers).text\n",
        "  soup=BeautifulSoup(webpage, 'lxml')\n",
        "  nameslist=soup.find_all('div',class_='f6431b446c a15b38c233')\n",
        "  pricelist=soup.find_all('span',class_='f6431b446c fbfd7c1165 e84eb96b1f')\n",
        "  ratingslist=soup.find_all('div',class_='a3b8729ab1 d86cee9b25')\n",
        "  reviewslist=soup.find_all('div',class_='a3b8729ab1 e6208ee469 cb2cbb3ccb')\n",
        "  gatherinfo(pricelist,nameslist,ratingslist,reviewslist)"
      ],
      "metadata": {
        "id": "G6zKP8atozQY"
      },
      "execution_count": 16,
      "outputs": []
    },
    {
      "cell_type": "code",
      "source": [
        "i=25\n",
        "j=2\n",
        "for j in range(26):\n",
        "  url='https://www.booking.com/searchresults.en-gb.html?label=gen173nr-1BCAEoggI46AdIM1gEaGyIAQGYAQm4ARfIAQzYAQHoAQGIAgGoAgO4AsymyK4GwAIB0gIkYmZhY2M2MmEtZmU0MC00OTFkLTlmODUtNDdiNTk4OTlkM2I42AIF4AIB&sid=190f0b8446e0e3c4a2161110b588d069&aid=304142&ss=Mumbai&ssne=Mumbai&ssne_untouched=Mumbai&lang=en-gb&sb=1&src_elem=sb&src=index&dest_id=-2092174&dest_type=city&checkin=2024-02-18&checkout=2024-02-20&group_adults=1&no_rooms=1&group_children=0&sb_travel_purpose=leisure&offset={}'.format(i)\n",
        "  setup(url)\n",
        "  i+=25\n",
        "  j+=1\n"
      ],
      "metadata": {
        "id": "TVjgESCoo1GN"
      },
      "execution_count": 17,
      "outputs": []
    },
    {
      "cell_type": "code",
      "source": [
        "setup('https://www.booking.com/searchresults.en-gb.html?ss=Mumbai&ssne=Mumbai&ssne_untouched=Mumbai&label=gen173nr-1BCAEoggI46AdIM1gEaGyIAQGYAQm4ARfIAQzYAQHoAQGIAgGoAgO4AsymyK4GwAIB0gIkYmZhY2M2MmEtZmU0MC00OTFkLTlmODUtNDdiNTk4OTlkM2I42AIF4AIB&sid=190f0b8446e0e3c4a2161110b588d069&aid=304142&lang=en-gb&sb=1&src_elem=sb&src=searchresults&dest_id=-2092174&dest_type=city&checkin=2024-02-18&checkout=2024-02-22&group_adults=1&no_rooms=1&group_children=0')"
      ],
      "metadata": {
        "id": "HHBorivTsQMD"
      },
      "execution_count": 21,
      "outputs": []
    },
    {
      "cell_type": "code",
      "source": [
        "i=25\n",
        "j=2\n",
        "for j in range(26):\n",
        "  url='https://www.booking.com/searchresults.en-gb.html?label=gen173nr-1BCAEoggI46AdIM1gEaGyIAQGYAQm4ARfIAQzYAQHoAQGIAgGoAgO4AsymyK4GwAIB0gIkYmZhY2M2MmEtZmU0MC00OTFkLTlmODUtNDdiNTk4OTlkM2I42AIF4AIB&sid=190f0b8446e0e3c4a2161110b588d069&aid=304142&ss=Mumbai&ssne=Mumbai&ssne_untouched=Mumbai&lang=en-gb&sb=1&src_elem=sb&src=searchresults&dest_id=-2092174&dest_type=city&checkin=2024-02-18&checkout=2024-02-22&group_adults=1&no_rooms=1&group_children=0&offset={}'.format(i)\n",
        "  setup(url)\n",
        "  i+=25\n",
        "  j+=1\n"
      ],
      "metadata": {
        "id": "X10hqahhtQv3"
      },
      "execution_count": 22,
      "outputs": []
    },
    {
      "cell_type": "code",
      "source": [
        "\n",
        "len(names),len(prices),len(reviews),len(ratings)"
      ],
      "metadata": {
        "colab": {
          "base_uri": "https://localhost:8080/"
        },
        "id": "Khk2kGyOt8tB",
        "outputId": "1d09e4f0-d6ca-4b58-e4e0-bfd1142ba918"
      },
      "execution_count": 23,
      "outputs": [
        {
          "output_type": "execute_result",
          "data": {
            "text/plain": [
              "(1237, 1237, 1102, 1098)"
            ]
          },
          "metadata": {},
          "execution_count": 23
        }
      ]
    },
    {
      "cell_type": "code",
      "source": [
        "stay=[2]*658"
      ],
      "metadata": {
        "id": "OoTvWQVHuSIM"
      },
      "execution_count": 24,
      "outputs": []
    },
    {
      "cell_type": "code",
      "source": [
        "temp_stay=[4]*579\n",
        "stay.extend(temp_stay)"
      ],
      "metadata": {
        "id": "-iHGcg5Fu4tv"
      },
      "execution_count": 25,
      "outputs": []
    },
    {
      "cell_type": "code",
      "source": [
        "len(stay)"
      ],
      "metadata": {
        "colab": {
          "base_uri": "https://localhost:8080/"
        },
        "id": "OoojpGz9vMBR",
        "outputId": "b746ecc8-7f4b-47c2-fcef-8e28614c2e26"
      },
      "execution_count": 26,
      "outputs": [
        {
          "output_type": "execute_result",
          "data": {
            "text/plain": [
              "1237"
            ]
          },
          "metadata": {},
          "execution_count": 26
        }
      ]
    },
    {
      "cell_type": "code",
      "source": [
        "setup('https://www.booking.com/searchresults.en-gb.html?ss=Mumbai&ssne=Mumbai&ssne_untouched=Mumbai&label=gen173nr-1BCAEoggI46AdIM1gEaGyIAQGYAQm4ARfIAQzYAQHoAQGIAgGoAgO4AsymyK4GwAIB0gIkYmZhY2M2MmEtZmU0MC00OTFkLTlmODUtNDdiNTk4OTlkM2I42AIF4AIB&sid=190f0b8446e0e3c4a2161110b588d069&aid=304142&lang=en-gb&sb=1&src_elem=sb&src=searchresults&dest_id=-2092174&dest_type=city&checkin=2024-02-18&checkout=2024-02-24&group_adults=1&no_rooms=1&group_children=0')"
      ],
      "metadata": {
        "id": "ZBoJAaffvOOE"
      },
      "execution_count": 27,
      "outputs": []
    },
    {
      "cell_type": "code",
      "source": [
        "i=25\n",
        "j=2\n",
        "for j in range(26):\n",
        "  url='https://www.booking.com/searchresults.en-gb.html?label=gen173nr-1BCAEoggI46AdIM1gEaGyIAQGYAQm4ARfIAQzYAQHoAQGIAgGoAgO4AsymyK4GwAIB0gIkYmZhY2M2MmEtZmU0MC00OTFkLTlmODUtNDdiNTk4OTlkM2I42AIF4AIB&sid=190f0b8446e0e3c4a2161110b588d069&aid=304142&ss=Mumbai&ssne=Mumbai&ssne_untouched=Mumbai&lang=en-gb&sb=1&src_elem=sb&src=searchresults&dest_id=-2092174&dest_type=city&checkin=2024-02-18&checkout=2024-02-24&group_adults=1&no_rooms=1&group_children=0&offset={}'.format(i)\n",
        "  setup(url)\n",
        "  i+=25\n",
        "  j+=1\n"
      ],
      "metadata": {
        "id": "Q3maEji3vVpG"
      },
      "execution_count": 28,
      "outputs": []
    },
    {
      "cell_type": "code",
      "source": [
        "\n",
        "len(names),len(prices),len(reviews),len(ratings)"
      ],
      "metadata": {
        "colab": {
          "base_uri": "https://localhost:8080/"
        },
        "id": "sK6pfYzrviQz",
        "outputId": "2db688fb-28d5-47e9-db87-0d960507dad0"
      },
      "execution_count": 29,
      "outputs": [
        {
          "output_type": "execute_result",
          "data": {
            "text/plain": [
              "(1790, 1790, 1593, 1588)"
            ]
          },
          "metadata": {},
          "execution_count": 29
        }
      ]
    },
    {
      "cell_type": "code",
      "source": [
        "temp_stay=[6]*553\n",
        "stay.extend(temp_stay)"
      ],
      "metadata": {
        "id": "XrP7rtITvyWQ"
      },
      "execution_count": 30,
      "outputs": []
    },
    {
      "cell_type": "code",
      "source": [
        "setup('https://www.booking.com/searchresults.en-gb.html?ss=Mumbai&ssne=Mumbai&ssne_untouched=Mumbai&label=gen173nr-1BCAEoggI46AdIM1gEaGyIAQGYAQm4ARfIAQzYAQHoAQGIAgGoAgO4AsymyK4GwAIB0gIkYmZhY2M2MmEtZmU0MC00OTFkLTlmODUtNDdiNTk4OTlkM2I42AIF4AIB&sid=190f0b8446e0e3c4a2161110b588d069&aid=304142&lang=en-gb&sb=1&src_elem=sb&src=searchresults&dest_id=-2092174&dest_type=city&checkin=2024-02-18&checkout=2024-02-27&group_adults=1&no_rooms=1&group_children=0')"
      ],
      "metadata": {
        "id": "6OF728_Hv7EI"
      },
      "execution_count": 31,
      "outputs": []
    },
    {
      "cell_type": "code",
      "source": [
        "i=25\n",
        "j=2\n",
        "for j in range(26):\n",
        "  url='https://www.booking.com/searchresults.en-gb.html?label=gen173nr-1BCAEoggI46AdIM1gEaGyIAQGYAQm4ARfIAQzYAQHoAQGIAgGoAgO4AsymyK4GwAIB0gIkYmZhY2M2MmEtZmU0MC00OTFkLTlmODUtNDdiNTk4OTlkM2I42AIF4AIB&sid=190f0b8446e0e3c4a2161110b588d069&aid=304142&ss=Mumbai&ssne=Mumbai&ssne_untouched=Mumbai&lang=en-gb&sb=1&src_elem=sb&src=searchresults&dest_id=-2092174&dest_type=city&checkin=2024-02-18&checkout=2024-02-27&group_adults=1&no_rooms=1&group_children=0&offset={}'.format(i)\n",
        "  setup(url)\n",
        "  i+=25\n",
        "  j+=1\n"
      ],
      "metadata": {
        "id": "N8cn1odWwB1Y"
      },
      "execution_count": 32,
      "outputs": []
    },
    {
      "cell_type": "code",
      "source": [
        "len(names),len(prices),len(reviews),len(ratings)"
      ],
      "metadata": {
        "colab": {
          "base_uri": "https://localhost:8080/"
        },
        "id": "BTwNMT7FwVXg",
        "outputId": "5142ec4a-e83e-4dab-ee98-81be857e446f"
      },
      "execution_count": 33,
      "outputs": [
        {
          "output_type": "execute_result",
          "data": {
            "text/plain": [
              "(2335, 2335, 2075, 2069)"
            ]
          },
          "metadata": {},
          "execution_count": 33
        }
      ]
    },
    {
      "cell_type": "code",
      "source": [
        "temp_stay=[9]*545\n",
        "stay.extend(temp_stay)"
      ],
      "metadata": {
        "id": "YqEPQACowkLU"
      },
      "execution_count": 34,
      "outputs": []
    },
    {
      "cell_type": "code",
      "source": [
        "setup('https://www.booking.com/searchresults.en-gb.html?ss=Mumbai&ssne=Mumbai&ssne_untouched=Mumbai&label=gen173nr-1BCAEoggI46AdIM1gEaGyIAQGYAQm4ARfIAQzYAQHoAQGIAgGoAgO4AsymyK4GwAIB0gIkYmZhY2M2MmEtZmU0MC00OTFkLTlmODUtNDdiNTk4OTlkM2I42AIF4AIB&sid=190f0b8446e0e3c4a2161110b588d069&aid=304142&lang=en-gb&sb=1&src_elem=sb&src=searchresults&dest_id=-2092174&dest_type=city&checkin=2024-02-18&checkout=2024-03-01&group_adults=1&no_rooms=1&group_children=0')"
      ],
      "metadata": {
        "id": "jX2ITn6IwrZI"
      },
      "execution_count": 35,
      "outputs": []
    },
    {
      "cell_type": "code",
      "source": [
        "i=25\n",
        "j=2\n",
        "for j in range(26):\n",
        "  url='https://www.booking.com/searchresults.en-gb.html?label=gen173nr-1BCAEoggI46AdIM1gEaGyIAQGYAQm4ARfIAQzYAQHoAQGIAgGoAgO4AsymyK4GwAIB0gIkYmZhY2M2MmEtZmU0MC00OTFkLTlmODUtNDdiNTk4OTlkM2I42AIF4AIB&sid=190f0b8446e0e3c4a2161110b588d069&aid=304142&ss=Mumbai&ssne=Mumbai&ssne_untouched=Mumbai&lang=en-gb&sb=1&src_elem=sb&src=searchresults&dest_id=-2092174&dest_type=city&checkin=2024-02-18&checkout=2024-03-01&group_adults=1&no_rooms=1&group_children=0&offset={}'.format(i)\n",
        "  setup(url)\n",
        "  i+=25\n",
        "  j+=1\n"
      ],
      "metadata": {
        "id": "x5HsGhP6w5w7"
      },
      "execution_count": 36,
      "outputs": []
    },
    {
      "cell_type": "code",
      "source": [
        "len(names),len(prices),len(reviews),len(ratings)"
      ],
      "metadata": {
        "colab": {
          "base_uri": "https://localhost:8080/"
        },
        "id": "uTAItAM5xPFZ",
        "outputId": "67d73635-f85f-42e7-b630-315b3e05c848"
      },
      "execution_count": 37,
      "outputs": [
        {
          "output_type": "execute_result",
          "data": {
            "text/plain": [
              "(2870, 2870, 2552, 2545)"
            ]
          },
          "metadata": {},
          "execution_count": 37
        }
      ]
    },
    {
      "cell_type": "code",
      "source": [
        "temp_stay=[9]*535\n",
        "stay.extend(temp_stay)"
      ],
      "metadata": {
        "id": "Ug2KM8X8xedy"
      },
      "execution_count": 38,
      "outputs": []
    },
    {
      "cell_type": "code",
      "source": [
        "len(stay)"
      ],
      "metadata": {
        "colab": {
          "base_uri": "https://localhost:8080/"
        },
        "id": "ppEcXJMDxnQY",
        "outputId": "cbcf2415-5695-4e20-c436-611c43397cf3"
      },
      "execution_count": 39,
      "outputs": [
        {
          "output_type": "execute_result",
          "data": {
            "text/plain": [
              "2870"
            ]
          },
          "metadata": {},
          "execution_count": 39
        }
      ]
    },
    {
      "cell_type": "code",
      "source": [
        "del stay[-535:]"
      ],
      "metadata": {
        "id": "t1y-U8YRyi1S"
      },
      "execution_count": 40,
      "outputs": []
    },
    {
      "cell_type": "code",
      "source": [
        "len(stay)"
      ],
      "metadata": {
        "colab": {
          "base_uri": "https://localhost:8080/"
        },
        "id": "Lzfwvijuylh1",
        "outputId": "d391bbbb-5ccc-440c-e08e-a1a743f3ca10"
      },
      "execution_count": 41,
      "outputs": [
        {
          "output_type": "execute_result",
          "data": {
            "text/plain": [
              "2335"
            ]
          },
          "metadata": {},
          "execution_count": 41
        }
      ]
    },
    {
      "cell_type": "code",
      "source": [
        "temp_stay=[13]*535\n",
        "stay.extend(temp_stay)"
      ],
      "metadata": {
        "id": "S2snmEVyyn1E"
      },
      "execution_count": 42,
      "outputs": []
    },
    {
      "cell_type": "code",
      "source": [
        "len(stay)"
      ],
      "metadata": {
        "colab": {
          "base_uri": "https://localhost:8080/"
        },
        "id": "qMYwt4gVysJx",
        "outputId": "0c567d0b-dc5e-4df4-d73c-0295101a1674"
      },
      "execution_count": 43,
      "outputs": [
        {
          "output_type": "execute_result",
          "data": {
            "text/plain": [
              "2870"
            ]
          },
          "metadata": {},
          "execution_count": 43
        }
      ]
    },
    {
      "cell_type": "code",
      "source": [
        "setup('https://www.booking.com/searchresults.en-gb.html?ss=Pune%2C+Maharashtra%2C+India&ssne=Mumbai&ssne_untouched=Mumbai&label=gen173nr-1BCAEoggI46AdIM1gEaGyIAQGYAQm4ARfIAQzYAQHoAQGIAgGoAgO4AsymyK4GwAIB0gIkYmZhY2M2MmEtZmU0MC00OTFkLTlmODUtNDdiNTk4OTlkM2I42AIF4AIB&sid=190f0b8446e0e3c4a2161110b588d069&aid=304142&lang=en-gb&sb=1&src_elem=sb&src=searchresults&dest_id=-2108361&dest_type=city&ac_position=0&ac_click_type=b&ac_langcode=en&ac_suggestion_list_length=5&search_selected=true&search_pageview_id=11f76a7d45dc009e&ac_meta=GhAxMWY3NmE3ZDQ1ZGMwMDllIAAoATICZW46BFB1bmVAAEoAUAA%3D&checkin=2024-02-18&checkout=2024-02-20&group_adults=1&no_rooms=1&group_children=0')"
      ],
      "metadata": {
        "id": "V3a0g0Gyyu-G"
      },
      "execution_count": 44,
      "outputs": []
    },
    {
      "cell_type": "code",
      "source": [
        "i=25\n",
        "j=2\n",
        "for j in range(26):\n",
        "  url='https://www.booking.com/searchresults.en-gb.html?label=gen173nr-1BCAEoggI46AdIM1gEaGyIAQGYAQm4ARfIAQzYAQHoAQGIAgGoAgO4AsymyK4GwAIB0gIkYmZhY2M2MmEtZmU0MC00OTFkLTlmODUtNDdiNTk4OTlkM2I42AIF4AIB&sid=190f0b8446e0e3c4a2161110b588d069&aid=304142&ss=Pune%2C+Maharashtra%2C+India&ssne=Mumbai&ssne_untouched=Mumbai&lang=en-gb&sb=1&src_elem=sb&src=searchresults&dest_id=-2108361&dest_type=city&ac_position=0&ac_click_type=b&ac_langcode=en&ac_suggestion_list_length=5&search_selected=true&search_pageview_id=11f76a7d45dc009e&ac_meta=GhAxMWY3NmE3ZDQ1ZGMwMDllIAAoATICZW46BFB1bmVAAEoAUAA%3D&checkin=2024-02-18&checkout=2024-02-20&group_adults=1&no_rooms=1&group_children=0&offset={}'.format(i)\n",
        "  setup(url)\n",
        "  i+=25\n",
        "  j+=1\n"
      ],
      "metadata": {
        "id": "qg-ip4Vsy5sH"
      },
      "execution_count": 45,
      "outputs": []
    },
    {
      "cell_type": "code",
      "source": [
        "city=['Mumbai']*2870"
      ],
      "metadata": {
        "id": "R3E8eO4bzDmv"
      },
      "execution_count": 46,
      "outputs": []
    },
    {
      "cell_type": "code",
      "source": [
        "len(names),len(prices),len(reviews),len(ratings)"
      ],
      "metadata": {
        "colab": {
          "base_uri": "https://localhost:8080/"
        },
        "id": "vyZ4GIm4zwxr",
        "outputId": "0b12463d-fce7-4df9-fe5e-66abbc78ef02"
      },
      "execution_count": 47,
      "outputs": [
        {
          "output_type": "execute_result",
          "data": {
            "text/plain": [
              "(3265, 3265, 2893, 2882)"
            ]
          },
          "metadata": {},
          "execution_count": 47
        }
      ]
    },
    {
      "cell_type": "code",
      "source": [
        "temp_stay=[2]*395\n",
        "stay.extend(temp_stay)"
      ],
      "metadata": {
        "id": "hztK8gNlzziX"
      },
      "execution_count": 48,
      "outputs": []
    },
    {
      "cell_type": "code",
      "source": [
        "setup('https://www.booking.com/searchresults.en-gb.html?ss=Pune&ssne=Pune&ssne_untouched=Pune&label=gen173nr-1BCAEoggI46AdIM1gEaGyIAQGYAQm4ARfIAQzYAQHoAQGIAgGoAgO4AsymyK4GwAIB0gIkYmZhY2M2MmEtZmU0MC00OTFkLTlmODUtNDdiNTk4OTlkM2I42AIF4AIB&sid=190f0b8446e0e3c4a2161110b588d069&aid=304142&lang=en-gb&sb=1&src_elem=sb&src=searchresults&dest_id=-2108361&dest_type=city&checkin=2024-02-18&checkout=2024-02-22&group_adults=1&no_rooms=1&group_children=0')"
      ],
      "metadata": {
        "id": "i-arCIubz8bR"
      },
      "execution_count": 49,
      "outputs": []
    },
    {
      "cell_type": "code",
      "source": [
        "i=25\n",
        "j=2\n",
        "for j in range(26):\n",
        "  url='https://www.booking.com/searchresults.en-gb.html?label=gen173nr-1BCAEoggI46AdIM1gEaGyIAQGYAQm4ARfIAQzYAQHoAQGIAgGoAgO4AsymyK4GwAIB0gIkYmZhY2M2MmEtZmU0MC00OTFkLTlmODUtNDdiNTk4OTlkM2I42AIF4AIB&sid=190f0b8446e0e3c4a2161110b588d069&aid=304142&ss=Pune&ssne=Pune&ssne_untouched=Pune&lang=en-gb&sb=1&src_elem=sb&src=searchresults&dest_id=-2108361&dest_type=city&checkin=2024-02-18&checkout=2024-02-22&group_adults=1&no_rooms=1&group_children=0&offset={}'.format(i)\n",
        "  setup(url)\n",
        "  i+=25\n",
        "  j+=1\n"
      ],
      "metadata": {
        "id": "SM9a3yC10FCN"
      },
      "execution_count": 50,
      "outputs": []
    },
    {
      "cell_type": "code",
      "source": [
        "len(names),len(prices),len(reviews),len(ratings)"
      ],
      "metadata": {
        "colab": {
          "base_uri": "https://localhost:8080/"
        },
        "id": "GOsK9sfj0SEv",
        "outputId": "9b6f2d8a-2821-4cd7-e83a-5e3b1daa5828"
      },
      "execution_count": 51,
      "outputs": [
        {
          "output_type": "execute_result",
          "data": {
            "text/plain": [
              "(3636, 3636, 3213, 3198)"
            ]
          },
          "metadata": {},
          "execution_count": 51
        }
      ]
    },
    {
      "cell_type": "code",
      "source": [
        "temp_stay=[4]*371\n",
        "stay.extend(temp_stay)"
      ],
      "metadata": {
        "id": "8Wq-nC4U0fpG"
      },
      "execution_count": 52,
      "outputs": []
    },
    {
      "cell_type": "code",
      "source": [
        "setup('https://www.booking.com/searchresults.en-gb.html?ss=Pune&ssne=Pune&ssne_untouched=Pune&label=gen173nr-1BCAEoggI46AdIM1gEaGyIAQGYAQm4ARfIAQzYAQHoAQGIAgGoAgO4AsymyK4GwAIB0gIkYmZhY2M2MmEtZmU0MC00OTFkLTlmODUtNDdiNTk4OTlkM2I42AIF4AIB&sid=190f0b8446e0e3c4a2161110b588d069&aid=304142&lang=en-gb&sb=1&src_elem=sb&src=searchresults&dest_id=-2108361&dest_type=city&checkin=2024-02-18&checkout=2024-02-24&group_adults=1&no_rooms=1&group_children=0')"
      ],
      "metadata": {
        "id": "NYTTvsQC0lkK"
      },
      "execution_count": 53,
      "outputs": []
    },
    {
      "cell_type": "code",
      "source": [
        "i=25\n",
        "j=2\n",
        "for j in range(26):\n",
        "  url='https://www.booking.com/searchresults.en-gb.html?label=gen173nr-1BCAEoggI46AdIM1gEaGyIAQGYAQm4ARfIAQzYAQHoAQGIAgGoAgO4AsymyK4GwAIB0gIkYmZhY2M2MmEtZmU0MC00OTFkLTlmODUtNDdiNTk4OTlkM2I42AIF4AIB&sid=190f0b8446e0e3c4a2161110b588d069&aid=304142&ss=Pune&ssne=Pune&ssne_untouched=Pune&lang=en-gb&sb=1&src_elem=sb&src=searchresults&dest_id=-2108361&dest_type=city&checkin=2024-02-18&checkout=2024-02-24&group_adults=1&no_rooms=1&group_children=0&offset={}'.format(i)\n",
        "  setup(url)\n",
        "  i+=25\n",
        "  j+=1\n"
      ],
      "metadata": {
        "id": "03MdYt_n0wI2"
      },
      "execution_count": 54,
      "outputs": []
    },
    {
      "cell_type": "code",
      "source": [
        "len(names),len(prices),len(reviews),len(ratings)"
      ],
      "metadata": {
        "colab": {
          "base_uri": "https://localhost:8080/"
        },
        "id": "ljb8D2MW0646",
        "outputId": "2871c03e-be61-4f07-811a-76a5b23f44e4"
      },
      "execution_count": 55,
      "outputs": [
        {
          "output_type": "execute_result",
          "data": {
            "text/plain": [
              "(3988, 3988, 3519, 3500)"
            ]
          },
          "metadata": {},
          "execution_count": 55
        }
      ]
    },
    {
      "cell_type": "code",
      "source": [
        "temp_stay=[6]*352\n",
        "stay.extend(temp_stay)"
      ],
      "metadata": {
        "id": "_n9eGDnj1IN5"
      },
      "execution_count": 56,
      "outputs": []
    },
    {
      "cell_type": "code",
      "source": [
        "setup('https://www.booking.com/searchresults.en-gb.html?ss=Pune&ssne=Pune&ssne_untouched=Pune&label=gen173nr-1BCAEoggI46AdIM1gEaGyIAQGYAQm4ARfIAQzYAQHoAQGIAgGoAgO4AsymyK4GwAIB0gIkYmZhY2M2MmEtZmU0MC00OTFkLTlmODUtNDdiNTk4OTlkM2I42AIF4AIB&sid=190f0b8446e0e3c4a2161110b588d069&aid=304142&lang=en-gb&sb=1&src_elem=sb&src=searchresults&dest_id=-2108361&dest_type=city&checkin=2024-02-18&checkout=2024-02-27&group_adults=1&no_rooms=1&group_children=0')"
      ],
      "metadata": {
        "id": "ptKbGU-c1TkQ"
      },
      "execution_count": 57,
      "outputs": []
    },
    {
      "cell_type": "code",
      "source": [
        "i=25\n",
        "j=2\n",
        "for j in range(26):\n",
        "  url='https://www.booking.com/searchresults.en-gb.html?label=gen173nr-1BCAEoggI46AdIM1gEaGyIAQGYAQm4ARfIAQzYAQHoAQGIAgGoAgO4AsymyK4GwAIB0gIkYmZhY2M2MmEtZmU0MC00OTFkLTlmODUtNDdiNTk4OTlkM2I42AIF4AIB&sid=190f0b8446e0e3c4a2161110b588d069&aid=304142&ss=Pune&ssne=Pune&ssne_untouched=Pune&lang=en-gb&sb=1&src_elem=sb&src=searchresults&dest_id=-2108361&dest_type=city&checkin=2024-02-18&checkout=2024-02-27&group_adults=1&no_rooms=1&group_children=0&offset={}'.format(i)\n",
        "  setup(url)\n",
        "  i+=25\n",
        "  j+=1"
      ],
      "metadata": {
        "id": "r-RWPCJI1ZMM"
      },
      "execution_count": 58,
      "outputs": []
    },
    {
      "cell_type": "code",
      "source": [
        "len(names),len(prices),len(reviews),len(ratings)"
      ],
      "metadata": {
        "colab": {
          "base_uri": "https://localhost:8080/"
        },
        "id": "6kxHKC-W1r_r",
        "outputId": "f355ed96-08d8-4a74-c48c-7ff78042999f"
      },
      "execution_count": 59,
      "outputs": [
        {
          "output_type": "execute_result",
          "data": {
            "text/plain": [
              "(4320, 4320, 3807, 3785)"
            ]
          },
          "metadata": {},
          "execution_count": 59
        }
      ]
    },
    {
      "cell_type": "code",
      "source": [
        "temp_stay=[9]*332\n",
        "stay.extend(temp_stay)"
      ],
      "metadata": {
        "id": "GsC2SXIt1873"
      },
      "execution_count": 60,
      "outputs": []
    },
    {
      "cell_type": "code",
      "source": [
        "setup('https://www.booking.com/searchresults.en-gb.html?ss=Pune&ssne=Pune&ssne_untouched=Pune&label=gen173nr-1BCAEoggI46AdIM1gEaGyIAQGYAQm4ARfIAQzYAQHoAQGIAgGoAgO4AsymyK4GwAIB0gIkYmZhY2M2MmEtZmU0MC00OTFkLTlmODUtNDdiNTk4OTlkM2I42AIF4AIB&sid=190f0b8446e0e3c4a2161110b588d069&aid=304142&lang=en-gb&sb=1&src_elem=sb&src=searchresults&dest_id=-2108361&dest_type=city&checkin=2024-02-18&checkout=2024-03-01&group_adults=1&no_rooms=1&group_children=0')"
      ],
      "metadata": {
        "id": "-SsXAiU92DKV"
      },
      "execution_count": 61,
      "outputs": []
    },
    {
      "cell_type": "code",
      "source": [
        "i=25\n",
        "j=2\n",
        "for j in range(26):\n",
        "  url='https://www.booking.com/searchresults.en-gb.html?label=gen173nr-1BCAEoggI46AdIM1gEaGyIAQGYAQm4ARfIAQzYAQHoAQGIAgGoAgO4AsymyK4GwAIB0gIkYmZhY2M2MmEtZmU0MC00OTFkLTlmODUtNDdiNTk4OTlkM2I42AIF4AIB&sid=190f0b8446e0e3c4a2161110b588d069&aid=304142&ss=Pune&ssne=Pune&ssne_untouched=Pune&lang=en-gb&sb=1&src_elem=sb&src=searchresults&dest_id=-2108361&dest_type=city&checkin=2024-02-18&checkout=2024-03-01&group_adults=1&no_rooms=1&group_children=0&offset={}'.format(i)\n",
        "  setup(url)\n",
        "  i+=25\n",
        "  j+=1"
      ],
      "metadata": {
        "id": "e_5I7CKu2J-_"
      },
      "execution_count": 62,
      "outputs": []
    },
    {
      "cell_type": "code",
      "source": [
        "len(names),len(prices),len(reviews),len(ratings)"
      ],
      "metadata": {
        "colab": {
          "base_uri": "https://localhost:8080/"
        },
        "id": "Ut7ttrk92Udj",
        "outputId": "6abca4cb-a237-4d74-a6f6-f1b5671ecb1d"
      },
      "execution_count": 63,
      "outputs": [
        {
          "output_type": "execute_result",
          "data": {
            "text/plain": [
              "(4644, 4644, 4085, 4060)"
            ]
          },
          "metadata": {},
          "execution_count": 63
        }
      ]
    },
    {
      "cell_type": "code",
      "source": [
        "temp_stay=[13]*324\n",
        "stay.extend(temp_stay)"
      ],
      "metadata": {
        "id": "-KvudFAY22Mv"
      },
      "execution_count": 64,
      "outputs": []
    },
    {
      "cell_type": "code",
      "source": [
        "temp_city=['Pune']*1774\n",
        "city.extend(temp_city)"
      ],
      "metadata": {
        "id": "6ZtyzY5r3DyD"
      },
      "execution_count": 65,
      "outputs": []
    },
    {
      "cell_type": "code",
      "source": [
        "len(city)"
      ],
      "metadata": {
        "colab": {
          "base_uri": "https://localhost:8080/"
        },
        "id": "PTjwLa_R3emw",
        "outputId": "0995a59c-6a55-46be-b566-e212d88efa1a"
      },
      "execution_count": 66,
      "outputs": [
        {
          "output_type": "execute_result",
          "data": {
            "text/plain": [
              "4644"
            ]
          },
          "metadata": {},
          "execution_count": 66
        }
      ]
    },
    {
      "cell_type": "code",
      "source": [
        "setup('https://www.booking.com/searchresults.en-gb.html?ss=Goa%2C+India&ssne=Pune&ssne_untouched=Pune&label=gen173nr-1BCAEoggI46AdIM1gEaGyIAQGYAQm4ARfIAQzYAQHoAQGIAgGoAgO4AsymyK4GwAIB0gIkYmZhY2M2MmEtZmU0MC00OTFkLTlmODUtNDdiNTk4OTlkM2I42AIF4AIB&sid=190f0b8446e0e3c4a2161110b588d069&aid=304142&lang=en-gb&sb=1&src_elem=sb&src=searchresults&dest_id=4127&dest_type=region&ac_position=0&ac_click_type=b&ac_langcode=en&ac_suggestion_list_length=5&search_selected=true&search_pageview_id=2ae96d357fed00eb&ac_meta=GhAyYWU5NmQzNTdmZWQwMGViIAAoATICZW46A0dvYUAASgBQAA%3D%3D&checkin=2024-02-18&checkout=2024-02-20&group_adults=1&no_rooms=1&group_children=0')"
      ],
      "metadata": {
        "id": "hDXZmRwL3gf4"
      },
      "execution_count": 67,
      "outputs": []
    },
    {
      "cell_type": "code",
      "source": [
        "i=25\n",
        "j=2\n",
        "for j in range(26):\n",
        "  url='https://www.booking.com/searchresults.en-gb.html?label=gen173nr-1BCAEoggI46AdIM1gEaGyIAQGYAQm4ARfIAQzYAQHoAQGIAgGoAgO4AsymyK4GwAIB0gIkYmZhY2M2MmEtZmU0MC00OTFkLTlmODUtNDdiNTk4OTlkM2I42AIF4AIB&sid=190f0b8446e0e3c4a2161110b588d069&aid=304142&ss=Goa%2C+India&ssne=Pune&ssne_untouched=Pune&lang=en-gb&sb=1&src_elem=sb&src=searchresults&dest_id=4127&dest_type=region&ac_position=0&ac_click_type=b&ac_langcode=en&ac_suggestion_list_length=5&search_selected=true&search_pageview_id=2ae96d357fed00eb&ac_meta=GhAyYWU5NmQzNTdmZWQwMGViIAAoATICZW46A0dvYUAASgBQAA%3D%3D&checkin=2024-02-18&checkout=2024-02-20&group_adults=1&no_rooms=1&group_children=0&offset={}'.format(i)\n",
        "  setup(url)\n",
        "  i+=25\n",
        "  j+=1"
      ],
      "metadata": {
        "id": "pLiSCbWZ3r0C"
      },
      "execution_count": 68,
      "outputs": []
    },
    {
      "cell_type": "code",
      "source": [
        "len(names),len(prices),len(reviews),len(ratings)"
      ],
      "metadata": {
        "colab": {
          "base_uri": "https://localhost:8080/"
        },
        "id": "tgCSUSM032mm",
        "outputId": "2c427c27-5940-4a98-b690-5af362f9b815"
      },
      "execution_count": 69,
      "outputs": [
        {
          "output_type": "execute_result",
          "data": {
            "text/plain": [
              "(5319, 5319, 4731, 4702)"
            ]
          },
          "metadata": {},
          "execution_count": 69
        }
      ]
    },
    {
      "cell_type": "code",
      "source": [
        "temp_stay=[2]*675\n",
        "stay.extend(temp_stay)"
      ],
      "metadata": {
        "id": "yTYYpfOV4RTg"
      },
      "execution_count": 70,
      "outputs": []
    },
    {
      "cell_type": "code",
      "source": [
        "setup('https://www.booking.com/searchresults.en-gb.html?ss=Goa&ssne=Goa&ssne_untouched=Goa&label=gen173nr-1BCAEoggI46AdIM1gEaGyIAQGYAQm4ARfIAQzYAQHoAQGIAgGoAgO4AsymyK4GwAIB0gIkYmZhY2M2MmEtZmU0MC00OTFkLTlmODUtNDdiNTk4OTlkM2I42AIF4AIB&sid=190f0b8446e0e3c4a2161110b588d069&aid=304142&lang=en-gb&sb=1&src_elem=sb&src=searchresults&dest_id=4127&dest_type=region&checkin=2024-02-18&checkout=2024-02-22&group_adults=1&no_rooms=1&group_children=0')"
      ],
      "metadata": {
        "id": "wPswztWd4YD1"
      },
      "execution_count": 71,
      "outputs": []
    },
    {
      "cell_type": "code",
      "source": [
        "i=25\n",
        "j=2\n",
        "for j in range(26):\n",
        "  url='https://www.booking.com/searchresults.en-gb.html?label=gen173nr-1BCAEoggI46AdIM1gEaGyIAQGYAQm4ARfIAQzYAQHoAQGIAgGoAgO4AsymyK4GwAIB0gIkYmZhY2M2MmEtZmU0MC00OTFkLTlmODUtNDdiNTk4OTlkM2I42AIF4AIB&sid=190f0b8446e0e3c4a2161110b588d069&aid=304142&ss=Goa&ssne=Goa&ssne_untouched=Goa&lang=en-gb&sb=1&src_elem=sb&src=searchresults&dest_id=4127&dest_type=region&checkin=2024-02-18&checkout=2024-02-22&group_adults=1&no_rooms=1&group_children=0&offset={}'.format(i)\n",
        "  setup(url)\n",
        "  i+=25\n",
        "  j+=1"
      ],
      "metadata": {
        "id": "l4gqgIsM4sxN"
      },
      "execution_count": 72,
      "outputs": []
    },
    {
      "cell_type": "code",
      "source": [
        "len(names),len(prices),len(reviews),len(ratings)"
      ],
      "metadata": {
        "colab": {
          "base_uri": "https://localhost:8080/"
        },
        "id": "UylFZ-q243Qv",
        "outputId": "e65960f1-e90d-434b-b124-a24060b714f4"
      },
      "execution_count": 73,
      "outputs": [
        {
          "output_type": "execute_result",
          "data": {
            "text/plain": [
              "(5994, 5994, 5376, 5345)"
            ]
          },
          "metadata": {},
          "execution_count": 73
        }
      ]
    },
    {
      "cell_type": "code",
      "source": [
        "temp_stay=[4]*675\n",
        "stay.extend(temp_stay)"
      ],
      "metadata": {
        "id": "XghfL_dk5G9R"
      },
      "execution_count": 74,
      "outputs": []
    },
    {
      "cell_type": "code",
      "source": [
        "setup('https://www.booking.com/searchresults.en-gb.html?ss=Goa&ssne=Goa&ssne_untouched=Goa&label=gen173nr-1BCAEoggI46AdIM1gEaGyIAQGYAQm4ARfIAQzYAQHoAQGIAgGoAgO4AsymyK4GwAIB0gIkYmZhY2M2MmEtZmU0MC00OTFkLTlmODUtNDdiNTk4OTlkM2I42AIF4AIB&sid=190f0b8446e0e3c4a2161110b588d069&aid=304142&lang=en-gb&sb=1&src_elem=sb&src=searchresults&dest_id=4127&dest_type=region&checkin=2024-02-18&checkout=2024-02-24&group_adults=1&no_rooms=1&group_children=0')"
      ],
      "metadata": {
        "id": "RNbtH72h5MTp"
      },
      "execution_count": 75,
      "outputs": []
    },
    {
      "cell_type": "code",
      "source": [
        "i=25\n",
        "j=2\n",
        "for j in range(26):\n",
        "  url='https://www.booking.com/searchresults.en-gb.html?label=gen173nr-1BCAEoggI46AdIM1gEaGyIAQGYAQm4ARfIAQzYAQHoAQGIAgGoAgO4AsymyK4GwAIB0gIkYmZhY2M2MmEtZmU0MC00OTFkLTlmODUtNDdiNTk4OTlkM2I42AIF4AIB&sid=190f0b8446e0e3c4a2161110b588d069&aid=304142&ss=Goa&ssne=Goa&ssne_untouched=Goa&lang=en-gb&sb=1&src_elem=sb&src=searchresults&dest_id=4127&dest_type=region&checkin=2024-02-18&checkout=2024-02-24&group_adults=1&no_rooms=1&group_children=0&offset={}'.format(i)\n",
        "  setup(url)\n",
        "  i+=25\n",
        "  j+=1"
      ],
      "metadata": {
        "id": "xNt_fsYH5Qto"
      },
      "execution_count": 76,
      "outputs": []
    },
    {
      "cell_type": "code",
      "source": [
        "len(names),len(prices),len(reviews),len(ratings)"
      ],
      "metadata": {
        "colab": {
          "base_uri": "https://localhost:8080/"
        },
        "id": "5Anx_kLK5cPS",
        "outputId": "3c12c078-2dc3-45cb-ec8c-4222ebdf020d"
      },
      "execution_count": 77,
      "outputs": [
        {
          "output_type": "execute_result",
          "data": {
            "text/plain": [
              "(6669, 6669, 6015, 5978)"
            ]
          },
          "metadata": {},
          "execution_count": 77
        }
      ]
    },
    {
      "cell_type": "code",
      "source": [
        "temp_stay=[6]*675\n",
        "stay.extend(temp_stay)"
      ],
      "metadata": {
        "id": "La71rUFg5s_n"
      },
      "execution_count": 78,
      "outputs": []
    },
    {
      "cell_type": "code",
      "source": [
        "setup('https://www.booking.com/searchresults.en-gb.html?ss=Goa&ssne=Goa&ssne_untouched=Goa&label=gen173nr-1BCAEoggI46AdIM1gEaGyIAQGYAQm4ARfIAQzYAQHoAQGIAgGoAgO4AsymyK4GwAIB0gIkYmZhY2M2MmEtZmU0MC00OTFkLTlmODUtNDdiNTk4OTlkM2I42AIF4AIB&sid=190f0b8446e0e3c4a2161110b588d069&aid=304142&lang=en-gb&sb=1&src_elem=sb&src=searchresults&dest_id=4127&dest_type=region&checkin=2024-02-18&checkout=2024-02-27&group_adults=1&no_rooms=1&group_children=0')"
      ],
      "metadata": {
        "id": "_YESyJHq5yf6"
      },
      "execution_count": 79,
      "outputs": []
    },
    {
      "cell_type": "code",
      "source": [
        "i=25\n",
        "j=2\n",
        "for j in range(26):\n",
        "  url='https://www.booking.com/searchresults.en-gb.html?label=gen173nr-1BCAEoggI46AdIM1gEaGyIAQGYAQm4ARfIAQzYAQHoAQGIAgGoAgO4AsymyK4GwAIB0gIkYmZhY2M2MmEtZmU0MC00OTFkLTlmODUtNDdiNTk4OTlkM2I42AIF4AIB&sid=190f0b8446e0e3c4a2161110b588d069&aid=304142&ss=Goa&ssne=Goa&ssne_untouched=Goa&lang=en-gb&sb=1&src_elem=sb&src=searchresults&dest_id=4127&dest_type=region&checkin=2024-02-18&checkout=2024-02-27&group_adults=1&no_rooms=1&group_children=0&offset={}'.format(i)\n",
        "  setup(url)\n",
        "  i+=25\n",
        "  j+=1"
      ],
      "metadata": {
        "id": "K6RuhXxt53IJ"
      },
      "execution_count": 80,
      "outputs": []
    },
    {
      "cell_type": "code",
      "source": [
        "len(names),len(prices),len(reviews),len(ratings)"
      ],
      "metadata": {
        "colab": {
          "base_uri": "https://localhost:8080/"
        },
        "id": "ZQSjodRn6BPv",
        "outputId": "61b30387-c6bd-42d2-9ff9-714f21abc98d"
      },
      "execution_count": 81,
      "outputs": [
        {
          "output_type": "execute_result",
          "data": {
            "text/plain": [
              "(7344, 7344, 6640, 6601)"
            ]
          },
          "metadata": {},
          "execution_count": 81
        }
      ]
    },
    {
      "cell_type": "code",
      "source": [
        "temp_stay=[9]*675\n",
        "stay.extend(temp_stay)"
      ],
      "metadata": {
        "id": "aF--xt8Y6Sqo"
      },
      "execution_count": 82,
      "outputs": []
    },
    {
      "cell_type": "code",
      "source": [
        "setup('https://www.booking.com/searchresults.en-gb.html?ss=Goa&ssne=Goa&ssne_untouched=Goa&label=gen173nr-1BCAEoggI46AdIM1gEaGyIAQGYAQm4ARfIAQzYAQHoAQGIAgGoAgO4AsymyK4GwAIB0gIkYmZhY2M2MmEtZmU0MC00OTFkLTlmODUtNDdiNTk4OTlkM2I42AIF4AIB&sid=190f0b8446e0e3c4a2161110b588d069&aid=304142&lang=en-gb&sb=1&src_elem=sb&src=searchresults&dest_id=4127&dest_type=region&checkin=2024-02-18&checkout=2024-03-01&group_adults=1&no_rooms=1&group_children=0')"
      ],
      "metadata": {
        "id": "Up6JWn8J6YS6"
      },
      "execution_count": 83,
      "outputs": []
    },
    {
      "cell_type": "code",
      "source": [
        "i=25\n",
        "j=2\n",
        "for j in range(26):\n",
        "  url='https://www.booking.com/searchresults.en-gb.html?label=gen173nr-1BCAEoggI46AdIM1gEaGyIAQGYAQm4ARfIAQzYAQHoAQGIAgGoAgO4AsymyK4GwAIB0gIkYmZhY2M2MmEtZmU0MC00OTFkLTlmODUtNDdiNTk4OTlkM2I42AIF4AIB&sid=190f0b8446e0e3c4a2161110b588d069&aid=304142&ss=Goa&ssne=Goa&ssne_untouched=Goa&lang=en-gb&sb=1&src_elem=sb&src=searchresults&dest_id=4127&dest_type=region&checkin=2024-02-18&checkout=2024-03-01&group_adults=1&no_rooms=1&group_children=0&offset={}'.format(i)\n",
        "  setup(url)\n",
        "  i+=25\n",
        "  j+=1"
      ],
      "metadata": {
        "id": "-FvaMocr6cy4"
      },
      "execution_count": 84,
      "outputs": []
    },
    {
      "cell_type": "code",
      "source": [
        "len(names),len(prices),len(reviews),len(ratings)"
      ],
      "metadata": {
        "colab": {
          "base_uri": "https://localhost:8080/"
        },
        "id": "WUyjofVD6nTs",
        "outputId": "569feaed-60fa-4c23-a871-a1f11a918268"
      },
      "execution_count": 85,
      "outputs": [
        {
          "output_type": "execute_result",
          "data": {
            "text/plain": [
              "(8019, 8019, 7270, 7230)"
            ]
          },
          "metadata": {},
          "execution_count": 85
        }
      ]
    },
    {
      "cell_type": "code",
      "source": [
        "temp_stay=[13]*675\n",
        "stay.extend(temp_stay)"
      ],
      "metadata": {
        "id": "80Qokazv64CP"
      },
      "execution_count": 86,
      "outputs": []
    },
    {
      "cell_type": "code",
      "source": [
        "temp_city=['Goa']*3375\n",
        "city.extend(temp_city)"
      ],
      "metadata": {
        "id": "75gJ4FEc6_UL"
      },
      "execution_count": 87,
      "outputs": []
    },
    {
      "cell_type": "code",
      "source": [
        "len(city)"
      ],
      "metadata": {
        "colab": {
          "base_uri": "https://localhost:8080/"
        },
        "id": "Bv2aAFeT7g6F",
        "outputId": "24aa67b5-3935-427f-d9e8-01427518eb1b"
      },
      "execution_count": 88,
      "outputs": [
        {
          "output_type": "execute_result",
          "data": {
            "text/plain": [
              "8019"
            ]
          },
          "metadata": {},
          "execution_count": 88
        }
      ]
    },
    {
      "cell_type": "code",
      "source": [
        "setup('https://www.booking.com/searchresults.en-gb.html?ss=New+Delhi%2C+Delhi+NCR%2C+India&ssne=Goa&ssne_untouched=Goa&label=gen173nr-1BCAEoggI46AdIM1gEaGyIAQGYAQm4ARfIAQzYAQHoAQGIAgGoAgO4AsymyK4GwAIB0gIkYmZhY2M2MmEtZmU0MC00OTFkLTlmODUtNDdiNTk4OTlkM2I42AIF4AIB&sid=190f0b8446e0e3c4a2161110b588d069&aid=304142&lang=en-gb&sb=1&src_elem=sb&src=searchresults&dest_id=-2106102&dest_type=city&ac_position=0&ac_click_type=b&ac_langcode=en&ac_suggestion_list_length=5&search_selected=true&search_pageview_id=10e26f6b346b0131&ac_meta=GhAxMGUyNmY2YjM0NmIwMTMxIAAoATICZW46BURlbGhpQABKAFAA&checkin=2024-02-18&checkout=2024-02-20&group_adults=1&no_rooms=1&group_children=0')"
      ],
      "metadata": {
        "id": "KET5ug237iP2"
      },
      "execution_count": 89,
      "outputs": []
    },
    {
      "cell_type": "code",
      "source": [
        "i=25\n",
        "j=2\n",
        "for j in range(26):\n",
        "  url='https://www.booking.com/searchresults.en-gb.html?label=gen173nr-1BCAEoggI46AdIM1gEaGyIAQGYAQm4ARfIAQzYAQHoAQGIAgGoAgO4AsymyK4GwAIB0gIkYmZhY2M2MmEtZmU0MC00OTFkLTlmODUtNDdiNTk4OTlkM2I42AIF4AIB&sid=190f0b8446e0e3c4a2161110b588d069&aid=304142&ss=New+Delhi%2C+Delhi+NCR%2C+India&ssne=Goa&ssne_untouched=Goa&lang=en-gb&sb=1&src_elem=sb&src=searchresults&dest_id=-2106102&dest_type=city&ac_position=0&ac_click_type=b&ac_langcode=en&ac_suggestion_list_length=5&search_selected=true&search_pageview_id=10e26f6b346b0131&ac_meta=GhAxMGUyNmY2YjM0NmIwMTMxIAAoATICZW46BURlbGhpQABKAFAA&checkin=2024-02-18&checkout=2024-02-20&group_adults=1&no_rooms=1&group_children=0&offset={}'.format(i)\n",
        "  setup(url)\n",
        "  i+=25\n",
        "  j+=1"
      ],
      "metadata": {
        "id": "l1kGgnlE7o_b"
      },
      "execution_count": 90,
      "outputs": []
    },
    {
      "cell_type": "code",
      "source": [
        "len(names),len(prices),len(reviews),len(ratings)"
      ],
      "metadata": {
        "colab": {
          "base_uri": "https://localhost:8080/"
        },
        "id": "4mfnsAjc8EVE",
        "outputId": "e09061ea-6326-43fb-dfee-1bcfd3ce6707"
      },
      "execution_count": 91,
      "outputs": [
        {
          "output_type": "execute_result",
          "data": {
            "text/plain": [
              "(8694, 8694, 7913, 7873)"
            ]
          },
          "metadata": {},
          "execution_count": 91
        }
      ]
    },
    {
      "cell_type": "code",
      "source": [
        "temp_stay=[2]*675\n",
        "stay.extend(temp_stay)"
      ],
      "metadata": {
        "id": "C8464v5G8VrH"
      },
      "execution_count": 92,
      "outputs": []
    },
    {
      "cell_type": "code",
      "source": [
        "setup('https://www.booking.com/searchresults.en-gb.html?ss=New+Delhi&ssne=New+Delhi&ssne_untouched=New+Delhi&label=gen173nr-1BCAEoggI46AdIM1gEaGyIAQGYAQm4ARfIAQzYAQHoAQGIAgGoAgO4AsymyK4GwAIB0gIkYmZhY2M2MmEtZmU0MC00OTFkLTlmODUtNDdiNTk4OTlkM2I42AIF4AIB&sid=190f0b8446e0e3c4a2161110b588d069&aid=304142&lang=en-gb&sb=1&src_elem=sb&src=searchresults&dest_id=-2106102&dest_type=city&checkin=2024-02-18&checkout=2024-02-22&group_adults=1&no_rooms=1&group_children=0')"
      ],
      "metadata": {
        "id": "5dCoM8GZ8coa"
      },
      "execution_count": 93,
      "outputs": []
    },
    {
      "cell_type": "code",
      "source": [
        "i=25\n",
        "j=2\n",
        "for j in range(26):\n",
        "  url='https://www.booking.com/searchresults.en-gb.html?label=gen173nr-1BCAEoggI46AdIM1gEaGyIAQGYAQm4ARfIAQzYAQHoAQGIAgGoAgO4AsymyK4GwAIB0gIkYmZhY2M2MmEtZmU0MC00OTFkLTlmODUtNDdiNTk4OTlkM2I42AIF4AIB&sid=190f0b8446e0e3c4a2161110b588d069&aid=304142&ss=New+Delhi&ssne=New+Delhi&ssne_untouched=New+Delhi&lang=en-gb&sb=1&src_elem=sb&src=searchresults&dest_id=-2106102&dest_type=city&checkin=2024-02-18&checkout=2024-02-22&group_adults=1&no_rooms=1&group_children=0&offset={}'.format(i)\n",
        "  setup(url)\n",
        "  i+=25\n",
        "  j+=1"
      ],
      "metadata": {
        "id": "ReZiGuvj8hnZ"
      },
      "execution_count": 94,
      "outputs": []
    },
    {
      "cell_type": "code",
      "source": [
        "len(names),len(prices),len(reviews),len(ratings)"
      ],
      "metadata": {
        "colab": {
          "base_uri": "https://localhost:8080/"
        },
        "id": "poAShaxk8t1f",
        "outputId": "e6bfbdda-f7fc-4886-93ad-a42b2887de8a"
      },
      "execution_count": 95,
      "outputs": [
        {
          "output_type": "execute_result",
          "data": {
            "text/plain": [
              "(9369, 9369, 8548, 8508)"
            ]
          },
          "metadata": {},
          "execution_count": 95
        }
      ]
    },
    {
      "cell_type": "code",
      "source": [
        "temp_stay=[4]*675\n",
        "stay.extend(temp_stay)"
      ],
      "metadata": {
        "id": "Vb4lsUXo8-4B"
      },
      "execution_count": 96,
      "outputs": []
    },
    {
      "cell_type": "code",
      "source": [
        "setup('https://www.booking.com/searchresults.en-gb.html?ss=New+Delhi&ssne=New+Delhi&ssne_untouched=New+Delhi&label=gen173nr-1BCAEoggI46AdIM1gEaGyIAQGYAQm4ARfIAQzYAQHoAQGIAgGoAgO4AsymyK4GwAIB0gIkYmZhY2M2MmEtZmU0MC00OTFkLTlmODUtNDdiNTk4OTlkM2I42AIF4AIB&sid=190f0b8446e0e3c4a2161110b588d069&aid=304142&lang=en-gb&sb=1&src_elem=sb&src=searchresults&dest_id=-2106102&dest_type=city&checkin=2024-02-18&checkout=2024-02-24&group_adults=1&no_rooms=1&group_children=0')"
      ],
      "metadata": {
        "id": "wtHiXQ5t9G6O"
      },
      "execution_count": 97,
      "outputs": []
    },
    {
      "cell_type": "code",
      "source": [
        "i=25\n",
        "j=2\n",
        "for j in range(26):\n",
        "  url='https://www.booking.com/searchresults.en-gb.html?label=gen173nr-1BCAEoggI46AdIM1gEaGyIAQGYAQm4ARfIAQzYAQHoAQGIAgGoAgO4AsymyK4GwAIB0gIkYmZhY2M2MmEtZmU0MC00OTFkLTlmODUtNDdiNTk4OTlkM2I42AIF4AIB&sid=190f0b8446e0e3c4a2161110b588d069&aid=304142&ss=New+Delhi&ssne=New+Delhi&ssne_untouched=New+Delhi&lang=en-gb&sb=1&src_elem=sb&src=searchresults&dest_id=-2106102&dest_type=city&checkin=2024-02-18&checkout=2024-02-24&group_adults=1&no_rooms=1&group_children=0&offset={}'.format(i)\n",
        "  setup(url)\n",
        "  i+=25\n",
        "  j+=1"
      ],
      "metadata": {
        "id": "6lheJrGx9LAx"
      },
      "execution_count": 98,
      "outputs": []
    },
    {
      "cell_type": "code",
      "source": [
        "len(names),len(prices),len(reviews),len(ratings)"
      ],
      "metadata": {
        "colab": {
          "base_uri": "https://localhost:8080/"
        },
        "id": "brJ9U6GA9VQ8",
        "outputId": "0ea77209-57af-4f35-e7a8-80f1a14703d7"
      },
      "execution_count": 99,
      "outputs": [
        {
          "output_type": "execute_result",
          "data": {
            "text/plain": [
              "(10044, 10044, 9152, 9112)"
            ]
          },
          "metadata": {},
          "execution_count": 99
        }
      ]
    },
    {
      "cell_type": "code",
      "source": [
        "temp_stay=[6]*675\n",
        "stay.extend(temp_stay)"
      ],
      "metadata": {
        "id": "YFbRqcg896Wf"
      },
      "execution_count": 100,
      "outputs": []
    },
    {
      "cell_type": "code",
      "source": [
        "setup('https://www.booking.com/searchresults.en-gb.html?ss=New+Delhi&ssne=New+Delhi&ssne_untouched=New+Delhi&label=gen173nr-1BCAEoggI46AdIM1gEaGyIAQGYAQm4ARfIAQzYAQHoAQGIAgGoAgO4AsymyK4GwAIB0gIkYmZhY2M2MmEtZmU0MC00OTFkLTlmODUtNDdiNTk4OTlkM2I42AIF4AIB&sid=190f0b8446e0e3c4a2161110b588d069&aid=304142&lang=en-gb&sb=1&src_elem=sb&src=searchresults&dest_id=-2106102&dest_type=city&checkin=2024-02-18&checkout=2024-02-27&group_adults=1&no_rooms=1&group_children=0')"
      ],
      "metadata": {
        "id": "ZxrTsmu--BVn"
      },
      "execution_count": 101,
      "outputs": []
    },
    {
      "cell_type": "code",
      "source": [
        "i=25\n",
        "j=2\n",
        "for j in range(26):\n",
        "  url='https://www.booking.com/searchresults.en-gb.html?label=gen173nr-1BCAEoggI46AdIM1gEaGyIAQGYAQm4ARfIAQzYAQHoAQGIAgGoAgO4AsymyK4GwAIB0gIkYmZhY2M2MmEtZmU0MC00OTFkLTlmODUtNDdiNTk4OTlkM2I42AIF4AIB&sid=190f0b8446e0e3c4a2161110b588d069&aid=304142&ss=New+Delhi&ssne=New+Delhi&ssne_untouched=New+Delhi&lang=en-gb&sb=1&src_elem=sb&src=searchresults&dest_id=-2106102&dest_type=city&checkin=2024-02-18&checkout=2024-02-27&group_adults=1&no_rooms=1&group_children=0&offset={}'.format(i)\n",
        "  setup(url)\n",
        "  i+=25\n",
        "  j+=1"
      ],
      "metadata": {
        "id": "zdyTPhGe-GGD"
      },
      "execution_count": 102,
      "outputs": []
    },
    {
      "cell_type": "code",
      "source": [
        "len(names),len(prices),len(reviews),len(ratings)"
      ],
      "metadata": {
        "colab": {
          "base_uri": "https://localhost:8080/"
        },
        "id": "MnY4EJK8-PaD",
        "outputId": "dbce650c-c9e8-43de-a574-adb21cf8874a"
      },
      "execution_count": 103,
      "outputs": [
        {
          "output_type": "execute_result",
          "data": {
            "text/plain": [
              "(10719, 10719, 9743, 9703)"
            ]
          },
          "metadata": {},
          "execution_count": 103
        }
      ]
    },
    {
      "cell_type": "code",
      "source": [
        "temp_stay=[9]*675\n",
        "stay.extend(temp_stay)"
      ],
      "metadata": {
        "id": "RGgL9NpW-npE"
      },
      "execution_count": 104,
      "outputs": []
    },
    {
      "cell_type": "code",
      "source": [
        "setup('https://www.booking.com/searchresults.en-gb.html?ss=New+Delhi&ssne=New+Delhi&ssne_untouched=New+Delhi&label=gen173nr-1BCAEoggI46AdIM1gEaGyIAQGYAQm4ARfIAQzYAQHoAQGIAgGoAgO4AsymyK4GwAIB0gIkYmZhY2M2MmEtZmU0MC00OTFkLTlmODUtNDdiNTk4OTlkM2I42AIF4AIB&sid=190f0b8446e0e3c4a2161110b588d069&aid=304142&lang=en-gb&sb=1&src_elem=sb&src=searchresults&dest_id=-2106102&dest_type=city&checkin=2024-02-18&checkout=2024-03-01&group_adults=1&no_rooms=1&group_children=0')"
      ],
      "metadata": {
        "id": "3CWCavwu-uB5"
      },
      "execution_count": 105,
      "outputs": []
    },
    {
      "cell_type": "code",
      "source": [
        "i=25\n",
        "j=2\n",
        "for j in range(26):\n",
        "  url='https://www.booking.com/searchresults.en-gb.html?label=gen173nr-1BCAEoggI46AdIM1gEaGyIAQGYAQm4ARfIAQzYAQHoAQGIAgGoAgO4AsymyK4GwAIB0gIkYmZhY2M2MmEtZmU0MC00OTFkLTlmODUtNDdiNTk4OTlkM2I42AIF4AIB&sid=190f0b8446e0e3c4a2161110b588d069&aid=304142&ss=New+Delhi&ssne=New+Delhi&ssne_untouched=New+Delhi&lang=en-gb&sb=1&src_elem=sb&src=searchresults&dest_id=-2106102&dest_type=city&checkin=2024-02-18&checkout=2024-03-01&group_adults=1&no_rooms=1&group_children=0&offset={}'.format(i)\n",
        "  setup(url)\n",
        "  i+=25\n",
        "  j+=1"
      ],
      "metadata": {
        "id": "9bjcu-Uc-zL2"
      },
      "execution_count": 106,
      "outputs": []
    },
    {
      "cell_type": "code",
      "source": [
        "len(names),len(prices),len(reviews),len(ratings)"
      ],
      "metadata": {
        "colab": {
          "base_uri": "https://localhost:8080/"
        },
        "id": "MqXKA2Wc--xk",
        "outputId": "f0485998-3aec-4526-bf44-b50baa0e9a07"
      },
      "execution_count": 107,
      "outputs": [
        {
          "output_type": "execute_result",
          "data": {
            "text/plain": [
              "(11394, 11394, 10317, 10277)"
            ]
          },
          "metadata": {},
          "execution_count": 107
        }
      ]
    },
    {
      "cell_type": "code",
      "source": [
        "temp_stay=[13]*675\n",
        "stay.extend(temp_stay)"
      ],
      "metadata": {
        "id": "VeDhtcO5_U4N"
      },
      "execution_count": 108,
      "outputs": []
    },
    {
      "cell_type": "code",
      "source": [
        "temp_city=['New-Delhi']*3375\n",
        "city.extend(temp_city)"
      ],
      "metadata": {
        "id": "XNRLEXwy_cOJ"
      },
      "execution_count": 109,
      "outputs": []
    },
    {
      "cell_type": "code",
      "source": [
        "len(city)"
      ],
      "metadata": {
        "colab": {
          "base_uri": "https://localhost:8080/"
        },
        "id": "2scmH3Qg_stg",
        "outputId": "8c0eb176-f2ca-41e7-b2b1-189b2217dfee"
      },
      "execution_count": 110,
      "outputs": [
        {
          "output_type": "execute_result",
          "data": {
            "text/plain": [
              "11394"
            ]
          },
          "metadata": {},
          "execution_count": 110
        }
      ]
    },
    {
      "cell_type": "code",
      "source": [
        "\n",
        "setup('https://www.booking.com/searchresults.en-gb.html?ss=Kolkata%2C+West+Bengal%2C+India&ssne=New+Delhi&ssne_untouched=New+Delhi&label=gen173nr-1BCAEoggI46AdIM1gEaGyIAQGYAQm4ARfIAQzYAQHoAQGIAgGoAgO4AsymyK4GwAIB0gIkYmZhY2M2MmEtZmU0MC00OTFkLTlmODUtNDdiNTk4OTlkM2I42AIF4AIB&sid=190f0b8446e0e3c4a2161110b588d069&aid=304142&lang=en-gb&sb=1&src_elem=sb&src=searchresults&dest_id=-2092511&dest_type=city&ac_position=0&ac_click_type=b&ac_langcode=en&ac_suggestion_list_length=5&search_selected=true&search_pageview_id=551f71a4a3f60104&ac_meta=GhA1NTFmNzFhNGEzZjYwMTA0IAAoATICZW46B0tvbGthdGFAAEoAUAA%3D&checkin=2024-02-18&checkout=2024-02-20&group_adults=1&no_rooms=1&group_children=0')"
      ],
      "metadata": {
        "id": "cXlPgBiu_t0P"
      },
      "execution_count": 112,
      "outputs": []
    },
    {
      "cell_type": "code",
      "source": [
        "i=25\n",
        "j=2\n",
        "for j in range(26):\n",
        "  url='https://www.booking.com/searchresults.en-gb.html?label=gen173nr-1BCAEoggI46AdIM1gEaGyIAQGYAQm4ARfIAQzYAQHoAQGIAgGoAgO4AsymyK4GwAIB0gIkYmZhY2M2MmEtZmU0MC00OTFkLTlmODUtNDdiNTk4OTlkM2I42AIF4AIB&sid=190f0b8446e0e3c4a2161110b588d069&aid=304142&ss=Kolkata%2C+West+Bengal%2C+India&ssne=New+Delhi&ssne_untouched=New+Delhi&lang=en-gb&sb=1&src_elem=sb&src=searchresults&dest_id=-2092511&dest_type=city&ac_position=0&ac_click_type=b&ac_langcode=en&ac_suggestion_list_length=5&search_selected=true&search_pageview_id=551f71a4a3f60104&ac_meta=GhA1NTFmNzFhNGEzZjYwMTA0IAAoATICZW46B0tvbGthdGFAAEoAUAA%3D&checkin=2024-02-18&checkout=2024-02-20&group_adults=1&no_rooms=1&group_children=0&offset={}'.format(i)\n",
        "  setup(url)\n",
        "  i+=25\n",
        "  j+=1"
      ],
      "metadata": {
        "id": "kwMThU4O_v_S"
      },
      "execution_count": 113,
      "outputs": []
    },
    {
      "cell_type": "code",
      "source": [
        "len(names),len(prices),len(reviews),len(ratings)"
      ],
      "metadata": {
        "colab": {
          "base_uri": "https://localhost:8080/"
        },
        "id": "Ligi8EdQAERP",
        "outputId": "bf7b13af-487c-4614-f007-50d02c88fdec"
      },
      "execution_count": 114,
      "outputs": [
        {
          "output_type": "execute_result",
          "data": {
            "text/plain": [
              "(11775, 11775, 10645, 10603)"
            ]
          },
          "metadata": {},
          "execution_count": 114
        }
      ]
    },
    {
      "cell_type": "code",
      "source": [
        "temp_stay=[2]*381\n",
        "stay.extend(temp_stay)"
      ],
      "metadata": {
        "id": "0D5p-qnNAZAW"
      },
      "execution_count": 115,
      "outputs": []
    },
    {
      "cell_type": "code",
      "source": [
        "setup('https://www.booking.com/searchresults.en-gb.html?ss=Kolkata&ssne=Kolkata&ssne_untouched=Kolkata&label=gen173nr-1BCAEoggI46AdIM1gEaGyIAQGYAQm4ARfIAQzYAQHoAQGIAgGoAgO4AsymyK4GwAIB0gIkYmZhY2M2MmEtZmU0MC00OTFkLTlmODUtNDdiNTk4OTlkM2I42AIF4AIB&sid=190f0b8446e0e3c4a2161110b588d069&aid=304142&lang=en-gb&sb=1&src_elem=sb&src=searchresults&dest_id=-2092511&dest_type=city&checkin=2024-02-18&checkout=2024-02-22&group_adults=1&no_rooms=1&group_children=0')"
      ],
      "metadata": {
        "id": "70pxYk_JAlJ2"
      },
      "execution_count": 116,
      "outputs": []
    },
    {
      "cell_type": "code",
      "source": [
        "i=25\n",
        "j=2\n",
        "for j in range(26):\n",
        "  url='https://www.booking.com/searchresults.en-gb.html?label=gen173nr-1BCAEoggI46AdIM1gEaGyIAQGYAQm4ARfIAQzYAQHoAQGIAgGoAgO4AsymyK4GwAIB0gIkYmZhY2M2MmEtZmU0MC00OTFkLTlmODUtNDdiNTk4OTlkM2I42AIF4AIB&sid=190f0b8446e0e3c4a2161110b588d069&aid=304142&ss=Kolkata&ssne=Kolkata&ssne_untouched=Kolkata&lang=en-gb&sb=1&src_elem=sb&src=searchresults&dest_id=-2092511&dest_type=city&checkin=2024-02-18&checkout=2024-02-22&group_adults=1&no_rooms=1&group_children=0&offset={}'.format(i)\n",
        "  setup(url)\n",
        "  i+=25\n",
        "  j+=1"
      ],
      "metadata": {
        "id": "GB208a59ApO7"
      },
      "execution_count": 117,
      "outputs": []
    },
    {
      "cell_type": "code",
      "source": [
        "len(names),len(prices),len(reviews),len(ratings)"
      ],
      "metadata": {
        "colab": {
          "base_uri": "https://localhost:8080/"
        },
        "id": "o7opQ9NxAxMR",
        "outputId": "5e0970fa-e719-44f1-dfea-8307f1a26821"
      },
      "execution_count": 118,
      "outputs": [
        {
          "output_type": "execute_result",
          "data": {
            "text/plain": [
              "(12120, 12120, 10940, 10895)"
            ]
          },
          "metadata": {},
          "execution_count": 118
        }
      ]
    },
    {
      "cell_type": "code",
      "source": [
        "temp_stay=[4]*345\n",
        "stay.extend(temp_stay)"
      ],
      "metadata": {
        "id": "-EEbN-4UBAi0"
      },
      "execution_count": 119,
      "outputs": []
    },
    {
      "cell_type": "code",
      "source": [
        "setup('https://www.booking.com/searchresults.en-gb.html?ss=Kolkata&ssne=Kolkata&ssne_untouched=Kolkata&label=gen173nr-1BCAEoggI46AdIM1gEaGyIAQGYAQm4ARfIAQzYAQHoAQGIAgGoAgO4AsymyK4GwAIB0gIkYmZhY2M2MmEtZmU0MC00OTFkLTlmODUtNDdiNTk4OTlkM2I42AIF4AIB&sid=190f0b8446e0e3c4a2161110b588d069&aid=304142&lang=en-gb&sb=1&src_elem=sb&src=searchresults&dest_id=-2092511&dest_type=city&checkin=2024-02-18&checkout=2024-02-24&group_adults=1&no_rooms=1&group_children=0')"
      ],
      "metadata": {
        "id": "9SkR91SsBHI_"
      },
      "execution_count": 120,
      "outputs": []
    },
    {
      "cell_type": "code",
      "source": [
        "i=25\n",
        "j=2\n",
        "for j in range(26):\n",
        "  url='https://www.booking.com/searchresults.en-gb.html?label=gen173nr-1BCAEoggI46AdIM1gEaGyIAQGYAQm4ARfIAQzYAQHoAQGIAgGoAgO4AsymyK4GwAIB0gIkYmZhY2M2MmEtZmU0MC00OTFkLTlmODUtNDdiNTk4OTlkM2I42AIF4AIB&sid=190f0b8446e0e3c4a2161110b588d069&aid=304142&ss=Kolkata&ssne=Kolkata&ssne_untouched=Kolkata&lang=en-gb&sb=1&src_elem=sb&src=searchresults&dest_id=-2092511&dest_type=city&checkin=2024-02-18&checkout=2024-02-24&group_adults=1&no_rooms=1&group_children=0&offset={}'.format(i)\n",
        "  setup(url)\n",
        "  i+=25\n",
        "  j+=1"
      ],
      "metadata": {
        "id": "G943kxGBBK7B"
      },
      "execution_count": 121,
      "outputs": []
    },
    {
      "cell_type": "code",
      "source": [
        "len(names),len(prices),len(reviews),len(ratings)"
      ],
      "metadata": {
        "colab": {
          "base_uri": "https://localhost:8080/"
        },
        "id": "YDedFGSEBTxC",
        "outputId": "7c1c6eb8-5926-4998-aa10-710535eae66a"
      },
      "execution_count": 122,
      "outputs": [
        {
          "output_type": "execute_result",
          "data": {
            "text/plain": [
              "(12445, 12445, 11210, 11163)"
            ]
          },
          "metadata": {},
          "execution_count": 122
        }
      ]
    },
    {
      "cell_type": "code",
      "source": [
        "temp_stay=[6]*325\n",
        "stay.extend(temp_stay)"
      ],
      "metadata": {
        "id": "4sLHp9x3BjkU"
      },
      "execution_count": 123,
      "outputs": []
    },
    {
      "cell_type": "code",
      "source": [
        "setup('https://www.booking.com/searchresults.en-gb.html?ss=Kolkata&ssne=Kolkata&ssne_untouched=Kolkata&label=gen173nr-1BCAEoggI46AdIM1gEaGyIAQGYAQm4ARfIAQzYAQHoAQGIAgGoAgO4AsymyK4GwAIB0gIkYmZhY2M2MmEtZmU0MC00OTFkLTlmODUtNDdiNTk4OTlkM2I42AIF4AIB&sid=190f0b8446e0e3c4a2161110b588d069&aid=304142&lang=en-gb&sb=1&src_elem=sb&src=searchresults&dest_id=-2092511&dest_type=city&checkin=2024-02-18&checkout=2024-02-27&group_adults=1&no_rooms=1&group_children=0')"
      ],
      "metadata": {
        "id": "7-nx_w6rBqOo"
      },
      "execution_count": 124,
      "outputs": []
    },
    {
      "cell_type": "code",
      "source": [
        "i=25\n",
        "j=2\n",
        "for j in range(26):\n",
        "  url='https://www.booking.com/searchresults.en-gb.html?label=gen173nr-1BCAEoggI46AdIM1gEaGyIAQGYAQm4ARfIAQzYAQHoAQGIAgGoAgO4AsymyK4GwAIB0gIkYmZhY2M2MmEtZmU0MC00OTFkLTlmODUtNDdiNTk4OTlkM2I42AIF4AIB&sid=190f0b8446e0e3c4a2161110b588d069&aid=304142&ss=Kolkata&ssne=Kolkata&ssne_untouched=Kolkata&lang=en-gb&sb=1&src_elem=sb&src=searchresults&dest_id=-2092511&dest_type=city&checkin=2024-02-18&checkout=2024-02-27&group_adults=1&no_rooms=1&group_children=0&offset={}'.format(i)\n",
        "  setup(url)\n",
        "  i+=25\n",
        "  j+=1"
      ],
      "metadata": {
        "id": "ry8neZm7BuqO"
      },
      "execution_count": 125,
      "outputs": []
    },
    {
      "cell_type": "code",
      "source": [
        "len(names),len(prices),len(reviews),len(ratings)"
      ],
      "metadata": {
        "colab": {
          "base_uri": "https://localhost:8080/"
        },
        "id": "nRf4JgcaB4yZ",
        "outputId": "c4068143-1d59-4569-a2b2-7b15998cd63b"
      },
      "execution_count": 126,
      "outputs": [
        {
          "output_type": "execute_result",
          "data": {
            "text/plain": [
              "(12748, 12748, 11471, 11421)"
            ]
          },
          "metadata": {},
          "execution_count": 126
        }
      ]
    },
    {
      "cell_type": "code",
      "source": [
        "temp_stay=[9]*303\n",
        "stay.extend(temp_stay)"
      ],
      "metadata": {
        "id": "Tj9p0o5yCI8n"
      },
      "execution_count": 127,
      "outputs": []
    },
    {
      "cell_type": "code",
      "source": [
        "setup('https://www.booking.com/searchresults.en-gb.html?ss=Kolkata&ssne=Kolkata&ssne_untouched=Kolkata&label=gen173nr-1BCAEoggI46AdIM1gEaGyIAQGYAQm4ARfIAQzYAQHoAQGIAgGoAgO4AsymyK4GwAIB0gIkYmZhY2M2MmEtZmU0MC00OTFkLTlmODUtNDdiNTk4OTlkM2I42AIF4AIB&sid=190f0b8446e0e3c4a2161110b588d069&aid=304142&lang=en-gb&sb=1&src_elem=sb&src=searchresults&dest_id=-2092511&dest_type=city&checkin=2024-02-18&checkout=2024-03-01&group_adults=1&no_rooms=1&group_children=0')"
      ],
      "metadata": {
        "id": "OT2WMfJ9COhQ"
      },
      "execution_count": 128,
      "outputs": []
    },
    {
      "cell_type": "code",
      "source": [
        "i=25\n",
        "j=2\n",
        "for j in range(26):\n",
        "  url='https://www.booking.com/searchresults.en-gb.html?label=gen173nr-1BCAEoggI46AdIM1gEaGyIAQGYAQm4ARfIAQzYAQHoAQGIAgGoAgO4AsymyK4GwAIB0gIkYmZhY2M2MmEtZmU0MC00OTFkLTlmODUtNDdiNTk4OTlkM2I42AIF4AIB&sid=190f0b8446e0e3c4a2161110b588d069&aid=304142&ss=Kolkata&ssne=Kolkata&ssne_untouched=Kolkata&lang=en-gb&sb=1&src_elem=sb&src=searchresults&dest_id=-2092511&dest_type=city&checkin=2024-02-18&checkout=2024-03-01&group_adults=1&no_rooms=1&group_children=0&offset={}'.format(i)\n",
        "  setup(url)\n",
        "  i+=25\n",
        "  j+=1"
      ],
      "metadata": {
        "id": "s2tCXQtzCY5e"
      },
      "execution_count": 129,
      "outputs": []
    },
    {
      "cell_type": "code",
      "source": [
        "len(names),len(prices),len(reviews),len(ratings)"
      ],
      "metadata": {
        "colab": {
          "base_uri": "https://localhost:8080/"
        },
        "id": "sb8Zg54GCl6d",
        "outputId": "a67031fb-7605-42eb-f782-033c702445ab"
      },
      "execution_count": 130,
      "outputs": [
        {
          "output_type": "execute_result",
          "data": {
            "text/plain": [
              "(13046, 13046, 11722, 11670)"
            ]
          },
          "metadata": {},
          "execution_count": 130
        }
      ]
    },
    {
      "cell_type": "code",
      "source": [
        "temp_stay=[13]*298\n",
        "stay.extend(temp_stay)"
      ],
      "metadata": {
        "id": "L2DbLIVqCzBm"
      },
      "execution_count": 131,
      "outputs": []
    },
    {
      "cell_type": "code",
      "source": [
        "temp_city=['Kolkata']*1652\n",
        "city.extend(temp_city)"
      ],
      "metadata": {
        "id": "rLlgRomCC8Ls"
      },
      "execution_count": 132,
      "outputs": []
    },
    {
      "cell_type": "code",
      "source": [
        "len(city)"
      ],
      "metadata": {
        "colab": {
          "base_uri": "https://localhost:8080/"
        },
        "id": "8GwlA6iuDJjU",
        "outputId": "fba157d2-1dde-443d-8368-f673adb9a6bc"
      },
      "execution_count": 133,
      "outputs": [
        {
          "output_type": "execute_result",
          "data": {
            "text/plain": [
              "13046"
            ]
          },
          "metadata": {},
          "execution_count": 133
        }
      ]
    },
    {
      "cell_type": "code",
      "source": [
        "setup('https://www.booking.com/searchresults.en-gb.html?ss=Bangalore%2C+Karnataka%2C+India&ssne=Kolkata&ssne_untouched=Kolkata&label=gen173nr-1BCAEoggI46AdIM1gEaGyIAQGYAQm4ARfIAQzYAQHoAQGIAgGoAgO4AsymyK4GwAIB0gIkYmZhY2M2MmEtZmU0MC00OTFkLTlmODUtNDdiNTk4OTlkM2I42AIF4AIB&sid=190f0b8446e0e3c4a2161110b588d069&aid=304142&lang=en-gb&sb=1&src_elem=sb&src=searchresults&dest_id=-2090174&dest_type=city&ac_position=0&ac_click_type=b&ac_langcode=en&ac_suggestion_list_length=5&search_selected=true&search_pageview_id=e68273785c25036b&ac_meta=GhBlNjgyNzM3ODVjMjUwMzZiIAAoATICZW46A0JhbkAASgBQAA%3D%3D&checkin=2024-02-18&checkout=2024-02-20&group_adults=1&no_rooms=1&group_children=0')"
      ],
      "metadata": {
        "id": "4tUDBZjHDLBd"
      },
      "execution_count": 134,
      "outputs": []
    },
    {
      "cell_type": "code",
      "source": [
        "i=25\n",
        "j=2\n",
        "for j in range(26):\n",
        "  url='https://www.booking.com/searchresults.en-gb.html?label=gen173nr-1BCAEoggI46AdIM1gEaGyIAQGYAQm4ARfIAQzYAQHoAQGIAgGoAgO4AsymyK4GwAIB0gIkYmZhY2M2MmEtZmU0MC00OTFkLTlmODUtNDdiNTk4OTlkM2I42AIF4AIB&sid=190f0b8446e0e3c4a2161110b588d069&aid=304142&ss=Bangalore%2C+Karnataka%2C+India&ssne=Kolkata&ssne_untouched=Kolkata&lang=en-gb&sb=1&src_elem=sb&src=searchresults&dest_id=-2090174&dest_type=city&ac_position=0&ac_click_type=b&ac_langcode=en&ac_suggestion_list_length=5&search_selected=true&search_pageview_id=e68273785c25036b&ac_meta=GhBlNjgyNzM3ODVjMjUwMzZiIAAoATICZW46A0JhbkAASgBQAA%3D%3D&checkin=2024-02-18&checkout=2024-02-20&group_adults=1&no_rooms=1&group_children=0&offset={}'.format(i)\n",
        "  setup(url)\n",
        "  i+=25\n",
        "  j+=1"
      ],
      "metadata": {
        "id": "3Z2oxK_TDUBl"
      },
      "execution_count": 135,
      "outputs": []
    },
    {
      "cell_type": "code",
      "source": [
        "len(names),len(prices),len(reviews),len(ratings)"
      ],
      "metadata": {
        "colab": {
          "base_uri": "https://localhost:8080/"
        },
        "id": "xD8It_QlDeSx",
        "outputId": "580c87bb-64a1-4b48-e598-dce97a3256e2"
      },
      "execution_count": 136,
      "outputs": [
        {
          "output_type": "execute_result",
          "data": {
            "text/plain": [
              "(13721, 13721, 12376, 12323)"
            ]
          },
          "metadata": {},
          "execution_count": 136
        }
      ]
    },
    {
      "cell_type": "code",
      "source": [
        "temp_stay=[2]*675\n",
        "stay.extend(temp_stay)"
      ],
      "metadata": {
        "id": "i9jw6iqiDv0m"
      },
      "execution_count": 137,
      "outputs": []
    },
    {
      "cell_type": "code",
      "source": [
        "setup('https://www.booking.com/searchresults.en-gb.html?ss=Bangalore&ssne=Bangalore&ssne_untouched=Bangalore&label=gen173nr-1BCAEoggI46AdIM1gEaGyIAQGYAQm4ARfIAQzYAQHoAQGIAgGoAgO4AsymyK4GwAIB0gIkYmZhY2M2MmEtZmU0MC00OTFkLTlmODUtNDdiNTk4OTlkM2I42AIF4AIB&sid=190f0b8446e0e3c4a2161110b588d069&aid=304142&lang=en-gb&sb=1&src_elem=sb&src=searchresults&dest_id=-2090174&dest_type=city&checkin=2024-02-18&checkout=2024-02-22&group_adults=1&no_rooms=1&group_children=0')"
      ],
      "metadata": {
        "id": "461GcPtDD6CI"
      },
      "execution_count": 138,
      "outputs": []
    },
    {
      "cell_type": "code",
      "source": [
        "i=25\n",
        "j=2\n",
        "for j in range(26):\n",
        "  url='https://www.booking.com/searchresults.en-gb.html?label=gen173nr-1BCAEoggI46AdIM1gEaGyIAQGYAQm4ARfIAQzYAQHoAQGIAgGoAgO4AsymyK4GwAIB0gIkYmZhY2M2MmEtZmU0MC00OTFkLTlmODUtNDdiNTk4OTlkM2I42AIF4AIB&sid=190f0b8446e0e3c4a2161110b588d069&aid=304142&ss=Bangalore&ssne=Bangalore&ssne_untouched=Bangalore&lang=en-gb&sb=1&src_elem=sb&src=searchresults&dest_id=-2090174&dest_type=city&checkin=2024-02-18&checkout=2024-02-22&group_adults=1&no_rooms=1&group_children=0&offset={}'.format(i)\n",
        "  setup(url)\n",
        "  i+=25\n",
        "  j+=1"
      ],
      "metadata": {
        "id": "mz4y51d2D_Hs"
      },
      "execution_count": 139,
      "outputs": []
    },
    {
      "cell_type": "code",
      "source": [
        "len(names),len(prices),len(reviews),len(ratings)"
      ],
      "metadata": {
        "colab": {
          "base_uri": "https://localhost:8080/"
        },
        "id": "PFPM1xvfEMUh",
        "outputId": "c9a500b8-6476-41fc-e7f7-f694fdc5e299"
      },
      "execution_count": 140,
      "outputs": [
        {
          "output_type": "execute_result",
          "data": {
            "text/plain": [
              "(14396, 14396, 13020, 12966)"
            ]
          },
          "metadata": {},
          "execution_count": 140
        }
      ]
    },
    {
      "cell_type": "code",
      "source": [
        "temp_stay=[4]*675\n",
        "stay.extend(temp_stay)"
      ],
      "metadata": {
        "id": "v7Zwx2RWEcZR"
      },
      "execution_count": 141,
      "outputs": []
    },
    {
      "cell_type": "code",
      "source": [
        "setup('https://www.booking.com/searchresults.en-gb.html?ss=Bangalore&ssne=Bangalore&ssne_untouched=Bangalore&label=gen173nr-1BCAEoggI46AdIM1gEaGyIAQGYAQm4ARfIAQzYAQHoAQGIAgGoAgO4AsymyK4GwAIB0gIkYmZhY2M2MmEtZmU0MC00OTFkLTlmODUtNDdiNTk4OTlkM2I42AIF4AIB&sid=190f0b8446e0e3c4a2161110b588d069&aid=304142&lang=en-gb&sb=1&src_elem=sb&src=searchresults&dest_id=-2090174&dest_type=city&checkin=2024-02-18&checkout=2024-02-24&group_adults=1&no_rooms=1&group_children=0')"
      ],
      "metadata": {
        "id": "kMxItQdcEhw0"
      },
      "execution_count": 142,
      "outputs": []
    },
    {
      "cell_type": "code",
      "source": [
        "i=25\n",
        "j=2\n",
        "for j in range(26):\n",
        "  url='https://www.booking.com/searchresults.en-gb.html?label=gen173nr-1BCAEoggI46AdIM1gEaGyIAQGYAQm4ARfIAQzYAQHoAQGIAgGoAgO4AsymyK4GwAIB0gIkYmZhY2M2MmEtZmU0MC00OTFkLTlmODUtNDdiNTk4OTlkM2I42AIF4AIB&sid=190f0b8446e0e3c4a2161110b588d069&aid=304142&ss=Bangalore&ssne=Bangalore&ssne_untouched=Bangalore&lang=en-gb&sb=1&src_elem=sb&src=searchresults&dest_id=-2090174&dest_type=city&checkin=2024-02-18&checkout=2024-02-24&group_adults=1&no_rooms=1&group_children=0&offset={}'.format(i)\n",
        "  setup(url)\n",
        "  i+=25\n",
        "  j+=1"
      ],
      "metadata": {
        "id": "OKNctL9LElj9"
      },
      "execution_count": 143,
      "outputs": []
    },
    {
      "cell_type": "code",
      "source": [
        "len(names),len(prices),len(reviews),len(ratings)"
      ],
      "metadata": {
        "colab": {
          "base_uri": "https://localhost:8080/"
        },
        "id": "qFa_QaFBEupw",
        "outputId": "8431505d-9b06-4667-a077-85d2c77e420c"
      },
      "execution_count": 144,
      "outputs": [
        {
          "output_type": "execute_result",
          "data": {
            "text/plain": [
              "(15071, 15071, 13651, 13596)"
            ]
          },
          "metadata": {},
          "execution_count": 144
        }
      ]
    },
    {
      "cell_type": "code",
      "source": [
        "temp_stay=[6]*675\n",
        "stay.extend(temp_stay)"
      ],
      "metadata": {
        "id": "FkgDQP-8FAVY"
      },
      "execution_count": 145,
      "outputs": []
    },
    {
      "cell_type": "code",
      "source": [
        "setup('https://www.booking.com/searchresults.en-gb.html?ss=Bangalore&ssne=Bangalore&ssne_untouched=Bangalore&label=gen173nr-1BCAEoggI46AdIM1gEaGyIAQGYAQm4ARfIAQzYAQHoAQGIAgGoAgO4AsymyK4GwAIB0gIkYmZhY2M2MmEtZmU0MC00OTFkLTlmODUtNDdiNTk4OTlkM2I42AIF4AIB&sid=190f0b8446e0e3c4a2161110b588d069&aid=304142&lang=en-gb&sb=1&src_elem=sb&src=searchresults&dest_id=-2090174&dest_type=city&checkin=2024-02-18&checkout=2024-02-27&group_adults=1&no_rooms=1&group_children=0')"
      ],
      "metadata": {
        "id": "FMsiDVBYFGCE"
      },
      "execution_count": 146,
      "outputs": []
    },
    {
      "cell_type": "code",
      "source": [
        "i=25\n",
        "j=2\n",
        "for j in range(26):\n",
        "  url='https://www.booking.com/searchresults.en-gb.html?label=gen173nr-1BCAEoggI46AdIM1gEaGyIAQGYAQm4ARfIAQzYAQHoAQGIAgGoAgO4AsymyK4GwAIB0gIkYmZhY2M2MmEtZmU0MC00OTFkLTlmODUtNDdiNTk4OTlkM2I42AIF4AIB&sid=190f0b8446e0e3c4a2161110b588d069&aid=304142&ss=Bangalore&ssne=Bangalore&ssne_untouched=Bangalore&lang=en-gb&sb=1&src_elem=sb&src=searchresults&dest_id=-2090174&dest_type=city&checkin=2024-02-18&checkout=2024-02-27&group_adults=1&no_rooms=1&group_children=0&offset={}'.format(i)\n",
        "  setup(url)\n",
        "  i+=25\n",
        "  j+=1"
      ],
      "metadata": {
        "id": "EI3Gf38OFKLy"
      },
      "execution_count": 147,
      "outputs": []
    },
    {
      "cell_type": "code",
      "source": [
        "len(names),len(prices),len(reviews),len(ratings)"
      ],
      "metadata": {
        "colab": {
          "base_uri": "https://localhost:8080/"
        },
        "id": "6gYJK1TsFWJM",
        "outputId": "58449cdd-cbe9-4363-a220-b3de26353a0f"
      },
      "execution_count": 148,
      "outputs": [
        {
          "output_type": "execute_result",
          "data": {
            "text/plain": [
              "(15746, 15746, 14261, 14206)"
            ]
          },
          "metadata": {},
          "execution_count": 148
        }
      ]
    },
    {
      "cell_type": "code",
      "source": [
        "temp_stay=[9]*675\n",
        "stay.extend(temp_stay)"
      ],
      "metadata": {
        "id": "CYpVbQxNFmT7"
      },
      "execution_count": 149,
      "outputs": []
    },
    {
      "cell_type": "code",
      "source": [
        "setup('https://www.booking.com/searchresults.en-gb.html?ss=Bangalore&ssne=Bangalore&ssne_untouched=Bangalore&label=gen173nr-1BCAEoggI46AdIM1gEaGyIAQGYAQm4ARfIAQzYAQHoAQGIAgGoAgO4AsymyK4GwAIB0gIkYmZhY2M2MmEtZmU0MC00OTFkLTlmODUtNDdiNTk4OTlkM2I42AIF4AIB&sid=190f0b8446e0e3c4a2161110b588d069&aid=304142&lang=en-gb&sb=1&src_elem=sb&src=searchresults&dest_id=-2090174&dest_type=city&checkin=2024-02-18&checkout=2024-03-01&group_adults=1&no_rooms=1&group_children=0')"
      ],
      "metadata": {
        "id": "MgDV3VDGFr31"
      },
      "execution_count": 150,
      "outputs": []
    },
    {
      "cell_type": "code",
      "source": [
        "i=25\n",
        "j=2\n",
        "for j in range(26):\n",
        "  url='https://www.booking.com/searchresults.en-gb.html?label=gen173nr-1BCAEoggI46AdIM1gEaGyIAQGYAQm4ARfIAQzYAQHoAQGIAgGoAgO4AsymyK4GwAIB0gIkYmZhY2M2MmEtZmU0MC00OTFkLTlmODUtNDdiNTk4OTlkM2I42AIF4AIB&sid=190f0b8446e0e3c4a2161110b588d069&aid=304142&ss=Bangalore&ssne=Bangalore&ssne_untouched=Bangalore&lang=en-gb&sb=1&src_elem=sb&src=searchresults&dest_id=-2090174&dest_type=city&checkin=2024-02-18&checkout=2024-03-01&group_adults=1&no_rooms=1&group_children=0&offset={}'.format(i)\n",
        "  setup(url)\n",
        "  i+=25\n",
        "  j+=1"
      ],
      "metadata": {
        "id": "-xQlG8CIFv6_"
      },
      "execution_count": 151,
      "outputs": []
    },
    {
      "cell_type": "code",
      "source": [
        "len(names),len(prices),len(reviews),len(ratings)"
      ],
      "metadata": {
        "colab": {
          "base_uri": "https://localhost:8080/"
        },
        "id": "mEaw-XQSF9Pn",
        "outputId": "bc5c8c9a-ff53-4746-8a5d-a1774b7d84e5"
      },
      "execution_count": 152,
      "outputs": [
        {
          "output_type": "execute_result",
          "data": {
            "text/plain": [
              "(16421, 16421, 14875, 14819)"
            ]
          },
          "metadata": {},
          "execution_count": 152
        }
      ]
    },
    {
      "cell_type": "code",
      "source": [
        "temp_stay=[13]*675\n",
        "stay.extend(temp_stay)"
      ],
      "metadata": {
        "id": "-nyxqjSOGMU3"
      },
      "execution_count": 153,
      "outputs": []
    },
    {
      "cell_type": "code",
      "source": [
        "temp_city=['Bangalore']*3375\n",
        "city.extend(temp_city)"
      ],
      "metadata": {
        "id": "trJm59DQGS_l"
      },
      "execution_count": 154,
      "outputs": []
    },
    {
      "cell_type": "code",
      "source": [
        "dict={'name':names,'ratings':ratings,'reviews':reviews,'price':prices,'city':city}"
      ],
      "metadata": {
        "id": "uyLi0tjMGfDF"
      },
      "execution_count": 155,
      "outputs": []
    },
    {
      "cell_type": "code",
      "source": [
        "sum=0\n",
        "for rating in ratings:\n",
        "  sum +=float(rating)"
      ],
      "metadata": {
        "id": "SE4pmUbuG5pi"
      },
      "execution_count": 160,
      "outputs": []
    },
    {
      "cell_type": "code",
      "source": [
        "sum"
      ],
      "metadata": {
        "colab": {
          "base_uri": "https://localhost:8080/"
        },
        "id": "sl8J5T4OG-L-",
        "outputId": "8f4e4d0b-97a1-4180-8ec6-12cde7a66ced"
      },
      "execution_count": 161,
      "outputs": [
        {
          "output_type": "execute_result",
          "data": {
            "text/plain": [
              "103117.59999999842"
            ]
          },
          "metadata": {},
          "execution_count": 161
        }
      ]
    },
    {
      "cell_type": "code",
      "source": [
        "mean=sum/len(ratings)"
      ],
      "metadata": {
        "id": "Z9u1ME5DIU6d"
      },
      "execution_count": 162,
      "outputs": []
    },
    {
      "cell_type": "code",
      "source": [
        "mean=str(mean)"
      ],
      "metadata": {
        "id": "y9TGKxY0IZVM"
      },
      "execution_count": 164,
      "outputs": []
    },
    {
      "cell_type": "code",
      "source": [
        "temp_ratings=[mean]*1602\n",
        "ratings.extend(temp_ratings)"
      ],
      "metadata": {
        "id": "rKv3dzrsIdD7"
      },
      "execution_count": 165,
      "outputs": []
    },
    {
      "cell_type": "code",
      "source": [
        "len(ratings)"
      ],
      "metadata": {
        "id": "kUpfY9_NIzui",
        "outputId": "52b4e2cb-ff63-4293-e9ec-f3ef11bc7036",
        "colab": {
          "base_uri": "https://localhost:8080/"
        }
      },
      "execution_count": 166,
      "outputs": [
        {
          "output_type": "execute_result",
          "data": {
            "text/plain": [
              "16421"
            ]
          },
          "metadata": {},
          "execution_count": 166
        }
      ]
    },
    {
      "cell_type": "code",
      "source": [
        "temp_reviews=['Good']*1546\n",
        "reviews.extend(temp_reviews)"
      ],
      "metadata": {
        "id": "yta1QzcqI1Vt"
      },
      "execution_count": 167,
      "outputs": []
    },
    {
      "cell_type": "code",
      "source": [
        "len(reviews)"
      ],
      "metadata": {
        "id": "O5gIYIlMJEVA",
        "outputId": "7cc2b15c-6c19-41b0-dd66-dbc73ea19313",
        "colab": {
          "base_uri": "https://localhost:8080/"
        }
      },
      "execution_count": 168,
      "outputs": [
        {
          "output_type": "execute_result",
          "data": {
            "text/plain": [
              "16421"
            ]
          },
          "metadata": {},
          "execution_count": 168
        }
      ]
    },
    {
      "cell_type": "code",
      "source": [
        "len(names),len(prices),len(reviews),len(ratings)"
      ],
      "metadata": {
        "id": "sRWRu8LhJIbF",
        "outputId": "768f794f-970c-4ecc-83bd-e39d4ade5c58",
        "colab": {
          "base_uri": "https://localhost:8080/"
        }
      },
      "execution_count": 169,
      "outputs": [
        {
          "output_type": "execute_result",
          "data": {
            "text/plain": [
              "(16421, 16421, 16421, 16421)"
            ]
          },
          "metadata": {},
          "execution_count": 169
        }
      ]
    },
    {
      "cell_type": "code",
      "source": [
        "dict={'name':names,'ratings':ratings,'reviews':reviews,'price':prices,'city':city}"
      ],
      "metadata": {
        "id": "YKmOMruOJMVg"
      },
      "execution_count": 170,
      "outputs": []
    },
    {
      "cell_type": "code",
      "source": [
        "df=pd.DataFrame(dict)"
      ],
      "metadata": {
        "id": "OcqK8goIJPDZ"
      },
      "execution_count": 171,
      "outputs": []
    },
    {
      "cell_type": "code",
      "source": [
        "df.head()"
      ],
      "metadata": {
        "id": "6__MnKlwJRpM",
        "outputId": "c504b1e8-dd43-4120-f7be-31eb2f6d6243",
        "colab": {
          "base_uri": "https://localhost:8080/",
          "height": 206
        }
      },
      "execution_count": 172,
      "outputs": [
        {
          "output_type": "execute_result",
          "data": {
            "text/plain": [
              "                                                name ratings    reviews price  \\\n",
              "0  Home2 Suites and Service Apartments, Mumbai Ai...     7.8       Good    84   \n",
              "1                                   The Leela Mumbai     8.6   Fabulous   293   \n",
              "2            Grand Hyatt Mumbai Hotel and Residences     8.1  Very good   325   \n",
              "3  Fairfield by Marriott Mumbai International Air...     8.1  Very good   283   \n",
              "4                                 Sofitel Mumbai BKC     8.2  Very good   410   \n",
              "\n",
              "     city  \n",
              "0  Mumbai  \n",
              "1  Mumbai  \n",
              "2  Mumbai  \n",
              "3  Mumbai  \n",
              "4  Mumbai  "
            ],
            "text/html": [
              "\n",
              "  <div id=\"df-233d7668-d941-4479-9bbb-27c8765c3fec\" class=\"colab-df-container\">\n",
              "    <div>\n",
              "<style scoped>\n",
              "    .dataframe tbody tr th:only-of-type {\n",
              "        vertical-align: middle;\n",
              "    }\n",
              "\n",
              "    .dataframe tbody tr th {\n",
              "        vertical-align: top;\n",
              "    }\n",
              "\n",
              "    .dataframe thead th {\n",
              "        text-align: right;\n",
              "    }\n",
              "</style>\n",
              "<table border=\"1\" class=\"dataframe\">\n",
              "  <thead>\n",
              "    <tr style=\"text-align: right;\">\n",
              "      <th></th>\n",
              "      <th>name</th>\n",
              "      <th>ratings</th>\n",
              "      <th>reviews</th>\n",
              "      <th>price</th>\n",
              "      <th>city</th>\n",
              "    </tr>\n",
              "  </thead>\n",
              "  <tbody>\n",
              "    <tr>\n",
              "      <th>0</th>\n",
              "      <td>Home2 Suites and Service Apartments, Mumbai Ai...</td>\n",
              "      <td>7.8</td>\n",
              "      <td>Good</td>\n",
              "      <td>84</td>\n",
              "      <td>Mumbai</td>\n",
              "    </tr>\n",
              "    <tr>\n",
              "      <th>1</th>\n",
              "      <td>The Leela Mumbai</td>\n",
              "      <td>8.6</td>\n",
              "      <td>Fabulous</td>\n",
              "      <td>293</td>\n",
              "      <td>Mumbai</td>\n",
              "    </tr>\n",
              "    <tr>\n",
              "      <th>2</th>\n",
              "      <td>Grand Hyatt Mumbai Hotel and Residences</td>\n",
              "      <td>8.1</td>\n",
              "      <td>Very good</td>\n",
              "      <td>325</td>\n",
              "      <td>Mumbai</td>\n",
              "    </tr>\n",
              "    <tr>\n",
              "      <th>3</th>\n",
              "      <td>Fairfield by Marriott Mumbai International Air...</td>\n",
              "      <td>8.1</td>\n",
              "      <td>Very good</td>\n",
              "      <td>283</td>\n",
              "      <td>Mumbai</td>\n",
              "    </tr>\n",
              "    <tr>\n",
              "      <th>4</th>\n",
              "      <td>Sofitel Mumbai BKC</td>\n",
              "      <td>8.2</td>\n",
              "      <td>Very good</td>\n",
              "      <td>410</td>\n",
              "      <td>Mumbai</td>\n",
              "    </tr>\n",
              "  </tbody>\n",
              "</table>\n",
              "</div>\n",
              "    <div class=\"colab-df-buttons\">\n",
              "\n",
              "  <div class=\"colab-df-container\">\n",
              "    <button class=\"colab-df-convert\" onclick=\"convertToInteractive('df-233d7668-d941-4479-9bbb-27c8765c3fec')\"\n",
              "            title=\"Convert this dataframe to an interactive table.\"\n",
              "            style=\"display:none;\">\n",
              "\n",
              "  <svg xmlns=\"http://www.w3.org/2000/svg\" height=\"24px\" viewBox=\"0 -960 960 960\">\n",
              "    <path d=\"M120-120v-720h720v720H120Zm60-500h600v-160H180v160Zm220 220h160v-160H400v160Zm0 220h160v-160H400v160ZM180-400h160v-160H180v160Zm440 0h160v-160H620v160ZM180-180h160v-160H180v160Zm440 0h160v-160H620v160Z\"/>\n",
              "  </svg>\n",
              "    </button>\n",
              "\n",
              "  <style>\n",
              "    .colab-df-container {\n",
              "      display:flex;\n",
              "      gap: 12px;\n",
              "    }\n",
              "\n",
              "    .colab-df-convert {\n",
              "      background-color: #E8F0FE;\n",
              "      border: none;\n",
              "      border-radius: 50%;\n",
              "      cursor: pointer;\n",
              "      display: none;\n",
              "      fill: #1967D2;\n",
              "      height: 32px;\n",
              "      padding: 0 0 0 0;\n",
              "      width: 32px;\n",
              "    }\n",
              "\n",
              "    .colab-df-convert:hover {\n",
              "      background-color: #E2EBFA;\n",
              "      box-shadow: 0px 1px 2px rgba(60, 64, 67, 0.3), 0px 1px 3px 1px rgba(60, 64, 67, 0.15);\n",
              "      fill: #174EA6;\n",
              "    }\n",
              "\n",
              "    .colab-df-buttons div {\n",
              "      margin-bottom: 4px;\n",
              "    }\n",
              "\n",
              "    [theme=dark] .colab-df-convert {\n",
              "      background-color: #3B4455;\n",
              "      fill: #D2E3FC;\n",
              "    }\n",
              "\n",
              "    [theme=dark] .colab-df-convert:hover {\n",
              "      background-color: #434B5C;\n",
              "      box-shadow: 0px 1px 3px 1px rgba(0, 0, 0, 0.15);\n",
              "      filter: drop-shadow(0px 1px 2px rgba(0, 0, 0, 0.3));\n",
              "      fill: #FFFFFF;\n",
              "    }\n",
              "  </style>\n",
              "\n",
              "    <script>\n",
              "      const buttonEl =\n",
              "        document.querySelector('#df-233d7668-d941-4479-9bbb-27c8765c3fec button.colab-df-convert');\n",
              "      buttonEl.style.display =\n",
              "        google.colab.kernel.accessAllowed ? 'block' : 'none';\n",
              "\n",
              "      async function convertToInteractive(key) {\n",
              "        const element = document.querySelector('#df-233d7668-d941-4479-9bbb-27c8765c3fec');\n",
              "        const dataTable =\n",
              "          await google.colab.kernel.invokeFunction('convertToInteractive',\n",
              "                                                    [key], {});\n",
              "        if (!dataTable) return;\n",
              "\n",
              "        const docLinkHtml = 'Like what you see? Visit the ' +\n",
              "          '<a target=\"_blank\" href=https://colab.research.google.com/notebooks/data_table.ipynb>data table notebook</a>'\n",
              "          + ' to learn more about interactive tables.';\n",
              "        element.innerHTML = '';\n",
              "        dataTable['output_type'] = 'display_data';\n",
              "        await google.colab.output.renderOutput(dataTable, element);\n",
              "        const docLink = document.createElement('div');\n",
              "        docLink.innerHTML = docLinkHtml;\n",
              "        element.appendChild(docLink);\n",
              "      }\n",
              "    </script>\n",
              "  </div>\n",
              "\n",
              "\n",
              "<div id=\"df-b56c704f-8676-4701-9853-3f0ff11a6cd9\">\n",
              "  <button class=\"colab-df-quickchart\" onclick=\"quickchart('df-b56c704f-8676-4701-9853-3f0ff11a6cd9')\"\n",
              "            title=\"Suggest charts\"\n",
              "            style=\"display:none;\">\n",
              "\n",
              "<svg xmlns=\"http://www.w3.org/2000/svg\" height=\"24px\"viewBox=\"0 0 24 24\"\n",
              "     width=\"24px\">\n",
              "    <g>\n",
              "        <path d=\"M19 3H5c-1.1 0-2 .9-2 2v14c0 1.1.9 2 2 2h14c1.1 0 2-.9 2-2V5c0-1.1-.9-2-2-2zM9 17H7v-7h2v7zm4 0h-2V7h2v10zm4 0h-2v-4h2v4z\"/>\n",
              "    </g>\n",
              "</svg>\n",
              "  </button>\n",
              "\n",
              "<style>\n",
              "  .colab-df-quickchart {\n",
              "      --bg-color: #E8F0FE;\n",
              "      --fill-color: #1967D2;\n",
              "      --hover-bg-color: #E2EBFA;\n",
              "      --hover-fill-color: #174EA6;\n",
              "      --disabled-fill-color: #AAA;\n",
              "      --disabled-bg-color: #DDD;\n",
              "  }\n",
              "\n",
              "  [theme=dark] .colab-df-quickchart {\n",
              "      --bg-color: #3B4455;\n",
              "      --fill-color: #D2E3FC;\n",
              "      --hover-bg-color: #434B5C;\n",
              "      --hover-fill-color: #FFFFFF;\n",
              "      --disabled-bg-color: #3B4455;\n",
              "      --disabled-fill-color: #666;\n",
              "  }\n",
              "\n",
              "  .colab-df-quickchart {\n",
              "    background-color: var(--bg-color);\n",
              "    border: none;\n",
              "    border-radius: 50%;\n",
              "    cursor: pointer;\n",
              "    display: none;\n",
              "    fill: var(--fill-color);\n",
              "    height: 32px;\n",
              "    padding: 0;\n",
              "    width: 32px;\n",
              "  }\n",
              "\n",
              "  .colab-df-quickchart:hover {\n",
              "    background-color: var(--hover-bg-color);\n",
              "    box-shadow: 0 1px 2px rgba(60, 64, 67, 0.3), 0 1px 3px 1px rgba(60, 64, 67, 0.15);\n",
              "    fill: var(--button-hover-fill-color);\n",
              "  }\n",
              "\n",
              "  .colab-df-quickchart-complete:disabled,\n",
              "  .colab-df-quickchart-complete:disabled:hover {\n",
              "    background-color: var(--disabled-bg-color);\n",
              "    fill: var(--disabled-fill-color);\n",
              "    box-shadow: none;\n",
              "  }\n",
              "\n",
              "  .colab-df-spinner {\n",
              "    border: 2px solid var(--fill-color);\n",
              "    border-color: transparent;\n",
              "    border-bottom-color: var(--fill-color);\n",
              "    animation:\n",
              "      spin 1s steps(1) infinite;\n",
              "  }\n",
              "\n",
              "  @keyframes spin {\n",
              "    0% {\n",
              "      border-color: transparent;\n",
              "      border-bottom-color: var(--fill-color);\n",
              "      border-left-color: var(--fill-color);\n",
              "    }\n",
              "    20% {\n",
              "      border-color: transparent;\n",
              "      border-left-color: var(--fill-color);\n",
              "      border-top-color: var(--fill-color);\n",
              "    }\n",
              "    30% {\n",
              "      border-color: transparent;\n",
              "      border-left-color: var(--fill-color);\n",
              "      border-top-color: var(--fill-color);\n",
              "      border-right-color: var(--fill-color);\n",
              "    }\n",
              "    40% {\n",
              "      border-color: transparent;\n",
              "      border-right-color: var(--fill-color);\n",
              "      border-top-color: var(--fill-color);\n",
              "    }\n",
              "    60% {\n",
              "      border-color: transparent;\n",
              "      border-right-color: var(--fill-color);\n",
              "    }\n",
              "    80% {\n",
              "      border-color: transparent;\n",
              "      border-right-color: var(--fill-color);\n",
              "      border-bottom-color: var(--fill-color);\n",
              "    }\n",
              "    90% {\n",
              "      border-color: transparent;\n",
              "      border-bottom-color: var(--fill-color);\n",
              "    }\n",
              "  }\n",
              "</style>\n",
              "\n",
              "  <script>\n",
              "    async function quickchart(key) {\n",
              "      const quickchartButtonEl =\n",
              "        document.querySelector('#' + key + ' button');\n",
              "      quickchartButtonEl.disabled = true;  // To prevent multiple clicks.\n",
              "      quickchartButtonEl.classList.add('colab-df-spinner');\n",
              "      try {\n",
              "        const charts = await google.colab.kernel.invokeFunction(\n",
              "            'suggestCharts', [key], {});\n",
              "      } catch (error) {\n",
              "        console.error('Error during call to suggestCharts:', error);\n",
              "      }\n",
              "      quickchartButtonEl.classList.remove('colab-df-spinner');\n",
              "      quickchartButtonEl.classList.add('colab-df-quickchart-complete');\n",
              "    }\n",
              "    (() => {\n",
              "      let quickchartButtonEl =\n",
              "        document.querySelector('#df-b56c704f-8676-4701-9853-3f0ff11a6cd9 button');\n",
              "      quickchartButtonEl.style.display =\n",
              "        google.colab.kernel.accessAllowed ? 'block' : 'none';\n",
              "    })();\n",
              "  </script>\n",
              "</div>\n",
              "\n",
              "    </div>\n",
              "  </div>\n"
            ],
            "application/vnd.google.colaboratory.intrinsic+json": {
              "type": "dataframe",
              "variable_name": "df",
              "summary": "{\n  \"name\": \"df\",\n  \"rows\": 16421,\n  \"fields\": [\n    {\n      \"column\": \"name\",\n      \"properties\": {\n        \"dtype\": \"category\",\n        \"samples\": [\n          \"Icon Business Hotel by Bhagini\",\n          \"Holiday Inn Express Pune Hinjewadi, an IHG Hotel\",\n          \"Hotel Mahi\"\n        ],\n        \"num_unique_values\": 3940,\n        \"semantic_type\": \"\",\n        \"description\": \"\"\n      }\n    },\n    {\n      \"column\": \"ratings\",\n      \"properties\": {\n        \"dtype\": \"category\",\n        \"samples\": [\n          \"4.7\",\n          \"6.7\",\n          \"5.1\"\n        ],\n        \"num_unique_values\": 91,\n        \"semantic_type\": \"\",\n        \"description\": \"\"\n      }\n    },\n    {\n      \"column\": \"reviews\",\n      \"properties\": {\n        \"dtype\": \"category\",\n        \"samples\": [\n          \"Exceptional 9.8\",\n          \"Good 7.3\",\n          \"Good\"\n        ],\n        \"num_unique_values\": 12,\n        \"semantic_type\": \"\",\n        \"description\": \"\"\n      }\n    },\n    {\n      \"column\": \"price\",\n      \"properties\": {\n        \"dtype\": \"category\",\n        \"samples\": [\n          \"106\",\n          \"2,700\",\n          \"357\"\n        ],\n        \"num_unique_values\": 1064,\n        \"semantic_type\": \"\",\n        \"description\": \"\"\n      }\n    },\n    {\n      \"column\": \"city\",\n      \"properties\": {\n        \"dtype\": \"category\",\n        \"samples\": [\n          \"Mumbai\",\n          \"Pune\",\n          \"Bangalore\"\n        ],\n        \"num_unique_values\": 6,\n        \"semantic_type\": \"\",\n        \"description\": \"\"\n      }\n    }\n  ]\n}"
            }
          },
          "metadata": {},
          "execution_count": 172
        }
      ]
    },
    {
      "cell_type": "code",
      "source": [
        "df.to_csv('dataset.csv', index=False)"
      ],
      "metadata": {
        "id": "_ub_6el3JTqk"
      },
      "execution_count": 173,
      "outputs": []
    },
    {
      "cell_type": "code",
      "source": [],
      "metadata": {
        "id": "t5v8PFNKJlTm"
      },
      "execution_count": null,
      "outputs": []
    }
  ]
}