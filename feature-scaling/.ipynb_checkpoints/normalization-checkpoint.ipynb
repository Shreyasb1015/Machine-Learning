{
 "cells": [
  {
   "cell_type": "markdown",
   "id": "8e3c0ade-2b7b-49cf-bbce-3491bc95a0e5",
   "metadata": {},
   "source": [
    "### Normalization"
   ]
  },
  {
   "cell_type": "markdown",
   "id": "a44fe017-3e83-4c87-9008-434311e4cf6b",
   "metadata": {},
   "source": [
    "##### Normalization is a technique often applied as a part of data preparation for ml.The goal of normalization is to change the values of numeric columns in the dataset,to use common scale ,without distorting differences in ranges of values or loosing information.It eliminates the unit and only keeps the magnitude of values.For .e.g if value is 100 kg ,kg will be eliminated and the magnitude i.e 100 will be scaled to get a common scaling range."
   ]
  },
  {
   "cell_type": "markdown",
   "id": "da0e3ce0-87b1-429d-bd50-5a31c33fdff3",
   "metadata": {},
   "source": [
    "##### Types of normalization :-\n",
    "#####  1) Minmax scaling\n",
    "#####  2) Mean Normalization\n",
    "#####  3) Maxabs scaling\n",
    "#####  4) Robust scaling\n"
   ]
  },
  {
   "cell_type": "code",
   "execution_count": null,
   "id": "b3ad4489-7413-4b67-b9d8-17aaa65cd976",
   "metadata": {},
   "outputs": [],
   "source": []
  }
 ],
 "metadata": {
  "kernelspec": {
   "display_name": "Python 3 (ipykernel)",
   "language": "python",
   "name": "python3"
  },
  "language_info": {
   "codemirror_mode": {
    "name": "ipython",
    "version": 3
   },
   "file_extension": ".py",
   "mimetype": "text/x-python",
   "name": "python",
   "nbconvert_exporter": "python",
   "pygments_lexer": "ipython3",
   "version": "3.11.5"
  }
 },
 "nbformat": 4,
 "nbformat_minor": 5
}
