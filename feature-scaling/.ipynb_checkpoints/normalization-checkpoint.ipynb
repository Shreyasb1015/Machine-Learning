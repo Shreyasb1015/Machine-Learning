{
 "cells": [
  {
   "cell_type": "markdown",
   "id": "8e3c0ade-2b7b-49cf-bbce-3491bc95a0e5",
   "metadata": {},
   "source": [
    "### Normalization"
   ]
  },
  {
   "cell_type": "markdown",
   "id": "a44fe017-3e83-4c87-9008-434311e4cf6b",
   "metadata": {},
   "source": [
    "##### Normalization is a technique often applied as a part of data preparation for ml.The goal of normalization is to change the values of numeric columns in the dataset,to use common scale ,without distorting differences in ranges of values or loosing information.It eliminates the unit and only keeps the magnitude of values.For .e.g if value is 100 kg ,kg will be eliminated and the magnitude i.e 100 will be scaled to get a common scaling range."
   ]
  },
  {
   "cell_type": "code",
   "execution_count": null,
   "id": "66c7c45f-faca-42d5-81f0-9221bf0b00b4",
   "metadata": {},
   "outputs": [],
   "source": []
  }
 ],
 "metadata": {
  "kernelspec": {
   "display_name": "Python 3 (ipykernel)",
   "language": "python",
   "name": "python3"
  },
  "language_info": {
   "codemirror_mode": {
    "name": "ipython",
    "version": 3
   },
   "file_extension": ".py",
   "mimetype": "text/x-python",
   "name": "python",
   "nbconvert_exporter": "python",
   "pygments_lexer": "ipython3",
   "version": "3.11.5"
  }
 },
 "nbformat": 4,
 "nbformat_minor": 5
}
