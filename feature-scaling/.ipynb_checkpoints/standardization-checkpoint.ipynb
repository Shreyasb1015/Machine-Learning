{
 "cells": [
  {
   "cell_type": "markdown",
   "id": "cd0f561a-3dbb-40e4-ac6d-135c690c2d8f",
   "metadata": {},
   "source": [
    "##### Feature scaling has mainly two types i.e standardization and normalization.For now,we will look for standradization."
   ]
  },
  {
   "cell_type": "markdown",
   "id": "cdc87d1e-9995-4f4b-ae62-97bc78726559",
   "metadata": {},
   "source": [
    "##### Standardization is also called z-score normalization.The basic geomatrical intituion behind standradisation is to bring all the values in specific range.After performing standardization, mean of the column/data is obtained as zero and standard deviation is obtained as 1. While standardization,the group of data points is brought to origin so as to obtain their mean as zero.If previous standrad deviation was more than 1,then data points are compressed to smaller region so as to get standrad deviation as 1,whereas if it was less than 1 ,then this data points are expanded to obtain standard deviation as 1."
   ]
  },
  {
   "cell_type": "code",
   "execution_count": null,
   "id": "95ef125e-0e16-47dc-bc03-c80b5fddd214",
   "metadata": {},
   "outputs": [],
   "source": []
  }
 ],
 "metadata": {
  "kernelspec": {
   "display_name": "Python 3 (ipykernel)",
   "language": "python",
   "name": "python3"
  },
  "language_info": {
   "codemirror_mode": {
    "name": "ipython",
    "version": 3
   },
   "file_extension": ".py",
   "mimetype": "text/x-python",
   "name": "python",
   "nbconvert_exporter": "python",
   "pygments_lexer": "ipython3",
   "version": "3.11.5"
  }
 },
 "nbformat": 4,
 "nbformat_minor": 5
}
