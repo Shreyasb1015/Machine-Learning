{
 "cells": [
  {
   "cell_type": "markdown",
   "id": "896fa5f4-0d32-4012-ae8a-41ffbc8e2cc5",
   "metadata": {},
   "source": [
    "## Web Scrapping\n"
   ]
  },
  {
   "cell_type": "markdown",
   "id": "fa155648-9fba-4bff-8bba-fcb1dc0867c5",
   "metadata": {},
   "source": [
    "##### Whenever a website from which we need data isn't providing api,the only option left to get that data is web scrapping."
   ]
  },
  {
   "cell_type": "markdown",
   "id": "c45eea67-f8d0-4c98-b39f-0285d01f5a24",
   "metadata": {},
   "source": [
    "##### For web-scrapping , we need  BeautifulSoup library form the bs4 package."
   ]
  },
  {
   "cell_type": "code",
   "execution_count": 119,
   "id": "494f6a66-4535-4693-8090-0efb275ac925",
   "metadata": {
    "tags": []
   },
   "outputs": [],
   "source": [
    "import pandas as pd\n",
    "import requests\n",
    "from bs4 import BeautifulSoup"
   ]
  },
  {
   "cell_type": "markdown",
   "id": "fbd8efff-5dcb-4eb6-a424-fc97132461a3",
   "metadata": {},
   "source": [
    "##### In the case of some websites ,when we try to web scrap data from their website , access is denied from them as they dont want any bot like us to scrap their data .In such cases ,we get repsonse 403 which means permission is denied .We can have a look to it -->\n"
   ]
  },
  {
   "cell_type": "code",
   "execution_count": 120,
   "id": "f5863cc8-cbb4-4547-b78a-500e0ff25d32",
   "metadata": {
    "tags": []
   },
   "outputs": [
    {
     "data": {
      "text/plain": [
       "<Response [403]>"
      ]
     },
     "execution_count": 120,
     "metadata": {},
     "output_type": "execute_result"
    }
   ],
   "source": [
    "requests.get('https://www.ambitionbox.com/list-of-companies?page=1')\n"
   ]
  },
  {
   "cell_type": "markdown",
   "id": "07e4a97b-779c-417d-9ea9-f407fbad6c86",
   "metadata": {},
   "source": [
    "##### We can actually get more info about this error using text attribute."
   ]
  },
  {
   "cell_type": "code",
   "execution_count": 121,
   "id": "bac75cff-3788-42fe-9937-89059902989d",
   "metadata": {
    "tags": []
   },
   "outputs": [
    {
     "data": {
      "text/plain": [
       "'<HTML><HEAD>\\n<TITLE>Access Denied</TITLE>\\n</HEAD><BODY>\\n<H1>Access Denied</H1>\\n \\nYou don\\'t have permission to access \"http&#58;&#47;&#47;www&#46;ambitionbox&#46;com&#47;list&#45;of&#45;companies&#63;\" on this server.<P>\\nReference&#32;&#35;18&#46;b5fed417&#46;1702040695&#46;74ef948a\\n</BODY>\\n</HTML>\\n'"
      ]
     },
     "execution_count": 121,
     "metadata": {},
     "output_type": "execute_result"
    }
   ],
   "source": [
    "requests.get('https://www.ambitionbox.com/list-of-companies?page=1').text"
   ]
  },
  {
   "cell_type": "markdown",
   "id": "4d302f82-3522-4195-b374-f6cc4a09b9a4",
   "metadata": {},
   "source": [
    "##### In such cases ,we use a parameter called headers to make the webiste believe that request is made by any human via a browser.So in this case,it grants us acces."
   ]
  },
  {
   "cell_type": "code",
   "execution_count": 122,
   "id": "c14a23da-588b-48e7-a8ea-cd47633a29cc",
   "metadata": {
    "tags": []
   },
   "outputs": [],
   "source": [
    "headers={'User-Agent':'Mozilla/5.0 (Windows NT 6.3; Win 64 ; x64) Apple WeKit /537.36(KHTML , like Gecko) Chrome/80.0.3987.162 Safari/537.36'}"
   ]
  },
  {
   "cell_type": "code",
   "execution_count": 123,
   "id": "1ebb2aba-c2c2-45a8-aa72-4d89e00cd8e7",
   "metadata": {
    "tags": []
   },
   "outputs": [],
   "source": [
    "webpage=requests.get('https://www.ambitionbox.com/list-of-companies?page=1',headers=headers).text"
   ]
  },
  {
   "cell_type": "markdown",
   "id": "2d64964b-411e-4be8-852e-4b608fa728ec",
   "metadata": {},
   "source": [
    "##### So ,in above line we have stored all the html cotnet of webpage inside the webpage variable."
   ]
  },
  {
   "cell_type": "markdown",
   "id": "5ead755c-3a2e-4db2-bf50-cd0bbd2ebe0f",
   "metadata": {},
   "source": [
    "##### Now beautifulsoup is used to extract the data that we want from the fetched hmtl content. We use BeautifulSoup() which takes 2 arguments ,contents of webpage i.e in our case is stored in webpage and second is html parser format which is 'lxml'."
   ]
  },
  {
   "cell_type": "code",
   "execution_count": 124,
   "id": "af124e17-5ead-4f5f-aa2e-8d2a075ac702",
   "metadata": {
    "tags": []
   },
   "outputs": [],
   "source": [
    "soup=BeautifulSoup(webpage, 'lxml')"
   ]
  },
  {
   "cell_type": "markdown",
   "id": "0e58604c-8378-429b-b0cb-fa371f318ced",
   "metadata": {},
   "source": [
    "##### Now we can access the BeautifulSoup class functions and attributes as we have create aobject of it called as soup.We have prettify() which is used to make our html content look pretty i.e in nice order .You should print it ,so as it to see its output.This step helps us in understanding the structure of webpge."
   ]
  },
  {
   "cell_type": "code",
   "execution_count": 125,
   "id": "847beb46-f2fa-4f23-80c0-df6fbd8b2329",
   "metadata": {
    "tags": []
   },
   "outputs": [],
   "source": [
    "####print(soup.prettify())"
   ]
  },
  {
   "cell_type": "markdown",
   "id": "019c5a32-6b77-46da-bb83-fac07ff2d348",
   "metadata": {},
   "source": [
    "##### We use find_all() to find any div/tags or anythin.For e.g if we want to find all the h1 tags on the webpage,we can pass it as argument."
   ]
  },
  {
   "cell_type": "code",
   "execution_count": 126,
   "id": "5649e060-5789-40ee-9be3-b4e016192b24",
   "metadata": {
    "tags": []
   },
   "outputs": [
    {
     "data": {
      "text/plain": [
       "[<h1 class=\"companyListing__title\">\n",
       " \t\t\t\t\t\t\tList of companies in India\n",
       " \t\t\t\t\t\t</h1>]"
      ]
     },
     "execution_count": 126,
     "metadata": {},
     "output_type": "execute_result"
    }
   ],
   "source": [
    "soup.find_all('h1')"
   ]
  },
  {
   "cell_type": "markdown",
   "id": "01c9d49e-de81-4083-9630-a3793347e72f",
   "metadata": {},
   "source": [
    "##### As we can see ,there is only one h1 tag element.It is stored in list.To access the text inside this element .we can use [ ] as we are working with list and select 0 as list only has one element and we want to fetch first elements detail."
   ]
  },
  {
   "cell_type": "code",
   "execution_count": 127,
   "id": "eedcdabd-76a3-4fba-9cc7-74b3f244adb8",
   "metadata": {
    "tags": []
   },
   "outputs": [
    {
     "data": {
      "text/plain": [
       "<h1 class=\"companyListing__title\">\n",
       "\t\t\t\t\t\t\tList of companies in India\n",
       "\t\t\t\t\t\t</h1>"
      ]
     },
     "execution_count": 127,
     "metadata": {},
     "output_type": "execute_result"
    }
   ],
   "source": [
    "soup.find_all('h1')[0]"
   ]
  },
  {
   "cell_type": "markdown",
   "id": "7aa4a5b8-3175-473e-a3bd-c15b13272e68",
   "metadata": {},
   "source": [
    "##### Now ,to extract the text ,we can use text attribute."
   ]
  },
  {
   "cell_type": "code",
   "execution_count": 128,
   "id": "2d54bf40-d08e-43df-8818-2a8f29ef14bd",
   "metadata": {
    "tags": []
   },
   "outputs": [
    {
     "data": {
      "text/plain": [
       "'\\n\\t\\t\\t\\t\\t\\t\\tList of companies in India\\n\\t\\t\\t\\t\\t\\t'"
      ]
     },
     "execution_count": 128,
     "metadata": {},
     "output_type": "execute_result"
    }
   ],
   "source": [
    "soup.find_all('h1')[0].text"
   ]
  },
  {
   "cell_type": "code",
   "execution_count": 129,
   "id": "d58e58c5-1302-4b82-bee3-08895421d269",
   "metadata": {
    "tags": []
   },
   "outputs": [
    {
     "data": {
      "text/plain": [
       "[<h2 class=\"companyCardWrapper__companyName\" title=\"TCS\">\n",
       " \t\t\t\t\t\t\t\t\t\tTCS\n",
       " \t\t\t\t\t\t\t\t\t</h2>,\n",
       " <h2 class=\"companyCardWrapper__companyName\" title=\"Accenture\">\n",
       " \t\t\t\t\t\t\t\t\t\tAccenture\n",
       " \t\t\t\t\t\t\t\t\t</h2>,\n",
       " <h2 class=\"companyCardWrapper__companyName\" title=\"Cognizant\">\n",
       " \t\t\t\t\t\t\t\t\t\tCognizant\n",
       " \t\t\t\t\t\t\t\t\t</h2>,\n",
       " <h2 class=\"companyCardWrapper__companyName\" title=\"Wipro\">\n",
       " \t\t\t\t\t\t\t\t\t\tWipro\n",
       " \t\t\t\t\t\t\t\t\t</h2>,\n",
       " <h2 class=\"companyCardWrapper__companyName\" title=\"HDFC Bank\">\n",
       " \t\t\t\t\t\t\t\t\t\tHDFC Bank\n",
       " \t\t\t\t\t\t\t\t\t</h2>,\n",
       " <h2 class=\"companyCardWrapper__companyName\" title=\"ICICI Bank\">\n",
       " \t\t\t\t\t\t\t\t\t\tICICI Bank\n",
       " \t\t\t\t\t\t\t\t\t</h2>,\n",
       " <h2 class=\"companyCardWrapper__companyName\" title=\"Infosys\">\n",
       " \t\t\t\t\t\t\t\t\t\tInfosys\n",
       " \t\t\t\t\t\t\t\t\t</h2>,\n",
       " <h2 class=\"companyCardWrapper__companyName\" title=\"Capgemini\">\n",
       " \t\t\t\t\t\t\t\t\t\tCapgemini\n",
       " \t\t\t\t\t\t\t\t\t</h2>,\n",
       " <h2 class=\"companyCardWrapper__companyName\" title=\"HCLTech\">\n",
       " \t\t\t\t\t\t\t\t\t\tHCLTech\n",
       " \t\t\t\t\t\t\t\t\t</h2>,\n",
       " <h2 class=\"companyCardWrapper__companyName\" title=\"Tech Mahindra\">\n",
       " \t\t\t\t\t\t\t\t\t\tTech Mahindra\n",
       " \t\t\t\t\t\t\t\t\t</h2>,\n",
       " <h2 class=\"companyCardWrapper__companyName\" title=\"Genpact\">\n",
       " \t\t\t\t\t\t\t\t\t\tGenpact\n",
       " \t\t\t\t\t\t\t\t\t</h2>,\n",
       " <h2 class=\"companyCardWrapper__companyName\" title=\"Axis Bank\">\n",
       " \t\t\t\t\t\t\t\t\t\tAxis Bank\n",
       " \t\t\t\t\t\t\t\t\t</h2>,\n",
       " <h2 class=\"companyCardWrapper__companyName\" title=\"Concentrix Corporation\">\n",
       " \t\t\t\t\t\t\t\t\t\tConcentrix Corporation\n",
       " \t\t\t\t\t\t\t\t\t</h2>,\n",
       " <h2 class=\"companyCardWrapper__companyName\" title=\"Amazon\">\n",
       " \t\t\t\t\t\t\t\t\t\tAmazon\n",
       " \t\t\t\t\t\t\t\t\t</h2>,\n",
       " <h2 class=\"companyCardWrapper__companyName\" title=\"Teleperformance\">\n",
       " \t\t\t\t\t\t\t\t\t\tTeleperformance\n",
       " \t\t\t\t\t\t\t\t\t</h2>,\n",
       " <h2 class=\"companyCardWrapper__companyName\" title=\"Reliance Jio\">\n",
       " \t\t\t\t\t\t\t\t\t\tReliance Jio\n",
       " \t\t\t\t\t\t\t\t\t</h2>,\n",
       " <h2 class=\"companyCardWrapper__companyName\" title=\"IBM\">\n",
       " \t\t\t\t\t\t\t\t\t\tIBM\n",
       " \t\t\t\t\t\t\t\t\t</h2>,\n",
       " <h2 class=\"companyCardWrapper__companyName\" title=\"Larsen &amp; Toubro Limited\">\n",
       " \t\t\t\t\t\t\t\t\t\tLarsen &amp; Toubro Limited\n",
       " \t\t\t\t\t\t\t\t\t</h2>,\n",
       " <h2 class=\"companyCardWrapper__companyName\" title=\"Reliance Retail\">\n",
       " \t\t\t\t\t\t\t\t\t\tReliance Retail\n",
       " \t\t\t\t\t\t\t\t\t</h2>,\n",
       " <h2 class=\"companyCardWrapper__companyName\" title=\"HDB Financial Services\">\n",
       " \t\t\t\t\t\t\t\t\t\tHDB Financial Services\n",
       " \t\t\t\t\t\t\t\t\t</h2>,\n",
       " <h2 class=\"main-title body-medium\">\n",
       " \t\t\tCompanies by  Industry\n",
       " \t\t</h2>,\n",
       " <h2 class=\"main-title body-medium\">\n",
       " \t\t\tCompanies by  Locations\n",
       " \t\t</h2>,\n",
       " <h2 class=\"main-title body-medium\">\n",
       " \t\t\tCompanies by  Type\n",
       " \t\t</h2>,\n",
       " <h2 class=\"main-title body-medium\">\n",
       " \t\t\tCompanies by  Badges\n",
       " \t\t</h2>]"
      ]
     },
     "execution_count": 129,
     "metadata": {},
     "output_type": "execute_result"
    }
   ],
   "source": [
    "soup.find_all('h2')"
   ]
  },
  {
   "cell_type": "markdown",
   "id": "686fa772-e360-433e-8935-2210d2fde1fb",
   "metadata": {},
   "source": [
    "##### As we can see ,there are more no og h2 tags on the webpage.We can also use len() to calculate the total elements ,as len() is used to calculate length of list."
   ]
  },
  {
   "cell_type": "code",
   "execution_count": 130,
   "id": "ef2e5069-d90b-4dfe-9d2e-dfd9577ceef0",
   "metadata": {
    "tags": []
   },
   "outputs": [
    {
     "data": {
      "text/plain": [
       "24"
      ]
     },
     "execution_count": 130,
     "metadata": {},
     "output_type": "execute_result"
    }
   ],
   "source": [
    "len(soup.find_all('h2'))"
   ]
  },
  {
   "cell_type": "markdown",
   "id": "c29fdbdb-0120-40ee-9c61-0a7508701b70",
   "metadata": {},
   "source": [
    "##### To print all the comapny's names ,we can use for loop and to remove the whitespace characters we can use strip()."
   ]
  },
  {
   "cell_type": "code",
   "execution_count": 131,
   "id": "6ce265d0-9ed6-4931-9268-dd10fd70acd2",
   "metadata": {
    "tags": []
   },
   "outputs": [
    {
     "name": "stdout",
     "output_type": "stream",
     "text": [
      "TCS\n",
      "Accenture\n",
      "Cognizant\n",
      "Wipro\n",
      "HDFC Bank\n",
      "ICICI Bank\n",
      "Infosys\n",
      "Capgemini\n",
      "HCLTech\n",
      "Tech Mahindra\n",
      "Genpact\n",
      "Axis Bank\n",
      "Concentrix Corporation\n",
      "Amazon\n",
      "Teleperformance\n",
      "Reliance Jio\n",
      "IBM\n",
      "Larsen & Toubro Limited\n",
      "Reliance Retail\n",
      "HDB Financial Services\n",
      "Companies by  Industry\n",
      "Companies by  Locations\n",
      "Companies by  Type\n",
      "Companies by  Badges\n"
     ]
    }
   ],
   "source": [
    "for i in soup.find_all('h2'):\n",
    "    print(i.text.strip())"
   ]
  },
  {
   "cell_type": "markdown",
   "id": "28cadd1e-1523-4315-a084-9cb24ca1fa38",
   "metadata": {},
   "source": [
    "##### As we can see ,last three rows are not names of companies.So we can remove them using remove()."
   ]
  },
  {
   "cell_type": "code",
   "execution_count": 132,
   "id": "2bc51fae-ab4f-434f-8566-e43420a3a3da",
   "metadata": {
    "tags": []
   },
   "outputs": [],
   "source": [
    "list=soup.find_all('h2')"
   ]
  },
  {
   "cell_type": "code",
   "execution_count": 133,
   "id": "96a77a15-954a-401e-9859-4dad57504740",
   "metadata": {
    "tags": []
   },
   "outputs": [],
   "source": [
    "list=list[:-4]"
   ]
  },
  {
   "cell_type": "code",
   "execution_count": 134,
   "id": "b3063bd5-1307-4418-8629-f06d8d488c9f",
   "metadata": {
    "tags": []
   },
   "outputs": [
    {
     "name": "stdout",
     "output_type": "stream",
     "text": [
      "TCS\n",
      "Accenture\n",
      "Cognizant\n",
      "Wipro\n",
      "HDFC Bank\n",
      "ICICI Bank\n",
      "Infosys\n",
      "Capgemini\n",
      "HCLTech\n",
      "Tech Mahindra\n",
      "Genpact\n",
      "Axis Bank\n",
      "Concentrix Corporation\n",
      "Amazon\n",
      "Teleperformance\n",
      "Reliance Jio\n",
      "IBM\n",
      "Larsen & Toubro Limited\n",
      "Reliance Retail\n",
      "HDB Financial Services\n"
     ]
    }
   ],
   "source": [
    "for i in list:\n",
    "    print(i.text.strip())"
   ]
  },
  {
   "cell_type": "markdown",
   "id": "192b0d36-08fe-410a-9858-af2d834243dc",
   "metadata": {},
   "source": [
    "##### Now to extract the ratings of each company ,we need to extract the spans in html content.But there exists some spans which are showcasing some other info .To differentiate with such elements ,we can use the class of elements which is specified while bulding website for each element.We need to pass class argument which is set to the class name of the element which we want to scrap."
   ]
  },
  {
   "cell_type": "code",
   "execution_count": 135,
   "id": "a7baa25a-c4fb-4c4b-bf0a-c327e280a73e",
   "metadata": {
    "tags": []
   },
   "outputs": [
    {
     "data": {
      "text/plain": [
       "[<span class=\"companyCardWrapper__companyRatingValue\">3.8</span>,\n",
       " <span class=\"companyCardWrapper__companyRatingValue\">4.0</span>,\n",
       " <span class=\"companyCardWrapper__companyRatingValue\">3.9</span>,\n",
       " <span class=\"companyCardWrapper__companyRatingValue\">3.8</span>,\n",
       " <span class=\"companyCardWrapper__companyRatingValue\">3.9</span>,\n",
       " <span class=\"companyCardWrapper__companyRatingValue\">4.0</span>,\n",
       " <span class=\"companyCardWrapper__companyRatingValue\">3.9</span>,\n",
       " <span class=\"companyCardWrapper__companyRatingValue\">3.8</span>,\n",
       " <span class=\"companyCardWrapper__companyRatingValue\">3.7</span>,\n",
       " <span class=\"companyCardWrapper__companyRatingValue\">3.7</span>,\n",
       " <span class=\"companyCardWrapper__companyRatingValue\">3.9</span>,\n",
       " <span class=\"companyCardWrapper__companyRatingValue\">3.8</span>,\n",
       " <span class=\"companyCardWrapper__companyRatingValue\">3.9</span>,\n",
       " <span class=\"companyCardWrapper__companyRatingValue\">4.1</span>,\n",
       " <span class=\"companyCardWrapper__companyRatingValue\">3.6</span>,\n",
       " <span class=\"companyCardWrapper__companyRatingValue\">3.9</span>,\n",
       " <span class=\"companyCardWrapper__companyRatingValue\">4.1</span>,\n",
       " <span class=\"companyCardWrapper__companyRatingValue\">4.0</span>,\n",
       " <span class=\"companyCardWrapper__companyRatingValue\">3.9</span>,\n",
       " <span class=\"companyCardWrapper__companyRatingValue\">4.0</span>]"
      ]
     },
     "execution_count": 135,
     "metadata": {},
     "output_type": "execute_result"
    }
   ],
   "source": [
    "soup.find_all('span',class_='companyCardWrapper__companyRatingValue')"
   ]
  },
  {
   "cell_type": "code",
   "execution_count": 136,
   "id": "3ddfd57b-dac0-46f3-9f32-4094fd6551c6",
   "metadata": {
    "tags": []
   },
   "outputs": [
    {
     "data": {
      "text/plain": [
       "20"
      ]
     },
     "execution_count": 136,
     "metadata": {},
     "output_type": "execute_result"
    }
   ],
   "source": [
    "len(soup.find_all('span',class_='companyCardWrapper__companyRatingValue'))"
   ]
  },
  {
   "cell_type": "markdown",
   "id": "a3bfbafb-3fce-4c95-870a-dc43a9715c64",
   "metadata": {},
   "source": [
    "##### Now ,extracting the no of reviews of companies -->"
   ]
  },
  {
   "cell_type": "code",
   "execution_count": 137,
   "id": "6e5036fc-7efe-4055-b1f1-340d006ff01d",
   "metadata": {
    "tags": []
   },
   "outputs": [
    {
     "data": {
      "text/plain": [
       "[<span class=\"companyCardWrapper__ActionCount\">69.2k</span>,\n",
       " <span class=\"companyCardWrapper__ActionCount\">847.6k</span>,\n",
       " <span class=\"companyCardWrapper__ActionCount\">5.8k</span>,\n",
       " <span class=\"companyCardWrapper__ActionCount\">603</span>,\n",
       " <span class=\"companyCardWrapper__ActionCount\">11.4k</span>,\n",
       " <span class=\"companyCardWrapper__ActionCount\">74</span>,\n",
       " <span class=\"companyCardWrapper__ActionCount\">43.8k</span>,\n",
       " <span class=\"companyCardWrapper__ActionCount\">577.8k</span>,\n",
       " <span class=\"companyCardWrapper__ActionCount\">4.1k</span>,\n",
       " <span class=\"companyCardWrapper__ActionCount\">5.9k</span>,\n",
       " <span class=\"companyCardWrapper__ActionCount\">7k</span>,\n",
       " <span class=\"companyCardWrapper__ActionCount\">39</span>,\n",
       " <span class=\"companyCardWrapper__ActionCount\">39.5k</span>,\n",
       " <span class=\"companyCardWrapper__ActionCount\">556.7k</span>,\n",
       " <span class=\"companyCardWrapper__ActionCount\">3.4k</span>,\n",
       " <span class=\"companyCardWrapper__ActionCount\">563</span>,\n",
       " <span class=\"companyCardWrapper__ActionCount\">5.8k</span>,\n",
       " <span class=\"companyCardWrapper__ActionCount\">52</span>,\n",
       " <span class=\"companyCardWrapper__ActionCount\">36.8k</span>,\n",
       " <span class=\"companyCardWrapper__ActionCount\">409.8k</span>,\n",
       " <span class=\"companyCardWrapper__ActionCount\">3.4k</span>,\n",
       " <span class=\"companyCardWrapper__ActionCount\">345</span>,\n",
       " <span class=\"companyCardWrapper__ActionCount\">4.9k</span>,\n",
       " <span class=\"companyCardWrapper__ActionCount\">64</span>,\n",
       " <span class=\"companyCardWrapper__ActionCount\">31.7k</span>,\n",
       " <span class=\"companyCardWrapper__ActionCount\">130k</span>,\n",
       " <span class=\"companyCardWrapper__ActionCount\">1.5k</span>,\n",
       " <span class=\"companyCardWrapper__ActionCount\">505</span>,\n",
       " <span class=\"companyCardWrapper__ActionCount\">3.2k</span>,\n",
       " <span class=\"companyCardWrapper__ActionCount\">23</span>,\n",
       " <span class=\"companyCardWrapper__ActionCount\">31.7k</span>,\n",
       " <span class=\"companyCardWrapper__ActionCount\">142.7k</span>,\n",
       " <span class=\"companyCardWrapper__ActionCount\">1.8k</span>,\n",
       " <span class=\"companyCardWrapper__ActionCount\">218</span>,\n",
       " <span class=\"companyCardWrapper__ActionCount\">3.7k</span>,\n",
       " <span class=\"companyCardWrapper__ActionCount\">32</span>,\n",
       " <span class=\"companyCardWrapper__ActionCount\">30k</span>,\n",
       " <span class=\"companyCardWrapper__ActionCount\">461.7k</span>,\n",
       " <span class=\"companyCardWrapper__ActionCount\">4.6k</span>,\n",
       " <span class=\"companyCardWrapper__ActionCount\">1k</span>,\n",
       " <span class=\"companyCardWrapper__ActionCount\">5.1k</span>,\n",
       " <span class=\"companyCardWrapper__ActionCount\">78</span>,\n",
       " <span class=\"companyCardWrapper__ActionCount\">27.9k</span>,\n",
       " <span class=\"companyCardWrapper__ActionCount\">371.3k</span>,\n",
       " <span class=\"companyCardWrapper__ActionCount\">2.3k</span>,\n",
       " <span class=\"companyCardWrapper__ActionCount\">899</span>,\n",
       " <span class=\"companyCardWrapper__ActionCount\">3.9k</span>,\n",
       " <span class=\"companyCardWrapper__ActionCount\">27</span>,\n",
       " <span class=\"companyCardWrapper__ActionCount\">26.7k</span>,\n",
       " <span class=\"companyCardWrapper__ActionCount\">286.2k</span>,\n",
       " <span class=\"companyCardWrapper__ActionCount\">2.4k</span>,\n",
       " <span class=\"companyCardWrapper__ActionCount\">672</span>,\n",
       " <span class=\"companyCardWrapper__ActionCount\">4k</span>,\n",
       " <span class=\"companyCardWrapper__ActionCount\">28</span>,\n",
       " <span class=\"companyCardWrapper__ActionCount\">26k</span>,\n",
       " <span class=\"companyCardWrapper__ActionCount\">250.7k</span>,\n",
       " <span class=\"companyCardWrapper__ActionCount\">2.3k</span>,\n",
       " <span class=\"companyCardWrapper__ActionCount\">1.2k</span>,\n",
       " <span class=\"companyCardWrapper__ActionCount\">3.5k</span>,\n",
       " <span class=\"companyCardWrapper__ActionCount\">41</span>,\n",
       " <span class=\"companyCardWrapper__ActionCount\">24.9k</span>,\n",
       " <span class=\"companyCardWrapper__ActionCount\">189.1k</span>,\n",
       " <span class=\"companyCardWrapper__ActionCount\">1.8k</span>,\n",
       " <span class=\"companyCardWrapper__ActionCount\">1.2k</span>,\n",
       " <span class=\"companyCardWrapper__ActionCount\">3.6k</span>,\n",
       " <span class=\"companyCardWrapper__ActionCount\">32</span>,\n",
       " <span class=\"companyCardWrapper__ActionCount\">20.8k</span>,\n",
       " <span class=\"companyCardWrapper__ActionCount\">96k</span>,\n",
       " <span class=\"companyCardWrapper__ActionCount\">1k</span>,\n",
       " <span class=\"companyCardWrapper__ActionCount\">326</span>,\n",
       " <span class=\"companyCardWrapper__ActionCount\">2.2k</span>,\n",
       " <span class=\"companyCardWrapper__ActionCount\">26</span>,\n",
       " <span class=\"companyCardWrapper__ActionCount\">20.6k</span>,\n",
       " <span class=\"companyCardWrapper__ActionCount\">103.4k</span>,\n",
       " <span class=\"companyCardWrapper__ActionCount\">1k</span>,\n",
       " <span class=\"companyCardWrapper__ActionCount\">112</span>,\n",
       " <span class=\"companyCardWrapper__ActionCount\">3.2k</span>,\n",
       " <span class=\"companyCardWrapper__ActionCount\">29</span>,\n",
       " <span class=\"companyCardWrapper__ActionCount\">19.8k</span>,\n",
       " <span class=\"companyCardWrapper__ActionCount\">140.7k</span>,\n",
       " <span class=\"companyCardWrapper__ActionCount\">3.2k</span>,\n",
       " <span class=\"companyCardWrapper__ActionCount\">673</span>,\n",
       " <span class=\"companyCardWrapper__ActionCount\">4.2k</span>,\n",
       " <span class=\"companyCardWrapper__ActionCount\">37</span>,\n",
       " <span class=\"companyCardWrapper__ActionCount\">19.5k</span>,\n",
       " <span class=\"companyCardWrapper__ActionCount\">74.4k</span>,\n",
       " <span class=\"companyCardWrapper__ActionCount\">1.1k</span>,\n",
       " <span class=\"companyCardWrapper__ActionCount\">296</span>,\n",
       " <span class=\"companyCardWrapper__ActionCount\">1.9k</span>,\n",
       " <span class=\"companyCardWrapper__ActionCount\">22</span>,\n",
       " <span class=\"companyCardWrapper__ActionCount\">19k</span>,\n",
       " <span class=\"companyCardWrapper__ActionCount\">67.7k</span>,\n",
       " <span class=\"companyCardWrapper__ActionCount\">1.1k</span>,\n",
       " <span class=\"companyCardWrapper__ActionCount\">147</span>,\n",
       " <span class=\"companyCardWrapper__ActionCount\">2.6k</span>,\n",
       " <span class=\"companyCardWrapper__ActionCount\">36</span>,\n",
       " <span class=\"companyCardWrapper__ActionCount\">18.9k</span>,\n",
       " <span class=\"companyCardWrapper__ActionCount\">224k</span>,\n",
       " <span class=\"companyCardWrapper__ActionCount\">1.4k</span>,\n",
       " <span class=\"companyCardWrapper__ActionCount\">3.9k</span>,\n",
       " <span class=\"companyCardWrapper__ActionCount\">2.7k</span>,\n",
       " <span class=\"companyCardWrapper__ActionCount\">14</span>,\n",
       " <span class=\"companyCardWrapper__ActionCount\">17.7k</span>,\n",
       " <span class=\"companyCardWrapper__ActionCount\">78.4k</span>,\n",
       " <span class=\"companyCardWrapper__ActionCount\">1k</span>,\n",
       " <span class=\"companyCardWrapper__ActionCount\">193</span>,\n",
       " <span class=\"companyCardWrapper__ActionCount\">2.9k</span>,\n",
       " <span class=\"companyCardWrapper__ActionCount\">27</span>,\n",
       " <span class=\"companyCardWrapper__ActionCount\">17.3k</span>,\n",
       " <span class=\"companyCardWrapper__ActionCount\">57k</span>,\n",
       " <span class=\"companyCardWrapper__ActionCount\">1.1k</span>,\n",
       " <span class=\"companyCardWrapper__ActionCount\">251</span>,\n",
       " <span class=\"companyCardWrapper__ActionCount\">2k</span>,\n",
       " <span class=\"companyCardWrapper__ActionCount\">81</span>,\n",
       " <span class=\"companyCardWrapper__ActionCount\">16.7k</span>,\n",
       " <span class=\"companyCardWrapper__ActionCount\">49.6k</span>,\n",
       " <span class=\"companyCardWrapper__ActionCount\">544</span>,\n",
       " <span class=\"companyCardWrapper__ActionCount\">75</span>,\n",
       " <span class=\"companyCardWrapper__ActionCount\">1.5k</span>,\n",
       " <span class=\"companyCardWrapper__ActionCount\">23</span>]"
      ]
     },
     "execution_count": 137,
     "metadata": {},
     "output_type": "execute_result"
    }
   ],
   "source": [
    "soup.find_all('span',class_='companyCardWrapper__ActionCount')"
   ]
  },
  {
   "cell_type": "markdown",
   "id": "eb795271-77fc-41a7-8a76-58dde1133cb7",
   "metadata": {},
   "source": [
    "##### Now ,instead of extracting part one by one ,we can extract a div where the info of all companies lies."
   ]
  },
  {
   "cell_type": "code",
   "execution_count": 138,
   "id": "9086e4c5-416a-4bf0-9d0d-027b95e158ee",
   "metadata": {
    "tags": []
   },
   "outputs": [],
   "source": [
    "company=soup.find_all('div',class_='companyCardWrapper')"
   ]
  },
  {
   "cell_type": "code",
   "execution_count": 139,
   "id": "fa840153-7d43-4619-9466-ea096741ec70",
   "metadata": {
    "tags": []
   },
   "outputs": [
    {
     "data": {
      "text/plain": [
       "20"
      ]
     },
     "execution_count": 139,
     "metadata": {},
     "output_type": "execute_result"
    }
   ],
   "source": [
    "len(company)"
   ]
  },
  {
   "cell_type": "markdown",
   "id": "2e18a83c-381e-43e4-b4cc-1f99f974759a",
   "metadata": {},
   "source": [
    "##### Now,we will loop through each div.We can also use find() to find that particular element where we have applied this method.It returns us element instead of list of elements."
   ]
  },
  {
   "cell_type": "code",
   "execution_count": 140,
   "id": "027cfe2b-bc6e-4910-bb55-c4a5eab34872",
   "metadata": {
    "tags": []
   },
   "outputs": [],
   "source": [
    "name=[]\n",
    "ratings=[]\n",
    "reviews=[]\n",
    "info=[]\n",
    "\n",
    "for i in company:\n",
    "    name.append(i.find('h2').text.strip())\n",
    "    ratings.append(i.find('span',class_='companyCardWrapper__companyRatingValue').text.strip())\n",
    "    reviews.append(i.find('span',class_='companyCardWrapper__ActionCount').text.strip())\n",
    "    info.append(i.find('span',class_='companyCardWrapper__interLinking').text.strip())\n",
    "    "
   ]
  },
  {
   "cell_type": "code",
   "execution_count": 141,
   "id": "2165335e-ed15-4f11-b8a0-f1fbe8fbe4c3",
   "metadata": {
    "tags": []
   },
   "outputs": [
    {
     "data": {
      "text/plain": [
       "['IT Services & Consulting | 1 Lakh+ Employees | Public | 55 years old | Mumbai +321 more',\n",
       " 'IT Services & Consulting | 1 Lakh+ Employees | Public | 34 years old | Dublin +160 more',\n",
       " 'IT Services & Consulting | 1 Lakh+ Employees | Forbes Global 2000 | 29 years old | Teaneck. New Jersey. +140 more',\n",
       " 'IT Services & Consulting | 1 Lakh+ Employees | Public | 78 years old | Bangalore/Bengaluru +267 more',\n",
       " 'Banking | 1 Lakh+ Employees | Public | 29 years old | Mumbai +1475 more',\n",
       " 'Banking | 1 Lakh+ Employees | Public | 29 years old | Mumbai +1234 more',\n",
       " 'IT Services & Consulting | 1 Lakh+ Employees | Public | 42 years old | Bengaluru/Bangalore +159 more',\n",
       " 'IT Services & Consulting | 1 Lakh+ Employees | Public | 56 years old | Paris +110 more',\n",
       " 'IT Services & Consulting | 1 Lakh+ Employees | Public | 32 years old | Noida +172 more',\n",
       " 'IT Services & Consulting | 1 Lakh+ Employees | Public | 37 years old | Pune +251 more',\n",
       " 'IT Services & Consulting | 1 Lakh+ Employees | Public | 26 years old | New York +97 more',\n",
       " 'Banking | 50k-1 Lakh Employees | Public | 30 years old | Mumbai +1258 more',\n",
       " 'BPO | 50k-1 Lakh Employees | Public | 40 years old | Fremont +103 more',\n",
       " 'Internet | 1 Lakh+ Employees | Public | 29 years old | Seattle +418 more',\n",
       " 'BPO | 50k-1 Lakh Employees | Forbes Global 2000 | 45 years old | Paris +161 more',\n",
       " 'Telecom | 50k-1 Lakh Employees | Public | 16 years old | Navi Mumbai +1116 more',\n",
       " 'Software Product | 1 Lakh+ Employees | Public | 112 years old | Armonk +141 more',\n",
       " 'Engineering & Construction | 10k-50k Employees | Public | 85 years old | Mumbai +610 more',\n",
       " 'Retail | 1 Lakh+ Employees | 17 years old | Navi Mumbai +942 more',\n",
       " 'NBFC | 1 Lakh+ Employees | 16 years old | Ahmedabad +915 more']"
      ]
     },
     "execution_count": 141,
     "metadata": {},
     "output_type": "execute_result"
    }
   ],
   "source": [
    "info"
   ]
  },
  {
   "cell_type": "markdown",
   "id": "2304cb39-8c15-4a83-aa2a-0d5ee1dd3c0e",
   "metadata": {},
   "source": [
    "##### Now ,we can create a dataframe using DataFrame().It takes a dictionary as argument, where key is the column name and values is the list of data."
   ]
  },
  {
   "cell_type": "code",
   "execution_count": 142,
   "id": "3d240b89-2d63-45df-95e5-9a36f52eb5bc",
   "metadata": {
    "tags": []
   },
   "outputs": [],
   "source": [
    "dict={'name':name,'ratings':ratings,'reviews':reviews,'info':info}"
   ]
  },
  {
   "cell_type": "code",
   "execution_count": 143,
   "id": "779fe41d-b65d-43ec-abf8-274050c19ebb",
   "metadata": {
    "tags": []
   },
   "outputs": [
    {
     "data": {
      "text/html": [
       "<div>\n",
       "<style scoped>\n",
       "    .dataframe tbody tr th:only-of-type {\n",
       "        vertical-align: middle;\n",
       "    }\n",
       "\n",
       "    .dataframe tbody tr th {\n",
       "        vertical-align: top;\n",
       "    }\n",
       "\n",
       "    .dataframe thead th {\n",
       "        text-align: right;\n",
       "    }\n",
       "</style>\n",
       "<table border=\"1\" class=\"dataframe\">\n",
       "  <thead>\n",
       "    <tr style=\"text-align: right;\">\n",
       "      <th></th>\n",
       "      <th>name</th>\n",
       "      <th>ratings</th>\n",
       "      <th>reviews</th>\n",
       "      <th>info</th>\n",
       "    </tr>\n",
       "  </thead>\n",
       "  <tbody>\n",
       "    <tr>\n",
       "      <th>0</th>\n",
       "      <td>TCS</td>\n",
       "      <td>3.8</td>\n",
       "      <td>69.2k</td>\n",
       "      <td>IT Services &amp; Consulting | 1 Lakh+ Employees |...</td>\n",
       "    </tr>\n",
       "    <tr>\n",
       "      <th>1</th>\n",
       "      <td>Accenture</td>\n",
       "      <td>4.0</td>\n",
       "      <td>43.8k</td>\n",
       "      <td>IT Services &amp; Consulting | 1 Lakh+ Employees |...</td>\n",
       "    </tr>\n",
       "    <tr>\n",
       "      <th>2</th>\n",
       "      <td>Cognizant</td>\n",
       "      <td>3.9</td>\n",
       "      <td>39.5k</td>\n",
       "      <td>IT Services &amp; Consulting | 1 Lakh+ Employees |...</td>\n",
       "    </tr>\n",
       "    <tr>\n",
       "      <th>3</th>\n",
       "      <td>Wipro</td>\n",
       "      <td>3.8</td>\n",
       "      <td>36.8k</td>\n",
       "      <td>IT Services &amp; Consulting | 1 Lakh+ Employees |...</td>\n",
       "    </tr>\n",
       "    <tr>\n",
       "      <th>4</th>\n",
       "      <td>HDFC Bank</td>\n",
       "      <td>3.9</td>\n",
       "      <td>31.7k</td>\n",
       "      <td>Banking | 1 Lakh+ Employees | Public | 29 year...</td>\n",
       "    </tr>\n",
       "    <tr>\n",
       "      <th>5</th>\n",
       "      <td>ICICI Bank</td>\n",
       "      <td>4.0</td>\n",
       "      <td>31.7k</td>\n",
       "      <td>Banking | 1 Lakh+ Employees | Public | 29 year...</td>\n",
       "    </tr>\n",
       "    <tr>\n",
       "      <th>6</th>\n",
       "      <td>Infosys</td>\n",
       "      <td>3.9</td>\n",
       "      <td>30k</td>\n",
       "      <td>IT Services &amp; Consulting | 1 Lakh+ Employees |...</td>\n",
       "    </tr>\n",
       "    <tr>\n",
       "      <th>7</th>\n",
       "      <td>Capgemini</td>\n",
       "      <td>3.8</td>\n",
       "      <td>27.9k</td>\n",
       "      <td>IT Services &amp; Consulting | 1 Lakh+ Employees |...</td>\n",
       "    </tr>\n",
       "    <tr>\n",
       "      <th>8</th>\n",
       "      <td>HCLTech</td>\n",
       "      <td>3.7</td>\n",
       "      <td>26.7k</td>\n",
       "      <td>IT Services &amp; Consulting | 1 Lakh+ Employees |...</td>\n",
       "    </tr>\n",
       "    <tr>\n",
       "      <th>9</th>\n",
       "      <td>Tech Mahindra</td>\n",
       "      <td>3.7</td>\n",
       "      <td>26k</td>\n",
       "      <td>IT Services &amp; Consulting | 1 Lakh+ Employees |...</td>\n",
       "    </tr>\n",
       "    <tr>\n",
       "      <th>10</th>\n",
       "      <td>Genpact</td>\n",
       "      <td>3.9</td>\n",
       "      <td>24.9k</td>\n",
       "      <td>IT Services &amp; Consulting | 1 Lakh+ Employees |...</td>\n",
       "    </tr>\n",
       "    <tr>\n",
       "      <th>11</th>\n",
       "      <td>Axis Bank</td>\n",
       "      <td>3.8</td>\n",
       "      <td>20.8k</td>\n",
       "      <td>Banking | 50k-1 Lakh Employees | Public | 30 y...</td>\n",
       "    </tr>\n",
       "    <tr>\n",
       "      <th>12</th>\n",
       "      <td>Concentrix Corporation</td>\n",
       "      <td>3.9</td>\n",
       "      <td>20.6k</td>\n",
       "      <td>BPO | 50k-1 Lakh Employees | Public | 40 years...</td>\n",
       "    </tr>\n",
       "    <tr>\n",
       "      <th>13</th>\n",
       "      <td>Amazon</td>\n",
       "      <td>4.1</td>\n",
       "      <td>19.8k</td>\n",
       "      <td>Internet | 1 Lakh+ Employees | Public | 29 yea...</td>\n",
       "    </tr>\n",
       "    <tr>\n",
       "      <th>14</th>\n",
       "      <td>Teleperformance</td>\n",
       "      <td>3.6</td>\n",
       "      <td>19.5k</td>\n",
       "      <td>BPO | 50k-1 Lakh Employees | Forbes Global 200...</td>\n",
       "    </tr>\n",
       "    <tr>\n",
       "      <th>15</th>\n",
       "      <td>Reliance Jio</td>\n",
       "      <td>3.9</td>\n",
       "      <td>19k</td>\n",
       "      <td>Telecom | 50k-1 Lakh Employees | Public | 16 y...</td>\n",
       "    </tr>\n",
       "    <tr>\n",
       "      <th>16</th>\n",
       "      <td>IBM</td>\n",
       "      <td>4.1</td>\n",
       "      <td>18.9k</td>\n",
       "      <td>Software Product | 1 Lakh+ Employees | Public ...</td>\n",
       "    </tr>\n",
       "    <tr>\n",
       "      <th>17</th>\n",
       "      <td>Larsen &amp; Toubro Limited</td>\n",
       "      <td>4.0</td>\n",
       "      <td>17.7k</td>\n",
       "      <td>Engineering &amp; Construction | 10k-50k Employees...</td>\n",
       "    </tr>\n",
       "    <tr>\n",
       "      <th>18</th>\n",
       "      <td>Reliance Retail</td>\n",
       "      <td>3.9</td>\n",
       "      <td>17.3k</td>\n",
       "      <td>Retail | 1 Lakh+ Employees | 17 years old | Na...</td>\n",
       "    </tr>\n",
       "    <tr>\n",
       "      <th>19</th>\n",
       "      <td>HDB Financial Services</td>\n",
       "      <td>4.0</td>\n",
       "      <td>16.7k</td>\n",
       "      <td>NBFC | 1 Lakh+ Employees | 16 years old | Ahme...</td>\n",
       "    </tr>\n",
       "  </tbody>\n",
       "</table>\n",
       "</div>"
      ],
      "text/plain": [
       "                       name ratings reviews  \\\n",
       "0                       TCS     3.8   69.2k   \n",
       "1                 Accenture     4.0   43.8k   \n",
       "2                 Cognizant     3.9   39.5k   \n",
       "3                     Wipro     3.8   36.8k   \n",
       "4                 HDFC Bank     3.9   31.7k   \n",
       "5                ICICI Bank     4.0   31.7k   \n",
       "6                   Infosys     3.9     30k   \n",
       "7                 Capgemini     3.8   27.9k   \n",
       "8                   HCLTech     3.7   26.7k   \n",
       "9             Tech Mahindra     3.7     26k   \n",
       "10                  Genpact     3.9   24.9k   \n",
       "11                Axis Bank     3.8   20.8k   \n",
       "12   Concentrix Corporation     3.9   20.6k   \n",
       "13                   Amazon     4.1   19.8k   \n",
       "14          Teleperformance     3.6   19.5k   \n",
       "15             Reliance Jio     3.9     19k   \n",
       "16                      IBM     4.1   18.9k   \n",
       "17  Larsen & Toubro Limited     4.0   17.7k   \n",
       "18          Reliance Retail     3.9   17.3k   \n",
       "19   HDB Financial Services     4.0   16.7k   \n",
       "\n",
       "                                                 info  \n",
       "0   IT Services & Consulting | 1 Lakh+ Employees |...  \n",
       "1   IT Services & Consulting | 1 Lakh+ Employees |...  \n",
       "2   IT Services & Consulting | 1 Lakh+ Employees |...  \n",
       "3   IT Services & Consulting | 1 Lakh+ Employees |...  \n",
       "4   Banking | 1 Lakh+ Employees | Public | 29 year...  \n",
       "5   Banking | 1 Lakh+ Employees | Public | 29 year...  \n",
       "6   IT Services & Consulting | 1 Lakh+ Employees |...  \n",
       "7   IT Services & Consulting | 1 Lakh+ Employees |...  \n",
       "8   IT Services & Consulting | 1 Lakh+ Employees |...  \n",
       "9   IT Services & Consulting | 1 Lakh+ Employees |...  \n",
       "10  IT Services & Consulting | 1 Lakh+ Employees |...  \n",
       "11  Banking | 50k-1 Lakh Employees | Public | 30 y...  \n",
       "12  BPO | 50k-1 Lakh Employees | Public | 40 years...  \n",
       "13  Internet | 1 Lakh+ Employees | Public | 29 yea...  \n",
       "14  BPO | 50k-1 Lakh Employees | Forbes Global 200...  \n",
       "15  Telecom | 50k-1 Lakh Employees | Public | 16 y...  \n",
       "16  Software Product | 1 Lakh+ Employees | Public ...  \n",
       "17  Engineering & Construction | 10k-50k Employees...  \n",
       "18  Retail | 1 Lakh+ Employees | 17 years old | Na...  \n",
       "19  NBFC | 1 Lakh+ Employees | 16 years old | Ahme...  "
      ]
     },
     "execution_count": 143,
     "metadata": {},
     "output_type": "execute_result"
    }
   ],
   "source": [
    "pd.DataFrame(dict)"
   ]
  },
  {
   "cell_type": "markdown",
   "id": "477a36ae-8a38-492e-be37-74a84dfe2883",
   "metadata": {},
   "source": [
    "##### Now ,we have scrap the above data for only 1 page ,now we will do it for 10 pages."
   ]
  },
  {
   "cell_type": "code",
   "execution_count": 150,
   "id": "81cd021f-101c-4345-81c9-45cd2c3778ac",
   "metadata": {
    "tags": []
   },
   "outputs": [],
   "source": [
    "final=pd.DataFrame()\n",
    "\n",
    "for j in range(0,11):\n",
    "    url='https://www.ambitionbox.com/list-of-companies?page={}'.format(j)\n",
    "    headers={'User-Agent':'Mozilla/5.0 (Windows NT 6.3; Win 64 ; x64) Apple WeKit /537.36(KHTML , like Gecko) Chrome/80.0.3987.162 Safari/537.36'}\n",
    "    webpage=requests.get(url=url,headers=headers).text\n",
    "    soup=BeautifulSoup(webpage,'lxml')\n",
    "    name=[]\n",
    "    ratings=[]\n",
    "    reviews=[]\n",
    "    info=[]\n",
    "\n",
    "    for i in company:\n",
    "        name.append(i.find('h2').text.strip())\n",
    "        ratings.append(i.find('span',class_='companyCardWrapper__companyRatingValue').text.strip())\n",
    "        reviews.append(i.find('span',class_='companyCardWrapper__ActionCount').text.strip())\n",
    "        info.append(i.find('span',class_='companyCardWrapper__interLinking').text.strip())\n",
    "        \n",
    "    dict={'name':name,'ratings':ratings,'reviews':reviews,'info':info}\n",
    "    df=pd.DataFrame(dict)\n",
    "    \n",
    "    final=pd.concat([final,df],ignore_index=True)\n",
    "\n"
   ]
  },
  {
   "cell_type": "code",
   "execution_count": 151,
   "id": "087109b4-7b74-4723-a7ef-95f7f25d9576",
   "metadata": {
    "tags": []
   },
   "outputs": [
    {
     "data": {
      "text/html": [
       "<div>\n",
       "<style scoped>\n",
       "    .dataframe tbody tr th:only-of-type {\n",
       "        vertical-align: middle;\n",
       "    }\n",
       "\n",
       "    .dataframe tbody tr th {\n",
       "        vertical-align: top;\n",
       "    }\n",
       "\n",
       "    .dataframe thead th {\n",
       "        text-align: right;\n",
       "    }\n",
       "</style>\n",
       "<table border=\"1\" class=\"dataframe\">\n",
       "  <thead>\n",
       "    <tr style=\"text-align: right;\">\n",
       "      <th></th>\n",
       "      <th>name</th>\n",
       "      <th>ratings</th>\n",
       "      <th>reviews</th>\n",
       "      <th>info</th>\n",
       "    </tr>\n",
       "  </thead>\n",
       "  <tbody>\n",
       "    <tr>\n",
       "      <th>0</th>\n",
       "      <td>TCS</td>\n",
       "      <td>3.8</td>\n",
       "      <td>69.2k</td>\n",
       "      <td>IT Services &amp; Consulting | 1 Lakh+ Employees |...</td>\n",
       "    </tr>\n",
       "    <tr>\n",
       "      <th>1</th>\n",
       "      <td>Accenture</td>\n",
       "      <td>4.0</td>\n",
       "      <td>43.8k</td>\n",
       "      <td>IT Services &amp; Consulting | 1 Lakh+ Employees |...</td>\n",
       "    </tr>\n",
       "    <tr>\n",
       "      <th>2</th>\n",
       "      <td>Cognizant</td>\n",
       "      <td>3.9</td>\n",
       "      <td>39.5k</td>\n",
       "      <td>IT Services &amp; Consulting | 1 Lakh+ Employees |...</td>\n",
       "    </tr>\n",
       "    <tr>\n",
       "      <th>3</th>\n",
       "      <td>Wipro</td>\n",
       "      <td>3.8</td>\n",
       "      <td>36.8k</td>\n",
       "      <td>IT Services &amp; Consulting | 1 Lakh+ Employees |...</td>\n",
       "    </tr>\n",
       "    <tr>\n",
       "      <th>4</th>\n",
       "      <td>HDFC Bank</td>\n",
       "      <td>3.9</td>\n",
       "      <td>31.7k</td>\n",
       "      <td>Banking | 1 Lakh+ Employees | Public | 29 year...</td>\n",
       "    </tr>\n",
       "    <tr>\n",
       "      <th>...</th>\n",
       "      <td>...</td>\n",
       "      <td>...</td>\n",
       "      <td>...</td>\n",
       "      <td>...</td>\n",
       "    </tr>\n",
       "    <tr>\n",
       "      <th>215</th>\n",
       "      <td>Reliance Jio</td>\n",
       "      <td>3.9</td>\n",
       "      <td>19k</td>\n",
       "      <td>Telecom | 50k-1 Lakh Employees | Public | 16 y...</td>\n",
       "    </tr>\n",
       "    <tr>\n",
       "      <th>216</th>\n",
       "      <td>IBM</td>\n",
       "      <td>4.1</td>\n",
       "      <td>18.9k</td>\n",
       "      <td>Software Product | 1 Lakh+ Employees | Public ...</td>\n",
       "    </tr>\n",
       "    <tr>\n",
       "      <th>217</th>\n",
       "      <td>Larsen &amp; Toubro Limited</td>\n",
       "      <td>4.0</td>\n",
       "      <td>17.7k</td>\n",
       "      <td>Engineering &amp; Construction | 10k-50k Employees...</td>\n",
       "    </tr>\n",
       "    <tr>\n",
       "      <th>218</th>\n",
       "      <td>Reliance Retail</td>\n",
       "      <td>3.9</td>\n",
       "      <td>17.3k</td>\n",
       "      <td>Retail | 1 Lakh+ Employees | 17 years old | Na...</td>\n",
       "    </tr>\n",
       "    <tr>\n",
       "      <th>219</th>\n",
       "      <td>HDB Financial Services</td>\n",
       "      <td>4.0</td>\n",
       "      <td>16.7k</td>\n",
       "      <td>NBFC | 1 Lakh+ Employees | 16 years old | Ahme...</td>\n",
       "    </tr>\n",
       "  </tbody>\n",
       "</table>\n",
       "<p>220 rows × 4 columns</p>\n",
       "</div>"
      ],
      "text/plain": [
       "                        name ratings reviews  \\\n",
       "0                        TCS     3.8   69.2k   \n",
       "1                  Accenture     4.0   43.8k   \n",
       "2                  Cognizant     3.9   39.5k   \n",
       "3                      Wipro     3.8   36.8k   \n",
       "4                  HDFC Bank     3.9   31.7k   \n",
       "..                       ...     ...     ...   \n",
       "215             Reliance Jio     3.9     19k   \n",
       "216                      IBM     4.1   18.9k   \n",
       "217  Larsen & Toubro Limited     4.0   17.7k   \n",
       "218          Reliance Retail     3.9   17.3k   \n",
       "219   HDB Financial Services     4.0   16.7k   \n",
       "\n",
       "                                                  info  \n",
       "0    IT Services & Consulting | 1 Lakh+ Employees |...  \n",
       "1    IT Services & Consulting | 1 Lakh+ Employees |...  \n",
       "2    IT Services & Consulting | 1 Lakh+ Employees |...  \n",
       "3    IT Services & Consulting | 1 Lakh+ Employees |...  \n",
       "4    Banking | 1 Lakh+ Employees | Public | 29 year...  \n",
       "..                                                 ...  \n",
       "215  Telecom | 50k-1 Lakh Employees | Public | 16 y...  \n",
       "216  Software Product | 1 Lakh+ Employees | Public ...  \n",
       "217  Engineering & Construction | 10k-50k Employees...  \n",
       "218  Retail | 1 Lakh+ Employees | 17 years old | Na...  \n",
       "219  NBFC | 1 Lakh+ Employees | 16 years old | Ahme...  \n",
       "\n",
       "[220 rows x 4 columns]"
      ]
     },
     "execution_count": 151,
     "metadata": {},
     "output_type": "execute_result"
    }
   ],
   "source": [
    "final\n"
   ]
  },
  {
   "cell_type": "code",
   "execution_count": null,
   "id": "d4065fba-b2bf-4c61-a63f-a406054e4304",
   "metadata": {},
   "outputs": [],
   "source": []
  }
 ],
 "metadata": {
  "kernelspec": {
   "display_name": "Python 3 (ipykernel)",
   "language": "python",
   "name": "python3"
  },
  "language_info": {
   "codemirror_mode": {
    "name": "ipython",
    "version": 3
   },
   "file_extension": ".py",
   "mimetype": "text/x-python",
   "name": "python",
   "nbconvert_exporter": "python",
   "pygments_lexer": "ipython3",
   "version": "3.11.5"
  }
 },
 "nbformat": 4,
 "nbformat_minor": 5
}
