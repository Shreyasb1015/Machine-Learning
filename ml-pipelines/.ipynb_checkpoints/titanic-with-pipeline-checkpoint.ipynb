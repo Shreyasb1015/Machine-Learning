{
 "cells": [
  {
   "cell_type": "markdown",
   "id": "14ae76cf-0f52-4e22-a879-fc7c0a30f65a",
   "metadata": {},
   "source": [
    "##### Now ,we will create a model for titanic dataset using pipeline."
   ]
  },
  {
   "cell_type": "code",
   "execution_count": 1,
   "id": "bb8bf1ab-02c1-46d2-9552-a18d20a7799b",
   "metadata": {
    "tags": []
   },
   "outputs": [],
   "source": [
    "import numpy as np\n",
    "import pandas as pd"
   ]
  },
  {
   "cell_type": "markdown",
   "id": "68f10134-25e2-468e-aa53-89e79f988806",
   "metadata": {},
   "source": [
    "##### Pipeline is the class in the sklearn.piepline library and make_pipeline is the func of this library .We will need both .Also we will need SelectKBest,chi2 from  sklearn.feature_selection library. "
   ]
  },
  {
   "cell_type": "code",
   "execution_count": 2,
   "id": "1dfb1b16-8d4d-4299-9de8-dd39e25afd5b",
   "metadata": {
    "tags": []
   },
   "outputs": [],
   "source": [
    "from sklearn.model_selection import train_test_split\n",
    "from sklearn.compose import ColumnTransformer\n",
    "from sklearn.impute import SimpleImputer\n",
    "from sklearn.preprocessing import OneHotEncoder\n",
    "from sklearn.preprocessing import MinMaxScaler\n",
    "from sklearn.pipeline import Pipeline,make_pipeline\n",
    "from sklearn.feature_selection import SelectKBest,chi2\n",
    "from sklearn.tree import DecisionTreeClassifier"
   ]
  },
  {
   "cell_type": "code",
   "execution_count": null,
   "id": "361fddb6-700f-4f89-8520-60f1706db69a",
   "metadata": {},
   "outputs": [],
   "source": []
  }
 ],
 "metadata": {
  "kernelspec": {
   "display_name": "Python 3 (ipykernel)",
   "language": "python",
   "name": "python3"
  },
  "language_info": {
   "codemirror_mode": {
    "name": "ipython",
    "version": 3
   },
   "file_extension": ".py",
   "mimetype": "text/x-python",
   "name": "python",
   "nbconvert_exporter": "python",
   "pygments_lexer": "ipython3",
   "version": "3.11.5"
  }
 },
 "nbformat": 4,
 "nbformat_minor": 5
}
