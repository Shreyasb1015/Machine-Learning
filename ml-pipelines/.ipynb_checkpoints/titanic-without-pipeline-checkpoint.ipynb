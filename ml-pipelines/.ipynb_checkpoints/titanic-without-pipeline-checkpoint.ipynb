{
 "cells": [
  {
   "cell_type": "markdown",
   "id": "f6ef740c-c084-4513-aaf5-7adc31ab02e5",
   "metadata": {},
   "source": [
    "##### In this project , we will look how making projects and handling it is difficult task when we dont use pipelines."
   ]
  },
  {
   "cell_type": "code",
   "execution_count": null,
   "id": "7434df59-09c8-4cd4-8f95-a13cd8345ea4",
   "metadata": {},
   "outputs": [],
   "source": []
  }
 ],
 "metadata": {
  "kernelspec": {
   "display_name": "Python 3 (ipykernel)",
   "language": "python",
   "name": "python3"
  },
  "language_info": {
   "codemirror_mode": {
    "name": "ipython",
    "version": 3
   },
   "file_extension": ".py",
   "mimetype": "text/x-python",
   "name": "python",
   "nbconvert_exporter": "python",
   "pygments_lexer": "ipython3",
   "version": "3.11.5"
  }
 },
 "nbformat": 4,
 "nbformat_minor": 5
}
