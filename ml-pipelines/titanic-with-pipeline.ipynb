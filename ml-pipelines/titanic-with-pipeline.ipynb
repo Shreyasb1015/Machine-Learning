{
 "cells": [
  {
   "cell_type": "markdown",
   "id": "14ae76cf-0f52-4e22-a879-fc7c0a30f65a",
   "metadata": {},
   "source": [
    "##### Now ,we will create a model for titanic dataset using pipeline."
   ]
  },
  {
   "cell_type": "code",
   "execution_count": null,
   "id": "bb8bf1ab-02c1-46d2-9552-a18d20a7799b",
   "metadata": {},
   "outputs": [],
   "source": []
  }
 ],
 "metadata": {
  "kernelspec": {
   "display_name": "Python 3 (ipykernel)",
   "language": "python",
   "name": "python3"
  },
  "language_info": {
   "codemirror_mode": {
    "name": "ipython",
    "version": 3
   },
   "file_extension": ".py",
   "mimetype": "text/x-python",
   "name": "python",
   "nbconvert_exporter": "python",
   "pygments_lexer": "ipython3",
   "version": "3.11.5"
  }
 },
 "nbformat": 4,
 "nbformat_minor": 5
}
