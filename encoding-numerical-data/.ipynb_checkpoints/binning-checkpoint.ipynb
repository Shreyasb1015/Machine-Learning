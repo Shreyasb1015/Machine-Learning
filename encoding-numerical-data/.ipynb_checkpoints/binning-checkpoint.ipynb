{
 "cells": [
  {
   "cell_type": "markdown",
   "id": "d739fe18-ed45-4495-87a2-01665e722ef1",
   "metadata": {},
   "source": [
    "##### Sometimes ,there may exist some situtaions where we want to encode numerical data into catgorical data.To do this we have two types - 1) Discretization(binning) 2)Binarization."
   ]
  },
  {
   "cell_type": "code",
   "execution_count": null,
   "id": "0bda2ddf-4ebc-4806-8d85-1ce1f53a67cb",
   "metadata": {},
   "outputs": [],
   "source": []
  }
 ],
 "metadata": {
  "kernelspec": {
   "display_name": "Python 3 (ipykernel)",
   "language": "python",
   "name": "python3"
  },
  "language_info": {
   "codemirror_mode": {
    "name": "ipython",
    "version": 3
   },
   "file_extension": ".py",
   "mimetype": "text/x-python",
   "name": "python",
   "nbconvert_exporter": "python",
   "pygments_lexer": "ipython3",
   "version": "3.11.5"
  }
 },
 "nbformat": 4,
 "nbformat_minor": 5
}
