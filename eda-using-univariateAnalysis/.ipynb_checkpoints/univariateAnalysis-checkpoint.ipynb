{
 "cells": [
  {
   "cell_type": "markdown",
   "id": "80df07d9-cba1-4cfb-9b3c-0342eb1124eb",
   "metadata": {},
   "source": [
    "##### Whenever you make a analysis on single variable ,it can  be called as univariate analaysis.In this method, we make analysis on any single column of dataframe.In univariate analysis ,we must differentiate the columns on the basis of whether they contain numeric data or categorical data.After identifying this,we take new steps according to it."
   ]
  },
  {
   "cell_type": "code",
   "execution_count": null,
   "id": "6dd318c8-28ec-40e7-a0ab-97f6044fd0e3",
   "metadata": {},
   "outputs": [],
   "source": []
  }
 ],
 "metadata": {
  "kernelspec": {
   "display_name": "Python 3 (ipykernel)",
   "language": "python",
   "name": "python3"
  },
  "language_info": {
   "codemirror_mode": {
    "name": "ipython",
    "version": 3
   },
   "file_extension": ".py",
   "mimetype": "text/x-python",
   "name": "python",
   "nbconvert_exporter": "python",
   "pygments_lexer": "ipython3",
   "version": "3.11.5"
  }
 },
 "nbformat": 4,
 "nbformat_minor": 5
}
