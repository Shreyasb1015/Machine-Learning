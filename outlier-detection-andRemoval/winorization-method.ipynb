{
 "cells": [
  {
   "cell_type": "markdown",
   "id": "05a85627-54da-4e79-be79-ac15c9cc9b7f",
   "metadata": {},
   "source": [
    "##### Winorization technique is the method that uses percentile values to detect outliers."
   ]
  },
  {
   "cell_type": "code",
   "execution_count": null,
   "id": "3306f3e2-e2dd-477b-bb94-21ddc46798d7",
   "metadata": {},
   "outputs": [],
   "source": []
  }
 ],
 "metadata": {
  "kernelspec": {
   "display_name": "Python 3 (ipykernel)",
   "language": "python",
   "name": "python3"
  },
  "language_info": {
   "codemirror_mode": {
    "name": "ipython",
    "version": 3
   },
   "file_extension": ".py",
   "mimetype": "text/x-python",
   "name": "python",
   "nbconvert_exporter": "python",
   "pygments_lexer": "ipython3",
   "version": "3.11.5"
  }
 },
 "nbformat": 4,
 "nbformat_minor": 5
}
