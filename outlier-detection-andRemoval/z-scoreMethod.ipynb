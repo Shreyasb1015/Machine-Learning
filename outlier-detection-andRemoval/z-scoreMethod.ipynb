{
 "cells": [
  {
   "cell_type": "markdown",
   "id": "46d2ae7e-b2b3-4663-acdc-c18b031143b7",
   "metadata": {},
   "source": [
    "##### The only assumption made during using z-score method is that the col where are going to use this technique should be normally distributed."
   ]
  },
  {
   "cell_type": "code",
   "execution_count": null,
   "id": "17524366-faeb-4d24-9f7d-77ced0b6d257",
   "metadata": {},
   "outputs": [],
   "source": []
  }
 ],
 "metadata": {
  "kernelspec": {
   "display_name": "Python 3 (ipykernel)",
   "language": "python",
   "name": "python3"
  },
  "language_info": {
   "codemirror_mode": {
    "name": "ipython",
    "version": 3
   },
   "file_extension": ".py",
   "mimetype": "text/x-python",
   "name": "python",
   "nbconvert_exporter": "python",
   "pygments_lexer": "ipython3",
   "version": "3.11.5"
  }
 },
 "nbformat": 4,
 "nbformat_minor": 5
}
