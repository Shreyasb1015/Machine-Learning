{
 "cells": [
  {
   "cell_type": "markdown",
   "id": "755506ee-ce35-4f17-ada2-c13167282b67",
   "metadata": {},
   "source": [
    "##### When the distribution of column is not normal, and it is skewed then we use IQR method to detect and treat the outliers."
   ]
  },
  {
   "cell_type": "code",
   "execution_count": null,
   "id": "c469b1a2-e6e3-4df3-90de-1c3c9cd89428",
   "metadata": {},
   "outputs": [],
   "source": []
  }
 ],
 "metadata": {
  "kernelspec": {
   "display_name": "Python 3 (ipykernel)",
   "language": "python",
   "name": "python3"
  },
  "language_info": {
   "codemirror_mode": {
    "name": "ipython",
    "version": 3
   },
   "file_extension": ".py",
   "mimetype": "text/x-python",
   "name": "python",
   "nbconvert_exporter": "python",
   "pygments_lexer": "ipython3",
   "version": "3.11.5"
  }
 },
 "nbformat": 4,
 "nbformat_minor": 5
}
