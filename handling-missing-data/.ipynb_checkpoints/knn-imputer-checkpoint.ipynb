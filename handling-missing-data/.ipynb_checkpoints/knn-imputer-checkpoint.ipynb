{
 "cells": [
  {
   "cell_type": "markdown",
   "id": "33a72733-0af9-41c5-a706-71579444262e",
   "metadata": {},
   "source": [
    "##### In knn-imputer, we impute the missing value using data of row which is similar to another row whose data is missng.This similarity is calculated using eucldian distance.Distances are calculated from the row which has missing data of other rows.That one row which has closest distance to the row having missing data is selected and the missing value from that row is imputed in row which was having missing data.K represents no of neighbours we are considering."
   ]
  },
  {
   "cell_type": "markdown",
   "id": "9e7aac92-dd5c-4bb2-9b15-4ffe34244df7",
   "metadata": {},
   "source": [
    "##### It has 2 steps:- 1) find k nearst neighbours.\n",
    "#####                  2) Find the value."
   ]
  },
  {
   "cell_type": "markdown",
   "id": "17d1c237-24cc-462f-bc01-8c9ec1dac1ad",
   "metadata": {},
   "source": [
    "##### We use nan_euclidean distance from the sklearn to calculate the euclidean distand also handle missing values if any."
   ]
  },
  {
   "cell_type": "code",
   "execution_count": null,
   "id": "7512dac5-c94e-47b5-8e22-dffb8c46132c",
   "metadata": {},
   "outputs": [],
   "source": []
  }
 ],
 "metadata": {
  "kernelspec": {
   "display_name": "Python 3 (ipykernel)",
   "language": "python",
   "name": "python3"
  },
  "language_info": {
   "codemirror_mode": {
    "name": "ipython",
    "version": 3
   },
   "file_extension": ".py",
   "mimetype": "text/x-python",
   "name": "python",
   "nbconvert_exporter": "python",
   "pygments_lexer": "ipython3",
   "version": "3.11.5"
  }
 },
 "nbformat": 4,
 "nbformat_minor": 5
}
