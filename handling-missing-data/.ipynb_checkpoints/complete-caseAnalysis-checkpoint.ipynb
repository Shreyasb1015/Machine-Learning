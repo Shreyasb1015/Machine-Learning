{
 "cells": [
  {
   "cell_type": "markdown",
   "id": "b5c0eeb5-315c-4ffc-8cdc-abaac01d5e05",
   "metadata": {},
   "source": [
    "##### Missing values can be handled in two ways :- 1) Removing the entire row  and 2) imputing the missing value.Imputing is further divided into two parts i.e univariate and multivariate."
   ]
  },
  {
   "cell_type": "code",
   "execution_count": null,
   "id": "f0e21194-b4d5-474d-abbe-2e09dca15fc2",
   "metadata": {},
   "outputs": [],
   "source": []
  }
 ],
 "metadata": {
  "kernelspec": {
   "display_name": "Python 3 (ipykernel)",
   "language": "python",
   "name": "python3"
  },
  "language_info": {
   "codemirror_mode": {
    "name": "ipython",
    "version": 3
   },
   "file_extension": ".py",
   "mimetype": "text/x-python",
   "name": "python",
   "nbconvert_exporter": "python",
   "pygments_lexer": "ipython3",
   "version": "3.11.5"
  }
 },
 "nbformat": 4,
 "nbformat_minor": 5
}
