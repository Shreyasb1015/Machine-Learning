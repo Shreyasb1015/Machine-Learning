{
 "cells": [
  {
   "cell_type": "markdown",
   "id": "2b3fe256-f52a-49d8-ae68-bdc08cb167ed",
   "metadata": {},
   "source": [
    "##### It is also called as MICE algorithm as it is Multivariate Imputation by Chain Equation."
   ]
  },
  {
   "cell_type": "code",
   "execution_count": null,
   "id": "e70e0e28-d8e3-4e4b-8c89-30e593118af2",
   "metadata": {},
   "outputs": [],
   "source": []
  }
 ],
 "metadata": {
  "kernelspec": {
   "display_name": "Python 3 (ipykernel)",
   "language": "python",
   "name": "python3"
  },
  "language_info": {
   "codemirror_mode": {
    "name": "ipython",
    "version": 3
   },
   "file_extension": ".py",
   "mimetype": "text/x-python",
   "name": "python",
   "nbconvert_exporter": "python",
   "pygments_lexer": "ipython3",
   "version": "3.11.5"
  }
 },
 "nbformat": 4,
 "nbformat_minor": 5
}
