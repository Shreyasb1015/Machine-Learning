{
 "cells": [
  {
   "cell_type": "markdown",
   "id": "92bb9666-cc7d-4cfa-8b34-471e7060bd1a",
   "metadata": {},
   "source": [
    "##### In arbitary imputation ,we fill the missing values with any arbitary data .For categorical cols ,mostly  missing values are filled with string 'missing' and for numerical col ..we can use arbitary constants like 0,-1 or anything that are not present in the dataframe."
   ]
  },
  {
   "cell_type": "code",
   "execution_count": null,
   "id": "ce3b4540-9888-45d6-83ab-f72eef33dad7",
   "metadata": {},
   "outputs": [],
   "source": []
  }
 ],
 "metadata": {
  "kernelspec": {
   "display_name": "Python 3 (ipykernel)",
   "language": "python",
   "name": "python3"
  },
  "language_info": {
   "codemirror_mode": {
    "name": "ipython",
    "version": 3
   },
   "file_extension": ".py",
   "mimetype": "text/x-python",
   "name": "python",
   "nbconvert_exporter": "python",
   "pygments_lexer": "ipython3",
   "version": "3.11.5"
  }
 },
 "nbformat": 4,
 "nbformat_minor": 5
}
