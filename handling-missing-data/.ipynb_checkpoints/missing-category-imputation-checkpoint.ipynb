{
 "cells": [
  {
   "cell_type": "markdown",
   "id": "4c609cab-4672-4a55-a36c-51fd679666e0",
   "metadata": {},
   "source": [
    "##### When the categorical column has more than or equal to 10 % of missing data,then it is preferable to create a new category called missing and fill all missing values in missing category."
   ]
  },
  {
   "cell_type": "code",
   "execution_count": null,
   "id": "2c588cc4-d247-4414-a85b-13603e9f84f9",
   "metadata": {},
   "outputs": [],
   "source": []
  }
 ],
 "metadata": {
  "kernelspec": {
   "display_name": "Python 3 (ipykernel)",
   "language": "python",
   "name": "python3"
  },
  "language_info": {
   "codemirror_mode": {
    "name": "ipython",
    "version": 3
   },
   "file_extension": ".py",
   "mimetype": "text/x-python",
   "name": "python",
   "nbconvert_exporter": "python",
   "pygments_lexer": "ipython3",
   "version": "3.11.5"
  }
 },
 "nbformat": 4,
 "nbformat_minor": 5
}
