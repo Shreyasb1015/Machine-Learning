{
 "cells": [
  {
   "cell_type": "markdown",
   "id": "33a72733-0af9-41c5-a706-71579444262e",
   "metadata": {},
   "source": [
    "##### In knn-imputer, we impute the missing value using data of cols which are similar to cols whose data is missng.This similarity is calculated using eucldian distance."
   ]
  },
  {
   "cell_type": "code",
   "execution_count": null,
   "id": "d0c15357-6e21-4155-acd6-b299cc1fa224",
   "metadata": {},
   "outputs": [],
   "source": []
  }
 ],
 "metadata": {
  "kernelspec": {
   "display_name": "Python 3 (ipykernel)",
   "language": "python",
   "name": "python3"
  },
  "language_info": {
   "codemirror_mode": {
    "name": "ipython",
    "version": 3
   },
   "file_extension": ".py",
   "mimetype": "text/x-python",
   "name": "python",
   "nbconvert_exporter": "python",
   "pygments_lexer": "ipython3",
   "version": "3.11.5"
  }
 },
 "nbformat": 4,
 "nbformat_minor": 5
}
