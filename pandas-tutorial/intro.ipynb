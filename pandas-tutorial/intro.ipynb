{
 "cells": [
  {
   "cell_type": "markdown",
   "id": "f15da1bc-526c-4224-aa3a-20bd77d750ee",
   "metadata": {},
   "source": [
    "# Introduction\n"
   ]
  },
  {
   "cell_type": "markdown",
   "id": "f5bdf482-782e-4daf-bed7-07cc22bb564a",
   "metadata": {},
   "source": [
    "### Pandas is python library used for data analyis.It offers data structures and operations for manipulating numerical tables and series"
   ]
  },
  {
   "cell_type": "markdown",
   "id": "137c45b4-490e-4bb2-90f9-bf76b4a3451c",
   "metadata": {
    "tags": []
   },
   "source": [
    "### Pandas main data strcutures :-\n",
    "#### 1.Dataframes 2.Series\n",
    "\n",
    "##### Whole table data is considered as dataframe whereas any column/row form that table is considered as Series"
   ]
  }
 ],
 "metadata": {
  "kernelspec": {
   "display_name": "Python 3 (ipykernel)",
   "language": "python",
   "name": "python3"
  },
  "language_info": {
   "codemirror_mode": {
    "name": "ipython",
    "version": 3
   },
   "file_extension": ".py",
   "mimetype": "text/x-python",
   "name": "python",
   "nbconvert_exporter": "python",
   "pygments_lexer": "ipython3",
   "version": "3.11.5"
  }
 },
 "nbformat": 4,
 "nbformat_minor": 5
}
