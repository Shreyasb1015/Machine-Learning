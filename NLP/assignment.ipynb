{
 "cells": [
  {
   "cell_type": "code",
   "execution_count": 2,
   "id": "6b550505-f043-4457-90d4-16bfd92bd9f5",
   "metadata": {
    "tags": []
   },
   "outputs": [],
   "source": [
    "import pandas as pd"
   ]
  },
  {
   "cell_type": "code",
   "execution_count": 3,
   "id": "0bf92108-e169-4575-b6e1-6e033563b6b7",
   "metadata": {
    "tags": []
   },
   "outputs": [],
   "source": [
    "df=pd.read_csv('IMDB Dataset.csv')"
   ]
  },
  {
   "cell_type": "code",
   "execution_count": 4,
   "id": "fbea40fc-9b81-4f9c-a907-b82abb2af98b",
   "metadata": {
    "tags": []
   },
   "outputs": [
    {
     "data": {
      "text/html": [
       "<div>\n",
       "<style scoped>\n",
       "    .dataframe tbody tr th:only-of-type {\n",
       "        vertical-align: middle;\n",
       "    }\n",
       "\n",
       "    .dataframe tbody tr th {\n",
       "        vertical-align: top;\n",
       "    }\n",
       "\n",
       "    .dataframe thead th {\n",
       "        text-align: right;\n",
       "    }\n",
       "</style>\n",
       "<table border=\"1\" class=\"dataframe\">\n",
       "  <thead>\n",
       "    <tr style=\"text-align: right;\">\n",
       "      <th></th>\n",
       "      <th>review</th>\n",
       "      <th>sentiment</th>\n",
       "    </tr>\n",
       "  </thead>\n",
       "  <tbody>\n",
       "    <tr>\n",
       "      <th>0</th>\n",
       "      <td>One of the other reviewers has mentioned that ...</td>\n",
       "      <td>positive</td>\n",
       "    </tr>\n",
       "    <tr>\n",
       "      <th>1</th>\n",
       "      <td>A wonderful little production. &lt;br /&gt;&lt;br /&gt;The...</td>\n",
       "      <td>positive</td>\n",
       "    </tr>\n",
       "    <tr>\n",
       "      <th>2</th>\n",
       "      <td>I thought this was a wonderful way to spend ti...</td>\n",
       "      <td>positive</td>\n",
       "    </tr>\n",
       "    <tr>\n",
       "      <th>3</th>\n",
       "      <td>Basically there's a family where a little boy ...</td>\n",
       "      <td>negative</td>\n",
       "    </tr>\n",
       "    <tr>\n",
       "      <th>4</th>\n",
       "      <td>Petter Mattei's \"Love in the Time of Money\" is...</td>\n",
       "      <td>positive</td>\n",
       "    </tr>\n",
       "  </tbody>\n",
       "</table>\n",
       "</div>"
      ],
      "text/plain": [
       "                                              review sentiment\n",
       "0  One of the other reviewers has mentioned that ...  positive\n",
       "1  A wonderful little production. <br /><br />The...  positive\n",
       "2  I thought this was a wonderful way to spend ti...  positive\n",
       "3  Basically there's a family where a little boy ...  negative\n",
       "4  Petter Mattei's \"Love in the Time of Money\" is...  positive"
      ]
     },
     "execution_count": 4,
     "metadata": {},
     "output_type": "execute_result"
    }
   ],
   "source": [
    "df.head()"
   ]
  },
  {
   "cell_type": "code",
   "execution_count": 5,
   "id": "063b6570-876b-4502-9076-34abddd4cd2c",
   "metadata": {
    "tags": []
   },
   "outputs": [],
   "source": [
    "# Problem 1\n",
    "\n",
    "# Apply all the preprocessing techniques that you think are necessary"
   ]
  },
  {
   "cell_type": "markdown",
   "id": "fb57e0a6-eafd-4d39-8780-6ddcbec86626",
   "metadata": {},
   "source": [
    "##### Converting whole text to lowercase"
   ]
  },
  {
   "cell_type": "code",
   "execution_count": 7,
   "id": "5c1d4cd9-6ec7-4b4d-b66d-2606f60d82ab",
   "metadata": {
    "tags": []
   },
   "outputs": [],
   "source": [
    "df['review']=df['review'].str.lower()"
   ]
  },
  {
   "cell_type": "code",
   "execution_count": 8,
   "id": "e46a3f21-be5b-4dd9-a7c7-a2de56fd7165",
   "metadata": {
    "tags": []
   },
   "outputs": [
    {
     "data": {
      "text/html": [
       "<div>\n",
       "<style scoped>\n",
       "    .dataframe tbody tr th:only-of-type {\n",
       "        vertical-align: middle;\n",
       "    }\n",
       "\n",
       "    .dataframe tbody tr th {\n",
       "        vertical-align: top;\n",
       "    }\n",
       "\n",
       "    .dataframe thead th {\n",
       "        text-align: right;\n",
       "    }\n",
       "</style>\n",
       "<table border=\"1\" class=\"dataframe\">\n",
       "  <thead>\n",
       "    <tr style=\"text-align: right;\">\n",
       "      <th></th>\n",
       "      <th>review</th>\n",
       "      <th>sentiment</th>\n",
       "    </tr>\n",
       "  </thead>\n",
       "  <tbody>\n",
       "    <tr>\n",
       "      <th>0</th>\n",
       "      <td>one of the other reviewers has mentioned that ...</td>\n",
       "      <td>positive</td>\n",
       "    </tr>\n",
       "    <tr>\n",
       "      <th>1</th>\n",
       "      <td>a wonderful little production. &lt;br /&gt;&lt;br /&gt;the...</td>\n",
       "      <td>positive</td>\n",
       "    </tr>\n",
       "    <tr>\n",
       "      <th>2</th>\n",
       "      <td>i thought this was a wonderful way to spend ti...</td>\n",
       "      <td>positive</td>\n",
       "    </tr>\n",
       "    <tr>\n",
       "      <th>3</th>\n",
       "      <td>basically there's a family where a little boy ...</td>\n",
       "      <td>negative</td>\n",
       "    </tr>\n",
       "    <tr>\n",
       "      <th>4</th>\n",
       "      <td>petter mattei's \"love in the time of money\" is...</td>\n",
       "      <td>positive</td>\n",
       "    </tr>\n",
       "  </tbody>\n",
       "</table>\n",
       "</div>"
      ],
      "text/plain": [
       "                                              review sentiment\n",
       "0  one of the other reviewers has mentioned that ...  positive\n",
       "1  a wonderful little production. <br /><br />the...  positive\n",
       "2  i thought this was a wonderful way to spend ti...  positive\n",
       "3  basically there's a family where a little boy ...  negative\n",
       "4  petter mattei's \"love in the time of money\" is...  positive"
      ]
     },
     "execution_count": 8,
     "metadata": {},
     "output_type": "execute_result"
    }
   ],
   "source": [
    "df.head()"
   ]
  },
  {
   "cell_type": "markdown",
   "id": "c24e81d1-c7cd-4857-9610-102188d1dacc",
   "metadata": {},
   "source": [
    "##### Removing all html tags."
   ]
  },
  {
   "cell_type": "code",
   "execution_count": 9,
   "id": "b2a545c2-8bc7-4e66-a51e-8836fa77b085",
   "metadata": {
    "tags": []
   },
   "outputs": [],
   "source": [
    "import re\n",
    "\n",
    "def remove_html(text):\n",
    "    pattern=re.compile('<.*?>')\n",
    "    return pattern.sub(r'',text)"
   ]
  },
  {
   "cell_type": "code",
   "execution_count": 10,
   "id": "1c6d8792-0684-445b-b293-8f850195523c",
   "metadata": {
    "tags": []
   },
   "outputs": [],
   "source": [
    "df['review']=df['review'].apply(remove_html)"
   ]
  },
  {
   "cell_type": "code",
   "execution_count": 11,
   "id": "0741d262-e3fc-4f0b-bfc2-788df2730e18",
   "metadata": {
    "tags": []
   },
   "outputs": [
    {
     "data": {
      "text/html": [
       "<div>\n",
       "<style scoped>\n",
       "    .dataframe tbody tr th:only-of-type {\n",
       "        vertical-align: middle;\n",
       "    }\n",
       "\n",
       "    .dataframe tbody tr th {\n",
       "        vertical-align: top;\n",
       "    }\n",
       "\n",
       "    .dataframe thead th {\n",
       "        text-align: right;\n",
       "    }\n",
       "</style>\n",
       "<table border=\"1\" class=\"dataframe\">\n",
       "  <thead>\n",
       "    <tr style=\"text-align: right;\">\n",
       "      <th></th>\n",
       "      <th>review</th>\n",
       "      <th>sentiment</th>\n",
       "    </tr>\n",
       "  </thead>\n",
       "  <tbody>\n",
       "    <tr>\n",
       "      <th>0</th>\n",
       "      <td>one of the other reviewers has mentioned that ...</td>\n",
       "      <td>positive</td>\n",
       "    </tr>\n",
       "    <tr>\n",
       "      <th>1</th>\n",
       "      <td>a wonderful little production. the filming tec...</td>\n",
       "      <td>positive</td>\n",
       "    </tr>\n",
       "    <tr>\n",
       "      <th>2</th>\n",
       "      <td>i thought this was a wonderful way to spend ti...</td>\n",
       "      <td>positive</td>\n",
       "    </tr>\n",
       "    <tr>\n",
       "      <th>3</th>\n",
       "      <td>basically there's a family where a little boy ...</td>\n",
       "      <td>negative</td>\n",
       "    </tr>\n",
       "    <tr>\n",
       "      <th>4</th>\n",
       "      <td>petter mattei's \"love in the time of money\" is...</td>\n",
       "      <td>positive</td>\n",
       "    </tr>\n",
       "  </tbody>\n",
       "</table>\n",
       "</div>"
      ],
      "text/plain": [
       "                                              review sentiment\n",
       "0  one of the other reviewers has mentioned that ...  positive\n",
       "1  a wonderful little production. the filming tec...  positive\n",
       "2  i thought this was a wonderful way to spend ti...  positive\n",
       "3  basically there's a family where a little boy ...  negative\n",
       "4  petter mattei's \"love in the time of money\" is...  positive"
      ]
     },
     "execution_count": 11,
     "metadata": {},
     "output_type": "execute_result"
    }
   ],
   "source": [
    "df.head()"
   ]
  },
  {
   "cell_type": "markdown",
   "id": "cc871834-4a23-47c7-85e3-e9eccd679475",
   "metadata": {},
   "source": [
    "##### Removing URL if any."
   ]
  },
  {
   "cell_type": "code",
   "execution_count": 12,
   "id": "77afde60-c416-4ee3-a3bd-26b8b9235bed",
   "metadata": {
    "tags": []
   },
   "outputs": [],
   "source": [
    "def remove_url(text):\n",
    "    pattern=re.compile(r'https?://\\S+|www\\.\\S+')\n",
    "    return pattern.sub(r'',text)\n",
    "    "
   ]
  },
  {
   "cell_type": "code",
   "execution_count": 13,
   "id": "a6842cd5-4109-4639-8070-4c00c206ae79",
   "metadata": {
    "tags": []
   },
   "outputs": [],
   "source": [
    "df['review']=df['review'].apply(remove_url)"
   ]
  },
  {
   "cell_type": "code",
   "execution_count": 14,
   "id": "1b791c03-8eb0-4290-9f5d-bf67c491e285",
   "metadata": {
    "tags": []
   },
   "outputs": [
    {
     "data": {
      "text/html": [
       "<div>\n",
       "<style scoped>\n",
       "    .dataframe tbody tr th:only-of-type {\n",
       "        vertical-align: middle;\n",
       "    }\n",
       "\n",
       "    .dataframe tbody tr th {\n",
       "        vertical-align: top;\n",
       "    }\n",
       "\n",
       "    .dataframe thead th {\n",
       "        text-align: right;\n",
       "    }\n",
       "</style>\n",
       "<table border=\"1\" class=\"dataframe\">\n",
       "  <thead>\n",
       "    <tr style=\"text-align: right;\">\n",
       "      <th></th>\n",
       "      <th>review</th>\n",
       "      <th>sentiment</th>\n",
       "    </tr>\n",
       "  </thead>\n",
       "  <tbody>\n",
       "    <tr>\n",
       "      <th>0</th>\n",
       "      <td>one of the other reviewers has mentioned that ...</td>\n",
       "      <td>positive</td>\n",
       "    </tr>\n",
       "    <tr>\n",
       "      <th>1</th>\n",
       "      <td>a wonderful little production. the filming tec...</td>\n",
       "      <td>positive</td>\n",
       "    </tr>\n",
       "    <tr>\n",
       "      <th>2</th>\n",
       "      <td>i thought this was a wonderful way to spend ti...</td>\n",
       "      <td>positive</td>\n",
       "    </tr>\n",
       "    <tr>\n",
       "      <th>3</th>\n",
       "      <td>basically there's a family where a little boy ...</td>\n",
       "      <td>negative</td>\n",
       "    </tr>\n",
       "    <tr>\n",
       "      <th>4</th>\n",
       "      <td>petter mattei's \"love in the time of money\" is...</td>\n",
       "      <td>positive</td>\n",
       "    </tr>\n",
       "  </tbody>\n",
       "</table>\n",
       "</div>"
      ],
      "text/plain": [
       "                                              review sentiment\n",
       "0  one of the other reviewers has mentioned that ...  positive\n",
       "1  a wonderful little production. the filming tec...  positive\n",
       "2  i thought this was a wonderful way to spend ti...  positive\n",
       "3  basically there's a family where a little boy ...  negative\n",
       "4  petter mattei's \"love in the time of money\" is...  positive"
      ]
     },
     "execution_count": 14,
     "metadata": {},
     "output_type": "execute_result"
    }
   ],
   "source": [
    "df.head()"
   ]
  },
  {
   "cell_type": "markdown",
   "id": "4f50d826-25a2-4600-ad3f-df8c1015e1c0",
   "metadata": {},
   "source": [
    "##### Remving punctuations."
   ]
  },
  {
   "cell_type": "code",
   "execution_count": 16,
   "id": "dad3767c-6b28-4e91-9a36-a1b52f337206",
   "metadata": {
    "tags": []
   },
   "outputs": [],
   "source": [
    "import string"
   ]
  },
  {
   "cell_type": "code",
   "execution_count": 18,
   "id": "0e41e706-86b2-4ebf-af82-381e0108455e",
   "metadata": {
    "tags": []
   },
   "outputs": [
    {
     "data": {
      "text/plain": [
       "'!\"#$%&\\'()*+,-./:;<=>?@[\\\\]^_`{|}~'"
      ]
     },
     "execution_count": 18,
     "metadata": {},
     "output_type": "execute_result"
    }
   ],
   "source": [
    "string.punctuation"
   ]
  },
  {
   "cell_type": "code",
   "execution_count": 19,
   "id": "e84e0f8f-67a8-486d-99fd-95f9ef0d6096",
   "metadata": {
    "tags": []
   },
   "outputs": [],
   "source": [
    "exclude=string.punctuation"
   ]
  },
  {
   "cell_type": "code",
   "execution_count": 20,
   "id": "1558852a-ddbc-423a-9a4c-3c0e2d7681a6",
   "metadata": {
    "tags": []
   },
   "outputs": [],
   "source": [
    "def remove_punc(text):\n",
    "    return text.translate(str.maketrans('','',exclude))\n",
    "    "
   ]
  },
  {
   "cell_type": "code",
   "execution_count": 22,
   "id": "360e0f52-f1d6-4eae-9dda-a812d278fafa",
   "metadata": {
    "tags": []
   },
   "outputs": [],
   "source": [
    "df['review']=df['review'].apply(remove_punc)"
   ]
  },
  {
   "cell_type": "code",
   "execution_count": 23,
   "id": "83b8ed78-1f17-43eb-9df7-f41cada5a39c",
   "metadata": {
    "tags": []
   },
   "outputs": [
    {
     "data": {
      "text/html": [
       "<div>\n",
       "<style scoped>\n",
       "    .dataframe tbody tr th:only-of-type {\n",
       "        vertical-align: middle;\n",
       "    }\n",
       "\n",
       "    .dataframe tbody tr th {\n",
       "        vertical-align: top;\n",
       "    }\n",
       "\n",
       "    .dataframe thead th {\n",
       "        text-align: right;\n",
       "    }\n",
       "</style>\n",
       "<table border=\"1\" class=\"dataframe\">\n",
       "  <thead>\n",
       "    <tr style=\"text-align: right;\">\n",
       "      <th></th>\n",
       "      <th>review</th>\n",
       "      <th>sentiment</th>\n",
       "    </tr>\n",
       "  </thead>\n",
       "  <tbody>\n",
       "    <tr>\n",
       "      <th>0</th>\n",
       "      <td>one of the other reviewers has mentioned that ...</td>\n",
       "      <td>positive</td>\n",
       "    </tr>\n",
       "    <tr>\n",
       "      <th>1</th>\n",
       "      <td>a wonderful little production the filming tech...</td>\n",
       "      <td>positive</td>\n",
       "    </tr>\n",
       "    <tr>\n",
       "      <th>2</th>\n",
       "      <td>i thought this was a wonderful way to spend ti...</td>\n",
       "      <td>positive</td>\n",
       "    </tr>\n",
       "    <tr>\n",
       "      <th>3</th>\n",
       "      <td>basically theres a family where a little boy j...</td>\n",
       "      <td>negative</td>\n",
       "    </tr>\n",
       "    <tr>\n",
       "      <th>4</th>\n",
       "      <td>petter matteis love in the time of money is a ...</td>\n",
       "      <td>positive</td>\n",
       "    </tr>\n",
       "  </tbody>\n",
       "</table>\n",
       "</div>"
      ],
      "text/plain": [
       "                                              review sentiment\n",
       "0  one of the other reviewers has mentioned that ...  positive\n",
       "1  a wonderful little production the filming tech...  positive\n",
       "2  i thought this was a wonderful way to spend ti...  positive\n",
       "3  basically theres a family where a little boy j...  negative\n",
       "4  petter matteis love in the time of money is a ...  positive"
      ]
     },
     "execution_count": 23,
     "metadata": {},
     "output_type": "execute_result"
    }
   ],
   "source": [
    "df.head()"
   ]
  },
  {
   "cell_type": "markdown",
   "id": "d061e75a-a843-4b76-9bd6-c8487e123c4d",
   "metadata": {},
   "source": [
    "##### Chat Word Treatment"
   ]
  },
  {
   "cell_type": "code",
   "execution_count": 24,
   "id": "ff436c39-352b-48fe-8e07-3d10c0294609",
   "metadata": {
    "tags": []
   },
   "outputs": [],
   "source": [
    "chat_words={'AFAIK':'As Far As I Know',\n",
    "'AFK':'Away From Keyboard',\n",
    "'ASAP':'As Soon As Possible',\n",
    "'ATK':'At The Keyboard',\n",
    "'ATM':'At The Moment',\n",
    "'BAK':'Back At Keyboard',\n",
    "'BBL':'Be Back Later',\n",
    "'BBS':'Be Back Soon',\n",
    "'BFN':'Bye For Now',\n",
    "'B4N':'Bye For Now',\n",
    "'BRB':'Be Right Back',\n",
    "'BRT':'Be Right There',\n",
    "'BTW':'By The Way',\n",
    "'B4':'Before',\n",
    "'B4N':'Bye For Now',\n",
    "'CU':'See You',\n",
    "'CUL8R':'See You Later',\n",
    "'CYA':'See You',\n",
    "'FAQ':'Frequently Asked Questions',\n",
    "'FC':'Fingers Crossed',\n",
    "'FWIW':\"For What It's Worth\",\n",
    "'FYI':\"For Your Information\",\n",
    "'GAL':\"Get A Life\",\n",
    "'GG':\"Good Game\",\n",
    "'GN':\"Good Night\",\n",
    "'GMTA':\"Great Minds Think Alike\",\n",
    "'GR8':\"Great!\",\n",
    "'G9':\"Genius\",\n",
    "'IC':\"I See\",\n",
    "'ICQ':\"I Seek you (also a chat program)\",\n",
    "'ILU':\"ILU: I Love You\",\n",
    "'IMHO':\"In My Honest/Humble Opinion\",\n",
    "'IMO':\"In My Opinion\",\n",
    "'IOW':\"In Other Words\",\n",
    "'IRL':\"In Real Life\",\n",
    "'KISS':\"Keep It Simple, Stupid\",\n",
    "'LDR':\"Long Distance Relationship\",\n",
    "'LMAO':\"Laugh My A.. Off\",\n",
    "'LOL':\"Laughing Out Loud\",\n",
    "'LTNS':\"Long Time No See\",\n",
    "'L8R':\"Later\",\n",
    "'MTE':\"My Thoughts Exactly\",\n",
    "'M8':\"Mate\",\n",
    "'NRN':\"No Reply Necessary\",\n",
    "'OIC':\"Oh I See\",\n",
    "'PITA':\"Pain In The A..\",\n",
    "'PRT':\"Party\",\n",
    "'PRW':\"Parents Are Watching\",\n",
    "'ROFL':\"Rolling On The Floor Laughing\",\n",
    "'ROFLOL':\"Rolling On The Floor Laughing Out Loud\",\n",
    "'ROTFLMAO':\"Rolling On The Floor Laughing My A.. Off\",\n",
    "'SK8':\"Skate\",\n",
    "'STATS':\"Your sex and age\",\n",
    "'ASL':\"Age, Sex, Location\",\n",
    "'THX':\"Thank You\",\n",
    "'TTFN':\"Ta-Ta For Now!\",\n",
    "'TTYL':\"Talk To You Later\",\n",
    "'U':\"You\",\n",
    "'U2':\"You Too\",\n",
    "'U4E':\"Yours For Ever\",\n",
    "'WB':\"Welcome Back\",\n",
    "'WTF':\"What The F...\",\n",
    "'WTG':\"Way To Go!\",\n",
    "'WUF':\"Where Are You From?\",\n",
    "'W8':\"Wait...\",\n",
    "'7K':\"Sick:-D Laugher\",\n",
    "'TFW' : \"That feeling when. TFW internet slang often goes in a caption to an image.\",\n",
    "'MFW' : \"My face when\",\n",
    "'MRW' : \"My reaction when\",\n",
    "'IFYP' : \"I feel your pain\",\n",
    "'LOL ': \"Laughing out loud\",\n",
    "'TNTL' : \"Trying not to laugh\",\n",
    "'JK ': 'Just kidding',\n",
    "'IDC' :' I don’t care',\n",
    "'ILY' : 'I love you',\n",
    "'IMU' : 'I miss you',\n",
    "'ADIH' : 'Another day in hell',\n",
    "'IDC' : \"I don’t care\",\n",
    "'ZZZ ': \"Sleeping, bored, tired\",\n",
    "'WYWH' : \"Wish you were here\",\n",
    "'TIME' : 'Tears in my eyes',\n",
    "'BAE' : 'Before anyone else',\n",
    "'FIMH ': 'Forever in my heart',\n",
    "'BSAAW' : 'Big smile and a wink',\n",
    "'BWL' : 'Bursting with laughter',\n",
    "'LMAO' : 'Laughing my a** off',\n",
    "'BFF': 'Best friends forever',\n",
    "'CSL' : 'Can’t stop laughing '}"
   ]
  },
  {
   "cell_type": "code",
   "execution_count": 25,
   "id": "4ed9cacb-5365-462b-aad0-dba22ffd2e0b",
   "metadata": {
    "tags": []
   },
   "outputs": [
    {
     "data": {
      "text/plain": [
       "{'AFAIK': 'As Far As I Know',\n",
       " 'AFK': 'Away From Keyboard',\n",
       " 'ASAP': 'As Soon As Possible',\n",
       " 'ATK': 'At The Keyboard',\n",
       " 'ATM': 'At The Moment',\n",
       " 'BAK': 'Back At Keyboard',\n",
       " 'BBL': 'Be Back Later',\n",
       " 'BBS': 'Be Back Soon',\n",
       " 'BFN': 'Bye For Now',\n",
       " 'B4N': 'Bye For Now',\n",
       " 'BRB': 'Be Right Back',\n",
       " 'BRT': 'Be Right There',\n",
       " 'BTW': 'By The Way',\n",
       " 'B4': 'Before',\n",
       " 'CU': 'See You',\n",
       " 'CUL8R': 'See You Later',\n",
       " 'CYA': 'See You',\n",
       " 'FAQ': 'Frequently Asked Questions',\n",
       " 'FC': 'Fingers Crossed',\n",
       " 'FWIW': \"For What It's Worth\",\n",
       " 'FYI': 'For Your Information',\n",
       " 'GAL': 'Get A Life',\n",
       " 'GG': 'Good Game',\n",
       " 'GN': 'Good Night',\n",
       " 'GMTA': 'Great Minds Think Alike',\n",
       " 'GR8': 'Great!',\n",
       " 'G9': 'Genius',\n",
       " 'IC': 'I See',\n",
       " 'ICQ': 'I Seek you (also a chat program)',\n",
       " 'ILU': 'ILU: I Love You',\n",
       " 'IMHO': 'In My Honest/Humble Opinion',\n",
       " 'IMO': 'In My Opinion',\n",
       " 'IOW': 'In Other Words',\n",
       " 'IRL': 'In Real Life',\n",
       " 'KISS': 'Keep It Simple, Stupid',\n",
       " 'LDR': 'Long Distance Relationship',\n",
       " 'LMAO': 'Laughing my a** off',\n",
       " 'LOL': 'Laughing Out Loud',\n",
       " 'LTNS': 'Long Time No See',\n",
       " 'L8R': 'Later',\n",
       " 'MTE': 'My Thoughts Exactly',\n",
       " 'M8': 'Mate',\n",
       " 'NRN': 'No Reply Necessary',\n",
       " 'OIC': 'Oh I See',\n",
       " 'PITA': 'Pain In The A..',\n",
       " 'PRT': 'Party',\n",
       " 'PRW': 'Parents Are Watching',\n",
       " 'ROFL': 'Rolling On The Floor Laughing',\n",
       " 'ROFLOL': 'Rolling On The Floor Laughing Out Loud',\n",
       " 'ROTFLMAO': 'Rolling On The Floor Laughing My A.. Off',\n",
       " 'SK8': 'Skate',\n",
       " 'STATS': 'Your sex and age',\n",
       " 'ASL': 'Age, Sex, Location',\n",
       " 'THX': 'Thank You',\n",
       " 'TTFN': 'Ta-Ta For Now!',\n",
       " 'TTYL': 'Talk To You Later',\n",
       " 'U': 'You',\n",
       " 'U2': 'You Too',\n",
       " 'U4E': 'Yours For Ever',\n",
       " 'WB': 'Welcome Back',\n",
       " 'WTF': 'What The F...',\n",
       " 'WTG': 'Way To Go!',\n",
       " 'WUF': 'Where Are You From?',\n",
       " 'W8': 'Wait...',\n",
       " '7K': 'Sick:-D Laugher',\n",
       " 'TFW': 'That feeling when. TFW internet slang often goes in a caption to an image.',\n",
       " 'MFW': 'My face when',\n",
       " 'MRW': 'My reaction when',\n",
       " 'IFYP': 'I feel your pain',\n",
       " 'LOL ': 'Laughing out loud',\n",
       " 'TNTL': 'Trying not to laugh',\n",
       " 'JK ': 'Just kidding',\n",
       " 'IDC': 'I don’t care',\n",
       " 'ILY': 'I love you',\n",
       " 'IMU': 'I miss you',\n",
       " 'ADIH': 'Another day in hell',\n",
       " 'ZZZ ': 'Sleeping, bored, tired',\n",
       " 'WYWH': 'Wish you were here',\n",
       " 'TIME': 'Tears in my eyes',\n",
       " 'BAE': 'Before anyone else',\n",
       " 'FIMH ': 'Forever in my heart',\n",
       " 'BSAAW': 'Big smile and a wink',\n",
       " 'BWL': 'Bursting with laughter',\n",
       " 'BFF': 'Best friends forever',\n",
       " 'CSL': 'Can’t stop laughing '}"
      ]
     },
     "execution_count": 25,
     "metadata": {},
     "output_type": "execute_result"
    }
   ],
   "source": [
    "chat_words"
   ]
  },
  {
   "cell_type": "code",
   "execution_count": 26,
   "id": "95d533ea-a7f1-4bc8-b99f-1e8c311151a8",
   "metadata": {
    "tags": []
   },
   "outputs": [],
   "source": [
    "def chat_conversion(text):\n",
    "    new_text=[]\n",
    "    for w in text.split():\n",
    "        if w.upper() in chat_words:\n",
    "            new_text.append(chat_words[w.upper()])\n",
    "        else:\n",
    "            new_text.append(w)\n",
    "    return \" \".join(new_text)\n",
    "        "
   ]
  },
  {
   "cell_type": "code",
   "execution_count": 27,
   "id": "407714e0-7fda-495f-9ace-ec5abd2531bc",
   "metadata": {
    "tags": []
   },
   "outputs": [],
   "source": [
    "df['review']=df['review'].apply(chat_conversion)"
   ]
  },
  {
   "cell_type": "code",
   "execution_count": 28,
   "id": "ccfd5678-45dc-4e89-945b-00fa78670d27",
   "metadata": {
    "tags": []
   },
   "outputs": [
    {
     "data": {
      "text/html": [
       "<div>\n",
       "<style scoped>\n",
       "    .dataframe tbody tr th:only-of-type {\n",
       "        vertical-align: middle;\n",
       "    }\n",
       "\n",
       "    .dataframe tbody tr th {\n",
       "        vertical-align: top;\n",
       "    }\n",
       "\n",
       "    .dataframe thead th {\n",
       "        text-align: right;\n",
       "    }\n",
       "</style>\n",
       "<table border=\"1\" class=\"dataframe\">\n",
       "  <thead>\n",
       "    <tr style=\"text-align: right;\">\n",
       "      <th></th>\n",
       "      <th>review</th>\n",
       "      <th>sentiment</th>\n",
       "    </tr>\n",
       "  </thead>\n",
       "  <tbody>\n",
       "    <tr>\n",
       "      <th>0</th>\n",
       "      <td>one of the other reviewers has mentioned that ...</td>\n",
       "      <td>positive</td>\n",
       "    </tr>\n",
       "    <tr>\n",
       "      <th>1</th>\n",
       "      <td>a wonderful little production the filming tech...</td>\n",
       "      <td>positive</td>\n",
       "    </tr>\n",
       "    <tr>\n",
       "      <th>2</th>\n",
       "      <td>i thought this was a wonderful way to spend Te...</td>\n",
       "      <td>positive</td>\n",
       "    </tr>\n",
       "    <tr>\n",
       "      <th>3</th>\n",
       "      <td>basically theres a family where a little boy j...</td>\n",
       "      <td>negative</td>\n",
       "    </tr>\n",
       "    <tr>\n",
       "      <th>4</th>\n",
       "      <td>petter matteis love in the Tears in my eyes of...</td>\n",
       "      <td>positive</td>\n",
       "    </tr>\n",
       "  </tbody>\n",
       "</table>\n",
       "</div>"
      ],
      "text/plain": [
       "                                              review sentiment\n",
       "0  one of the other reviewers has mentioned that ...  positive\n",
       "1  a wonderful little production the filming tech...  positive\n",
       "2  i thought this was a wonderful way to spend Te...  positive\n",
       "3  basically theres a family where a little boy j...  negative\n",
       "4  petter matteis love in the Tears in my eyes of...  positive"
      ]
     },
     "execution_count": 28,
     "metadata": {},
     "output_type": "execute_result"
    }
   ],
   "source": [
    "df.head()"
   ]
  },
  {
   "cell_type": "markdown",
   "id": "26cb5854-910b-4dc8-9bea-5d3944bc17bf",
   "metadata": {},
   "source": [
    "##### Spelling correction"
   ]
  },
  {
   "cell_type": "code",
   "execution_count": 36,
   "id": "ce35f0bd-c77f-42c6-8413-c1d43614bad1",
   "metadata": {
    "tags": []
   },
   "outputs": [],
   "source": [
    "#from textblob import TextBlob"
   ]
  },
  {
   "cell_type": "code",
   "execution_count": 39,
   "id": "e38f6497-76d2-4ebf-99f7-3f5cb7cee7d1",
   "metadata": {
    "tags": []
   },
   "outputs": [],
   "source": [
    "#def correct_text(text):\n",
    "    #textblb=TextBlob(text)\n",
    "    #return textblb.correct().string\n",
    "    "
   ]
  },
  {
   "cell_type": "code",
   "execution_count": 40,
   "id": "8aa1b6a8-6415-4eb2-a4a5-b973d10a36dc",
   "metadata": {
    "tags": []
   },
   "outputs": [],
   "source": [
    "#df['review']=df['review'].apply(correct_text)"
   ]
  },
  {
   "cell_type": "code",
   "execution_count": 41,
   "id": "96bb4360-532c-4ce2-a7e7-6b25f1f9992a",
   "metadata": {
    "tags": []
   },
   "outputs": [
    {
     "data": {
      "text/html": [
       "<div>\n",
       "<style scoped>\n",
       "    .dataframe tbody tr th:only-of-type {\n",
       "        vertical-align: middle;\n",
       "    }\n",
       "\n",
       "    .dataframe tbody tr th {\n",
       "        vertical-align: top;\n",
       "    }\n",
       "\n",
       "    .dataframe thead th {\n",
       "        text-align: right;\n",
       "    }\n",
       "</style>\n",
       "<table border=\"1\" class=\"dataframe\">\n",
       "  <thead>\n",
       "    <tr style=\"text-align: right;\">\n",
       "      <th></th>\n",
       "      <th>review</th>\n",
       "      <th>sentiment</th>\n",
       "    </tr>\n",
       "  </thead>\n",
       "  <tbody>\n",
       "    <tr>\n",
       "      <th>0</th>\n",
       "      <td>one of the other reviewers has mentioned that ...</td>\n",
       "      <td>positive</td>\n",
       "    </tr>\n",
       "    <tr>\n",
       "      <th>1</th>\n",
       "      <td>a wonderful little production the filming tech...</td>\n",
       "      <td>positive</td>\n",
       "    </tr>\n",
       "    <tr>\n",
       "      <th>2</th>\n",
       "      <td>i thought this was a wonderful way to spend Te...</td>\n",
       "      <td>positive</td>\n",
       "    </tr>\n",
       "    <tr>\n",
       "      <th>3</th>\n",
       "      <td>basically theres a family where a little boy j...</td>\n",
       "      <td>negative</td>\n",
       "    </tr>\n",
       "    <tr>\n",
       "      <th>4</th>\n",
       "      <td>petter matteis love in the Tears in my eyes of...</td>\n",
       "      <td>positive</td>\n",
       "    </tr>\n",
       "  </tbody>\n",
       "</table>\n",
       "</div>"
      ],
      "text/plain": [
       "                                              review sentiment\n",
       "0  one of the other reviewers has mentioned that ...  positive\n",
       "1  a wonderful little production the filming tech...  positive\n",
       "2  i thought this was a wonderful way to spend Te...  positive\n",
       "3  basically theres a family where a little boy j...  negative\n",
       "4  petter matteis love in the Tears in my eyes of...  positive"
      ]
     },
     "execution_count": 41,
     "metadata": {},
     "output_type": "execute_result"
    }
   ],
   "source": [
    "df.head()"
   ]
  },
  {
   "cell_type": "markdown",
   "id": "2b3541b6-bbb5-4d6b-a252-c745b9d0602d",
   "metadata": {},
   "source": [
    "##### Selecting only first 100 rows"
   ]
  },
  {
   "cell_type": "code",
   "execution_count": 44,
   "id": "ca2176bf-2f8a-4407-b4ed-2e8de9add9d6",
   "metadata": {
    "tags": []
   },
   "outputs": [],
   "source": [
    "df=df.iloc[:100]"
   ]
  },
  {
   "cell_type": "code",
   "execution_count": 45,
   "id": "11ca8073-a97a-4915-8a7a-759873a3fcb3",
   "metadata": {
    "tags": []
   },
   "outputs": [
    {
     "data": {
      "text/plain": [
       "(100, 2)"
      ]
     },
     "execution_count": 45,
     "metadata": {},
     "output_type": "execute_result"
    }
   ],
   "source": [
    "df.shape"
   ]
  },
  {
   "cell_type": "markdown",
   "id": "ca73dde6-54f8-460d-a141-3b675f9eb557",
   "metadata": {},
   "source": [
    "##### Removing stopwords"
   ]
  },
  {
   "cell_type": "code",
   "execution_count": 47,
   "id": "c7d5d75e-0700-4262-8639-53054d415f17",
   "metadata": {
    "tags": []
   },
   "outputs": [],
   "source": [
    "from nltk.corpus import stopwords"
   ]
  },
  {
   "cell_type": "code",
   "execution_count": 48,
   "id": "91c0fd12-d120-4de7-a34d-867452ed5dfa",
   "metadata": {
    "tags": []
   },
   "outputs": [
    {
     "data": {
      "text/plain": [
       "['i',\n",
       " 'me',\n",
       " 'my',\n",
       " 'myself',\n",
       " 'we',\n",
       " 'our',\n",
       " 'ours',\n",
       " 'ourselves',\n",
       " 'you',\n",
       " \"you're\",\n",
       " \"you've\",\n",
       " \"you'll\",\n",
       " \"you'd\",\n",
       " 'your',\n",
       " 'yours',\n",
       " 'yourself',\n",
       " 'yourselves',\n",
       " 'he',\n",
       " 'him',\n",
       " 'his',\n",
       " 'himself',\n",
       " 'she',\n",
       " \"she's\",\n",
       " 'her',\n",
       " 'hers',\n",
       " 'herself',\n",
       " 'it',\n",
       " \"it's\",\n",
       " 'its',\n",
       " 'itself',\n",
       " 'they',\n",
       " 'them',\n",
       " 'their',\n",
       " 'theirs',\n",
       " 'themselves',\n",
       " 'what',\n",
       " 'which',\n",
       " 'who',\n",
       " 'whom',\n",
       " 'this',\n",
       " 'that',\n",
       " \"that'll\",\n",
       " 'these',\n",
       " 'those',\n",
       " 'am',\n",
       " 'is',\n",
       " 'are',\n",
       " 'was',\n",
       " 'were',\n",
       " 'be',\n",
       " 'been',\n",
       " 'being',\n",
       " 'have',\n",
       " 'has',\n",
       " 'had',\n",
       " 'having',\n",
       " 'do',\n",
       " 'does',\n",
       " 'did',\n",
       " 'doing',\n",
       " 'a',\n",
       " 'an',\n",
       " 'the',\n",
       " 'and',\n",
       " 'but',\n",
       " 'if',\n",
       " 'or',\n",
       " 'because',\n",
       " 'as',\n",
       " 'until',\n",
       " 'while',\n",
       " 'of',\n",
       " 'at',\n",
       " 'by',\n",
       " 'for',\n",
       " 'with',\n",
       " 'about',\n",
       " 'against',\n",
       " 'between',\n",
       " 'into',\n",
       " 'through',\n",
       " 'during',\n",
       " 'before',\n",
       " 'after',\n",
       " 'above',\n",
       " 'below',\n",
       " 'to',\n",
       " 'from',\n",
       " 'up',\n",
       " 'down',\n",
       " 'in',\n",
       " 'out',\n",
       " 'on',\n",
       " 'off',\n",
       " 'over',\n",
       " 'under',\n",
       " 'again',\n",
       " 'further',\n",
       " 'then',\n",
       " 'once',\n",
       " 'here',\n",
       " 'there',\n",
       " 'when',\n",
       " 'where',\n",
       " 'why',\n",
       " 'how',\n",
       " 'all',\n",
       " 'any',\n",
       " 'both',\n",
       " 'each',\n",
       " 'few',\n",
       " 'more',\n",
       " 'most',\n",
       " 'other',\n",
       " 'some',\n",
       " 'such',\n",
       " 'no',\n",
       " 'nor',\n",
       " 'not',\n",
       " 'only',\n",
       " 'own',\n",
       " 'same',\n",
       " 'so',\n",
       " 'than',\n",
       " 'too',\n",
       " 'very',\n",
       " 's',\n",
       " 't',\n",
       " 'can',\n",
       " 'will',\n",
       " 'just',\n",
       " 'don',\n",
       " \"don't\",\n",
       " 'should',\n",
       " \"should've\",\n",
       " 'now',\n",
       " 'd',\n",
       " 'll',\n",
       " 'm',\n",
       " 'o',\n",
       " 're',\n",
       " 've',\n",
       " 'y',\n",
       " 'ain',\n",
       " 'aren',\n",
       " \"aren't\",\n",
       " 'couldn',\n",
       " \"couldn't\",\n",
       " 'didn',\n",
       " \"didn't\",\n",
       " 'doesn',\n",
       " \"doesn't\",\n",
       " 'hadn',\n",
       " \"hadn't\",\n",
       " 'hasn',\n",
       " \"hasn't\",\n",
       " 'haven',\n",
       " \"haven't\",\n",
       " 'isn',\n",
       " \"isn't\",\n",
       " 'ma',\n",
       " 'mightn',\n",
       " \"mightn't\",\n",
       " 'mustn',\n",
       " \"mustn't\",\n",
       " 'needn',\n",
       " \"needn't\",\n",
       " 'shan',\n",
       " \"shan't\",\n",
       " 'shouldn',\n",
       " \"shouldn't\",\n",
       " 'wasn',\n",
       " \"wasn't\",\n",
       " 'weren',\n",
       " \"weren't\",\n",
       " 'won',\n",
       " \"won't\",\n",
       " 'wouldn',\n",
       " \"wouldn't\"]"
      ]
     },
     "execution_count": 48,
     "metadata": {},
     "output_type": "execute_result"
    }
   ],
   "source": [
    "stopwords.words('english')"
   ]
  },
  {
   "cell_type": "code",
   "execution_count": 49,
   "id": "9d59c50e-1efa-4ac3-861b-924d8f443037",
   "metadata": {
    "tags": []
   },
   "outputs": [],
   "source": [
    "def remove_stopwords(text):\n",
    "    new_text=[]\n",
    "    for word in text.split():\n",
    "        if word in stopwords.words('english'):\n",
    "            new_text.append('')\n",
    "        else:\n",
    "            new_text.append(word)\n",
    "    x=new_text[:]\n",
    "    new_text.clear()\n",
    "    return \" \".join(x)"
   ]
  },
  {
   "cell_type": "code",
   "execution_count": 50,
   "id": "2ddc7afe-66fd-4ac2-abdc-ced38fe906ec",
   "metadata": {
    "tags": []
   },
   "outputs": [],
   "source": [
    "df['review']=df['review'].apply(remove_stopwords)"
   ]
  },
  {
   "cell_type": "code",
   "execution_count": 54,
   "id": "88a0aa4d-43eb-4665-b1f2-19a967b44d33",
   "metadata": {
    "tags": []
   },
   "outputs": [
    {
     "data": {
      "text/html": [
       "<div>\n",
       "<style scoped>\n",
       "    .dataframe tbody tr th:only-of-type {\n",
       "        vertical-align: middle;\n",
       "    }\n",
       "\n",
       "    .dataframe tbody tr th {\n",
       "        vertical-align: top;\n",
       "    }\n",
       "\n",
       "    .dataframe thead th {\n",
       "        text-align: right;\n",
       "    }\n",
       "</style>\n",
       "<table border=\"1\" class=\"dataframe\">\n",
       "  <thead>\n",
       "    <tr style=\"text-align: right;\">\n",
       "      <th></th>\n",
       "      <th>review</th>\n",
       "      <th>sentiment</th>\n",
       "    </tr>\n",
       "  </thead>\n",
       "  <tbody>\n",
       "    <tr>\n",
       "      <th>0</th>\n",
       "      <td>one    reviewers  mentioned   watching  1 oz e...</td>\n",
       "      <td>positive</td>\n",
       "    </tr>\n",
       "    <tr>\n",
       "      <th>1</th>\n",
       "      <td>wonderful little production  filming techniqu...</td>\n",
       "      <td>positive</td>\n",
       "    </tr>\n",
       "    <tr>\n",
       "      <th>2</th>\n",
       "      <td>thought    wonderful way  spend Tears   eyes ...</td>\n",
       "      <td>positive</td>\n",
       "    </tr>\n",
       "    <tr>\n",
       "      <th>3</th>\n",
       "      <td>basically theres  family   little boy jake thi...</td>\n",
       "      <td>negative</td>\n",
       "    </tr>\n",
       "    <tr>\n",
       "      <th>4</th>\n",
       "      <td>petter matteis love   Tears   eyes  money   vi...</td>\n",
       "      <td>positive</td>\n",
       "    </tr>\n",
       "  </tbody>\n",
       "</table>\n",
       "</div>"
      ],
      "text/plain": [
       "                                              review sentiment\n",
       "0  one    reviewers  mentioned   watching  1 oz e...  positive\n",
       "1   wonderful little production  filming techniqu...  positive\n",
       "2   thought    wonderful way  spend Tears   eyes ...  positive\n",
       "3  basically theres  family   little boy jake thi...  negative\n",
       "4  petter matteis love   Tears   eyes  money   vi...  positive"
      ]
     },
     "execution_count": 54,
     "metadata": {},
     "output_type": "execute_result"
    }
   ],
   "source": [
    "df.head()"
   ]
  },
  {
   "cell_type": "code",
   "execution_count": 55,
   "id": "d41a446a-4c39-4303-bb30-3c55b98f49fb",
   "metadata": {
    "tags": []
   },
   "outputs": [],
   "source": [
    "# Problem 2\n",
    "\n",
    "# Find out the number of words in the entire corpus and also the total number of unique words(vocabulary) using just python"
   ]
  },
  {
   "cell_type": "code",
   "execution_count": 57,
   "id": "f33cf0c3-a3a0-48e7-8dba-d2c51d1bf26e",
   "metadata": {
    "tags": []
   },
   "outputs": [],
   "source": [
    "from sklearn.feature_extraction.text import CountVectorizer"
   ]
  },
  {
   "cell_type": "code",
   "execution_count": 58,
   "id": "92af992b-b191-4785-b88d-04aa42185ce7",
   "metadata": {
    "tags": []
   },
   "outputs": [],
   "source": [
    "cv = CountVectorizer()"
   ]
  },
  {
   "cell_type": "code",
   "execution_count": 59,
   "id": "88443b4c-8900-4bc4-9217-d3b348dfecdf",
   "metadata": {
    "tags": []
   },
   "outputs": [],
   "source": [
    "bow=cv.fit_transform(df['review'])"
   ]
  },
  {
   "cell_type": "code",
   "execution_count": 62,
   "id": "eaf94220-ccdc-4e04-a824-81a0b8824967",
   "metadata": {
    "tags": []
   },
   "outputs": [],
   "source": [
    "text_column = ' '.join(df['review'].astype(str))"
   ]
  },
  {
   "cell_type": "code",
   "execution_count": 65,
   "id": "b39171e4-1179-4fbe-b799-3a946137066d",
   "metadata": {
    "tags": []
   },
   "outputs": [
    {
     "name": "stdout",
     "output_type": "stream",
     "text": [
      "Total no of words in corpus is :  12102\n"
     ]
    }
   ],
   "source": [
    "words = text_column.split()\n",
    "corpus = len(words)\n",
    "\n",
    "print(\"Total no of words in corpus is : \",corpus)"
   ]
  },
  {
   "cell_type": "code",
   "execution_count": 67,
   "id": "8b6ea4ad-8f42-42bb-ad22-2201441c3a82",
   "metadata": {
    "tags": []
   },
   "outputs": [
    {
     "name": "stdout",
     "output_type": "stream",
     "text": [
      "4906\n"
     ]
    }
   ],
   "source": [
    "## Vocab\n",
    "print(len(cv.vocabulary_))"
   ]
  },
  {
   "cell_type": "code",
   "execution_count": 68,
   "id": "f747ef78-1720-4640-8df5-2eea7e88a2f8",
   "metadata": {
    "tags": []
   },
   "outputs": [],
   "source": [
    "# Problem 3\n",
    "\n",
    "# Apply One Hot Encoding"
   ]
  },
  {
   "cell_type": "code",
   "execution_count": 69,
   "id": "7eb3e93c-634a-472c-944a-1c1eb2c21e43",
   "metadata": {
    "tags": []
   },
   "outputs": [],
   "source": [
    "vectorizer = CountVectorizer(binary=True)"
   ]
  },
  {
   "cell_type": "code",
   "execution_count": 70,
   "id": "223c7121-7b37-4897-b5c9-3a169315014d",
   "metadata": {
    "tags": []
   },
   "outputs": [],
   "source": [
    "one_hot_encoded = vectorizer.fit_transform(df['review'])"
   ]
  },
  {
   "cell_type": "code",
   "execution_count": 71,
   "id": "4d8919e8-f9ae-47b9-b673-4a8e69e49370",
   "metadata": {
    "tags": []
   },
   "outputs": [],
   "source": [
    "one_hot_df = pd.DataFrame(one_hot_encoded.toarray(), columns=vectorizer.get_feature_names_out())"
   ]
  },
  {
   "cell_type": "code",
   "execution_count": 72,
   "id": "52964449-bc1f-410e-bd95-f6442ae06c0e",
   "metadata": {
    "tags": []
   },
   "outputs": [
    {
     "data": {
      "text/html": [
       "<div>\n",
       "<style scoped>\n",
       "    .dataframe tbody tr th:only-of-type {\n",
       "        vertical-align: middle;\n",
       "    }\n",
       "\n",
       "    .dataframe tbody tr th {\n",
       "        vertical-align: top;\n",
       "    }\n",
       "\n",
       "    .dataframe thead th {\n",
       "        text-align: right;\n",
       "    }\n",
       "</style>\n",
       "<table border=\"1\" class=\"dataframe\">\n",
       "  <thead>\n",
       "    <tr style=\"text-align: right;\">\n",
       "      <th></th>\n",
       "      <th>0510</th>\n",
       "      <th>10</th>\n",
       "      <th>100</th>\n",
       "      <th>10000</th>\n",
       "      <th>103</th>\n",
       "      <th>1030</th>\n",
       "      <th>10s</th>\n",
       "      <th>11</th>\n",
       "      <th>110</th>\n",
       "      <th>12</th>\n",
       "      <th>...</th>\n",
       "      <th>zany</th>\n",
       "      <th>zellweger</th>\n",
       "      <th>zerog</th>\n",
       "      <th>zeus</th>\n",
       "      <th>zombie</th>\n",
       "      <th>zombieok</th>\n",
       "      <th>zone</th>\n",
       "      <th>zoo</th>\n",
       "      <th>zooms</th>\n",
       "      <th>zwick</th>\n",
       "    </tr>\n",
       "  </thead>\n",
       "  <tbody>\n",
       "    <tr>\n",
       "      <th>0</th>\n",
       "      <td>0</td>\n",
       "      <td>0</td>\n",
       "      <td>0</td>\n",
       "      <td>0</td>\n",
       "      <td>0</td>\n",
       "      <td>0</td>\n",
       "      <td>0</td>\n",
       "      <td>0</td>\n",
       "      <td>0</td>\n",
       "      <td>0</td>\n",
       "      <td>...</td>\n",
       "      <td>0</td>\n",
       "      <td>0</td>\n",
       "      <td>0</td>\n",
       "      <td>0</td>\n",
       "      <td>0</td>\n",
       "      <td>0</td>\n",
       "      <td>0</td>\n",
       "      <td>0</td>\n",
       "      <td>0</td>\n",
       "      <td>0</td>\n",
       "    </tr>\n",
       "    <tr>\n",
       "      <th>1</th>\n",
       "      <td>0</td>\n",
       "      <td>0</td>\n",
       "      <td>0</td>\n",
       "      <td>0</td>\n",
       "      <td>0</td>\n",
       "      <td>0</td>\n",
       "      <td>0</td>\n",
       "      <td>0</td>\n",
       "      <td>0</td>\n",
       "      <td>0</td>\n",
       "      <td>...</td>\n",
       "      <td>0</td>\n",
       "      <td>0</td>\n",
       "      <td>0</td>\n",
       "      <td>0</td>\n",
       "      <td>0</td>\n",
       "      <td>0</td>\n",
       "      <td>0</td>\n",
       "      <td>0</td>\n",
       "      <td>0</td>\n",
       "      <td>0</td>\n",
       "    </tr>\n",
       "    <tr>\n",
       "      <th>2</th>\n",
       "      <td>0</td>\n",
       "      <td>0</td>\n",
       "      <td>0</td>\n",
       "      <td>0</td>\n",
       "      <td>0</td>\n",
       "      <td>0</td>\n",
       "      <td>0</td>\n",
       "      <td>0</td>\n",
       "      <td>0</td>\n",
       "      <td>0</td>\n",
       "      <td>...</td>\n",
       "      <td>0</td>\n",
       "      <td>0</td>\n",
       "      <td>0</td>\n",
       "      <td>0</td>\n",
       "      <td>0</td>\n",
       "      <td>0</td>\n",
       "      <td>0</td>\n",
       "      <td>0</td>\n",
       "      <td>0</td>\n",
       "      <td>0</td>\n",
       "    </tr>\n",
       "    <tr>\n",
       "      <th>3</th>\n",
       "      <td>0</td>\n",
       "      <td>1</td>\n",
       "      <td>0</td>\n",
       "      <td>0</td>\n",
       "      <td>0</td>\n",
       "      <td>0</td>\n",
       "      <td>0</td>\n",
       "      <td>0</td>\n",
       "      <td>0</td>\n",
       "      <td>0</td>\n",
       "      <td>...</td>\n",
       "      <td>0</td>\n",
       "      <td>0</td>\n",
       "      <td>0</td>\n",
       "      <td>0</td>\n",
       "      <td>1</td>\n",
       "      <td>1</td>\n",
       "      <td>0</td>\n",
       "      <td>0</td>\n",
       "      <td>0</td>\n",
       "      <td>0</td>\n",
       "    </tr>\n",
       "    <tr>\n",
       "      <th>4</th>\n",
       "      <td>0</td>\n",
       "      <td>0</td>\n",
       "      <td>0</td>\n",
       "      <td>0</td>\n",
       "      <td>0</td>\n",
       "      <td>0</td>\n",
       "      <td>0</td>\n",
       "      <td>0</td>\n",
       "      <td>0</td>\n",
       "      <td>0</td>\n",
       "      <td>...</td>\n",
       "      <td>0</td>\n",
       "      <td>0</td>\n",
       "      <td>0</td>\n",
       "      <td>0</td>\n",
       "      <td>0</td>\n",
       "      <td>0</td>\n",
       "      <td>0</td>\n",
       "      <td>0</td>\n",
       "      <td>0</td>\n",
       "      <td>0</td>\n",
       "    </tr>\n",
       "    <tr>\n",
       "      <th>...</th>\n",
       "      <td>...</td>\n",
       "      <td>...</td>\n",
       "      <td>...</td>\n",
       "      <td>...</td>\n",
       "      <td>...</td>\n",
       "      <td>...</td>\n",
       "      <td>...</td>\n",
       "      <td>...</td>\n",
       "      <td>...</td>\n",
       "      <td>...</td>\n",
       "      <td>...</td>\n",
       "      <td>...</td>\n",
       "      <td>...</td>\n",
       "      <td>...</td>\n",
       "      <td>...</td>\n",
       "      <td>...</td>\n",
       "      <td>...</td>\n",
       "      <td>...</td>\n",
       "      <td>...</td>\n",
       "      <td>...</td>\n",
       "      <td>...</td>\n",
       "    </tr>\n",
       "    <tr>\n",
       "      <th>95</th>\n",
       "      <td>0</td>\n",
       "      <td>0</td>\n",
       "      <td>0</td>\n",
       "      <td>0</td>\n",
       "      <td>0</td>\n",
       "      <td>0</td>\n",
       "      <td>0</td>\n",
       "      <td>0</td>\n",
       "      <td>0</td>\n",
       "      <td>0</td>\n",
       "      <td>...</td>\n",
       "      <td>0</td>\n",
       "      <td>0</td>\n",
       "      <td>0</td>\n",
       "      <td>0</td>\n",
       "      <td>0</td>\n",
       "      <td>0</td>\n",
       "      <td>0</td>\n",
       "      <td>0</td>\n",
       "      <td>0</td>\n",
       "      <td>0</td>\n",
       "    </tr>\n",
       "    <tr>\n",
       "      <th>96</th>\n",
       "      <td>0</td>\n",
       "      <td>0</td>\n",
       "      <td>0</td>\n",
       "      <td>0</td>\n",
       "      <td>0</td>\n",
       "      <td>0</td>\n",
       "      <td>0</td>\n",
       "      <td>0</td>\n",
       "      <td>0</td>\n",
       "      <td>0</td>\n",
       "      <td>...</td>\n",
       "      <td>0</td>\n",
       "      <td>0</td>\n",
       "      <td>0</td>\n",
       "      <td>1</td>\n",
       "      <td>0</td>\n",
       "      <td>0</td>\n",
       "      <td>0</td>\n",
       "      <td>0</td>\n",
       "      <td>0</td>\n",
       "      <td>0</td>\n",
       "    </tr>\n",
       "    <tr>\n",
       "      <th>97</th>\n",
       "      <td>0</td>\n",
       "      <td>0</td>\n",
       "      <td>0</td>\n",
       "      <td>0</td>\n",
       "      <td>0</td>\n",
       "      <td>0</td>\n",
       "      <td>0</td>\n",
       "      <td>0</td>\n",
       "      <td>1</td>\n",
       "      <td>0</td>\n",
       "      <td>...</td>\n",
       "      <td>0</td>\n",
       "      <td>0</td>\n",
       "      <td>0</td>\n",
       "      <td>0</td>\n",
       "      <td>0</td>\n",
       "      <td>0</td>\n",
       "      <td>0</td>\n",
       "      <td>0</td>\n",
       "      <td>0</td>\n",
       "      <td>0</td>\n",
       "    </tr>\n",
       "    <tr>\n",
       "      <th>98</th>\n",
       "      <td>0</td>\n",
       "      <td>0</td>\n",
       "      <td>0</td>\n",
       "      <td>0</td>\n",
       "      <td>0</td>\n",
       "      <td>0</td>\n",
       "      <td>0</td>\n",
       "      <td>0</td>\n",
       "      <td>0</td>\n",
       "      <td>0</td>\n",
       "      <td>...</td>\n",
       "      <td>0</td>\n",
       "      <td>0</td>\n",
       "      <td>0</td>\n",
       "      <td>0</td>\n",
       "      <td>0</td>\n",
       "      <td>0</td>\n",
       "      <td>0</td>\n",
       "      <td>0</td>\n",
       "      <td>0</td>\n",
       "      <td>0</td>\n",
       "    </tr>\n",
       "    <tr>\n",
       "      <th>99</th>\n",
       "      <td>0</td>\n",
       "      <td>1</td>\n",
       "      <td>0</td>\n",
       "      <td>0</td>\n",
       "      <td>0</td>\n",
       "      <td>0</td>\n",
       "      <td>0</td>\n",
       "      <td>0</td>\n",
       "      <td>0</td>\n",
       "      <td>0</td>\n",
       "      <td>...</td>\n",
       "      <td>0</td>\n",
       "      <td>0</td>\n",
       "      <td>0</td>\n",
       "      <td>0</td>\n",
       "      <td>0</td>\n",
       "      <td>0</td>\n",
       "      <td>0</td>\n",
       "      <td>0</td>\n",
       "      <td>0</td>\n",
       "      <td>0</td>\n",
       "    </tr>\n",
       "  </tbody>\n",
       "</table>\n",
       "<p>100 rows × 4906 columns</p>\n",
       "</div>"
      ],
      "text/plain": [
       "    0510  10  100  10000  103  1030  10s  11  110  12  ...  zany  zellweger  \\\n",
       "0      0   0    0      0    0     0    0   0    0   0  ...     0          0   \n",
       "1      0   0    0      0    0     0    0   0    0   0  ...     0          0   \n",
       "2      0   0    0      0    0     0    0   0    0   0  ...     0          0   \n",
       "3      0   1    0      0    0     0    0   0    0   0  ...     0          0   \n",
       "4      0   0    0      0    0     0    0   0    0   0  ...     0          0   \n",
       "..   ...  ..  ...    ...  ...   ...  ...  ..  ...  ..  ...   ...        ...   \n",
       "95     0   0    0      0    0     0    0   0    0   0  ...     0          0   \n",
       "96     0   0    0      0    0     0    0   0    0   0  ...     0          0   \n",
       "97     0   0    0      0    0     0    0   0    1   0  ...     0          0   \n",
       "98     0   0    0      0    0     0    0   0    0   0  ...     0          0   \n",
       "99     0   1    0      0    0     0    0   0    0   0  ...     0          0   \n",
       "\n",
       "    zerog  zeus  zombie  zombieok  zone  zoo  zooms  zwick  \n",
       "0       0     0       0         0     0    0      0      0  \n",
       "1       0     0       0         0     0    0      0      0  \n",
       "2       0     0       0         0     0    0      0      0  \n",
       "3       0     0       1         1     0    0      0      0  \n",
       "4       0     0       0         0     0    0      0      0  \n",
       "..    ...   ...     ...       ...   ...  ...    ...    ...  \n",
       "95      0     0       0         0     0    0      0      0  \n",
       "96      0     1       0         0     0    0      0      0  \n",
       "97      0     0       0         0     0    0      0      0  \n",
       "98      0     0       0         0     0    0      0      0  \n",
       "99      0     0       0         0     0    0      0      0  \n",
       "\n",
       "[100 rows x 4906 columns]"
      ]
     },
     "execution_count": 72,
     "metadata": {},
     "output_type": "execute_result"
    }
   ],
   "source": [
    "one_hot_df"
   ]
  },
  {
   "cell_type": "code",
   "execution_count": 73,
   "id": "06c9f63b-d10d-410f-ac8a-506c86c540d5",
   "metadata": {
    "tags": []
   },
   "outputs": [],
   "source": [
    "# Problem 4\n",
    "\n",
    "# Apply bag words and find the vocabulary also find the times each word has occured"
   ]
  },
  {
   "cell_type": "code",
   "execution_count": 74,
   "id": "b8c9448e-719a-4e7e-a7d0-e0dae759bf9d",
   "metadata": {
    "tags": []
   },
   "outputs": [],
   "source": [
    "cv=CountVectorizer()\n"
   ]
  },
  {
   "cell_type": "code",
   "execution_count": 75,
   "id": "9b978056-2f6c-4f50-b949-dc282dd276aa",
   "metadata": {
    "tags": []
   },
   "outputs": [],
   "source": [
    "bow=cv.fit_transform(df['review'])"
   ]
  },
  {
   "cell_type": "code",
   "execution_count": 76,
   "id": "03cd63cc-dad2-426b-91ee-34207879c77b",
   "metadata": {
    "tags": []
   },
   "outputs": [
    {
     "name": "stdout",
     "output_type": "stream",
     "text": [
      "{'one': 3029, 'reviewers': 3612, 'mentioned': 2717, 'watching': 4713, 'oz': 3087, 'episode': 1422, 'youll': 4886, 'hooked': 2058, 'right': 3630, 'exactly': 1461, 'happened': 1932, 'methe': 2725, 'first': 1626, 'thing': 4333, 'struck': 4138, 'brutality': 609, 'unflinching': 4540, 'scenes': 3743, 'violence': 4647, 'set': 3822, 'word': 4819, 'go': 1813, 'trust': 4485, 'show': 3874, 'faint': 1532, 'hearted': 1968, 'timid': 4382, 'pulls': 3378, 'punches': 3381, 'regards': 3506, 'drugs': 1286, 'sex': 3829, 'hardcore': 1939, 'classic': 796, 'use': 4588, 'wordit': 4820, 'called': 651, 'nickname': 2927, 'given': 1793, 'oswald': 3058, 'maximum': 2680, 'security': 3784, 'state': 4075, 'penitentary': 3153, 'focuses': 1655, 'mainly': 2616, 'emerald': 1362, 'city': 788, 'experimental': 1492, 'section': 3783, 'prison': 3323, 'cells': 716, 'glass': 1800, 'fronts': 1713, 'face': 1519, 'inwards': 2266, 'privacy': 3325, 'high': 2009, 'agenda': 152, 'em': 1359, 'home': 2043, 'manyaryans': 2643, 'muslims': 2860, 'gangstas': 1747, 'latinos': 2445, 'christians': 773, 'italians': 2282, 'irish': 2268, 'moreso': 2813, 'scuffles': 3772, 'death': 1093, 'stares': 4067, 'dodgy': 1245, 'dealings': 1090, 'shady': 3836, 'agreements': 161, 'never': 2915, 'far': 1551, 'awayi': 371, 'would': 4843, 'say': 3727, 'main': 2614, 'appeal': 271, 'due': 1295, 'fact': 1522, 'goes': 1819, 'shows': 3881, 'wouldnt': 4844, 'dare': 1062, 'forget': 1673, 'pretty': 3310, 'pictures': 3201, 'painted': 3099, 'mainstream': 2617, 'audiences': 351, 'charm': 746, 'romanceoz': 3660, 'doesnt': 1246, 'mess': 2721, 'around': 298, 'ever': 1448, 'saw': 3726, 'nasty': 2881, 'surreal': 4207, 'couldnt': 948, 'ready': 3460, 'watched': 4712, 'developed': 1163, 'taste': 4261, 'got': 1836, 'accustomed': 94, 'levels': 2495, 'graphic': 1854, 'injustice': 2208, 'crooked': 1011, 'guards': 1883, 'wholl': 4768, 'sold': 3976, 'nickel': 2926, 'inmates': 2210, 'kill': 2387, 'order': 3049, 'get': 1777, 'away': 370, 'well': 4742, 'mannered': 2640, 'middle': 2733, 'class': 795, 'turned': 4494, 'bitches': 488, 'lack': 2423, 'street': 4126, 'skills': 3930, 'experience': 1488, 'may': 2681, 'become': 429, 'comfortable': 848, 'uncomfortable': 4522, 'viewingthats': 4639, 'touch': 4419, 'darker': 1066, 'side': 3892, 'wonderful': 4809, 'little': 2536, 'production': 3338, 'filming': 1600, 'technique': 4270, 'unassuming': 4516, 'oldtimebbc': 3024, 'fashion': 1557, 'gives': 1794, 'comforting': 849, 'sometimes': 3986, 'discomforting': 1205, 'sense': 3802, 'realism': 3463, 'entire': 1409, 'piece': 3202, 'actors': 109, 'extremely': 1514, 'chosen': 771, 'michael': 2731, 'sheen': 3852, 'polari': 3250, 'voices': 4666, 'pat': 3132, 'truly': 4484, 'see': 3785, 'seamless': 3777, 'editing': 1328, 'guided': 1888, 'references': 3498, 'williams': 4781, 'diary': 1171, 'entries': 1415, 'worth': 4840, 'terrificly': 4302, 'written': 4857, 'performed': 3164, 'masterful': 2666, 'great': 1859, 'masters': 2669, 'comedy': 846, 'life': 2504, 'really': 3469, 'comes': 847, 'things': 4334, 'fantasy': 1550, 'guard': 1882, 'rather': 3447, 'traditional': 4435, 'dream': 1274, 'techniques': 4271, 'remains': 3529, 'solid': 3980, 'disappears': 1196, 'plays': 3232, 'knowledge': 2408, 'senses': 3803, 'particularly': 3122, 'concerning': 883, 'orton': 3055, 'halliwell': 1914, 'sets': 3824, 'flat': 1635, 'halliwells': 1915, 'murals': 2851, 'decorating': 1108, 'every': 1449, 'surface': 4201, 'terribly': 4300, 'done': 1250, 'thought': 4344, 'way': 4716, 'spend': 4029, 'tears': 4267, 'eyes': 1518, 'hot': 2078, 'summer': 4184, 'weekend': 4737, 'sitting': 3921, 'air': 168, 'conditioned': 887, 'theater': 4313, 'lighthearted': 2509, 'plot': 3236, 'simplistic': 3906, 'dialogue': 1170, 'witty': 4799, 'characters': 741, 'likable': 2511, 'even': 1442, 'bread': 576, 'suspected': 4216, 'serial': 3815, 'killer': 2389, 'disappointed': 1197, 'realize': 3466, 'match': 2670, 'point': 3244, 'risk': 3637, 'addiction': 122, 'proof': 3349, 'woody': 4817, 'allen': 190, 'still': 4100, 'fully': 1724, 'control': 923, 'style': 4155, 'many': 2642, 'us': 4586, 'grown': 1877, 'lovethis': 2584, 'id': 2114, 'laughed': 2451, 'woodys': 4818, 'comedies': 845, 'years': 4875, 'decade': 1097, 'ive': 2290, 'impressed': 2153, 'scarlet': 3736, 'johanson': 2325, 'managed': 2630, 'tone': 4403, 'sexy': 3832, 'image': 2132, 'jumped': 2344, 'average': 359, 'spirited': 4039, 'young': 4887, 'womanthis': 4805, 'crown': 1015, 'jewel': 2311, 'career': 681, 'wittier': 4798, 'devil': 1166, 'wears': 4730, 'prada': 3292, 'interesting': 2242, 'superman': 4193, 'friends': 1709, 'basically': 413, 'theres': 4325, 'family': 1544, 'boy': 565, 'jake': 2296, 'thinks': 4337, 'zombie': 4900, 'closet': 820, 'parents': 3116, 'fighting': 1592, 'timethis': 4381, 'movie': 2832, 'slower': 3950, 'soap': 3970, 'opera': 3041, 'suddenly': 4173, 'decides': 1104, 'rambo': 3431, 'zombieok': 4901, 'youre': 4891, 'going': 1820, 'make': 2621, 'film': 1597, 'must': 2861, 'decide': 1102, 'thriller': 4352, 'drama': 1268, 'watchable': 4711, 'divorcing': 1237, 'arguing': 292, 'like': 2512, 'real': 3462, 'totally': 4418, 'ruins': 3684, 'expected': 1485, 'boogeyman': 540, 'similar': 3901, 'instead': 2225, 'meaningless': 2689, 'spots3': 4048, '10': 1, 'playing': 3231, 'descent': 1140, 'dialogs': 1169, 'shots': 3871, 'ignore': 2125, 'petter': 3180, 'matteis': 2676, 'love': 2578, 'money': 2802, 'visually': 4657, 'stunning': 4148, 'watch': 4710, 'mr': 2841, 'mattei': 2675, 'offers': 3010, 'vivid': 4661, 'portrait': 3267, 'human': 2095, 'relations': 3516, 'seems': 3791, 'telling': 4286, 'power': 3286, 'success': 4165, 'people': 3155, 'different': 1177, 'situations': 3923, 'encounter': 1375, 'variation': 4609, 'arthur': 308, 'schnitzlers': 3749, 'play': 3226, 'theme': 4317, 'director': 1193, 'transfers': 4448, 'action': 105, 'present': 3305, 'new': 2916, 'york': 4882, 'meet': 2698, 'connect': 897, 'connected': 898, 'another': 244, 'next': 2921, 'person': 3171, 'know': 2406, 'previous': 3313, 'contact': 913, 'stylishly': 4156, 'sophisticated': 3995, 'luxurious': 2600, 'look': 2556, 'taken': 4245, 'live': 2538, 'world': 4829, 'habitatthe': 1903, 'gets': 1778, 'souls': 4004, 'picture': 3199, 'stages': 4055, 'loneliness': 2550, 'inhabits': 2201, 'big': 472, 'best': 465, 'place': 3215, 'find': 1612, 'sincere': 3910, 'fulfillment': 1720, 'discerns': 1203, 'case': 696, 'encounterthe': 1377, 'acting': 104, 'good': 1828, 'direction': 1191, 'steve': 4095, 'buscemi': 629, 'rosario': 3674, 'dawson': 1076, 'carol': 687, 'kane': 2355, 'imperioli': 2142, 'adrian': 130, 'grenier': 1864, 'rest': 3583, 'talented': 4250, 'cast': 702, 'come': 842, 'alivewe': 189, 'wish': 4791, 'luck': 2590, 'await': 363, 'anxiously': 255, 'work': 4823, 'probably': 3328, 'alltime': 194, 'favorite': 1567, 'story': 4117, 'selflessness': 3797, 'sacrifice': 3697, 'dedication': 1110, 'noble': 2938, 'cause': 708, 'preachy': 3293, 'boring': 550, 'old': 3021, 'despite': 1152, 'seen': 3792, '15': 11, 'times': 4378, 'last': 2438, '25': 34, 'paul': 3138, 'lukas': 2593, 'performance': 3162, 'brings': 595, 'bette': 468, 'davis': 1075, 'sympathetic': 4232, 'roles': 3655, 'delight': 1118, 'kids': 2385, 'grandma': 1851, 'says': 3729, 'dressedup': 1277, 'midgets': 2736, 'children': 759, 'makes': 2622, 'fun': 1727, 'mothers': 2824, 'slow': 3948, 'awakening': 366, 'whats': 4755, 'happening': 1933, 'roof': 3666, 'believable': 452, 'startling': 4072, 'dozen': 1263, 'thumbs': 4362, 'theyd': 4327, 'sure': 4198, 'resurrection': 3592, 'dated': 1068, 'seahunt': 3776, 'series': 3816, 'tech': 4268, 'today': 4392, 'bring': 594, 'back': 381, 'kid': 2379, 'excitement': 1471, 'mei': 2701, 'grew': 1865, 'black': 494, 'white': 4763, 'tv': 4498, 'gunsmoke': 1894, 'heros': 1998, 'weekyou': 4738, 'vote': 4672, 'comeback': 843, 'sea': 3774, 'huntwe': 2104, 'need': 2898, 'change': 735, 'pace': 3088, 'water': 4714, 'adventureoh': 134, 'thank': 4308, 'outlet': 3068, 'view': 4634, 'viewpoints': 4640, 'moviesso': 2836, 'ole': 3025, 'believe': 453, 'wanna': 4692, 'saywould': 3730, 'nice': 2922, 'read': 3457, 'plus': 3242, 'points': 3248, 'huntif': 2103, 'rhymes': 3620, 'lines': 2521, 'let': 2490, 'submitor': 4159, 'leave': 2472, 'doubt': 1256, 'quitif': 3415, 'lets': 2491, 'amazing': 209, 'fresh': 1706, 'innovative': 2212, 'idea': 2115, '70s': 47, 'aired': 169, 'brilliant': 591, 'dropped': 1282, '1990': 21, 'funny': 1731, 'anymore': 257, 'continued': 917, 'decline': 1107, 'complete': 872, 'waste': 4708, 'todayits': 4393, 'disgraceful': 1216, 'fallen': 1540, 'writing': 4856, 'painfully': 3097, 'bad': 383, 'performances': 3163, 'almost': 198, 'mildly': 2743, 'entertaining': 1407, 'respite': 3581, 'guesthosts': 1887, 'hard': 1938, 'creator': 977, 'handselected': 1927, 'original': 3051, 'also': 203, 'chose': 770, 'band': 394, 'hacks': 1905, 'followed': 1660, 'recognize': 3481, 'brilliance': 590, 'fit': 1629, 'replace': 3557, 'mediocrity': 2694, 'felt': 1579, 'give': 1792, 'stars': 4069, 'respect': 3577, 'made': 2604, 'huge': 2092, 'awful': 373, 'cant': 667, 'encouraged': 1379, 'positive': 3273, 'comments': 855, 'looking': 2560, 'forward': 1687, 'mistake': 2779, '950': 59, 'films': 1603, 'worst': 4839, 'pacing': 3089, 'storyline': 4118, 'soundtrack': 4007, 'song': 3990, 'lame': 2427, 'country': 953, 'tune': 4490, 'played': 3228, 'less': 2487, 'four': 1692, 'looks': 2561, 'cheap': 748, 'extreme': 1513, 'rarely': 3443, 'happy': 1935, 'end': 1381, 'credits': 984, 'prevents': 3312, 'giving': 1795, '1score': 25, 'harvey': 1945, 'keitel': 2369, 'least': 2471, 'making': 2623, 'bit': 486, 'effort': 1336, 'obsessives': 2993, 'gut': 1895, 'wrenching': 4850, 'laughter': 2454, 'hell': 1975, 'mom': 2797, 'liked': 2513, 'itgreat': 2286, 'camp': 658, 'phil': 3184, 'alien': 186, 'quirky': 3412, 'humour': 2100, 'based': 410, 'oddness': 3001, 'everything': 1452, 'actual': 113, 'punchlinesat': 3382, 'odd': 2999, 'progressed': 3343, 'didnt': 1172, 'jokes': 2331, 'anymoreits': 258, 'low': 2586, 'budget': 612, 'thats': 4311, 'problem': 3329, 'eventually': 1447, 'lost': 2570, 'interesti': 2241, 'imagine': 2135, 'stoner': 4112, 'currently': 1035, 'partakingfor': 3119, 'something': 3984, 'better': 469, 'try': 4487, 'brother': 603, 'planet': 3220, '12': 9, 'came': 654, 'recall': 3476, 'scariest': 3735, 'scene': 3742, 'bird': 483, 'eating': 1322, 'men': 2712, 'dangling': 1057, 'helplessly': 1984, 'parachutes': 3113, 'horror': 2072, 'horroras': 2073, 'cheesy': 753, 'saturday': 3720, 'afternoons': 144, 'tired': 4385, 'formula': 1681, 'monster': 2809, 'type': 4510, 'movies': 2835, 'usually': 4596, 'included': 2173, 'hero': 1995, 'beautiful': 424, 'woman': 4802, 'might': 2740, 'daughter': 1070, 'professor': 3340, 'resolution': 3576, 'died': 1174, 'care': 680, 'much': 2843, 'romantic': 3662, 'angle': 233, 'year': 4874, 'predictable': 3296, 'plots': 3238, 'unintentional': 4550, 'humorbut': 2099, 'later': 2442, 'psycho': 3370, 'loved': 2579, 'star': 4065, 'janet': 2298, 'leigh': 2482, 'bumped': 625, 'early': 1314, 'sat': 3716, 'took': 4408, 'notice': 2969, 'since': 3909, 'screenwriters': 3767, 'scary': 3738, 'possible': 3276, 'wellworn': 4746, 'rules': 3685, 'im': 2131, 'fan': 1547, 'bolls': 532, 'enjoyed': 1398, 'postal': 3279, 'maybe': 2682, 'boll': 531, 'apparently': 270, 'bought': 556, 'rights': 3632, 'cry': 1021, 'long': 2552, 'ago': 158, 'game': 1742, 'finsished': 1622, 'killing': 2391, 'mercs': 2719, 'infiltrating': 2198, 'secret': 3782, 'research': 3572, 'labs': 2422, 'located': 2543, 'tropical': 4478, 'island': 2274, 'warned': 4700, 'schemed': 3746, 'together': 4395, 'along': 200, 'legion': 2481, 'schmucks': 3747, 'feeling': 1575, 'loneley': 2549, 'invites': 2262, 'three': 4350, 'countrymen': 955, 'players': 3230, 'names': 2871, 'til': 4372, 'schweiger': 3752, 'udo': 4512, 'kier': 2386, 'ralf': 3427, 'moellerthree': 2794, 'actually': 114, 'selfs': 3798, 'biz': 492, 'tale': 4248, 'jack': 2291, 'carver': 695, 'yes': 4878, 'german': 1776, 'hail': 1908, 'bratwurst': 573, 'dudes': 1294, 'however': 2087, 'tils': 4373, 'badass': 384, 'complained': 869, 'hes': 2002, 'staying': 4082, 'true': 4483, 'whole': 4767, 'perspective': 3175, 'dont': 1251, 'looked': 2559, 'kicking': 2376, 'beyond': 470, 'demented': 1123, 'evil': 1456, 'mad': 2603, 'scientist': 3754, 'dr': 1264, 'krieger': 2415, 'geneticallymutatedsoldiers': 1767, 'gms': 1812, 'performing': 3165, 'topsecret': 4412, 'reminds': 3540, 'spoiler': 4043, 'vancouver': 4605, 'reason': 3471, 'palm': 3107, 'trees': 4462, 'rich': 3621, 'lumberjackwoods': 2597, 'havent': 1957, 'gone': 1826, 'started': 4071, 'mehehe': 2700, 'cannot': 666, 'stay': 4081, 'shenanigans': 3855, 'delivers': 1121, 'meaning': 2688, 'suckthere': 4171, 'mentioning': 2718, 'imply': 2148, 'areas': 289, 'boat': 525, 'cromedalbino': 1009, 'squad': 4049, 'enters': 1404, 'laugh': 2447, 'reeks': 3495, 'scheisse': 3745, 'poop': 3258, 'simpletons': 3905, 'take': 4244, 'wiff': 4773, 'ahead': 163, 'by': 642, 'the': 4312, 'annoying': 243, 'sidekick': 3893, 'shoot': 3865, 'minutes': 2762, 'screen': 3762, 'shakespeareshakespeare': 3840, 'losti': 2571, 'appreciate': 281, 'trying': 4488, 'shakespeare': 3838, 'masses': 2664, 'ruin': 3683, 'goodis': 1831, 'scottish': 3758, 'certain': 725, 'rev': 3604, 'bowdler': 560, 'hence': 1986, 'bowdlerization': 561, 'tried': 4469, 'victorian': 4630, 'erain': 1427, 'words': 4821, 'improve': 2157, 'perfectioni': 3159, 'write': 4854, 'ten': 4291, 'text': 4306, 'english': 1394, 'composition': 875, 'forte': 1685, 'keep': 2366, 'saying': 3728, 'cut': 1039, 'fantastic': 1549, 'prisoners': 3324, 'famous': 1546, 'george': 1775, 'clooney': 815, 'roll': 3658, 'man': 2628, 'constant': 910, 'sorrow': 3996, 'recommand': 3482, 'everybody': 1450, 'greetings': 1863, 'bart': 408, 'kind': 2394, 'drawn': 1271, 'erotic': 1431, 'amateurish': 208, 'unbelievable': 4520, 'bits': 489, 'sort': 3999, 'school': 3750, 'project': 3344, 'rosanna': 3673, 'arquette': 299, 'thinking': 4336, 'stock': 4108, 'bizarre': 493, 'supposed': 4197, 'midwest': 2739, 'town': 4428, 'involved': 2264, 'lessons': 2488, 'learned': 2469, 'insights': 2216, 'stilted': 4101, 'quite': 3414, 'ridiculous': 3628, 'lots': 2575, 'skin': 3931, 'intrigues': 2250, 'videotaped': 4633, 'nonsensewhat': 2950, 'bisexual': 484, 'relationship': 3517, 'nowhere': 2977, 'heterosexual': 2005, 'encounters': 1376, 'absurd': 73, 'dance': 1052, 'stereotyped': 4092, 'pass': 3126, 'million': 2748, 'miles': 2744, 'wasted': 4709, 'could': 947, 'spent': 4030, 'starving': 4074, 'aids': 166, 'africa': 142, 'simply': 3907, 'remade': 3528, 'fails': 1531, 'capture': 674, 'flavor': 1636, 'terror': 4303, '1963': 20, 'title': 4387, 'liam': 2497, 'neeson': 2901, 'excellent': 1466, 'always': 207, 'holds': 2037, 'exception': 1468, 'owen': 3085, 'wilson': 4784, 'feel': 1573, 'character': 738, 'luke': 2594, 'major': 2619, 'fault': 1562, 'version': 4622, 'strayed': 4125, 'shirley': 3860, 'jackson': 2294, 'attempts': 342, 'grandiose': 1850, 'thrill': 4351, 'earlier': 1312, 'trade': 4433, 'snazzier': 3963, 'special': 4019, 'effects': 1334, 'enjoy': 1396, 'friction': 1707, 'older': 3022, 'top': 4409, 'horrible': 2069, 'wasnt': 4707, 'continuous': 920, 'minute': 2761, 'fight': 1591, 'chance': 733, 'development': 1164, 'busy': 636, 'running': 3689, 'sword': 4230, 'emotional': 1365, 'attachment': 336, 'except': 1467, 'machine': 2601, 'wanted': 4694, 'destroy': 1153, 'blatantly': 502, 'stolen': 4110, 'lotr': 2574, 'wars': 4703, 'matrix': 2672, 'examplesthe': 1464, 'ghost': 1780, 'final': 1607, 'yoda': 4881, 'obee': 2986, 'vader': 4599, 'spider': 4032, 'beginning': 440, 'frodo': 1711, 'attacked': 338, 'return': 3600, 'kings': 2398, 'elijah': 1354, 'wood': 4814, 'victim': 4628, 'waitit': 4683, 'hypnotizes': 2110, 'stings': 4103, 'wraps': 4848, 'upuh': 4583, 'helloand': 1978, 'vs': 4674, 'humans': 2096, 'matrixor': 2673, 'terminatorthere': 4297, 'examples': 1463, 'someone': 3983, 'tell': 4285, 'nazis': 2889, 'juvenile': 2351, 'line': 2520, 'rushed': 3690, 'conclusion': 884, 'childrens': 760, 'adult': 131, 'either': 1342, 'disappointment': 1199, 'save': 3723, 'remember': 3535, 'filmit': 1601, 'cinema': 780, 'dark': 1065, 'places': 3216, 'nervous': 2911, '7475': 48, 'dad': 1045, 'sister': 3918, 'newbury': 2917, 'berkshire': 462, 'england': 1393, 'tigers': 4369, 'snow': 3969, 'appearance': 274, 'grizzly': 1870, 'adams': 116, 'actor': 108, 'dan': 1051, 'haggery': 1907, 'think': 4335, 'shot': 3870, 'dies': 1175, 'anyone': 259, 'knows': 2410, 'dvd': 1308, 'etc': 1437, 'please': 3233, 'knowthe': 2411, 'fitness': 1630, 'club': 822, 'shame': 3844, 'nearest': 2891, '20': 26, 'hear': 1964, 'others': 3060, 'stinkers': 4105, 'nominated': 2941, 'golden': 1822, 'globe': 1805, 'theyve': 4331, 'female': 1580, 'renaissance': 3546, 'painter': 3100, 'mangled': 2635, 'recognition': 3480, 'complaint': 870, 'liberties': 2500, 'facts': 1525, 'perfectly': 3160, 'fine': 1615, 'accounts': 91, 'artist': 310, 'dishwaterdull': 1221, 'script': 3768, 'suppose': 4196, 'werent': 4748, 'enough': 1400, 'naked': 2868, 'factual': 1526, 'hurriedly': 2105, 'capped': 670, 'summary': 4183, 'artists': 312, 'saved': 3724, 'couple': 956, 'hours': 2082, 'favored': 1566, 'brevity': 584, 'die': 1173, 'sequels': 3812, 'surprise': 4204, '1990s': 22, 'glut': 1811, 'cashed': 701, 'wrong': 4858, 'guy': 1898, 'concept': 880, 'cliffhanger': 807, 'mountain': 2828, 'rescue': 3571, 'sly': 3953, 'stop': 4114, 'stallones': 4057, 'careercliffhanger': 682, 'nitpickers': 2935, 'especially': 1433, 'expert': 1493, 'climbing': 810, 'basejumping': 411, 'aviation': 361, 'facial': 1521, 'expressions': 1508, 'full': 1721, 'excuses': 1472, 'dismiss': 1224, 'overblown': 3073, 'pile': 3204, 'junk': 2348, 'stallone': 4056, 'outacted': 3062, 'horse': 2075, 'nonsense': 2949, 'lovable': 2577, 'undeniably': 4526, 'romp': 3664, 'plenty': 3234, 'thrills': 4355, 'unintentionally': 4551, 'laughsyouve': 2453, 'john': 2326, 'lithgows': 2534, 'sneery': 3964, 'evilness': 1457, 'tick': 4366, 'box': 564, 'baddies': 385, 'permanently': 3170, 'harassed': 1936, 'hapless': 1930, 'turncoat': 4493, 'agent': 153, 'rex': 3619, 'linn': 2524, 'travershe': 4456, 'henry': 1987, 'rooker': 3667, 'noteworthy': 2966, 'cringeworthy': 992, 'hal': 1910, 'insists': 2219, 'constantly': 911, 'shrieking': 3884, 'painful': 3096, 'disbelief': 1202, 'captors': 673, 'hurt': 2106, 'anybody': 256, 'whilst': 4762, 'surely': 4199, 'ralph': 3428, 'waites': 4681, 'frank': 1699, 'grinning': 1867, 'girl': 1787, 'plummets': 3241, 'deathmention': 1094, 'former': 1680, 'londons': 2548, 'burning': 628, 'craig': 965, 'fairbrass': 1534, 'brit': 596, 'cropper': 1012, 'using': 4593, 'football': 1667, 'help': 1979, 'needed': 2899, 'kickingso': 2377, 'judgement': 2341, 'cares': 683, 'happen': 1931, 'lower': 2587, 'expectations': 1484, 'turn': 4492, 'volume': 4669, 'qaulen': 3397, 'wearing': 4729, 'helicopter': 1974, 'terrible': 4299, 'misfortune': 2772, 'bmovie': 519, 'entiretyall': 1411, 'shouldnt': 3873, 'fmovie': 1652, 'aspects': 320, 'paperthin': 3111, 'sequences': 3814, 'fake': 1538, 'funnyalmostthe': 1732, 'packed': 3092, 'crappy': 968, 'oneliners': 3031, 'respectable': 3578, 'amusing': 221, 'bitthis': 491, 'geared': 1759, 'towards': 4427, 'women': 4806, 'utterly': 4598, 'unattractive': 4517, 'wrinkled': 4853, 'appear': 273, 'weird': 4740, 'costumes': 946, 'fail': 1528, 'miserablyeven': 2770, 'bmovies': 520, 'laughs': 2452, 'absolutely': 70, 'hrs': 2090, 'wont': 4813, 'regret': 3509, 'rajnikanth': 3426, 'carries': 693, 'shoulders': 3872, 'although': 204, 'isnt': 2275, 'anything': 260, 'music': 2858, 'arrehman': 303, 'takes': 4246, 'grow': 1875, 'heard': 1965, 'start': 4070, 'liking': 2514, 'straight': 4119, 'anime': 241, 'matter': 2677, 'used': 4589, 'speed': 4026, 'racer': 3420, 'preschool': 3303, 'several': 3828, 'theyre': 4329, 'hilarious': 2016, 'godzilla': 1818, 'lotmoving': 2573, 'usual': 4595, 'fx': 1736, 'sudden': 4172, 'boom': 543, 'wwwaaaaayyyyy': 4863, 'downhillthe': 1261, 'animation': 240, 'worse': 4836, 'crissakes': 996, 'vividly': 4662, 'bunch': 626, 'run': 3688, 'dinosaurs': 1187, 'addition': 124, 'transition': 4450, 'unorganized': 4565, 'voicesespecially': 4667, 'dub': 1291, 'viewed': 4635, 'horrid': 2070, 'begging': 438, 'tape': 4256, 'vhs': 4625, 'player': 3229, 'kept': 2372, 'surviving': 4214, 'cracking': 964, 'robots': 3651, 'joelmike': 2323, 'mst3k': 2842, 'pick': 3195, 'season': 3778, 'honestly': 2053, 'barely': 401, 'survive': 4212, 'timeheck': 4374, 'planning': 3223, 'fellow': 1578, 'otaku': 3059, 'pal': 3104, 'mine': 2755, 'halloween': 1916, 'night': 2929, 'stupid': 4150, '310': 38, 'improvement': 2159, '0510': 0, 'originally': 3052, 'itaccording': 2280, 'grading': 1842, 'scale': 3733, 'means': 2690, 'counting': 951, 'unless': 4560, 'worldfest': 4830, 'received': 3477, 'amount': 220, 'applause': 279, 'afterwards': 145, 'receiving': 3479, 'known': 2409, 'jbeals': 2305, 'shes': 3856, 'mparker': 2840, 'actress': 110, 'part': 3118, 'allowed': 193, 'judge': 2340, 'unsympathetic': 4574, 'therefore': 4324, 'bore': 548, 'depth': 1138, 'revolving': 3618, 'cop': 935, 'feels': 1576, 'straighttovideo': 4120, '90s': 57, 'standards': 4060, 'karen': 2358, 'carpenter': 689, 'singer': 3911, 'carpenters': 690, 'complex': 874, 'though': 4343, 'accurate': 92, 'detailscynthia': 1157, 'gibb': 1785, 'portrays': 3271, 'election': 1346, 'naive': 2867, 'dumb': 1301, 'role': 3654, 'stronger': 4137, 'personalitylouise': 3173, 'fletcher': 1639, 'agnes': 157, 'terrific': 4301, 'job': 2320, 'karens': 2359, 'motherit': 2823, 'songs': 3991, 'album': 177, 'unfortunately': 4543, 'ratings': 3449, 'usa': 4587, 'countries': 952, 'cell': 714, 'exotic': 1480, 'masterpiece': 2668, 'dizzying': 1238, 'trip': 4472, 'vast': 4611, 'mind': 2753, 'conclusive': 885, 'evidence': 1454, 'achieved': 96, 'beings': 448, 'unleash': 4559, 'uninhibited': 4549, 'imaginations': 2134, 'boldness': 530, 'pushing': 3390, 'aside': 316, 'thoughts': 4345, 'fall': 1539, 'formulas': 1683, 'cliches': 804, 'creating': 974, 'magnificent': 2612, 'dateive': 1069, 'numerous': 2982, 'complaints': 871, 'anywhere': 264, 'substance': 4160, 'poorly': 3260, 'negatively': 2903, 'criticize': 1000, 'miss': 2774, 'landmark': 2429, 'tradition': 4434, 'future': 1735, 'hopefully': 2062, 'follow': 1659, 'opened': 3038, 'door': 1253, 'imagination': 2133, 'slam': 3933, 'tarsem': 4260, 'singh': 3913, 'want': 4693, 'personally': 3174, 'welcome': 4741, 'challenge': 729, 'himweve': 2023, 'talk': 4251, 'inside': 2215, 'agree': 160, 'genre': 1770, 'overworked': 3084, 'depict': 1133, 'killers': 2390, 'worked': 4824, 'failed': 1529, 'blaze': 503, 'trail': 4437, 'twist': 4503, 'physically': 3193, 'transported': 4451, 'presented': 3306, 'nothing': 2967, 'fascinating': 1556, 'journey': 2337, 'mysterious': 2865, 'subject': 4157, 'studiedi': 4143, 'bog': 528, 'scientific': 3753, 'jargon': 2301, 'explain': 1494, 'jennifer': 2308, 'lopez': 2563, 'enter': 1402, 'brain': 569, 'lies': 2503, 'laboratory': 2420, 'table': 4235, 'wrapped': 4847, 'twizzlers': 4507, 'jaunted': 2302, 'entity': 1412, 'wants': 4696, 'guess': 1885, 'explanations': 1498, 'ventures': 4616, 'onto': 3036, 'ground': 1873, 'desires': 1149, 'ini': 2204, 'noticed': 2971, 'showed': 3876, 'reality': 3465, 'contrast': 921, 'bright': 589, 'visuals': 4658, 'nonetheless': 2947, 'design': 1147, 'astonishing': 327, 'surprised': 4205, 'oscars': 3057, 'cinematography': 781, 'itd': 2285, 'pictureive': 3200, 'repeating': 3555, 'else': 1355, 'stress': 4129, 'walk': 4686, 'open': 3037, 'wonders': 4812, 'eyepopping': 1517, 'feast': 1571, 'assured': 326, 'crazy': 970, 'psychology': 3372, 'alley': 191, 'leaving': 2474, 'audience': 349, 'member': 2705, 'whoever': 4766, 'lot': 2572, 'smoking': 3960, 'stinging': 4102, 'political': 3252, 'satire': 3718, 'hollywood': 2041, 'blockbuster': 507, 'sappy': 3713, 'values': 4604, 'promo': 3347, 'list': 2526, 'miserably': 2769, 'interest': 2239, 'turning': 4496, 'endalthough': 1382, 'spirit': 4038, 'behind': 446, 'war': 4697, 'inc': 2165, 'depresses': 1136, 'clumsy': 825, 'targets': 4259, 'reflect': 3499, 'existence': 1477, 'serious': 3817, 'critique': 1002, 'poor': 3259, 'particular': 3121, 'filmthere': 1606, 'corporatization': 940, 'poking': 3249, 'diminishes': 1185, 'atrocity': 334, 'similarly': 3903, 'trivializes': 4475, 'genuine': 1773, 'concern': 881, 'frustrating': 1714, 'seemed': 3789, 'energetic': 1389, 'prepared': 3302, 'able': 65, 'stand': 4059, 'looping': 2562, 'americas': 216, 'funniest': 1730, 'videos': 4632, 'damn': 1049, 'hated': 1950, 'stereotypical': 4093, 'latino': 2444, 'speak': 4018, 'responsible': 3582, 'hanging': 1928, 'mention': 2716, 'transcends': 4447, 'gloriously': 1808, 'badness': 386, 'dancing': 1054, 'redone': 3493, 'clichéd': 805, 'rehashed': 3512, 'overthetop': 3083, 'seem': 3788, 'unavoidable': 4518, 'conflict': 893, 'dealing': 1089, 'largescale': 2435, 'combat': 841, 'grain': 1845, 'compelling': 867, 'silver': 3900, 'civil': 790, 'warera': 4699, 'cold': 834, 'starring': 4068, 'jude': 2339, 'law': 2456, 'nicole': 2928, 'kidman': 2381, 'renée': 3552, 'zellweger': 4897, 'filmthen': 1605, 'calling': 652, 'entirely': 1410, 'opens': 3040, 'literally': 2532, 'quickanddirty': 3408, 'battle': 415, 'sequence': 3813, 'puts': 3393, 'glory': 1809, 'edward': 1330, 'zwick': 4905, 'period': 3167, 'centers': 718, 'disgruntled': 1217, 'confederate': 889, 'soldier': 3977, 'inman': 2209, 'becomes': 430, 'disgusted': 1218, 'gruesome': 1881, 'homesick': 2045, 'hamlet': 1917, 'north': 2958, 'carolina': 688, 'equally': 1423, 'southern': 4009, 'belle': 456, 'left': 2478, 'ada': 115, 'monroe': 2808, 'glance': 1799, 'setup': 3827, 'appears': 278, 'formulaic': 1682, 'sympathy': 4233, 'root': 3670, 'reluctant': 3526, 'soldiers': 3978, 'tribulations': 4466, 'battlefield': 416, 'indeed': 2183, 'segments': 3794, 'relatively': 3518, 'unimpressive': 4548, 'somewhat': 3987, 'contrivedcold': 922, 'soon': 3994, 'drastic': 1270, 'intrepid': 2248, 'turns': 4497, 'deserter': 1145, 'incidentally': 2169, 'saving': 3725, 'potentially': 3284, 'confusing': 896, 'scenario': 3740, 'wanting': 4695, 'confederates': 890, 'begins': 441, 'odyssey': 3003, 'homeward': 2047, 'meanwhile': 2692, 'farm': 1555, 'adas': 118, 'cultured': 1027, 'ways': 4719, 'prove': 3363, 'fields': 1587, 'transformed': 4449, 'wilderbeast': 4779, 'coming': 852, 'course': 959, 'toughasnails': 4423, 'ruby': 3681, 'thewes': 4326, 'helps': 1985, 'put': 3392, 'perhaps': 3166, 'importantly': 2151, 'cope': 936, 'isolation': 2277, 'brought': 605, 'upon': 4578, 'adawithin': 119, 'two': 4508, 'settings': 3825, 'disturbing': 1232, 'wartorn': 4705, 'south': 4008, 'unfolds': 4541, 'interact': 2235, 'surprisingly': 4206, 'enhanced': 1395, 'brendan': 582, 'gleeson': 1803, 'rubys': 3682, 'deadbeat': 1084, 'father': 1560, 'ray': 3452, 'winstone': 4789, 'unrepentant': 4571, 'lawman': 2457, 'natalie': 2882, 'portman': 3266, 'deeply': 1113, 'troubled': 4480, 'isolated': 2276, 'mother': 2822, 'greatly': 1861, 'affected': 138, 'changed': 736, 'northern': 2959, 'aggression': 155, 'mostly': 2821, 'pervading': 3177, 'antiwar': 254, 'message': 2722, 'accented': 77, 'effective': 1333, 'haunting': 1955, 'score': 3757, 'chillingly': 763, 'virginia': 4650, 'communicated': 860, 'scarred': 3737, 'land': 2428, 'traumatized': 4454, 'fought': 1689, 'weapons': 4727, 'tactics': 4240, 'past': 3131, 'century': 721, 'hellish': 1976, 'effect': 1332, 'timelessly': 4375, 'relevantdirector': 3522, 'anthony': 248, 'minghella': 2756, 'manages': 2632, 'maintain': 2618, 'gloomy': 1806, 'mood': 2810, 'atmosphere': 332, 'denigrated': 1127, 'tepid': 4295, 'climax': 808, 'justice': 2349, 'wonderfully': 4810, 'formed': 1679, 'awkwardly': 376, 'tacked': 4238, 'inherently': 2203, 'distant': 1229, 'abstracted': 72, 'nature': 2887, 'fits': 1631, 'dismal': 1223, 'plotmake': 3237, 'neither': 2907, 'traits': 4444, 'feelgood': 1574, 'romance': 3659, 'inspiring': 2223, 'unique': 4554, 'vision': 4651, 'era': 1425, 'entertain': 1405, 'absorb': 71, 'lives': 2539, 'torn': 4413, 'apart': 266, 'desperate': 1151, 'rid': 3624, 'repercussions': 3556, 'altogether': 205, 'taut': 4263, 'organically': 3050, 'gripping': 1869, 'dmytryks': 1240, 'crossfire': 1014, 'distinctive': 1230, 'suspense': 4219, 'unlikely': 4562, 'devices': 1165, 'noir': 2940, 'cyclebivouacked': 1044, 'washington': 4706, 'dc': 1081, 'company': 862, 'restlessness': 3586, 'bars': 407, 'strangers': 4123, 'apartment': 267, 'robert': 3646, 'ryan': 3692, 'drunk': 1289, 'belligerent': 457, 'beats': 423, 'host': 2077, 'sam': 3712, 'levene': 2496, 'happens': 1934, 'jewish': 2312, 'police': 3251, 'detective': 1158, 'investigates': 2257, 'mitchum': 2782, 'whos': 4769, 'assigned': 321, 'ryans': 3693, 'outfit': 3064, 'suspicion': 4220, 'falls': 1541, 'second': 3779, 'cooper': 933, 'vanished': 4606, 'slays': 3937, 'third': 4338, 'buddy': 611, 'brodie': 599, 'insure': 2229, 'silence': 3897, 'closes': 818, 'inabetted': 2162, 'superior': 4192, 'paxton': 3142, 'dmytryk': 1239, 'draws': 1272, 'precise': 3295, 'bobs': 526, 'naturally': 2886, 'prototypical': 3360, 'angry': 236, 'male': 2626, 'hilt': 2020, 'underplays': 4528, 'characteristic': 740, 'alert': 180, 'nonchalance': 2943, 'central': 719, 'gloria': 1807, 'grahame': 1844, 'fullyfledged': 1725, 'rendition': 3549, 'smartmouthed': 3957, 'vulnerable': 4676, 'tramp': 4445, 'sad': 3698, 'sack': 3696, 'leeched': 2477, 'kelly': 2370, 'haunts': 1956, 'small': 3954, 'peripheral': 3168, 'memorablethe': 2709, 'politically': 3253, 'engaged': 1390, 'inevitably': 2195, 'succumbs': 4167, 'sermonizing': 3819, 'confined': 892, 'youngs': 4889, 'reminiscence': 3541, 'grandfather': 1849, 'hands': 1926, 'bigots': 476, 'thus': 4365, 'stretching': 4131, 'chronology': 775, 'limit': 2516, 'attempt': 340, 'render': 3547, 'explanation': 1497, 'glib': 1804, 'hates': 1951, 'jews': 2313, 'hillbillies': 2017, 'andcuriously': 226, 'survives': 4213, 'wrought': 4860, 'novel': 2976, 'richard': 3622, 'brooks': 602, 'brick': 586, 'foxhole': 1693, 'dealt': 1091, 'gaybashing': 1757, 'murder': 2852, 'homosexuality': 2051, '1947': 18, 'pale': 3106, 'news': 2919, 'holocaust': 2042, 'begun': 444, 'emerge': 1363, 'ashes': 314, 'europe': 1439, 'emboldened': 1361, 'register': 3508, 'protest': 3358, 'antisemitism': 253, 'studios': 4145, 'quaked': 3400, 'prospect': 3353, 'offending': 3006, 'potential': 3283, 'ticket': 4367, 'buyerbut': 641, 'homophobia': 2050, 'works': 4828, 'general': 1764, 'specifics': 4020, 'smoothly': 3961, 'victims': 4629, 'chatting': 747, 'lonesome': 2551, 'inviting': 2263, 'girlfriend': 1788, 'tow': 4426, 'raises': 3425, 'question': 3406, 'whether': 4761, 'retained': 3593, 'inadvertently': 2164, 'discreet': 1212, 'tipoff': 4384, 'engine': 1392, 'generating': 1765, 'murderous': 2854, 'rage': 3421, 'ardh': 287, 'satya': 3721, 'finest': 1616, 'indian': 2186, 'directed': 1189, 'govind': 1838, 'nihalani': 2932, 'successful': 4166, 'hitting': 2032, 'parallel': 3114, 'commercial': 856, 'inspiration': 2221, 'leading': 2465, 'directors': 1195, 'indiathe': 2188, 'tells': 4287, 'reallife': 3468, 'mumbai': 2848, 'unlike': 4561, 'cities': 785, 'india': 2185, 'encompasses': 1374, 'system': 4234, 'creates': 973, 'practical': 3289, 'outlay': 3067, 'approach': 283, 'environmentamongst': 1418, 'various': 4610, 'officers': 3013, 'colleagues': 836, 'describes': 1143, 'anand': 222, 'velankar': 4615, 'hotblooded': 2079, 'harsh': 1944, 'constable': 909, 'suffers': 4175, 'fathers': 1561, 'ideologies': 2119, 'incidences': 2167, 'atrocities': 333, 'anands': 223, 'immediate': 2137, 'crime': 989, 'inert': 2193, 'craving': 969, 'satisfaction': 3719, 'revolved': 3616, 'wherein': 4759, 'efforts': 1337, 'trampled': 4446, 'seniorsthis': 3801, 'leads': 2466, 'frustrations': 1715, 'achieve': 95, 'desired': 1148, 'jobsatisfaction': 2322, 'resulting': 3589, 'anger': 230, 'expressed': 1507, 'excessive': 1469, 'remand': 3532, 'rooms': 3669, 'alcoholicthe': 178, 'within': 4794, 'alive': 188, 'fights': 1593, 'aware': 369, 'metro': 2728, 'politicians': 3255, 'inertly': 2194, 'associated': 323, 'compromise': 876, 'unethical': 4536, 'practice': 3290, 'negative': 2902, 'finally': 1610, 'suspendedthe': 4218, 'master': 2665, 'thoroughly': 4342, 'core': 938, 'memorable': 2708, 'breaks': 579, 'underworld': 4533, 'gangster': 1748, 'rama': 3430, 'shettys': 3857, 'house': 2083, 'arrest': 304, 'short': 3868, 'conversation': 927, 'hairraising': 1909, 'momentsthe': 2800, 'punch': 3380, 'alcoholism': 179, 'corruption': 943, 'influence': 2199, 'courage': 958, 'deceptions': 1100, 'integral': 2231, 'brilliantlyfinally': 593, 'belongs': 458, 'om': 3028, 'puri': 3386, 'portraying': 3270, 'traversing': 4457, 'emotions': 1366, 'brilliantly': 592, 'exposure': 1506, 'templarios': 4288, 'excited': 1470, 'among': 218, 'offerings': 3009, 'anchor': 225, 'bay': 418, 'video': 4631, 'cult': 1026, 'classics': 798, 'baby': 379, 'print': 3321, 'quality': 3403, 'alone': 199, 'hide': 2008, 'deadly': 1086, 'dull': 1298, 'thrilling': 4354, 'opening': 3039, 'villagers': 4643, 'exact': 1460, 'revenge': 3610, 'templars': 4289, 'motion': 2825, 'ponderous': 3257, 'ultimately': 4514, 'unfulfilling': 4544, 'adding': 123, 'insult': 2227, 'injury': 2207, 'dubbed': 1292, 'subtitled': 4163, 'promised': 3346, 'jacket': 2292, 'significant': 3896, 'quotes': 3417, 'pronounced': 3348, 'halfway': 1913, 'protagonist': 3355, 'mafia': 2608, 'middleman': 2735, 'titta': 4389, 'di': 1167, 'girolamo': 1790, 'nondescript': 2945, 'middleaged': 2734, 'salerno': 3706, 'italy': 2284, 'introduced': 2252, 'living': 2540, 'nonlife': 2948, 'elegant': 1347, 'sterile': 4094, 'hotel': 2080, 'italianspeaking': 2283, 'canton': 668, 'switzerland': 4229, 'conducting': 888, 'business': 632, 'gradually': 1843, 'pivotal': 3213, 'yet': 4879, 'unremarkable': 4569, 'employees': 1371, 'swiss': 4227, 'bank': 395, 'normally': 2955, 'count': 949, 'girolamos': 1791, 'cash': 700, '10000': 3, 'dollars': 1248, 'missing': 2775, 'suitcase': 4181, 'tightly': 4371, 'stacked': 4053, 'banknotes': 396, 'quietly': 3411, 'icily': 2113, 'threatens': 4349, 'coaxing': 829, 'manager': 2631, 'close': 816, 'account': 89, 'spectators': 4023, 'bluff': 514, 'without': 4795, 'fear': 1570, 'caught': 707, 'appearing': 276, 'truth': 4486, 'bluffed': 515, 'told': 4397, 'accepted': 80, 'consequences': 902, 'troubles': 4482, 'initially': 2205, 'scowling': 3761, 'taciturn': 4236, 'curt': 1037, 'verge': 4619, '50': 43, 'reply': 3560, 'chambermaids': 732, 'waitresses': 4685, 'hello': 1977, 'goodbye': 1829, 'spectator': 4022, 'half': 1911, 'described': 1142, 'reveal': 3605, 'days': 1079, 'nights': 2931, 'oddly': 3000, 'disjoined': 1222, 'deliberate': 1117, 'revealing': 3608, 'seemingly': 3790, 'mundane': 2850, 'irrelevant': 2271, 'details': 1156, 'unnecessary': 4564, 'essential': 1435, 'masterfully': 2667, 'constructed': 912, 'identity': 2118, 'unexpectedly': 4538, 'loving': 2585, 'conveyed': 928, 'elegantly': 1348, 'edited': 1327, 'boards': 524, 'canada': 662, 'stood': 4113, 'treat': 4458, 'mobsters': 2790, 'odds': 3002, 'release': 3520, 'le': 2462, 'conseguenze': 901, 'dellamore': 1122, 'limbalsamatore': 2515, 'element': 1350, 'protagonists': 3356, 'insomnia': 2220, 'machinist': 2602, 'explicit': 1499, 'al': 173, 'pacino': 3090, 'uses': 4592, 'condition': 886, 'symbolise': 4231, 'deeper': 1112, 'malaise': 2624, 'rammed': 3432, 'deep': 1111, 'obscurity': 2990, 'unconscious': 4523, 'impossible': 2152, 'pinpoint': 3208, 'waitress': 4684, 'sofia': 3975, 'olivia': 3026, 'magnani': 2611, 'granddaughter': 1848, 'legendary': 2480, 'anna': 242, 'memory': 2711, 'tittas': 4390, 'friend': 1708, 'hasnt': 1947, 'provide': 3366, 'tiny': 4383, 'window': 4786, 'tentatively': 4294, 'accepts': 82, 'explicitly': 1500, 'spelt': 4027, 'accepting': 81, 'unimaginable': 4547, 'single': 3915, 'concedes': 879, 'representative': 3564, 'quiet': 3410, 'taking': 4247, 'italian': 2281, 'cinecittà': 779, 'waiting': 4682, 'produce': 3332, 'il': 2128, 'postinolike': 3282, 'fare': 1553, 'la': 2418, 'vita': 4659, 'bellastyle': 455, 'neglecting': 2905, 'explore': 1504, 'creations': 976, 'loss': 2569, 'expecting': 1486, 'pack': 3091, 'fiver': 1633, 'expect': 1482, 'occasional': 2996, 'camcorder': 653, 'drummer': 1288, 'ie': 2122, 'damned': 1050, 'assume': 324, 'build': 615, 'tension': 4293, 'tedious': 4275, 'thumb': 4361, 'fast': 1558, 'button': 640, 'press': 3308, 'gave': 1755, 'seriously': 3818, 'lead': 2463, 'coz': 963, 'meercat': 2697, 'gonna': 1827, 'explaining': 1495, 'anyway': 262, 'concerned': 882, 'london': 2547, 'talent': 4249, 'certainly': 726, 'avoid': 362, 'bored': 549, 'paint': 3098, 'dry': 1290, '300': 37, 'sounded': 4006, 'ranmaesque': 3439, 'dragging': 1266, 'skeleton': 3926, 'cute': 1040, 'miniskirt': 2759, 'restricted': 3587, 'viewing': 4638, 'sticker': 4097, 'sweet': 4225, 'age': 149, 'indie': 2189, 'edge': 1326, '100': 2, 'wronghaving': 4859, 'wonder': 4807, 'hardly': 1940, 'foul': 1690, 'language': 2433, 'closest': 819, 'nudity': 2980, 'hoping': 2066, 'nightgown': 2930, 'panties': 3110, 'antireligious': 252, 'humor': 2098, 'tame': 4255, 'caricatured': 684, 'insincere': 2217, 'derivative': 1139, 'unoriginal': 4566, 'slightestit': 3943, 'listen': 2528, 'stevens': 4096, 'jesus': 2310, 'wear': 4728, 'rolex': 3657, 'television': 4284, 'qualify': 3401, 'pg13': 3182, 'rated': 3446, 'refuses': 3504, '17': 12, 'rent': 3550, 'thisas': 4340, 'pornographic': 3264, 'requiem': 3566, 'insist': 2218, 'zack': 4895, 'reba': 3473, 'worseit': 4837, 'wayin': 4718, 'worries': 4833, 'offend': 3004, 'suicide': 4179, 'needs': 2900, 'portrayed': 3269, 'suicides': 4180, 'ones': 3033, 'virgin': 4649, 'teenagers': 4280, 'purely': 3385, 'aspect': 319, 'eleven': 1352, 'twelve': 4499, 'causes': 709, 'number': 2981, 'chances': 734, 'teens': 4281, 'itjust': 2288, '210': 31, 'hopper': 2067, 'investigate': 2256, 'killings': 2392, 'dunnit': 1304, 'including': 2175, 'begin': 439, 'withwhere': 4796, 'achingly': 98, 'heroine': 1997, 'menace': 2713, 'foreboding': 1670, 'created': 972, 'thunderstorms': 4364, 'strangely': 4122, 'housegreat': 2084, 'double': 1255, 'glazing': 1802, 'serves': 3821, 'purpose': 3387, 'quick': 3407, 'gory': 1835, 'tedium': 4277, 'unbearable': 4519, 'suggests': 4178, 'spate': 4016, 'throughout': 4356, 'area': 288, 'apparent': 269, 'ritual': 3638, 'salt': 3709, 'pepper': 3156, 'sums': 4186, 'inherent': 2202, 'directionadd': 1192, 'act': 103, 'willing': 4782, 'completely': 873, 'nude': 2979, 'shower': 3877, 'hopegiven': 2063, 'following': 1662, 'banned': 397, 'uk': 4513, '80s': 52, 'extended': 1510, 'curiosity': 1031, 'value': 4603, 'daft': 1046, 'worryits': 4835, 'telegraphed': 4283, 'beforeafter': 435, 'woods': 4816, 'steep': 4088, 'upward': 4584, 'slope': 3945, 'obviously': 2995, 'struggle': 4139, 'figure': 1594, 'dressed': 1276, 'brandishing': 572, 'large': 2434, 'scythe': 3773, 'slide': 3942, 'conveniently': 925, 'upright': 4580, 'front': 1712, 'weaponit': 4725, 'okay': 3019, 'route': 3678, 'week': 4736, 'david': 1073, 'morses': 2819, 'ride': 3625, 'pickle': 3198, 'morse': 2818, 'greatest': 1860, 'coolest': 932, 'koepp': 2412, 'writer': 4855, 'heavendue': 1970, 'rubbish': 3680, 'baffles': 389, 'hope': 2061, 'dung': 1303, 'husband': 2107, 'wondered': 4808, 'product': 3337, 'experiment': 1491, 'computer': 877, 'program': 3342, 'listless': 2530, 'propaganda': 3350, 'thrown': 4359, 'provesdisappointinglythat': 3365, 'call': 650, 'conspiracy': 908, 'theorist': 4322, 'steal': 4084, 'declaration': 1106, 'independence': 2184, 'protect': 3357, 'justify': 2350, 'actions': 106, 'invasion': 2255, 'iraq': 2267, 'nicholas': 2925, 'cage': 645, 'spews': 4031, 'bargaining': 403, 'chip': 766, 'valium': 4602, 'shooting': 3866, 'reasoning': 3472, 'clue': 823, 'bonus': 539, 'misogyny': 2773, 'whateverhernamewas': 4754, 'chided': 756, 'shutting': 3887, 'clearly': 801, 'slap': 3935, 'gravity': 1858, 'cages': 646, 'shut': 3886, 'camera': 656, 'pans': 3109, 'poutily': 3285, 'child': 757, 'grotesque': 1872, 'benefit': 460, 'astonishingly': 328, 'majority': 2620, 'creepy': 986, 'clichés': 806, 'went': 4747, 'sucker': 4169, 'casting': 703, 'mixed': 2783, 'crumby': 1018, 'hold': 2035, 'lift': 2506, 'worthy': 4842, 'minimum': 2757, 'requirement': 3568, 'james': 2297, 'cuba': 1023, 'gooding': 1830, 'jr': 2338, 'caricatures': 685, 'mindless': 2754, 'entertainment': 1408, 'recommend': 3483, 'book': 541, 'splendored': 4041, 'han': 1919, 'suyin': 4221, 'tackles': 4239, 'issues': 2278, 'race': 3419, 'asians': 315, 'whites': 4764, 'topic': 4410, 'hans': 1929, 'personal': 3172, 'experiences': 1490, 'eurasian': 1438, 'growing': 1876, 'china': 765, 'background': 382, 'hong': 2054, 'kong': 2414, 'daring': 1064, 'timeother': 4376, 'remembered': 3536, 'jones': 2333, 'oscar': 3056, 'doctor': 1242, 'breed': 581, 'advent': 132, 'communism': 861, 'mainland': 2615, 'william': 4780, 'holden': 2036, 'journalist': 2336, 'covering': 962, 'regions': 3507, 'notch': 2962, 'chemistry': 754, 'lovers': 2581, 'provides': 3367, 'moments': 2799, 'affection': 139, 'melt': 2704, 'hearts': 1969, 'romantically': 3663, 'inclinedthe': 2171, 'fiftys': 1590, 'hilltop': 2019, 'overlooking': 3077, 'harbor': 1937, 'intimate': 2247, 'ending': 1384, 'tearjerker': 4266, 'consider': 903, 'sentimental': 3807, 'romances': 3661, 'passé': 3130, 'stories': 4116, 'shining': 3858, 'example': 1462, 'logic': 2546, 'continuity': 919, 'changes': 737, 'plotscript': 3239, 'dialog': 1168, 'pain': 3095, 'gary': 1752, 'busey': 630, 'wwastetake': 4861, 'fbi': 1569, 'local': 2542, 'surround': 4209, 'trailer': 4438, 'jeep': 2307, 'wagoneer': 4679, 'confused': 895, 'cops': 937, 'seconds': 3781, 'gun': 1891, 'ensues': 1401, 'killed': 2388, 'blast': 499, 'blasting': 500, 'dominoes': 1249, 'drives': 1281, 'circles': 783, 'hit': 2029, 'bulletpellet': 620, 'noticeddamn': 2972, 'tough': 4422, 'miracle': 2765, 'sixshooter': 3925, 'held': 1972, 'bullets': 621, 'states': 4076, 'grace': 1840, 'gods': 1816, 'army': 297, 'dutcher': 1307, 'improved': 2158, 'matured': 2678, 'filmmaker': 1602, 'began': 437, 'shaky': 3841, 'starts': 4073, 'introducing': 2254, 'elders': 1345, 'mormon': 2815, 'missionaries': 2777, 'degenerates': 1115, 'highly': 2014, 'improbable': 2156, 'unfortunate': 4542, 'events': 1446, 'highlighting': 2012, 'blatant': 501, 'disobedience': 1226, 'exists': 1478, 'level': 2494, 'laughabledutchers': 2449, 'alienation': 187, 'target': 4258, 'unrealistically': 4568, 'inaccurately': 2163, 'accomplishes': 87, 'angering': 231, 'predominantly': 3298, 'reflects': 3501, 'missions': 2778, 'served': 3820, 'mission': 2776, 'attest': 344, 'gang': 1745, 'california': 649, 'contains': 916, 'mild': 2742, 'vulgaritythe': 4675, 'assuming': 325, 'inspire': 2222, 'forgiveness': 1676, 'available': 357, 'cmon': 827, 'gathers': 1754, 'elder': 1343, 'sent': 3805, 'standing': 4061, 'identify': 2117, '29': 36, 'working': 4827, 'factory': 1524, 'figured': 1595, 'pride': 3316, 'american': 214, 'car': 677, 'noted': 2964, 'degree': 1116, 'quit': 3413, 'ninth': 2934, 'grade': 1841, 'keen': 2365, 'greed': 1862, 'laziness': 2461, 'anywherei': 265, 'hour': 2081, 'ant': 245, 'pseudo': 3368, 'relatives': 3519, 'remind': 3539, 'americans': 215, 'sake': 3703, 'honor': 2055, 'accomplished': 86, 'heavy': 1971, 'downward': 1262, 'spiral': 4037, 'overseas': 3081, 'disclaimer': 1204, '56': 45, 'musical': 2859, 'tainted': 4243, 'douglas': 1258, 'kasey': 2360, 'parts': 3125, 'worthwhile': 4841, 'compared': 865, 'dancers': 1053, 'singing': 3914, 'bigger': 474, 'easier': 1317, 'decors': 1109, 'lighting': 2510, 'delivered': 1120, 'common': 859, 'opinion': 3044, 'obvious': 2994, 'cuts': 1042, 'talking': 4253, 'singers': 3912, 'portions': 3265, 'impeccable': 2141, 'enjoyable': 1397, 'protocol': 3359, 'implausible': 2147, 'whose': 4770, 'goldie': 1823, 'hawn': 1959, 'supporting': 4195, 'revolves': 3617, 'ditzy': 1233, 'cocktail': 831, 'arab': 285, 'dignitary': 1182, 'downhill': 1260, 'goldies': 1824, 'classified': 799, 'voight': 4668, 'mary': 2661, 'steenburgen': 4087, 'erase': 1428, 'cv': 1043, 'historically': 2028, 'xena': 4865, 'hercules': 1992, 'abraham': 67, 'moses': 2820, 'melded': 2702, 'noah': 2937, 'abrahams': 68, 'nephew': 2909, 'thousands': 4347, 'born': 551, 'canaanites': 661, 'wandered': 4691, 'earthreally': 1315, 'scriptwriters': 3771, 'ignorance': 2124, 'animals': 238, 'stuff': 4146, 'sunday': 4187, 'historians': 2027, 'archaeologists': 286, 'geologists': 1774, 'psychologists': 3371, 'linguists': 2522, 'offended': 3005, 'modicum': 2793, 'winced': 4785, 'preston': 3309, 'sturgis': 4153, 'unseen': 4573, 'public': 3374, 'nearly': 2892, 'twenty': 4500, 'thirty': 4339, 'late': 2441, 'resurfaced': 3591, 'meantime': 2691, 'gained': 1737, 'notoriety': 2974, 'pauline': 3139, 'kaels': 2353, 'citizen': 786, 'suggested': 4177, 'herman': 1994, 'mankiewicz': 2638, 'orson': 3054, 'welles': 4743, 'screenplay': 3764, 'thread': 4348, 'imdb': 2136, 'web': 4731, 'site': 3920, 'kael': 2352, 'overstated': 3082, 'casethere': 699, 'six': 3924, 'narrators': 2879, 'charles': 743, 'foster': 1688, 'newsreel': 2920, 'representing': 3565, 'ralston': 3429, 'luce': 2589, 'clone': 814, 'thatchers': 4310, 'memoirs': 2707, 'bernstein': 463, 'jed': 2306, 'leland': 2483, 'susan': 4215, 'alexander': 181, 'raymond': 3453, 'butler': 639, 'slant': 3934, 'reflecting': 3500, 'faith': 1536, 'hatred': 1952, 'reveals': 3609, 'failings': 1530, 'kanes': 2356, 'method': 2726, 'frequent': 1705, 'overlapping': 3076, 'retellings': 3595, 'incidentthis': 2170, 'situation': 3922, 'leader': 2464, 'tom': 4398, 'garner': 1750, 'spencer': 4028, 'tracy': 4432, 'rose': 3675, 'bottom': 555, 'head': 1961, 'railroad': 3422, 'garners': 1751, 'hand': 1920, 'morgan': 2814, 'wife': 4772, 'sarah': 3714, 'padden': 3094, 'restricts': 3588, 'dimensional': 1184, 'narrates': 2875, 'boss': 552, 'respected': 3579, 'voice': 4664, 'skeptical': 3927, 'sees': 3793, 'flaws': 1637, 'henrytypical': 1989, 'antilabor': 250, 'unions': 4553, 'troublemakers': 4481, 'slowed': 3949, 'toms': 4401, 'confrontation': 894, 'union': 4552, 'walkout': 4688, 'preoccupied': 3301, 'detriment': 1161, 'henrys': 1988, 'scabs': 3731, 'strike': 4132, 'blowing': 512, 'headquarters': 1962, 'views': 4641, 'pure': 3384, 'blackim': 495, 'knocking': 2405, 'duplicating': 1305, 'thanks': 4309, 'colleen': 837, 'moore': 2811, 'sally': 3707, 'tragedy': 4436, 'worldly': 4831, 'pair': 3103, 'homewhen': 2048, 'marry': 2653, 'benefits': 461, 'america': 213, 'cost': 945, 'empire': 1369, 'expands': 1481, 'improves': 2160, 'loses': 2567, 'notices': 2973, 'eve': 1441, 'helen': 1973, 'vinson': 4646, 'younger': 4888, 'mistress': 2781, 'learns': 2470, 'unfaithful': 4539, 'behavior': 445, 'destroys': 1154, 'hersimilarly': 2000, 'shock': 3862, 'martyr': 2659, 'marries': 2652, 'presents': 3307, 'son': 3989, 'eves': 1453, 'philip': 3185, 'trent': 4464, 'discovery': 1211, 'incestuous': 2166, 'cuckolding': 1024, 'himselfthe': 2022, 'total': 4416, 'jumps': 2346, 'unconvincingly': 4525, 'note': 2963, 'board': 522, 'plans': 3224, 'purchase': 3383, 'rival': 3639, 'train': 4441, 'discusses': 1213, 'debentures': 1096, 'financing': 1611, 'wealthy': 4724, 'detail': 1155, 'rate': 3445, 'social': 3972, 'commentary': 854, 'depression': 1137, 'fulci': 1718, 'giallo': 1783, 'normal': 2954, 'redeemed': 3491, 'buildup': 618, 'touches': 4420, 'neat': 2893, 'visions': 4652, 'clairvoyancethe': 793, 'genres': 1771, 'wellknown': 4744, 'weaknesses': 4723, 'gear': 1758, 'banal': 393, 'wooden': 4815, 'illogical': 2130, 'finale': 1608, 'denouement': 1128, 'proves': 3364, 'shall': 3842, 'limp': 2518, 'affairfulcis': 137, 'ironic': 2270, 'handling': 1925, 'norms': 2957, 'yellow': 4876, 'clues': 824, 'wherever': 4760, 'look3': 2557, 'limping': 2519, '36th': 41, 'chamber': 731, 'kungfu': 2416, 'shaw': 3850, 'produces': 3336, 'equivalent': 1424, 'spaghetti': 4013, 'westerns': 4750, 'gordon': 1833, 'liu': 2537, 'counterpart': 950, 'clint': 811, 'eastwood': 1319, 'digitally': 1181, 'remastered': 3534, 'fest': 1584, 'scope': 3756, 'daysthis': 1080, 'simple': 3904, 'versus': 4623, 'acts': 112, 'narrative': 2877, 'martial': 2657, 'arts': 313, 'eraact': 1426, 'premise': 3300, 'workers': 4826, 'dyemill': 1310, 'village': 4642, 'unhappy': 4546, 'wages': 4678, 'incoming': 2177, 'manchu': 2633, 'gangsters': 1749, 'exploitation': 1501, 'none': 2946, 'skilled': 3929, 'minor': 2760, 'getting': 1779, 'impersonate': 2143, 'shaolin': 3845, 'monk': 2803, 'rouse': 3677, 'exposed': 1505, 'pushed': 3388, 'credibility': 982, 'impersonating': 2145, 'timesact': 4379, 'mob': 2787, 'embarks': 1360, 'temple': 4290, 'infiltrate': 2197, 'learn': 2468, 'slapstick': 3936, 'abbot': 60, 'impersonated': 2144, 'teaching': 4264, 'methods': 2727, 'kinda': 2395, 'miyagis': 2786, 'karate': 2357, 'painting': 3102, 'fences': 1582, 'erect': 1429, 'scaffoldings': 3732, 'unwittingly': 4577, 'builds': 617, 'strength': 4128, 'endurance': 1387, 'unorthodox': 4567, 'wayact': 4717, 'sound': 4005, 'noncontact': 2944, 'impact': 2139, 'treatment': 4460, 'refreshing': 3503, 'wide': 4771, 'angled': 234, 'highlight': 2011, 'clarity': 794, 'sparring': 4014, 'partners': 3124, 'slowmotion': 3951, 'showcase': 3875, 'stunts': 4149, 'angles': 235, 'tad': 4241, 'pause': 3141, 'moves': 2831, 'yuen': 4894, 'wo': 4800, 'ping': 3206, 'adnausem': 129, 'flicks': 1641, 'repeat': 3553, 'screening': 3763, 'monday': 2801, 'nostalgic': 2960, 'lane': 2432, 'spoilers': 4044, 'familiar': 1543, 'zone': 4902, 'rifle': 3629, 'innocent': 2211, 'firing': 1625, 'jimmy': 2315, 'franchot': 1697, 'repeated': 3554, 'centuries': 720, 'forced': 1669, 'arms': 296, 'countryjimmy': 954, 'kicked': 2375, 'belted': 459, 'mouth': 2829, 'fred': 1701, 'willis': 4783, 'ended': 1383, 'france': 1695, 'jimmys': 2316, 'unit': 4555, 'pinned': 3207, 'nest': 2912, 'handedly': 1921, 'commission': 857, 'picking': 3197, 'safety': 3701, 'nearby': 2890, 'church': 777, 'steeple': 4089, 'gunned': 1892, 'raised': 3424, 'surrender': 4208, 'artillery': 309, 'shell': 3854, 'wounding': 4845, 'himrecovering': 2021, 'wounds': 4846, 'hospital': 2076, 'fell': 1577, 'volunteer': 4670, 'nurse': 2983, 'duffy': 1297, 'gladys': 1797, 'lucky': 2591, 'obnoxious': 2989, 'antics': 249, 'western': 4749, 'married': 2651, 'french': 1704, 'recovered': 3486, 'stationed': 4078, 'sticky': 4099, 'already': 202, 'proposal': 3352, 'marriage': 2650, 'herwith': 2001, 'wwi': 4862, 'marrying': 2654, 'bitter': 490, 'resentful': 3574, 'accident': 83, 'ran': 3433, 'streets': 4127, 'discovered': 1208, 'meek': 2696, 'nonviolent': 2952, 'knew': 2403, 'european': 1440, 'smug': 3962, 'ability': 64, 'mobster': 2789, 'citys': 789, 'found': 1691, 'abiding': 63, 'inoffensive': 2213, 'insurance': 2228, 'adjusterjimmys': 127, 'circle': 782, 'ratted': 3450, 'prevent': 3311, 'executing': 1474, 'valentine': 4600, 'day': 1077, 'massacre': 2663, 'members': 2706, 'trial': 4465, 'admitted': 128, 'guilt': 1890, 'sentence': 3806, 'hearing': 1966, 'rumors': 3687, 'convicts': 929, 'affair': 136, 'broke': 601, 'fugitive': 1717, 'freds': 1702, 'circus': 784, 'manger': 2634, 'barker': 404, 'seeing': 3786, 'heart': 1967, 'added': 120, 'decided': 1103, 'letting': 2493, 'tracked': 4431, 'bela': 449, 'lugosi': 2592, 'appeared': 275, 'chillers': 761, 'monogram': 2807, '1940s': 17, 'corpse': 941, 'vanishes': 4607, 'onesbela': 3034, 'kidnaps': 2384, 'brides': 587, 'kills': 2393, 'extracts': 1511, 'fluid': 1648, 'bodies': 527, 'ageing': 151, 'reporter': 3563, 'discover': 1207, 'deaths': 1095, 'morning': 2816, 'report': 3561, 'murders': 2855, 'drops': 1283, 'dead': 1083, 'shortly': 3869, 'afterwardsyou': 146, 'scientists': 3755, 'assistants': 322, 'consist': 905, 'hag': 1906, 'hunchback': 2101, 'dwarf': 1309, 'sons': 3993, 'thunderstorm': 4363, 'spooky': 4046, 'passages': 3127, 'belas': 450, 'sleep': 3940, 'coffins': 832, 'beds': 433, 'moviethe': 2838, 'fans': 1548, 'funrating': 1733, 'anthology': 247, 'par': 3112, 'linking': 2523, 'alot': 201, 'faces': 1520, 'asking': 318, 'listed': 2527, 'aint': 167, '103': 4, 'according': 88, 'vcr': 4613, 'timer': 4377, 'space': 4010, 'maggot': 2609, 'douses': 1259, 'campfire': 660, 'hikes': 2015, '33': 39, 'percent': 3157, 'nations': 2884, 'nitwits': 2936, 'support': 4194, 'bush': 631, 'aftermath': 143, 'revolution': 3614, '1794': 13, 'strikingly': 4133, 'post': 3278, '911': 58, 'sociopolitical': 3973, 'landscape': 2431, 'worrying': 4834, 'awhupping': 375, 'deserve': 1146, 'politician': 3254, 'voted': 4673, 'denied': 1126, 'shown': 3879, 'characterwhat': 742, 'stands': 4063, 'ambiguity': 211, 'hopelessly': 2065, 'doctrinaire': 1243, 'robespierre': 3648, 'haunted': 1954, 'empty': 1373, 'reductive': 3494, 'ideology': 2120, 'elucidate': 1358, 'boundaries': 558, 'totalitarianism': 4417, 'execution': 1475, 'selfdefense': 3796, 'patriotism': 3137, 'legalistic': 2479, 'litmus': 2535, 'tests': 4305, 'aggravate': 154, 'hopeless': 2064, 'helped': 1980, 'create': 971, 'overprivileged': 3080, 'retarded': 3594, 'yale': 4869, 'cheerleaders': 751, 'wojciech': 4801, 'pszoniak': 3373, 'blows': 513, 'slovenly': 3947, 'deparidieu': 1131, 'robespierres': 3649, 'plight': 3235, 'ends': 1385, 'jaw': 2303, 'guillotine': 1889, 'difficult': 1178, 'documentary': 1244, 'requires': 3569, 'tremendous': 4463, 'skill': 3928, 'patience': 3134, 'directorial': 1194, 'distance': 1228, 'plausible': 3225, 'flow': 1647, 'aka': 172, 'faux': 1565, '20minute': 30, 'mark': 2648, '60': 46, 'viewer': 4636, 'theredirector': 4323, 'eriksen': 1430, 'peaked': 3147, 'fair': 1533, 'problems': 3330, 'explains': 1496, 'extras': 1512, 'doc': 1241, 'funding': 1728, 'settled': 3826, 'cheaper': 749, 'filmthe': 1604, 'posting': 3281, 'porn': 3262, 'website': 4733, '199798': 24, 'tricky': 4468, 'pushy': 3391, 'handheld': 1923, 'cameras': 657, 'zooms': 4904, 'grainy': 1846, 'blacks': 496, 'elicit': 1353, 'authenticity': 355, 'believability': 451, 'hills': 2018, 'ii': 2127, 'lose': 2566, '90': 56, 'minutesthe': 2763, 'group': 1874, 'national': 2883, 'trainees': 4442, 'battling': 417, 'notorious': 2975, 'mutated': 2864, 'training': 4443, 'desert': 1144, 'includes': 2174, 'blood': 508, 'guts': 1896, 'flying': 1650, 'rape': 3440, 'pointlessly': 3247, 'audienceid': 350, 'drag': 1265, 'gore': 1834, 'jump': 2343, 'stays': 4083, 'awake': 364, 'decent': 1099, 'else410': 1356, 'rotten': 3676, 'leaves': 2473, 'breakdown': 577, 'estate': 1436, 'office': 3011, 'outside': 3070, 'yep': 4877, 'lesbians': 2486, 'rings': 3634, 'lifetime': 2505, 'clunky': 826, 'disapproves': 1200, 'daughters': 1071, 'sassy': 3715, 'maid': 2613, '2003': 29, 'hattie': 1953, 'mcdaniel': 2683, 'grave': 1856, 'freaks': 1700, 'custody': 1038, 'snotty': 3968, 'teenage': 4278, 'sheesh': 3853, 'cliche': 803, 'unturned': 4575, 'spoilersafter': 4045, 'hitchcocks': 2031, 'rebecca': 3474, 'daphne': 1060, 'dumariers': 1300, 'lush': 2599, 'gothic': 1837, 'intrigue': 2249, 'returned': 3601, 'themes': 4318, 'british': 597, 'mistaken': 2780, 'espionage': 1434, 'civilians': 791, 'building': 616, 'planes': 3219, 'weaponry': 4726, 'necessary': 2894, 'militia': 2746, 'booming': 544, 'paranoid': 3115, 'often': 3015, 'jingoistic': 2317, 'thrillers': 4353, 'networks': 2914, 'deceptive': 1101, 'operators': 3042, 'shadows': 3835, 'citizens': 787, 'knowing': 2407, 'producer': 3334, 'skirball': 3932, 'approached': 284, 'hitchcock': 2030, 'directing': 1190, 'property': 3351, 'owned': 3086, 'wartime': 4704, 'sabotage': 3694, 'helpless': 1983, 'thrust': 4360, 'vortex': 4671, 'coincidence': 833, 'elements': 1351, 'sharp': 3849, 'wit': 4792, 'literary': 2533, 'maven': 2679, 'dorothy': 1254, 'parker': 3117, 'brief': 588, 'stint': 4106, 'returning': 3602, 'bohemian': 529, 'roots': 3671, 'nyc': 2985, 'coauthored': 828, 'perfect': 3158, 'sensibilitiesthis': 3804, 'neglected': 2904, 'barry': 406, 'cummings': 1028, 'los': 2565, 'angeles': 229, 'airplane': 170, 'meets': 2699, 'employee': 1370, 'frye': 1716, 'norman': 2956, 'lloydd': 2541, 'framed': 1694, 'committing': 858, 'fleeing': 1638, 'authorities': 356, 'farfetched': 1554, 'soda': 3974, 'utah': 4597, 'include': 2172, 'caravan': 678, 'helpful': 1981, 'popular': 3261, 'billboard': 478, 'model': 2791, 'patricia': 3136, 'martin': 2658, 'priscilla': 3322, 'crisis': 994, 'madly': 2606, 'kidnapped': 2382, 'saboteur': 3695, 'captor': 672, 'mixin': 2784, 'form': 1678, 'outing': 3065, 'brews': 585, 'network': 2913, 'demure': 1125, 'ladies': 2425, 'joes': 2324, 'businessmen': 633, 'terrorists': 4304, 'criminals': 991, 'pull': 3375, 'guns': 1893, 'detonate': 1160, 'bombs': 534, 'moving': 2839, 'ignited': 2123, 'culminates': 1025, 'finales': 1609, 'incredibly': 2182, 'tourist': 4425, 'attractions': 346, 'recreated': 3488, 'art': 307, 'ban': 392, 'engaging': 1391, 'clever': 802, 'twists': 4505, 'villains': 4645, 'cameo': 655, 'drug': 1285, 'store': 4115, 'sign': 3894, 'deaf': 1087, 'axed': 377, 'bureau': 627, 'practices': 3291, 'afraid': 141, 'dresser': 1278, 'evening': 1443, 'agoits': 159, 'splash': 4040, 'god': 1815, 'speechless': 4025, 'albert': 176, 'finney': 1621, 'courtenay': 960, 'sir': 3917, 'aging': 156, 'shakespearean': 3839, 'valet': 4601, 'putting': 3394, 'king': 2396, 'lear': 2467, 'blitz': 505, 'dependent': 1132, 'aid': 164, 'cajole': 647, 'wheedle': 4756, 'bully': 623, 'onstage': 3035, '227th': 32, 'vicariously': 4627, 'anywaythis': 263, 'characterdriven': 739, 'secondary': 3780, 'interaction': 2236, 'highest': 2010, 'caliber': 648, '47': 42, 'sick': 3890, 'petulant': 3181, 'bullying': 624, 'stage': 4054, 'hisses': 2026, 'fumes': 1726, 'bows': 562, 'convincing': 930, 'mincing': 2752, 'elderly': 1344, 'employer': 1372, 'term': 4296, 'technically': 4269, 'coupleyes': 957, 'marvelous': 2660, 'ronald': 3665, 'harwood': 1946, 'arent': 290, 'notably': 2961, 'eileen': 1340, 'atkins': 331, 'longsuffering': 2554, 'madge': 2605, 'regrets': 3510, 'beenalthough': 434, 'talked': 4252, 'remembering': 3537, 'five': 1632, 'academy': 75, 'awards': 368, 'nominations': 2942, 'peter': 3179, 'yates': 4872, 'adapted': 117, 'screenplayi': 3765, 'mesmerized': 2720, 'hugely': 2093, 'entertained': 1406, 'encourage': 1378, 'somewhere': 3988, 'angie': 232, 'pregnant': 3299, 'dreadful': 1273, 'important': 2150, 'longer': 2553, 'interactions': 2237, 'kate': 2362, 'comedic': 844, 'actresses': 111, 'scenarios': 3741, 'riot': 3635, 'fingersmith': 1618, 'stunned': 4147, '810': 53, 'rating': 3448, 'shownot': 3880, 'randomly': 3436, 'appliedthe': 280, 'adequate': 126, 'process': 3331, 'attempting': 341, 'rendered': 3548, 'tediousand': 4276, 'lesbian': 2485, 'undertones': 4532, 'hammered': 1918, 'terms': 4298, 'disappointing': 1198, 'phoned': 3188, 'ohhh': 3017, 'carpet': 691, 'munchers': 2849, 'eveningtwo': 1444, 'tonsil': 4407, 'hockey': 2033, 'raunchy': 3451, 'beginthe': 443, 'cronenbergs': 1010, 'appearmy': 277, 'intention': 2234, 'jjl': 2318, 'favourite': 1568, 'lovely': 2580, 'cutiei': 1041, 'impressive': 2155, 'miscast': 2767, 'array': 302, 'confidence': 891, 'besides': 464, 'oppressive': 3045, 'portray': 3268, 'moral': 2812, 'redeeming': 3492, 'qualities': 3402, 'librarians': 2501, 'unglamorous': 4545, 'unmarried': 4563, 'named': 2870, 'stella': 4090, 'midler': 2737, 'stephen': 4091, 'collins': 839, 'obligation': 2988, 'raise': 3423, 'ok': 3018, 'jenny': 2309, 'trini': 4471, 'alvarado': 206, 'teenager': 4279, 'predictably': 3297, 'worseive': 4838, 'silent': 3898, 'dallas': 1047, 'easily': 1318, 'wellmade': 4745, 'remake': 3530, 'incomprehensible': 2178, 'beaches': 420, 'bombed': 533, 'laughable': 2448, 'todays': 4394, 'drags': 1267, 'silly': 3899, 'marsha': 2655, 'mason': 2662, 'flimsy': 1642, 'reallywho': 3470, '1937': 16, 'stanwyck': 4064, 'torture': 4414, 'duckling': 1293, 'fulcis': 1719, 'typical': 4511, 'bloodbath': 509, 'surrounds': 4211, 'occurring': 2997, 'colorful': 840, 'investigations': 2260, 'suspects': 4217, 'helping': 1982, 'investigation': 2259, 'cases': 697, 'towns': 4429, 'force': 1668, 'smalltime': 3955, 'exdrug': 1473, 'addict': 121, 'priest': 3317, 'witchcraft': 4793, 'protégé': 3361, 'mentally': 2715, 'handicapped': 1924, 'townsman': 4430, 'deafmute': 1088, 'interwoven': 2246, 'revealeddont': 3607, 'classical': 797, 'contain': 914, 'oldfashioned': 3023, 'mystery': 2866, 'strong': 4136, 'guessing': 1886, 'recommended': 3484, 'giallomurdermystery': 1784, 'check': 750, 'nonsplatter': 2951, 'despair': 1150, 'share': 3846, 'sleaze': 3938, 'strange': 4121, 'habit': 1902, 'boys': 566, 'disconcerting': 1206, 'material': 2671, 'bother': 554, 'definitely': 1114, '8510': 55, 'busty': 635, 'beauty': 427, 'stacie': 4051, 'randall': 3434, 'pvc': 3395, 'clad': 792, 'bitch': 487, 'alexandra': 182, 'faithful': 1537, 'acolyte': 99, 'faust': 1564, 'trapped': 4452, 'determined': 1159, 'free': 1703, 'malevolent': 2627, 'minx': 2764, 'warehouse': 4698, 'magical': 2610, 'gem': 1762, 'vital': 4660, 'satanic': 3717, 'summon': 4185, 'mare': 2645, 'accidentally': 84, 'pentagram': 3154, 'floor': 1646, 'results': 3590, 'diminutive': 1186, 'trolllike': 4476, 'creatures': 981, 'lite': 2531, 'darknow': 1067, 'replacement': 3558, 'easy': 1320, 'stone': 4111, 'trick': 4467, 'worn': 4832, 'neck': 2895, 'exlover': 1479, 'jonathan': 2332, 'graves': 1857, 'liapis': 2498, 'investigating': 2258, 'robbery': 3645, 'capable': 669, 'wisecracking': 4790, 'interdimensional': 2238, 'halfpints': 1912, 'sorts': 4001, 'zany': 4896, 'trouble': 4479, 'homein': 2044, 'warped': 4701, 'jim': 2314, 'wynorski': 4864, 'females': 1581, 'bigbreasted': 473, 'babes': 378, 'hooker': 2059, 'ghoulies': 1782, 'iv': 2289, 'captain': 671, 'curator': 1029, 'antiquities': 251, 'mental': 2714, 'patient': 3135, 'asylum': 330, 'is': 2273, 'otherwise': 3061, 'unwatchable': 4576, 'stv': 4154, 'crap': 967, 'bearablebut': 421, 'presence': 3304, 'seminaked': 3800, 'crumpet': 1019, 'slightly': 3944, 'warrant': 4702, 'labelled': 2419, 'ordeal': 3048, 'blurb': 517, 'knee': 2402, 'knackers': 2401, 'banter': 398, 'bargain': 402, 'basement': 412, 'consisting': 906, 'rubbery': 3679, 'visual': 4656, 'earlier310': 1313, 'solely': 3979, 'bimbo': 480, 'quotient': 3418, 'salman': 3708, 'kahn': 2354, 'appealing': 272, 'refreshed': 3502, 'price': 3315, 'heroes': 1996, 'ali': 184, 'larter': 2437, 'dresses': 1279, 'wore': 4822, 'producers': 3335, 'name': 2869, 'franchise': 1696, 'sequel': 3810, 'movieswhich': 2837, 'marques': 2649, 'houston': 2086, 'hp3': 2089, 'eight': 1339, 'okayso': 3020, 'reid': 3513, 'carry': 694, 'themselvesbut': 4319, 'hp': 2088, 'reference': 3496, 'albeit': 175, 'everyone': 1451, 'hoodwinkedinto': 2057, 'sequelnot': 3811, 'sorrykym': 3998, 'whitley': 4765, 'candle': 664, 'robin': 3650, 'harris': 1942, 'ketty': 2373, 'lester': 2489, 'curry': 1036, 'meagen': 2685, 'mari': 2646, 'morrow': 2817, 'substantial': 4162, 'diversioni': 1234, 'naming': 2872, 'furthermore': 1734, 'hudlin': 2091, 'brothers': 604, 'produced': 3333, 'laboured': 2421, 'shallow': 3843, 'playbook': 3227, 'disaster': 1201, 'astronauts': 329, 'outer': 3063, 'brave': 574, 'againmax': 148, 'throw': 4357, 'judging': 2342, 'latter': 2446, 'contained': 915, 'muster': 2862, 'thousand': 4346, 'emmy': 1364, 'gobsmackedi': 1814, 'handful': 1922, 'students': 4142, 'media': 2693, 'studies': 4144, 'effectsand': 1335, 'holes': 2039, 'nasa': 2880, 'worker': 4825, 'attached': 335, 'shuttle': 3888, 'simulator': 3908, 'position': 3272, 'room': 3668, 'pearshaped': 3148, 'experienced': 1489, 'twentynine': 4501, 'beforethe': 436, 'bill': 477, 'campbell': 659, 'salvaging': 3711, 'wreck': 4849, 'scripti': 3769, 'aboveaverage': 66, 'caddyshack': 644, 'stack': 4052, 'ted': 4274, 'knight': 2404, 'jackie': 2293, 'compete': 868, 'rodney': 3653, 'dangerfield': 1055, 'ty': 4509, 'webb': 4732, 'wilcoxon': 4778, 'hystericly': 2112, 'lawyer': 2459, 'blunt': 516, 'randy': 3437, 'quaid': 3399, 'originals': 3053, 'suits': 4182, 'motions': 2826, 'beat': 422, 'fing': 1617, 'baseball': 409, 'bat': 414, 'bonfire': 538, 'chippindalemaybe': 767, 'roast': 3643, 'retriever': 3599, 'arff': 291, 'eat': 1321, 'comin': 851, 'upstairs': 4582, 'junior': 2347, 'grabbing': 1839, 'pjs': 3214, 'cramming': 966, 'brand': 571, 'bmw': 521, 'tight': 4370, 'understanding': 4531, 'offsetting': 3014, 'acroyd': 102, 'murray': 2856, 'irritating': 2272, 'overall': 3072, 'comparison': 866, 'awesome': 372, 'sucks': 4170, 'dummy': 1302, 'necro': 2896, 'phony': 3189, 'unearthed': 4535, 'crisp': 995, 'clear': 800, 'hinders': 2024, 'creepiness': 985, 'factor': 1523, 'hype': 2109, 'surrounding': 4210, 'honest': 2052, 'necrophilia': 2897, 'nekromantik': 2908, 'visitor': 4655, 'shocking': 3863, 'manner': 2639, 'philosophy': 3186, 'bull': 619, 'expensive': 1487, 'beautifully': 425, 'filmed': 1598, 'turd': 4491, 'disgusting': 1219, 'selection': 3795, 'sickos': 3891, 'doll': 1247, 'considered': 904, 'overhyped': 3075, 'genesis': 1766, 'cerdas': 723, 'feature': 1572, 'released': 3521, 'absolute': 69, 'showing': 3878, 'cerda': 722, 'forgive': 1675, 'eye': 1515, 'mukhsin': 2845, 'tonnes': 4405, 'subtle': 4164, 'messages': 2723, 'yasmin': 4871, 'across': 101, 'youespecially': 4885, 'sepet': 3809, 'andor': 227, 'gubra': 1884, '76': 49, 'timesi': 4380, 'bet': 466, 'you': 4883, 'relate': 3515, 'bossy': 553, 'neighbour': 2906, 'prostitute': 3354, 'chick': 755, 'snooker': 3967, 'pad': 3093, 'religious': 3523, 'pious': 3209, 'voiceovers': 4665, 'crude': 1017, 'awakeningly': 367, 'rumah': 3686, 'tumpangan': 4489, 'gamin': 1744, 'signboard': 3895, 'mukhsins': 2846, 'bismillahhirrahmannirrahim': 485, 'climbed': 809, 'treeit': 4461, 'captured': 675, 'malaysians': 2625, 'attitudeand': 345, 'sniggering': 3965, 'pathetic': 3133, 'tonguedcomplete': 4404, 'shrill': 3885, 'ppl': 3288, 'busybody': 637, 'ur': 4585, 'sorted': 4000, 'reached': 3455, 'expectation': 1483, 'exceeded': 1465, 'glued': 1810, 'ha': 1901, 'golf': 1825, '26': 35, '1030': 5, 'pm': 3243, '1800s': 14, 'harry': 1943, 'vardon': 4608, 'awaken': 365, 'inquire': 2214, 'stirred': 4107, 'professional': 3339, 'childhood': 758, 'focus': 1654, 'francis': 1698, 'decisions': 1105, 'eddie': 1325, 'lowery': 2588, 'caddy': 643, 'encouraging': 1380, 'pushes': 3389, 'instrumental': 2226, 'winning': 4787, 'super': 4189, 'tobe': 4391, 'hoopers': 2060, 'crocodile': 1006, '2000': 27, 'collegecrocodile': 838, 'niche': 2924, 'exploitationmonster': 1502, 'wayward': 4721, 'delightful': 1119, 'bonbons': 536, 'goodness': 1832, 'ed': 1324, 'flair': 1634, 'dignity': 1183, 'remarkable': 3533, 'scripts': 3770, 'monkees': 2804, 'wed': 4734, 'crocky': 1005, 'fodder': 1656, 'russ': 3691, 'meyer': 2730, 'breasts': 580, 'ren': 3545, 'hoek': 2034, 'pectoral': 3151, 'implantswhile': 2146, 'opus': 3046, 'referenced': 3497, 'surf': 4200, 'dish': 1220, 'chum': 776, 'bucket': 610, 'nerds': 2910, 'allusionshomagesripoffs': 196, 'jaws': 2304, 'doom': 1252, 'indiana': 2187, 'crusade': 1020, 'convent': 926, 'bond': 537, 'readyfortv': 3461, 'fade': 1527, 'editor': 1329, 'stocki': 4109, 'crock': 1004, 'sotto': 4002, 'voce': 4663, 'tenor': 4292, 'soliloquy': 3981, 'environmentalismor': 1417, 'appreciation': 282, 'quasicaptain': 3405, 'ahab': 162, 'tour': 4424, 'de': 1082, 'speach': 4017, 'galloping': 1741, 'shootout': 3867, 'sunset': 4188, 'monkey': 2805, 'flush': 1649, 'toilet': 4396, 'international': 2243, 'station': 4077, 'exploitative': 1503, 'waltz': 4690, 'zerog': 4898, 'monkeymidgetcrocodile': 2806, 'bloodshedallinall': 510, 'whammy': 4752, 'bar': 399, 'irked': 2269, 'tries': 4470, 'epic': 1420, 'adventure': 133, 'shô': 3889, 'kasugi': 2361, 'christopher': 774, 'lee': 2476, 'johnrhys': 2327, 'davies': 1074, 'badventure': 388, 'swashbuckling': 4223, 'captures': 676, 'biggest': 475, 'modern': 2792, 'errol': 1432, 'flynn': 1651, 'hate': 1949, 'finds': 1614, 'coburn': 830, 'outlaw': 3066, 'breaking': 578, 'chain': 728, 'mexican': 2729, 'border': 546, 'jail': 2295, 'peace': 3144, 'officer': 3012, 'womanthat': 4804, 'charlton': 745, 'heston': 2003, 'retired': 3597, 'barbara': 400, 'hershey': 1999, 'holed': 2038, 'shack': 3833, 'waco': 4677, 'standoff': 4062, 'fired': 1624, 'proud': 3362, 'collateral': 835, 'casualty': 706, 'manhuntlest': 2636, 'sorry': 3997, 'stalwart': 4058, 'honors': 2056, 'trails': 4440, 'kidnapping': 2383, 'reservation': 3575, 'thencoburns': 4320, 'paull': 3140, 'thalmus': 4307, 'rasulala': 3444, 'quade': 3398, 'larry': 2436, 'wilcox': 4777, 'jorge': 2334, 'rivero': 3640, 'chris': 772, 'soninlaw': 3992, 'bethe': 467, 'brutal': 608, 'andrew': 228, 'mclaglen': 2684, 'intended': 2232, 'peckinpaugh': 3150, 'liberal': 2499, 'accentuate': 79, 'interview': 2244, 'keeps': 2368, 'hi': 2007, 'buffoon': 613, 'entrails': 1414, 'sleazy': 3939, 'bloody': 511, 'japanese': 2300, 'penetrator': 3152, 'whatever': 4753, 'sexploitation': 3831, 'flick': 1640, 'porno': 3263, 'respects': 3580, 'balance': 390, 'tack': 4237, 'smidgen': 3958, 'ingenuity': 2200, 'creaturekillerwhatever': 980, 'safe': 3700, 'soulless': 4003, 'horndog': 2068, 'fetishists': 1585, 'girls': 1789, 'brains': 570, 'headsin': 1963, 'photo': 3190, 'team': 4265, 'guys': 1899, 'salacious': 3704, 'dense': 1129, 'fog': 1657, 'picked': 3196, 'murderer': 2853, 'credited': 983, 'kazuo': 2363, 'gaira': 1738, 'komizu': 2413, 'quota': 3416, 'random': 3435, 'spliced': 4042, 'clips': 812, 'photographers': 3192, 'elsewhere': 1357, 'wrestling': 4851, 'choreographed': 769, 'yeah': 4873, 'promise': 3345, 'jobs': 2321, 'damatos': 1048, 'creature': 979, 'covered': 961, 'mud': 2844, 'unknown': 4558, 'rapes': 3441, 'onenow': 3032, 'highlights': 2013, 'croûtons': 1016, 'wretchedly': 4852, 'tasting': 4262, 'salad': 3705, 'eyegouging': 1516, 'spike': 4035, 'olympic': 3027, 'event': 1445, 'cool': 931, 'entrailing': 1413, 'overly': 3078, 'sexcrazed': 3830, 'inconsequential': 2179, 'correct': 942, 'indulgence': 2190, 'longtakeswithoutcutaways': 2555, 'censors': 717, 'blurred': 518, 'youd': 4884, 'enjoying': 1399, 'lumpy': 2598, 'gawked': 1756, 'shred': 3883, 'lasts': 2440, 'throwing': 4358, 'sticks': 4098, 'mantra': 2641, 'ease': 1316, 'depiction': 1135, 'revolutionary': 3615, 'resemble': 3573, 'hirsute': 2025, 'scout': 3759, 'troop': 4477, 'meandering': 2687, 'swimming': 4226, 'sharif': 3847, 'palance': 3105, 'fiery': 1588, 'oratory': 3047, 'kurtz': 2417, 'swallowing': 4222, 'bug': 614, 'displays': 1227, 'strategic': 4124, 'incorporate': 2180, 'map': 2644, 'replete': 3559, 'smiling': 3959, 'fishies': 1628, 'ocean': 2998, 'positively': 3274, 'vaudevillian': 4612, 'hypothesis': 2111, 'pigs': 3203, 'comical': 850, 'dentistry': 1130, 'surfeit': 4202, 'uppity': 4579, 'peasants': 3149, 'address': 125, 'kicks': 2378, 'passel': 3128, 'homoeroticism': 2049, 'limited': 2517, 'castros': 705, 'manic': 2637, 'unremitting': 4570, 'cigarfellatio': 778, 'medved': 2695, 'busted': 634, 'clock': 813, 'twice': 4502, 'finding': 1613, 'attending': 343, 'trailers': 4439, 'reviews': 3613, 'entering': 1403, 'readers': 3458, '78': 50, 'tomatoes': 4400, 'users': 4591, 'ranked': 3438, '79': 51, 'critics': 1001, 'averaged': 360, '82': 54, 'underrated': 4529, 'gemfilmmaker': 1763, 'doug': 1257, 'block': 506, 'record': 3485, 'posterity': 3280, 'treated': 4459, 'requisite': 3570, 'interviews': 2245, 'outspoken': 3071, 'mina': 2750, 'forthcoming': 1686, 'mike': 2741, 'immediately': 2138, 'minas': 2751, 'thislife': 4341, 'unexpected': 4537, 'expressive': 1509, 'follows': 1663, 'verbalize': 4617, 'moved': 2830, 'riveting': 3641, 'mustsee': 2863, 'evoke': 1458, 'memories': 2710, 'forgotten': 1677, '51': 44, 'birch': 482, 'rare': 3442, 'filmgoing': 1599, 'impression': 2154, 'hbo': 1960, 'millions': 2749, 'incredible': 2181, 'bravo': 575, 'hawkings': 1958, 'genius': 1768, 'geniuses': 1769, 'intriguing': 2251, 'wheelchair': 4758, 'bound': 557, 'einstein': 1341, 'theories': 4321, 'discoveries': 1209, 'universe': 4557, 'galaxy': 1740, 'sometime': 3985, 'intense': 2233, 'moment': 2798, 'theyv': 4330, 'cosmos': 944, 'swear': 4224, 'sober': 3971, 'theyll': 4328, 'suffering': 4174, 'lou': 2576, 'gehrigs': 1760, 'disease': 1215, 'formulated': 1684, 'psychic': 3369, 'tory': 4415, 'returns': 3603, 'hometown': 2046, 'reliving': 3525, 'traumatic': 4453, 'abusive': 74, 'discovers': 1210, 'string': 4134, 'powers': 3287, 'solve': 3982, 'crimes': 990, 'continuing': 918, 'oh': 3016, 'nora': 2953, 'roberts': 3647, 'flock': 1644, 'tons': 4406, '10s': 6, 'fooled': 1665, 'accents': 78, 'yall': 4870, 'trite': 4474, 'rememberyou': 3538, '11': 7, 'ask': 317, 'gross': 1871, 'unscary': 4572, 'disneyland': 1225, 'crocodiles': 1007, 'zoo': 4903, 'sit': 3919, 'ignoring': 2126, 'tapping': 4257, 'glassthe': 1801, 'australia': 353, 'ambitious': 212, 'sport': 4047, 'surfing': 4203, 'shark': 3848, 'filled': 1596, 'waters': 4715, 'evident': 1455, 'dangerous': 1056, 'aged': 150, 'fisherman': 1627, 'animal': 237, 'avenge': 358, 'familyi': 1545, 'fifteen': 1589, 'lake': 2426, 'placid': 3217, 'croc': 1003, 'primeval': 3319, 'tailing': 4242, 'closely': 817, 'behindthe': 447, 'australian': 354, 'saltwater': 3710, 'crododile': 1008, 'hundred': 2102, 'injuries': 2206, 'ferocious': 1583, 'viewers': 4637, 'fate': 1559, 'walter': 4689, 'sparrow': 4015, 'possession': 3275, 'eerie': 1331, 'similarities': 3902, 'connections': 900, '23': 33, 'fiction': 1586, 'connection': 899, 'endthe': 1386, 'undone': 4534, 'weak': 4722, 'screenwriter': 3766, 'develop': 1162, 'stretch': 4130, 'ninety': 2933, 'ideas': 2116, 'awfuljoel': 374, 'schumacher': 3751, 'redeem': 3490, 'phone': 3187, 'booth': 545, 'stinker': 4104, 'drenched': 1275, 'switches': 4228, 'quickly': 3409, 'titled': 4388, 'stuck': 4141, 'listening': 2529, 'carrey': 692, 'narrate': 2874, 'impatiently': 2140, 'wait': 4680, 'reach': 3454, 'unconvincing': 4524, 'celebrating': 712, 'finishedthe': 1620, 'forgettable': 1674, 'sleepwalking': 3941, 'narration': 2876, 'madsen': 2607, 'logan': 2545, 'lerman': 2484, 'bland': 498, 'danny': 1059, 'huston': 2108, 'offered': 3007, 'joke': 2330, 'dire': 1188, 'hasslehoff': 1948, 'substandard': 4161, 'wondering': 4811, 'laughablejust': 2450, 'affects': 140, 'guysespecially': 1900, 'drew': 1280, 'fuller': 1722, 'finish': 1619, 'bed': 431, 'touching': 4421, 'mean': 2686, 'twisted': 4504, 'kiddy': 2380, 'advise': 135, 'interested': 2240, 'steele': 4085, 'undergone': 4527, 'manage': 2629, 'readinggilberts': 3459, 'ophelia': 3043, 'gilbert': 1786, 'required': 3567, 'accent': 76, 'realistically': 3464, 'brad': 567, 'johnson': 2328, 'matt': 2674, 'recovering': 3487, 'divorce': 1235, 'gentle': 1772, 'rolethe': 3656, 'beach': 419, 'pip': 3210, 'accuses': 93, 'molester': 2795, 'lovethe': 2583, 'borders': 547, 'revealed': 3606, 'nutshelli': 2984, 'regard': 3505, 'janine': 2299, 'turner': 4495, 'steeles': 4086, 'books': 542, 'noes': 2939, 'attack': 337, 'sells': 3799, 'pulling': 3377, 'pulled': 3376, 'cellphone': 715, 'dramaticness': 1269, 'sucked': 4168, 'lacked': 2424, '1416': 10, 'rock': 3652, 'walker': 4687, 'reverand': 3611, 'martha': 2656, 'ally': 197, 'sheedy': 3851, 'habitual': 1904, 'womanizer': 4803, 'current': 1034, 'veronica': 4620, 'dara': 1061, 'tomanovich': 4399, 'bout': 559, 'amnesia': 217, 'kirkland': 2399, 'coot': 934, 'pines': 3205, 'shades': 3834, 'misery': 2771, 'savage': 3722, 'horridly': 2071, 'shoddy': 3864, 'private': 3326, 'investigator': 2261, 'billed': 479, 'said': 3702, 'spades': 4012, 'sadly': 3699, 'emphasize': 1368, 'vested': 4624, 'alltogether': 195, 'oneeye': 3030, 'candy': 665, 'topless': 4411, 'showtime': 3882, 'industry': 2191, 'laziest': 2460, 'flood': 1645, 'theaters': 4314, 'reinvented': 3514, 'superheroes': 4191, 'xman': 4867, 'spiderman': 4033, 'daredevil': 1063, 'elektra': 1349, 'rider': 3626, 'hulk': 2094, 'remakes': 3531, 'ring': 3633, 'pitchperfect': 3211, 'verbinsky': 4618, 'ton': 4402, 'lookalike': 2558, 'creepywoman': 987, 'horrors': 2074, 'eg': 1338, 'pointless': 3246, 'grudgesthe': 1880, 'grudge': 1879, 'mixing': 2785, 'narratives': 2878, 'hey': 2006, 'xerox': 4866, 'villain': 4644, 'critic': 999, 'waytired': 4720, 'scares': 3734, 'amber': 210, 'tamblyn': 4254, 'aubrey': 348, 'drove': 1284, 'michelle': 2732, 'gellar': 1761, 'allison': 192, 'arielle': 293, 'kebbel': 2364, 'visit': 4653, 'incident': 2168, 'depicted': 1134, 'witness': 4797, 'glad': 1796, 'tied': 4368, 'rely': 3527, 'tiresome': 4386, 'dullthe': 1299, 'chills': 764, 'lockers': 2544, 'dig': 1179, 'ghosts': 1781, 'deadlier': 1085, 'ebola': 1323, 'epidemic': 1421, 'pulse': 3379, 'bullshits': 622, 'periscope': 3169, 'library': 2502, 'arrived': 305, 'acquired': 100, 'digital': 1180, 'nowit': 2978, 'militarily': 2745, 'overboard': 3074, 'pro': 3327, 'con': 878, 'foremost': 1671, 'vehicle': 4614, 'offeredthe': 3008, 'obsession': 2992, 'became': 428, 'visiting': 4654, 'uss': 4594, 'drum': 1287, 'mobile': 2788, 'alabama': 174, '2002': 28, 'cub': 1022, 'scouts': 3760, 'grandson': 1853, 'planned': 3222, 'relive': 3524, 'overnighter': 3079, 'boardit': 523, 'navy': 2888, 'companythanks': 863, 'kelsey': 2371, 'grammar': 1847, 'lauren': 2455, 'holly': 2040, 'rob': 3644, 'schneider': 3748, 'youve': 4893, 'curious': 1033, 'iti': 2287, 'profusely': 3341, 'apologize': 268, 'canadian': 663, 'cross': 1013, 'cure': 1030, 'retinal': 3596, 'bleeding': 504, 'reported': 3562, 'casesi': 698, 'rented': 3551, 'believing': 454, 'ripoff': 3636, 'blade': 497, 'ill': 2129, 'creators': 978, 'comment': 853, 'creation': 975, 'removing': 3544, 'rec': 3475, 'xxxxxx': 4868, 'righthand': 3631, 'corner': 939, 'distraction': 1231, 'movieand': 2833, 'incoherent': 2176, 'grandmothers': 1852, 'godyou': 1817, 'deanna': 1092, 'durbin': 1306, 'nan': 2873, 'grey': 1866, 'smart': 3956, 'universal': 4556, '1936': 15, 'introduces': 2253, 'milland': 2747, 'mischa': 2768, 'auer': 352, 'winninger': 4788, 'binnie': 481, 'barnes': 405, 'alice': 185, 'brady': 568, 'divorced': 1236, 'loves': 2582, 'ship': 3859, 'housekeepernanny': 2085, 'wedding': 4735, 'realizing': 3467, 'precious': 3294, 'golddigger': 1821, 'aided': 165, 'abetted': 62, 'arrange': 300, 'arranged': 301, 'accountant': 90, 'chooses': 768, 'fulltime': 1723, 'messthis': 2724, 'cloying': 821, 'sugary': 4176, 'emphasis': 1367, 'natural': 2885, 'beautifullytrained': 426, 'youngster': 4890, 'notes': 2965, 'weight': 4739, 'sings': 3916, 'bacio': 380, 'stationone': 4079, 'nicest': 2923, 'inference': 2196, 'seeking': 3787, 'youth': 4892, 'glamorous': 1798, 'daughtersuniversal': 1072, 'paying': 3143, 'dues': 1296, 'attractive': 347, 'isvery': 2279, 'led': 2475, 'stardom': 4066, 'friendship': 1710, 'struggling': 4140, 'evolve': 1459, 'folks': 1658, 'melds': 2703, 'observation': 2991, 'funneled': 1729, '1992': 23, 'alfred': 183, 'molina': 2796, 'joan': 2319, 'plowright': 3240, 'polly': 3256, 'josie': 2335, 'lawrence': 2458, 'broadbent': 598, 'miranda': 2766, 'richardson': 3623, 'kitchens': 2400, 'brush': 607, 'stroke': 4135, 'newell': 2918, 'accomplish': 85, 'photographed': 3191, 'sublimely': 4158, 'painters': 3101, 'reminiscent': 3542, 'theatrical': 4315, 'bedroom': 432, 'farce': 1552, 'growth': 1878, 'artistic': 311, 'telegram': 4282, 'importance': 2149, 'caring': 686, 'curiositywanting': 1032, 'possibly': 3277, 'technologyout': 4273, 'cecil': 710, 'demilles': 1124, '1956': 19, 'charleton': 744, 'hestonyul': 2004, 'brenner': 583, 'cedric': 711, 'hardwicke': 1941, 'biblical': 471, 'spectacular': 4021, 'miniseries': 2758, 'rivoting': 3642, 'parting': 3123, 'red': 3489, 'seadrowning': 3775, 'pharohs': 3183, 'armies': 295, 'sethis': 3823, 'pyramids': 3396, 'technology': 4272, 'lord': 2564, 'lasting': 2439, 'daniel': 1058, 'daylewis': 1078, 'versatile': 4621, 'aristocratic': 294, 'snob': 3966, 'passionate': 3129, 'thief': 4332, 'impudent': 2161, 'violent': 4648, 'butcher': 638, 'gangs': 1746, 'brodys': 600, 'pianist': 3194, 'outrageous': 3069, 'cristy': 997, 'brown': 606, 'cerebral': 724, 'palsy': 3108, 'foot': 1666, 'eachother': 1311, 'seperate': 3808, 'anythingas': 261, 'ridicule': 3627, 'pity': 3212, 'achievement': 97, 'humanthis': 2097, 'scenetransition': 3744, 'faults': 1563, 'stupidly': 4152, 'cried': 988, 'cheese': 752, 'moviemy': 2834, 'restaurant': 3585, 'discussing': 1214, 'heres': 1993, 'reaches': 3456, 'kick': 2374, 'anatomy': 224, 'animated': 239, 'wheel': 4757, 'cripple': 993, 'slows': 3952, 'falters': 1542, 'cristys': 998, 'perspicacious': 3176, 'twitching': 4506, 'guttural': 1897, 'speechesa': 4024, 'fo': 1653, 'sho': 3861, 'yo': 4880, 'quarter': 3404, 'abbreviated': 61, 'partially': 3120, 'unclear': 4521, 'motivation': 2827, 'joining': 2329, 'squeeze': 4050, 'slotif': 3946, 'zeus': 4899, 'hera': 1990, 'ball': 391, 'heras': 1991, 'followers': 1661, 'fairly': 1535, 'certainty': 727, 'exist': 1476, 'useful': 4590, 'thembad': 4316, 'cardboard': 679, 'involving': 2265, 'antagonistic': 246, 'stupidity': 4151, 'unability': 4515, 'compare': 864, 'spielbergs': 4034, 'againandagain': 147, 'understand': 4530, 'difference': 1176, 'inept': 2192, 'chilling': 762, '110': 8, 'rehash': 3511, 'previously': 3314, 'forewarnedthis': 1672, 'plain': 3218, 'badthis': 387, 'pet': 3178, 'lions': 2525, 'gate': 1753, 'deceives': 1098, 'bombshell': 535, 'nothis': 2968, 'idioticstay': 2121, 'tripe': 4473, 'mario': 2647, 'fond': 1664, 'latest': 2443, 'installment': 2224, 'keeping': 2367, 'intact': 2230, 'noticeable': 2970, 'spacethe': 4011, 'receives': 3478, 'letter': 2492, 'princess': 3320, 'peach': 3145, 'celebration': 713, 'castle': 704, 'mushroom': 2857, 'kingdom': 2397, 'arriving': 306, 'peachs': 3146, 'bowser': 563, 'attacking': 339, 'airships': 171, 'lifts': 2508, 'midst': 2738, 'lifted': 2507, 'lands': 2430, 'luma': 2595, 'lumas': 2596, 'floating': 1643, 'rosalina': 3672, 'stations': 4080, 'scattered': 3739, 'beginsthe': 442, 'galaxies': 1739, 'consists': 907, 'multiple': 2847, 'planets': 3221, 'travels': 4455, 'amongst': 219, 'via': 4626, 'retrieve': 3598, 'losing': 2568, 'environments': 1419, 'controls': 924, 'jumping': 2345, 'wiimote': 4776, 'shake': 3837, 'remote': 3543, 'perform': 3161, 'spin': 4036, 'primary': 3318, 'activate': 107, 'pointer': 3245, 'fire': 1623, 'enemies': 1388, 'objects': 2987, 'environment': 1416, 'graphics': 1855, 'wii': 4774, 'describe': 1141, '360': 40, 'gamesmy': 1743, 'gripes': 1868, 'upside': 4581, 'restart': 3584, 'superb': 4190, 'challenging': 730, 'weve': 4751, 'wiia': 4775}\n"
     ]
    }
   ],
   "source": [
    "\n",
    "print(cv.vocabulary_)"
   ]
  },
  {
   "cell_type": "code",
   "execution_count": 77,
   "id": "56bad9ff-693f-470a-ab33-8619132ebf00",
   "metadata": {
    "tags": []
   },
   "outputs": [
    {
     "name": "stdout",
     "output_type": "stream",
     "text": [
      "[ 1 10  1 ...  1  1  1]\n"
     ]
    }
   ],
   "source": [
    "word_frequencies = bow.toarray().sum(axis=0)\n",
    "print(word_frequencies)"
   ]
  },
  {
   "cell_type": "code",
   "execution_count": 78,
   "id": "0e5cb816-ad91-4189-aa5b-3190d5b97831",
   "metadata": {
    "tags": []
   },
   "outputs": [],
   "source": [
    "# Problem 5\n",
    "\n",
    "# Apply bag of bi-gram and bag of tri-gram and write down your observation about the dimensionality of the vocabulary"
   ]
  },
  {
   "cell_type": "markdown",
   "id": "09c68da4-717f-4369-b37c-02707d195d72",
   "metadata": {},
   "source": [
    "##### Bigram"
   ]
  },
  {
   "cell_type": "code",
   "execution_count": 79,
   "id": "b523bb0b-fe77-446c-a633-ad189ff0c096",
   "metadata": {
    "tags": []
   },
   "outputs": [],
   "source": [
    "from sklearn.feature_extraction.text import CountVectorizer\n",
    "cv=CountVectorizer(ngram_range=(2,2))\n"
   ]
  },
  {
   "cell_type": "code",
   "execution_count": 80,
   "id": "ab57c7c7-7ffc-45ae-adcc-7f35920b9d40",
   "metadata": {
    "tags": []
   },
   "outputs": [
    {
     "name": "stdout",
     "output_type": "stream",
     "text": [
      "11483\n"
     ]
    }
   ],
   "source": [
    "bow=cv.fit_transform(df['review'])\n",
    "\n",
    "print(len(cv.vocabulary_))"
   ]
  },
  {
   "cell_type": "code",
   "execution_count": 81,
   "id": "cb66c6a8-acf6-499c-a869-9042f4445c91",
   "metadata": {
    "tags": []
   },
   "outputs": [
    {
     "name": "stdout",
     "output_type": "stream",
     "text": [
      "[[0 0 0 ... 0 0 0]]\n",
      "[[0 0 0 ... 0 0 0]]\n"
     ]
    }
   ],
   "source": [
    "print(bow[0].toarray())\n",
    "print(bow[1].toarray())"
   ]
  },
  {
   "cell_type": "markdown",
   "id": "15847c53-b2be-4374-b0c6-6f32b183802f",
   "metadata": {},
   "source": [
    "##### Trigram"
   ]
  },
  {
   "cell_type": "code",
   "execution_count": 82,
   "id": "653fe887-fb60-4da4-9990-858da7983cc9",
   "metadata": {
    "tags": []
   },
   "outputs": [],
   "source": [
    "from sklearn.feature_extraction.text import CountVectorizer\n",
    "cv=CountVectorizer(ngram_range=(3,3))\n"
   ]
  },
  {
   "cell_type": "code",
   "execution_count": 83,
   "id": "a290404f-d62c-4947-9062-081fd02133d2",
   "metadata": {
    "tags": []
   },
   "outputs": [
    {
     "name": "stdout",
     "output_type": "stream",
     "text": [
      "11829\n"
     ]
    }
   ],
   "source": [
    "bow=cv.fit_transform(df['review'])\n",
    "\n",
    "print(len(cv.vocabulary_))"
   ]
  },
  {
   "cell_type": "code",
   "execution_count": 84,
   "id": "9abdab52-f71b-4104-b739-ff9b83e7b78f",
   "metadata": {
    "tags": []
   },
   "outputs": [
    {
     "name": "stdout",
     "output_type": "stream",
     "text": [
      "[[0 0 0 ... 0 0 0]]\n",
      "[[0 0 0 ... 0 0 0]]\n"
     ]
    }
   ],
   "source": [
    "print(bow[0].toarray())\n",
    "print(bow[1].toarray())"
   ]
  },
  {
   "cell_type": "markdown",
   "id": "b5475959-acd2-4414-979a-ef03c0e793af",
   "metadata": {},
   "source": [
    "##### Observation:-Dimensionality of vocabulary increases as we increase the value of n for bag of n grams"
   ]
  },
  {
   "cell_type": "code",
   "execution_count": 85,
   "id": "837cf107-b5a4-4d65-bb1a-684b57c69976",
   "metadata": {
    "tags": []
   },
   "outputs": [],
   "source": [
    "# Problem 6\n",
    "\n",
    "# Apply tf-idf and find out the idf scores of words, also find out the vocabulary."
   ]
  },
  {
   "cell_type": "code",
   "execution_count": 86,
   "id": "d27d8803-254f-4208-9842-4d6d10231c71",
   "metadata": {
    "tags": []
   },
   "outputs": [],
   "source": [
    "from sklearn.feature_extraction.text import TfidfVectorizer"
   ]
  },
  {
   "cell_type": "code",
   "execution_count": 87,
   "id": "d2033cc4-982c-4bc8-8d37-4b3555cf2956",
   "metadata": {
    "tags": []
   },
   "outputs": [],
   "source": [
    "tfidf=TfidfVectorizer()"
   ]
  },
  {
   "cell_type": "code",
   "execution_count": 88,
   "id": "a5c9c4db-c585-4241-9f26-0df0fb5c3e8e",
   "metadata": {
    "tags": []
   },
   "outputs": [
    {
     "data": {
      "text/plain": [
       "array([[0.        , 0.        , 0.        , ..., 0.        , 0.        ,\n",
       "        0.        ],\n",
       "       [0.        , 0.        , 0.        , ..., 0.        , 0.        ,\n",
       "        0.        ],\n",
       "       [0.        , 0.        , 0.        , ..., 0.        , 0.        ,\n",
       "        0.        ],\n",
       "       ...,\n",
       "       [0.        , 0.        , 0.        , ..., 0.        , 0.        ,\n",
       "        0.        ],\n",
       "       [0.        , 0.        , 0.        , ..., 0.        , 0.        ,\n",
       "        0.        ],\n",
       "       [0.        , 0.05065615, 0.        , ..., 0.        , 0.        ,\n",
       "        0.        ]])"
      ]
     },
     "execution_count": 88,
     "metadata": {},
     "output_type": "execute_result"
    }
   ],
   "source": [
    "tfidf.fit_transform(df['review']).toarray()"
   ]
  },
  {
   "cell_type": "code",
   "execution_count": 89,
   "id": "c5930e48-0eff-4bbb-9112-a3a83a7bc35d",
   "metadata": {
    "tags": []
   },
   "outputs": [
    {
     "name": "stdout",
     "output_type": "stream",
     "text": [
      "Idf score of words:  [4.92197334 3.31253542 4.92197334 ... 4.92197334 4.92197334 4.92197334]\n"
     ]
    }
   ],
   "source": [
    "print(\"Idf score of words: \",tfidf.idf_)"
   ]
  },
  {
   "cell_type": "code",
   "execution_count": 92,
   "id": "3bd29eea-b233-4d9a-ab78-3cd332276fd8",
   "metadata": {
    "tags": []
   },
   "outputs": [
    {
     "name": "stdout",
     "output_type": "stream",
     "text": [
      "Vocabulary :\n",
      "['0510' '10' '100' ... 'zoo' 'zooms' 'zwick']\n"
     ]
    }
   ],
   "source": [
    "print(\"Vocabulary :\")\n",
    "print(tfidf.get_feature_names_out())"
   ]
  },
  {
   "cell_type": "code",
   "execution_count": null,
   "id": "e01043ba-7fb7-43ae-a842-dd8d5ceda8a8",
   "metadata": {},
   "outputs": [],
   "source": []
  }
 ],
 "metadata": {
  "kernelspec": {
   "display_name": "Python 3 (ipykernel)",
   "language": "python",
   "name": "python3"
  },
  "language_info": {
   "codemirror_mode": {
    "name": "ipython",
    "version": 3
   },
   "file_extension": ".py",
   "mimetype": "text/x-python",
   "name": "python",
   "nbconvert_exporter": "python",
   "pygments_lexer": "ipython3",
   "version": "3.11.5"
  }
 },
 "nbformat": 4,
 "nbformat_minor": 5
}
