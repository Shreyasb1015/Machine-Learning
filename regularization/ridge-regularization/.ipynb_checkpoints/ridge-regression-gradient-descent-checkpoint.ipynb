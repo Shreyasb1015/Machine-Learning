{
 "cells": [
  {
   "cell_type": "code",
   "execution_count": 1,
   "id": "f2e50a09-c834-49c3-abc3-3ee898ef2490",
   "metadata": {
    "tags": []
   },
   "outputs": [],
   "source": [
    "from sklearn.datasets import load_diabetes\n",
    "from sklearn.metrics import r2_score\n",
    "import numpy as np"
   ]
  },
  {
   "cell_type": "code",
   "execution_count": 2,
   "id": "198ba2a1-e205-49c3-9a4d-9b4dbfe99787",
   "metadata": {
    "tags": []
   },
   "outputs": [],
   "source": [
    "X,y = load_diabetes(return_X_y=True)"
   ]
  },
  {
   "cell_type": "code",
   "execution_count": 3,
   "id": "9891139c-59cf-4e21-9ddf-058ca692a760",
   "metadata": {
    "tags": []
   },
   "outputs": [],
   "source": [
    "from sklearn.model_selection import train_test_split"
   ]
  },
  {
   "cell_type": "code",
   "execution_count": 4,
   "id": "13a3331a-eb13-40ed-ab84-97d27f9515ef",
   "metadata": {
    "tags": []
   },
   "outputs": [],
   "source": [
    "X_train,X_test,y_train,y_test = train_test_split(X,y,test_size=0.2,random_state=4)"
   ]
  },
  {
   "cell_type": "markdown",
   "id": "f461cf87-a9e9-4799-b598-b081b912a4e6",
   "metadata": {},
   "source": [
    "##### First we will apply ridge regression using sklearn gradient descent class.We need to specify the argument i.e penalty to l2 so that it performs ridge regression and we need to also pass the parameter alpha which is the value of lambda."
   ]
  },
  {
   "cell_type": "code",
   "execution_count": 6,
   "id": "ab483611-4426-4aa7-9594-200cb034d392",
   "metadata": {
    "tags": []
   },
   "outputs": [],
   "source": [
    "from sklearn.linear_model import SGDRegressor\n",
    "reg = SGDRegressor(penalty='l2',max_iter=500,eta0=0.1,learning_rate='constant',alpha=0.001)"
   ]
  },
  {
   "cell_type": "code",
   "execution_count": 7,
   "id": "324859a9-8214-45e7-90dc-95f11f9f49c3",
   "metadata": {
    "tags": []
   },
   "outputs": [
    {
     "name": "stdout",
     "output_type": "stream",
     "text": [
      "R2 score 0.4462509268206586\n",
      "[  48.32524143 -158.17287275  371.42995281  272.14600268   -5.01004652\n",
      "  -57.95782767 -164.3176455   136.29929946  331.04588858   93.85048027]\n",
      "[165.10369609]\n"
     ]
    }
   ],
   "source": [
    "reg.fit(X_train,y_train)\n",
    "\n",
    "y_pred = reg.predict(X_test)\n",
    "print(\"R2 score\",r2_score(y_test,y_pred))\n",
    "print(reg.coef_)\n",
    "print(reg.intercept_)"
   ]
  },
  {
   "cell_type": "markdown",
   "id": "8ef52c09-fd44-4e85-b707-208ecdca98e5",
   "metadata": {},
   "source": [
    "##### This is another method to apply ridge regression using gradient descent , we need to specify the argument i.e solver to sparese_cg.There are many more values that can be set to solver."
   ]
  },
  {
   "cell_type": "code",
   "execution_count": 8,
   "id": "388d18fb-c23d-4eeb-8ed8-5e8150570e57",
   "metadata": {
    "tags": []
   },
   "outputs": [],
   "source": [
    "from sklearn.linear_model import Ridge\n",
    "\n",
    "reg = Ridge(alpha=0.001, max_iter=500,solver='sparse_cg')"
   ]
  },
  {
   "cell_type": "code",
   "execution_count": 9,
   "id": "b6378b25-c8bd-4c29-a7fc-db5bb3b1c5aa",
   "metadata": {
    "tags": []
   },
   "outputs": [
    {
     "name": "stdout",
     "output_type": "stream",
     "text": [
      "R2 score 0.4625010162027918\n",
      "[  34.52192778 -290.84083871  482.40181675  368.06786931 -852.44872818\n",
      "  501.59160694  180.11115474  270.76334443  759.73534802   37.49135796]\n",
      "151.101985182554\n"
     ]
    }
   ],
   "source": [
    "reg.fit(X_train,y_train)\n",
    "\n",
    "y_pred = reg.predict(X_test)\n",
    "print(\"R2 score\",r2_score(y_test,y_pred))\n",
    "print(reg.coef_)\n",
    "print(reg.intercept_)"
   ]
  },
  {
   "cell_type": "code",
   "execution_count": null,
   "id": "87bd0932-d856-4b1e-9f1d-291d80e463c2",
   "metadata": {},
   "outputs": [],
   "source": []
  }
 ],
 "metadata": {
  "kernelspec": {
   "display_name": "Python 3 (ipykernel)",
   "language": "python",
   "name": "python3"
  },
  "language_info": {
   "codemirror_mode": {
    "name": "ipython",
    "version": 3
   },
   "file_extension": ".py",
   "mimetype": "text/x-python",
   "name": "python",
   "nbconvert_exporter": "python",
   "pygments_lexer": "ipython3",
   "version": "3.11.5"
  }
 },
 "nbformat": 4,
 "nbformat_minor": 5
}
